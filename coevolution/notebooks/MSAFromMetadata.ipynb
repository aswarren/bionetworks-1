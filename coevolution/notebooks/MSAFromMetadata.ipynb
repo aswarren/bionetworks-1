{
 "cells": [
  {
   "cell_type": "code",
   "execution_count": 4,
   "metadata": {},
   "outputs": [],
   "source": [
    "import pandas as pd\n",
    "import numpy as np\n",
    "from screed import ScreedDB"
   ]
  },
  {
   "cell_type": "markdown",
   "metadata": {},
   "source": [
    "#### Steps\n",
    "* From gisaid.org login and download the metadata and full MSA, as discussed [here on nextrain's site](https://docs.nextstrain.org/projects/ncov/en/latest/analysis/data-prep.html#curate-data-from-gisaid-search-and-downloads) (except get the \"MSA full\" not the FASTA file)\n",
    "* Unpack the metadata and MSA tar files\n",
    "* Run the processing script on the msa file (../scripts/process_msa_headers.sh, may need to remove the \"USA\" filter if you want to use all sequences, and a much larger file)\n",
    "* Use this logic to generate custom MSA based on metadata queries\n",
    "\n",
    "Alternative [here](https://docs.nextstrain.org/projects/ncov/en/latest/)\n",
    "* Nextstrain and augur provide methods to subsample from MSA for phylogenetics\n",
    "* Can use intermediate output as raw MSA\n",
    " * Using augur tools"
   ]
  },
  {
   "cell_type": "code",
   "execution_count": 5,
   "metadata": {},
   "outputs": [],
   "source": [
    "metadata = pd.read_csv(\"/scratch/jho5ze/bionets/covid/variant_data/metadata.tsv\", sep=\"\\t\", parse_dates = [\"Collection date\", \"Submission date\"])\n",
    "\n",
    "def get_nth_slash(row, n):\n",
    "    try:\n",
    "        return row.split(\"/\")[n].strip()\n",
    "    except:\n",
    "        return np.nan\n",
    "    \n",
    "for i in range(4):\n",
    "    metadata[f\"Location_{i}\"] = metadata[\"Location\"].apply(lambda row: get_nth_slash(row, i))\n",
    "metadata = metadata.rename(columns={\"Location_1\":\"country\", \"Location_2\":\"state\"})\n",
    "metadata = metadata[metadata[\"country\"] == \"USA\"] #Remove to include all sequences, not just USA\n",
    "metadata[\"alias\"] = metadata[\"Virus name\"].apply(lambda row: \"/\".join(row.split(\"/\")[2:]))\n"
   ]
  },
  {
   "cell_type": "code",
   "execution_count": 10,
   "metadata": {},
   "outputs": [],
   "source": [
    "def msa_from_screed_ids(ids): \n",
    "    for seq_id in ids:\n",
    "        if seq_id in msadb:\n",
    "            record = msadb[seq_id]\n",
    "            name = \">\"+record[\"name\"]\n",
    "            sequence = str(record[\"sequence\"])\n",
    "            yield name\n",
    "            yield sequence"
   ]
  },
  {
   "cell_type": "code",
   "execution_count": 6,
   "metadata": {},
   "outputs": [],
   "source": [
    "msadb = ScreedDB(\"/scratch/jho5ze/bionets/coevolution/data/msa_0927/usa_msa_0927.fasta\")"
   ]
  },
  {
   "cell_type": "code",
   "execution_count": 19,
   "metadata": {},
   "outputs": [
    {
     "name": "stdout",
     "output_type": "stream",
     "text": [
      "['EPI_ISL_429970', 'EPI_ISL_429972', 'EPI_ISL_429971', 'EPI_ISL_429974', 'EPI_ISL_429973']\n"
     ]
    }
   ],
   "source": [
    "accessions = metadata[metadata.state == \"Virginia\"][\"Accession ID\"].head().tolist()\n",
    "print(accessions)"
   ]
  },
  {
   "cell_type": "code",
   "execution_count": 20,
   "metadata": {},
   "outputs": [
    {
     "name": "stdout",
     "output_type": "stream",
     "text": [
      ">EPI_ISL_429970\n",
      "-----------------------------------------------------------------------------------------------CAACT\n",
      ">EPI_ISL_429972\n",
      "---------------------------------------------------------------AAGGTTTATACCTTCCCAGGTAACAAACCAACCAACT\n",
      ">EPI_ISL_429971\n",
      "----------------------------------------------------------------AGGTTTATACCTTCCCAGGTAACAAACCAACCAACT\n",
      ">EPI_ISL_429974\n",
      "-----------------------------------------------------------------GGTTTATACCTTCCCAGGTAACAAACCAACCAACT\n",
      ">EPI_ISL_429973\n",
      "--------------------------------------------------------------AAAGGTTTATACCTTCCCAGGTAACAAACCAACCAACT\n"
     ]
    }
   ],
   "source": [
    "for line in msa_from_screed_ids(accessions):\n",
    "    print(line[:100])"
   ]
  },
  {
   "cell_type": "code",
   "execution_count": null,
   "metadata": {},
   "outputs": [],
   "source": []
  }
 ],
 "metadata": {
  "kernelspec": {
   "display_name": "Python 3",
   "language": "python",
   "name": "python3"
  },
  "language_info": {
   "codemirror_mode": {
    "name": "ipython",
    "version": 3
   },
   "file_extension": ".py",
   "mimetype": "text/x-python",
   "name": "python",
   "nbconvert_exporter": "python",
   "pygments_lexer": "ipython3",
   "version": "3.8.8"
  }
 },
 "nbformat": 4,
 "nbformat_minor": 4
}
