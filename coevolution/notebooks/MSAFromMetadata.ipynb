{
 "cells": [
  {
   "cell_type": "code",
   "execution_count": 1,
   "metadata": {},
   "outputs": [],
   "source": [
    "import pandas as pd\n",
    "import numpy as np\n",
    "from screed import ScreedDB"
   ]
  },
  {
   "cell_type": "code",
   "execution_count": null,
   "metadata": {},
   "outputs": [],
   "source": [
    "metadata = pd.read_csv(\"/scratch/jho5ze/bionets/covid/variant_data/metadata.tsv\", sep=\"\\t\", parse_dates = [\"Collection date\", \"Submission date\"])\n",
    "# print(metadata.columns)\n",
    "# metadata = metadata[[\"Accession ID\", \\\n",
    "#                    \"Collection date\", \\\n",
    "#                    \"Submission date\", \\\n",
    "#                    \"Location\", \\\n",
    "#                    \"Additional location information\", \\\n",
    "#                    \"Sequence length\", \\\n",
    "#                    \"Host\", \\\n",
    "#                    \"AA Substitutions\", \\\n",
    "#                    \"Is reference?\", \\\n",
    "#                    \"Pango lineage\"]]\n",
    "def get_nth_slash(row, n):\n",
    "    try:\n",
    "        return row.split(\"/\")[n].strip()\n",
    "    except:\n",
    "        return np.nan\n",
    "    \n",
    "for i in range(4):\n",
    "    metadata[f\"Location_{i}\"] = metadata[\"Location\"].apply(lambda row: get_nth_slash(row, i))\n",
    "metadata = metadata.rename(columns={\"Location_1\":\"country\", \"Location_2\":\"state\"})\n",
    "metadata = metadata[metadata[\"country\"] == \"USA\"]\n",
    "metadata[\"alias\"] = metadata[\"Virus name\"].apply(lambda row: \"/\".join(row.split(\"/\")[2:]))\n",
    "# metdata = metadata.rename(columns={\"Accession ID\":\"EPI\"})"
   ]
  }
 ],
 "metadata": {
  "kernelspec": {
   "display_name": "Python 3",
   "language": "python",
   "name": "python3"
  },
  "language_info": {
   "codemirror_mode": {
    "name": "ipython",
    "version": 3
   },
   "file_extension": ".py",
   "mimetype": "text/x-python",
   "name": "python",
   "nbconvert_exporter": "python",
   "pygments_lexer": "ipython3",
   "version": "3.8.8"
  }
 },
 "nbformat": 4,
 "nbformat_minor": 4
}
