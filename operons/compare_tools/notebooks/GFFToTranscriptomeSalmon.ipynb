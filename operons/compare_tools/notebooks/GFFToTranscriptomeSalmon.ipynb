{
 "cells": [
  {
   "cell_type": "code",
   "execution_count": 9,
   "metadata": {},
   "outputs": [],
   "source": [
    "import os\n",
    "import gffutils\n",
    "from pyfaidx import Fasta"
   ]
  },
  {
   "cell_type": "code",
   "execution_count": 2,
   "metadata": {},
   "outputs": [
    {
     "data": {
      "text/plain": [
       "['562.47719.fna.sa',\n",
       " '.ipynb_checkpoints',\n",
       " 'temp_db',\n",
       " '562.47719.fna.pac',\n",
       " 'Untitled.ipynb',\n",
       " 'rockhopper',\n",
       " '562.47719.bed',\n",
       " 'gff_to_transcriptome.py',\n",
       " '562.47719.fna',\n",
       " '562.47719.fna.ann',\n",
       " '562.47719.gff',\n",
       " '562.47719.fna.amb',\n",
       " '562.47719.fna.bwt']"
      ]
     },
     "execution_count": 2,
     "metadata": {},
     "output_type": "execute_result"
    }
   ],
   "source": [
    "os.listdir()"
   ]
  },
  {
   "cell_type": "code",
   "execution_count": 10,
   "metadata": {},
   "outputs": [],
   "source": [
    "faidx = Fasta(\"562.47719.fna\")"
   ]
  },
  {
   "cell_type": "code",
   "execution_count": 4,
   "metadata": {},
   "outputs": [],
   "source": [
    "db = gffutils.create_db(\"562.47719.gff\", \"temp_db\")\n",
    "db = gffutils.FeatureDB(\"temp_db\")"
   ]
  },
  {
   "cell_type": "code",
   "execution_count": 20,
   "metadata": {},
   "outputs": [],
   "source": [
    "with open(\"562.47719.transcriptome.fna\", \"w\") as dest:\n",
    "    for i in [i for i in db.features_of_type([\"CDS\"])]:\n",
    "        dest.write(\">\"+i.attributes[\"ID\"][0] + \"\\n\")\n",
    "        dest.write(i.sequence(faidx) + \"\\n\")"
   ]
  },
  {
   "cell_type": "code",
   "execution_count": 14,
   "metadata": {},
   "outputs": [
    {
     "data": {
      "text/plain": [
       "['fig|562.47719.peg.1']"
      ]
     },
     "execution_count": 14,
     "metadata": {},
     "output_type": "execute_result"
    }
   ],
   "source": [
    "[i for i in db.features_of_type([\"CDS\"])][0].attributes[\"ID\"]"
   ]
  }
 ],
 "metadata": {
  "kernelspec": {
   "display_name": "Python 3",
   "language": "python",
   "name": "python3"
  },
  "language_info": {
   "codemirror_mode": {
    "name": "ipython",
    "version": 3
   },
   "file_extension": ".py",
   "mimetype": "text/x-python",
   "name": "python",
   "nbconvert_exporter": "python",
   "pygments_lexer": "ipython3",
   "version": "3.7.4"
  }
 },
 "nbformat": 4,
 "nbformat_minor": 4
}
