{
 "cells": [
  {
   "cell_type": "markdown",
   "metadata": {},
   "source": [
    "### Setup"
   ]
  },
  {
   "cell_type": "code",
   "execution_count": 1,
   "metadata": {},
   "outputs": [
    {
     "name": "stderr",
     "output_type": "stream",
     "text": [
      "/home/jho5ze/.local/lib/python3.7/site-packages/pysradb/utils.py:14: TqdmExperimentalWarning: Using `tqdm.autonotebook.tqdm` in notebook mode. Use `tqdm.tqdm` instead to force console mode (e.g. in jupyter console)\n",
      "  from tqdm.autonotebook import tqdm\n"
     ]
    }
   ],
   "source": [
    "import sqlite3\n",
    "import pandas as pd\n",
    "import numpy as np\n",
    "# import pysradb as psra\n",
    "from pysradb.search import SraSearch, EnaSearch, GeoSearch"
   ]
  },
  {
   "cell_type": "markdown",
   "metadata": {},
   "source": [
    "### Pysradb approach"
   ]
  },
  {
   "cell_type": "code",
   "execution_count": 2,
   "metadata": {},
   "outputs": [
    {
     "name": "stderr",
     "output_type": "stream",
     "text": [
      "100%|██████████| 1/1 [00:00<00:00,  5.33it/s]\n"
     ]
    },
    {
     "data": {
      "text/plain": [
       "array(['SRP235283'], dtype=object)"
      ]
     },
     "execution_count": 2,
     "metadata": {},
     "output_type": "execute_result"
    }
   ],
   "source": [
    "x = SraSearch(return_max=150, query=\"MG1655 RNA-Seq paired stranded\") #Escherichia dRNA-Seq\")\n",
    "x.search()\n",
    "x = x.get_df()\n",
    "# x.sample_scientific_name = x.sample_scientific_name.apply(lambda row: row.replace(\" str. \", \" strain=\"))#.run_1_accession.unique()\n",
    "x.study_accession.unique()"
   ]
  },
  {
   "cell_type": "code",
   "execution_count": 3,
   "metadata": {},
   "outputs": [
    {
     "data": {
      "text/html": [
       "<div>\n",
       "<style scoped>\n",
       "    .dataframe tbody tr th:only-of-type {\n",
       "        vertical-align: middle;\n",
       "    }\n",
       "\n",
       "    .dataframe tbody tr th {\n",
       "        vertical-align: top;\n",
       "    }\n",
       "\n",
       "    .dataframe thead th {\n",
       "        text-align: right;\n",
       "    }\n",
       "</style>\n",
       "<table border=\"1\" class=\"dataframe\">\n",
       "  <thead>\n",
       "    <tr style=\"text-align: right;\">\n",
       "      <th></th>\n",
       "      <th>study_accession</th>\n",
       "      <th>experiment_accession</th>\n",
       "      <th>experiment_title</th>\n",
       "      <th>sample_taxon_id</th>\n",
       "      <th>sample_scientific_name</th>\n",
       "      <th>experiment_library_strategy</th>\n",
       "      <th>experiment_library_source</th>\n",
       "      <th>experiment_library_selection</th>\n",
       "      <th>sample_accession</th>\n",
       "      <th>sample_alias</th>\n",
       "      <th>experiment_instrument_model</th>\n",
       "      <th>pool_member_spots</th>\n",
       "      <th>run_1_size</th>\n",
       "      <th>run_1_accession</th>\n",
       "      <th>run_1_total_spots</th>\n",
       "      <th>run_1_total_bases</th>\n",
       "    </tr>\n",
       "  </thead>\n",
       "  <tbody>\n",
       "    <tr>\n",
       "      <th>0</th>\n",
       "      <td>SRP235283</td>\n",
       "      <td>SRX7291196</td>\n",
       "      <td>GSM4211192: WT rep2_21°C; Escherichia coli; RN...</td>\n",
       "      <td>562</td>\n",
       "      <td>Escherichia coli</td>\n",
       "      <td>RNA-Seq</td>\n",
       "      <td>TRANSCRIPTOMIC</td>\n",
       "      <td>cDNA</td>\n",
       "      <td>SRS5784357</td>\n",
       "      <td>GSM4211192</td>\n",
       "      <td>Illumina HiSeq 2000</td>\n",
       "      <td>17461337</td>\n",
       "      <td>790322623</td>\n",
       "      <td>SRR10612035</td>\n",
       "      <td>17461337</td>\n",
       "      <td>1729601877</td>\n",
       "    </tr>\n",
       "  </tbody>\n",
       "</table>\n",
       "</div>"
      ],
      "text/plain": [
       "  study_accession experiment_accession  \\\n",
       "0       SRP235283           SRX7291196   \n",
       "\n",
       "                                    experiment_title sample_taxon_id  \\\n",
       "0  GSM4211192: WT rep2_21°C; Escherichia coli; RN...             562   \n",
       "\n",
       "  sample_scientific_name experiment_library_strategy  \\\n",
       "0       Escherichia coli                     RNA-Seq   \n",
       "\n",
       "  experiment_library_source experiment_library_selection sample_accession  \\\n",
       "0            TRANSCRIPTOMIC                         cDNA       SRS5784357   \n",
       "\n",
       "  sample_alias experiment_instrument_model pool_member_spots run_1_size  \\\n",
       "0   GSM4211192         Illumina HiSeq 2000          17461337  790322623   \n",
       "\n",
       "  run_1_accession run_1_total_spots run_1_total_bases  \n",
       "0     SRR10612035          17461337        1729601877  "
      ]
     },
     "execution_count": 3,
     "metadata": {},
     "output_type": "execute_result"
    }
   ],
   "source": [
    "x"
   ]
  },
  {
   "cell_type": "code",
   "execution_count": 7,
   "metadata": {},
   "outputs": [],
   "source": [
    "x[x.study_accession == \"SRP235283\"].to_csv(\"Escherichia_coli_representative_sample_info.csv\")"
   ]
  },
  {
   "cell_type": "code",
   "execution_count": 8,
   "metadata": {},
   "outputs": [],
   "source": [
    "x[(x.run_1_accession.apply(lambda row: row.replace(\"SRR\", \"\")).astype(int) >=794848) & (x.run_1_accession.apply(lambda row: row.replace(\"SRR\", \"\")).astype(int) <= 794850)].to_csv(\"Escherichia_query_info.csv\")"
   ]
  },
  {
   "cell_type": "code",
   "execution_count": 5,
   "metadata": {},
   "outputs": [],
   "source": [
    "x.head(20).to_csv(\"Helicobacter_query_info.csv\") #[\"experiment_title\"]"
   ]
  },
  {
   "cell_type": "code",
   "execution_count": 18,
   "metadata": {},
   "outputs": [],
   "source": [
    "x = EnaSearch(2, 20, \"tuberculosis RNA\")\n",
    "x.search()\n",
    "x = x.get_df()"
   ]
  },
  {
   "cell_type": "code",
   "execution_count": 19,
   "metadata": {},
   "outputs": [
    {
     "data": {
      "text/html": [
       "<div>\n",
       "<style scoped>\n",
       "    .dataframe tbody tr th:only-of-type {\n",
       "        vertical-align: middle;\n",
       "    }\n",
       "\n",
       "    .dataframe tbody tr th {\n",
       "        vertical-align: top;\n",
       "    }\n",
       "\n",
       "    .dataframe thead th {\n",
       "        text-align: right;\n",
       "    }\n",
       "</style>\n",
       "<table border=\"1\" class=\"dataframe\">\n",
       "  <thead>\n",
       "    <tr style=\"text-align: right;\">\n",
       "      <th></th>\n",
       "      <th>study_accession</th>\n",
       "      <th>experiment_accession</th>\n",
       "      <th>experiment_title</th>\n",
       "      <th>description</th>\n",
       "      <th>tax_id</th>\n",
       "      <th>scientific_name</th>\n",
       "      <th>library_strategy</th>\n",
       "      <th>library_source</th>\n",
       "      <th>library_selection</th>\n",
       "      <th>sample_accession</th>\n",
       "      <th>sample_title</th>\n",
       "      <th>instrument_model</th>\n",
       "      <th>run_accession</th>\n",
       "      <th>read_count</th>\n",
       "      <th>base_count</th>\n",
       "    </tr>\n",
       "  </thead>\n",
       "  <tbody>\n",
       "    <tr>\n",
       "      <th>0</th>\n",
       "      <td>PRJNA239223</td>\n",
       "      <td>SRX475349</td>\n",
       "      <td>Illumina HiSeq 2000 sequencing; GSM1333720: Ye...</td>\n",
       "      <td>Illumina HiSeq 2000 sequencing; GSM1333720: Ye...</td>\n",
       "      <td>502800</td>\n",
       "      <td>Yersinia pseudotuberculosis YPIII</td>\n",
       "      <td>RNA-Seq</td>\n",
       "      <td>TRANSCRIPTOMIC</td>\n",
       "      <td>cDNA</td>\n",
       "      <td>SAMN02650479</td>\n",
       "      <td>Yersinia pseudotuberculosis RNA-seq_early infe...</td>\n",
       "      <td>Illumina HiSeq 2000</td>\n",
       "      <td>SRR1175455</td>\n",
       "      <td>88333445</td>\n",
       "      <td>17843355890</td>\n",
       "    </tr>\n",
       "    <tr>\n",
       "      <th>1</th>\n",
       "      <td>PRJNA239223</td>\n",
       "      <td>SRX475349</td>\n",
       "      <td>Illumina HiSeq 2000 sequencing; GSM1333720: Ye...</td>\n",
       "      <td>Illumina HiSeq 2000 sequencing; GSM1333720: Ye...</td>\n",
       "      <td>502800</td>\n",
       "      <td>Yersinia pseudotuberculosis YPIII</td>\n",
       "      <td>RNA-Seq</td>\n",
       "      <td>TRANSCRIPTOMIC</td>\n",
       "      <td>cDNA</td>\n",
       "      <td>SAMN02650479</td>\n",
       "      <td>Yersinia pseudotuberculosis RNA-seq_early infe...</td>\n",
       "      <td>Illumina HiSeq 2000</td>\n",
       "      <td>SRR1175456</td>\n",
       "      <td>70676677</td>\n",
       "      <td>14276688754</td>\n",
       "    </tr>\n",
       "    <tr>\n",
       "      <th>2</th>\n",
       "      <td>PRJNA239223</td>\n",
       "      <td>SRX475350</td>\n",
       "      <td>Illumina HiSeq 2000 sequencing; GSM1333721: Y....</td>\n",
       "      <td>Illumina HiSeq 2000 sequencing; GSM1333721: Y....</td>\n",
       "      <td>502800</td>\n",
       "      <td>Yersinia pseudotuberculosis YPIII</td>\n",
       "      <td>RNA-Seq</td>\n",
       "      <td>TRANSCRIPTOMIC</td>\n",
       "      <td>cDNA</td>\n",
       "      <td>SAMN02650477</td>\n",
       "      <td>Y. pseudotuberculosis RNA-seq _persistent infe...</td>\n",
       "      <td>Illumina HiSeq 2000</td>\n",
       "      <td>SRR1175457</td>\n",
       "      <td>96794171</td>\n",
       "      <td>19552422542</td>\n",
       "    </tr>\n",
       "    <tr>\n",
       "      <th>3</th>\n",
       "      <td>PRJNA239223</td>\n",
       "      <td>SRX475350</td>\n",
       "      <td>Illumina HiSeq 2000 sequencing; GSM1333721: Y....</td>\n",
       "      <td>Illumina HiSeq 2000 sequencing; GSM1333721: Y....</td>\n",
       "      <td>502800</td>\n",
       "      <td>Yersinia pseudotuberculosis YPIII</td>\n",
       "      <td>RNA-Seq</td>\n",
       "      <td>TRANSCRIPTOMIC</td>\n",
       "      <td>cDNA</td>\n",
       "      <td>SAMN02650477</td>\n",
       "      <td>Y. pseudotuberculosis RNA-seq _persistent infe...</td>\n",
       "      <td>Illumina HiSeq 2000</td>\n",
       "      <td>SRR1175458</td>\n",
       "      <td>97439250</td>\n",
       "      <td>19682728500</td>\n",
       "    </tr>\n",
       "    <tr>\n",
       "      <th>4</th>\n",
       "      <td>PRJNA239223</td>\n",
       "      <td>SRX475351</td>\n",
       "      <td>Illumina HiSeq 2000 sequencing; GSM1333722: Y....</td>\n",
       "      <td>Illumina HiSeq 2000 sequencing; GSM1333722: Y....</td>\n",
       "      <td>502800</td>\n",
       "      <td>Yersinia pseudotuberculosis YPIII</td>\n",
       "      <td>RNA-Seq</td>\n",
       "      <td>TRANSCRIPTOMIC</td>\n",
       "      <td>cDNA</td>\n",
       "      <td>SAMN02650480</td>\n",
       "      <td>Y. pseudotuberculosis RNA-seq_early infection,...</td>\n",
       "      <td>Illumina HiSeq 2000</td>\n",
       "      <td>SRR1175459</td>\n",
       "      <td>87517953</td>\n",
       "      <td>17678626506</td>\n",
       "    </tr>\n",
       "  </tbody>\n",
       "</table>\n",
       "</div>"
      ],
      "text/plain": [
       "  study_accession experiment_accession  \\\n",
       "0     PRJNA239223            SRX475349   \n",
       "1     PRJNA239223            SRX475349   \n",
       "2     PRJNA239223            SRX475350   \n",
       "3     PRJNA239223            SRX475350   \n",
       "4     PRJNA239223            SRX475351   \n",
       "\n",
       "                                    experiment_title  \\\n",
       "0  Illumina HiSeq 2000 sequencing; GSM1333720: Ye...   \n",
       "1  Illumina HiSeq 2000 sequencing; GSM1333720: Ye...   \n",
       "2  Illumina HiSeq 2000 sequencing; GSM1333721: Y....   \n",
       "3  Illumina HiSeq 2000 sequencing; GSM1333721: Y....   \n",
       "4  Illumina HiSeq 2000 sequencing; GSM1333722: Y....   \n",
       "\n",
       "                                         description  tax_id  \\\n",
       "0  Illumina HiSeq 2000 sequencing; GSM1333720: Ye...  502800   \n",
       "1  Illumina HiSeq 2000 sequencing; GSM1333720: Ye...  502800   \n",
       "2  Illumina HiSeq 2000 sequencing; GSM1333721: Y....  502800   \n",
       "3  Illumina HiSeq 2000 sequencing; GSM1333721: Y....  502800   \n",
       "4  Illumina HiSeq 2000 sequencing; GSM1333722: Y....  502800   \n",
       "\n",
       "                     scientific_name library_strategy  library_source  \\\n",
       "0  Yersinia pseudotuberculosis YPIII          RNA-Seq  TRANSCRIPTOMIC   \n",
       "1  Yersinia pseudotuberculosis YPIII          RNA-Seq  TRANSCRIPTOMIC   \n",
       "2  Yersinia pseudotuberculosis YPIII          RNA-Seq  TRANSCRIPTOMIC   \n",
       "3  Yersinia pseudotuberculosis YPIII          RNA-Seq  TRANSCRIPTOMIC   \n",
       "4  Yersinia pseudotuberculosis YPIII          RNA-Seq  TRANSCRIPTOMIC   \n",
       "\n",
       "  library_selection sample_accession  \\\n",
       "0              cDNA     SAMN02650479   \n",
       "1              cDNA     SAMN02650479   \n",
       "2              cDNA     SAMN02650477   \n",
       "3              cDNA     SAMN02650477   \n",
       "4              cDNA     SAMN02650480   \n",
       "\n",
       "                                        sample_title     instrument_model  \\\n",
       "0  Yersinia pseudotuberculosis RNA-seq_early infe...  Illumina HiSeq 2000   \n",
       "1  Yersinia pseudotuberculosis RNA-seq_early infe...  Illumina HiSeq 2000   \n",
       "2  Y. pseudotuberculosis RNA-seq _persistent infe...  Illumina HiSeq 2000   \n",
       "3  Y. pseudotuberculosis RNA-seq _persistent infe...  Illumina HiSeq 2000   \n",
       "4  Y. pseudotuberculosis RNA-seq_early infection,...  Illumina HiSeq 2000   \n",
       "\n",
       "  run_accession read_count   base_count  \n",
       "0    SRR1175455   88333445  17843355890  \n",
       "1    SRR1175456   70676677  14276688754  \n",
       "2    SRR1175457   96794171  19552422542  \n",
       "3    SRR1175458   97439250  19682728500  \n",
       "4    SRR1175459   87517953  17678626506  "
      ]
     },
     "execution_count": 19,
     "metadata": {},
     "output_type": "execute_result"
    }
   ],
   "source": [
    "x.head()"
   ]
  },
  {
   "cell_type": "markdown",
   "metadata": {},
   "source": [
    "### Sqlite approach"
   ]
  },
  {
   "cell_type": "code",
   "execution_count": 3,
   "metadata": {},
   "outputs": [
    {
     "name": "stdout",
     "output_type": "stream",
     "text": [
      "[('metaInfo',), ('submission',), ('study',), ('sample',), ('experiment',), ('run',), ('sra',), ('sra_ft',), ('sra_ft_content',), ('sra_ft_segments',), ('sra_ft_segdir',), ('col_desc',), ('fastq',), ('studies',), ('studies_data',), ('studies_idx',), ('studies_content',), ('studies_docsize',), ('studies_config',), ('sample_ft',), ('sample_ft_data',), ('sample_ft_idx',), ('sample_ft_content',), ('sample_ft_docsize',), ('sample_ft_config',), ('experiment_ft',), ('experiment_ft_data',), ('experiment_ft_idx',), ('experiment_ft_content',), ('experiment_ft_docsize',), ('experiment_ft_config',)]\n"
     ]
    }
   ],
   "source": [
    "con = sqlite3.connect(\"SRAmetadb.sqlite\")\n",
    "cursor = con.cursor()\n",
    "cursor.execute(\"select name from sqlite_master where type='table'\")\n",
    "print(cursor.fetchall())\n",
    "# cur = con.cursor()"
   ]
  },
  {
   "cell_type": "code",
   "execution_count": 58,
   "metadata": {},
   "outputs": [
    {
     "data": {
      "text/plain": [
       "<sqlite3.Cursor at 0x2ad27ab3b6c0>"
      ]
     },
     "execution_count": 58,
     "metadata": {},
     "output_type": "execute_result"
    }
   ],
   "source": [
    "# table = \"sample\"\n",
    "# cols = \"scientific_name,sample_accession\"\n",
    "# cursor.execute(f\"create virtual table {table}_ft using fts5({cols})\")\n",
    "# cursor.execute(f\"insert into {table}_ft select {cols} from {table}\")\n",
    "\n",
    "# table = \"experiment\"\n",
    "# cols = \"title,design_description,sample_accession,library_name,library_strategy\"\n",
    "# cursor.execute(f\"create virtual table {table}_ft using fts5({cols})\")\n",
    "# cursor.execute(f\"insert into {table}_ft select {cols} from {table}\")"
   ]
  },
  {
   "cell_type": "code",
   "execution_count": 32,
   "metadata": {},
   "outputs": [],
   "source": [
    "cols = \"title,design_description,sample_accession,library_name,library_strategy\"\n",
    "exp_map = {i:ix for ix, i in enumerate(cols.split(\",\"))}"
   ]
  },
  {
   "cell_type": "markdown",
   "metadata": {},
   "source": [
    "### Query Process"
   ]
  },
  {
   "cell_type": "code",
   "execution_count": 49,
   "metadata": {},
   "outputs": [
    {
     "name": "stdout",
     "output_type": "stream",
     "text": [
      "['SRS4102342']\n"
     ]
    }
   ],
   "source": [
    "# def search_genus_name(genus):\n",
    "\n",
    "genus=\"Cronobacter\"\n",
    "\n",
    "query = f\"\"\"SELECT sample_accession \n",
    "        FROM sample_ft\n",
    "        WHERE scientific_name\n",
    "        MATCH '{genus}'\n",
    "        \"\"\"\n",
    "samples = \",\".join([\"'\" + i[0] + \"'\" for i in cursor.execute(query).fetchall()])\n",
    "\n",
    "query = f\"\"\"SELECT *\n",
    "        FROM experiment_ft\n",
    "        WHERE sample_accession IN ({samples})\n",
    "        AND experiment_ft MATCH 'RNA AND seq'\n",
    "        \"\"\"\n",
    "\n",
    "# print(query)\n",
    "\n",
    "results = cursor.execute(query).fetchall()\n",
    "\n",
    "positive_terms = \"wild WT\".split()\n",
    "negative_terms = \"plasmid\".split()\n",
    "\n",
    "new_results = []\n",
    "for i in results:\n",
    "    descriptive_text = i[exp_map[\"title\"]] + i[exp_map[\"library_name\"]]\n",
    "    add = True\n",
    "    for n in negative_terms:\n",
    "        if n in descriptive_text:\n",
    "            add = False\n",
    "            break\n",
    "    if add:\n",
    "        new_results.append(i)\n",
    "\n",
    "results = new_results\n",
    "\n",
    "samples = []\n",
    "\n",
    "for ix, i in enumerate(results):\n",
    "    descriptive_text = i[exp_map[\"title\"]] + i[exp_map[\"library_name\"]]\n",
    "    for p in positive_terms:\n",
    "        if p in descriptive_text:\n",
    "            samples.append(i[exp_map[\"sample_accession\"]])\n",
    "print(samples)\n",
    "\n",
    "def get_wigs_from_ftps(ftps, path=\".\"):\n",
    "    path = Path(path)\n",
    "    for file in ftps:\n",
    "        extracted = False\n",
    "        wget.download(file)\n",
    "        file = file.split(\"/\")[-1]\n",
    "        with tarfile.open(file, \"r:\") as tar:\n",
    "            names = tar.getmembers()\n",
    "            wig_files = [n for n in names if \".wig\" in n.name]\n",
    "            if len(wig_files) > 0:\n",
    "                tar.extractall(path=path, members=wig_files)\n",
    "                \n",
    "        os.remove(file)\n",
    "        "
   ]
  },
  {
   "cell_type": "code",
   "execution_count": null,
   "metadata": {},
   "outputs": [],
   "source": [
    "r = cursor.execute(f\"select distinct library_layout from {table}\")\n",
    "rs = list(r.fetchall())\n",
    "rs"
   ]
  },
  {
   "cell_type": "code",
   "execution_count": 17,
   "metadata": {},
   "outputs": [
    {
     "data": {
      "text/plain": [
       "'PAIRED - NOMINAL_SDEV: 24.7558; NOMINAL_LENGTH: 163; '"
      ]
     },
     "execution_count": 17,
     "metadata": {},
     "output_type": "execute_result"
    }
   ],
   "source": [
    "rs[0][0]"
   ]
  },
  {
   "cell_type": "code",
   "execution_count": 29,
   "metadata": {},
   "outputs": [
    {
     "data": {
      "text/plain": [
       "1"
      ]
     },
     "execution_count": 29,
     "metadata": {},
     "output_type": "execute_result"
    }
   ],
   "source": [
    "# [[i for i in r[0].split(\";\") if \"NOMINAL\" not in i]\n",
    "max([len(list(r)) for r in rs])"
   ]
  },
  {
   "cell_type": "code",
   "execution_count": 6,
   "metadata": {},
   "outputs": [
    {
     "name": "stdout",
     "output_type": "stream",
     "text": [
      "experiment_ID: 1225035.0\n",
      "bamFile: None\n",
      "fastqFTP: None\n",
      "experiment_alias: GSM1104375_1\n",
      "experiment_accession: SRX254733\n",
      "broker_name: None\n",
      "center_name: GEO\n",
      "title: GSM1104375: Galaxy1-[CV104_pHDB3_5.txt]; Escherichia coli str. K-12 substr. MG1655; RNA-Seq\n",
      "study_name: GSE45443\n",
      "study_accession: SRP019956\n",
      "design_description: None\n",
      "sample_name: GSM1104375\n",
      "sample_accession: SRS403764\n",
      "sample_member: None\n",
      "library_name: None\n",
      "library_strategy: RNA-Seq\n",
      "library_source: TRANSCRIPTOMIC\n",
      "library_selection: cDNA\n",
      "library_layout: SINGLE - \n",
      "targeted_loci: None\n",
      "library_construction_protocol: None\n",
      "spot_length: None\n",
      "adapter_spec: None\n",
      "read_spec: None\n",
      "platform: ILLUMINA\n",
      "instrument_model: Illumina HiSeq 2000\n",
      "platform_parameters: INSTRUMENT_MODEL: Illumina HiSeq 2000\n",
      "sequence_space: None\n",
      "base_caller: None\n",
      "quality_scorer: None\n",
      "number_of_levels: None\n",
      "multiplier: None\n",
      "qtype: None\n",
      "sra_link: None\n",
      "experiment_url_link: GEO Sample: http://www.ncbi.nlm.nih.gov/geo/query/acc.cgi?acc=GSM1104375\n",
      "xref_link: gds: 301104375\n",
      "experiment_entrez_link: None\n",
      "ddbj_link: None\n",
      "ena_link: None\n",
      "experiment_attribute: GEO Accession: GSM1104375\n",
      "submission_accession: SRA071482\n",
      "sradb_updated: 2016-11-19 11:12:01\n"
     ]
    }
   ],
   "source": [
    "table = \"experiment\"\n",
    "field = \"study_accession\" #\"sample_accession\"\n",
    "query = \"SRP019956\"\n",
    "\n",
    "cs = [i[0] for i in cursor.execute(f\"select * from {table}\").description]\n",
    "r = cursor.execute(f\"select * from {table} where {field} = '{query}'\")\n",
    "rs = list(r.fetchone())\n",
    "for ix , i in enumerate(cs):\n",
    "    if True: # i in \"library_strategy title design_description sample_accession\".split():\n",
    "        print(f\"{i}: {rs[ix]}\")"
   ]
  },
  {
   "cell_type": "code",
   "execution_count": null,
   "metadata": {},
   "outputs": [],
   "source": [
    "\"\"\"\n",
    "may want to use the sample scientific name to boost the search of the experiment\n",
    "\"\"\""
   ]
  },
  {
   "cell_type": "markdown",
   "metadata": {},
   "source": [
    "### Scratch Work"
   ]
  },
  {
   "cell_type": "code",
   "execution_count": null,
   "metadata": {},
   "outputs": [],
   "source": [
    "for ix , i in enumerate(cs):\n",
    "    if True: # i in \"library_strategy title design_description sample_accession\".split():\n",
    "        print(f\"{i}: {rs[ix]}\\n\")"
   ]
  },
  {
   "cell_type": "code",
   "execution_count": 11,
   "metadata": {},
   "outputs": [],
   "source": [
    "def has_rna(row):\n",
    "#     print(row)\n",
    "    if row is None:\n",
    "        return False\n",
    "    if \"RNA\" in row or \"rna\" in row:\n",
    "        return True\n",
    "    else:\n",
    "        return False"
   ]
  },
  {
   "cell_type": "code",
   "execution_count": 7,
   "metadata": {},
   "outputs": [
    {
     "data": {
      "text/plain": [
       "Index(['sra_ID', 'SRR_bamFile', 'SRX_bamFile', 'SRX_fastqFTP', 'run_ID',\n",
       "       'run_alias', 'run_accession', 'run_date', 'updated_date', 'spots',\n",
       "       'bases', 'run_center', 'experiment_name', 'run_url_link',\n",
       "       'run_entrez_link', 'run_attribute', 'experiment_ID', 'experiment_alias',\n",
       "       'experiment_accession', 'experiment_title', 'study_name', 'sample_name',\n",
       "       'design_description', 'library_name', 'library_strategy',\n",
       "       'library_source', 'library_selection', 'library_layout',\n",
       "       'library_construction_protocol', 'adapter_spec', 'read_spec',\n",
       "       'platform', 'instrument_model', 'instrument_name',\n",
       "       'platform_parameters', 'sequence_space', 'base_caller',\n",
       "       'quality_scorer', 'number_of_levels', 'multiplier', 'qtype',\n",
       "       'experiment_url_link', 'experiment_entrez_link', 'experiment_attribute',\n",
       "       'sample_ID', 'sample_alias', 'sample_accession', 'taxon_id',\n",
       "       'common_name', 'anonymized_name', 'individual_name', 'description',\n",
       "       'sample_url_link', 'sample_entrez_link', 'sample_attribute', 'study_ID',\n",
       "       'study_alias', 'study_accession', 'study_title', 'study_type',\n",
       "       'study_abstract', 'center_project_name', 'study_description',\n",
       "       'study_url_link', 'study_entrez_link', 'study_attribute',\n",
       "       'related_studies', 'primary_study', 'submission_ID',\n",
       "       'submission_accession', 'submission_comment', 'submission_center',\n",
       "       'submission_lab', 'submission_date', 'sradb_updated'],\n",
       "      dtype='object')"
      ]
     },
     "execution_count": 7,
     "metadata": {},
     "output_type": "execute_result"
    }
   ],
   "source": [
    "table.columns"
   ]
  },
  {
   "cell_type": "code",
   "execution_count": 9,
   "metadata": {},
   "outputs": [
    {
     "data": {
      "text/html": [
       "<div>\n",
       "<style scoped>\n",
       "    .dataframe tbody tr th:only-of-type {\n",
       "        vertical-align: middle;\n",
       "    }\n",
       "\n",
       "    .dataframe tbody tr th {\n",
       "        vertical-align: top;\n",
       "    }\n",
       "\n",
       "    .dataframe thead th {\n",
       "        text-align: right;\n",
       "    }\n",
       "</style>\n",
       "<table border=\"1\" class=\"dataframe\">\n",
       "  <thead>\n",
       "    <tr style=\"text-align: right;\">\n",
       "      <th></th>\n",
       "      <th>run_url_link</th>\n",
       "      <th>run_entrez_link</th>\n",
       "      <th>experiment_ID</th>\n",
       "      <th>experiment_accession</th>\n",
       "      <th>experiment_url_link</th>\n",
       "      <th>experiment_entrez_link</th>\n",
       "      <th>sample_ID</th>\n",
       "      <th>sample_accession</th>\n",
       "      <th>sample_url_link</th>\n",
       "      <th>sample_entrez_link</th>\n",
       "    </tr>\n",
       "  </thead>\n",
       "  <tbody>\n",
       "    <tr>\n",
       "      <th>0</th>\n",
       "      <td>None</td>\n",
       "      <td>None</td>\n",
       "      <td>1.0</td>\n",
       "      <td>DRX000001</td>\n",
       "      <td>None</td>\n",
       "      <td>None</td>\n",
       "      <td>1.0</td>\n",
       "      <td>DRS000001</td>\n",
       "      <td>None</td>\n",
       "      <td>None</td>\n",
       "    </tr>\n",
       "    <tr>\n",
       "      <th>1</th>\n",
       "      <td>None</td>\n",
       "      <td>None</td>\n",
       "      <td>2.0</td>\n",
       "      <td>DRX000002</td>\n",
       "      <td>None</td>\n",
       "      <td>None</td>\n",
       "      <td>2.0</td>\n",
       "      <td>DRS000002</td>\n",
       "      <td>None</td>\n",
       "      <td>None</td>\n",
       "    </tr>\n",
       "  </tbody>\n",
       "</table>\n",
       "</div>"
      ],
      "text/plain": [
       "  run_url_link run_entrez_link  experiment_ID experiment_accession  \\\n",
       "0         None            None            1.0            DRX000001   \n",
       "1         None            None            2.0            DRX000002   \n",
       "\n",
       "  experiment_url_link experiment_entrez_link  sample_ID sample_accession  \\\n",
       "0                None                   None        1.0        DRS000001   \n",
       "1                None                   None        2.0        DRS000002   \n",
       "\n",
       "  sample_url_link sample_entrez_link  \n",
       "0            None               None  \n",
       "1            None               None  "
      ]
     },
     "execution_count": 9,
     "metadata": {},
     "output_type": "execute_result"
    }
   ],
   "source": [
    "table[\"run_url_link run_entrez_link experiment_ID experiment_accession experiment_url_link experiment_entrez_link sample_ID sample_accession sample_url_link sample_entrez_link\".split()].head(2)"
   ]
  },
  {
   "cell_type": "code",
   "execution_count": 12,
   "metadata": {},
   "outputs": [],
   "source": [
    "x = table[table[\"study_type\"].apply(lambda row: has_rna(row))]"
   ]
  },
  {
   "cell_type": "code",
   "execution_count": 19,
   "metadata": {},
   "outputs": [
    {
     "data": {
      "text/plain": [
       "array(['WGS', 'FL-cDNA', 'CLONE', 'OTHER', 'POOLCLONE', 'ChIP-Seq', 'EST',\n",
       "       'MNase-Seq', 'WCS', 'AMPLICON', 'RNA-Seq', 'CTS', 'WXS',\n",
       "       'Bisulfite-Seq', 'MeDIP-Seq', 'miRNA-Seq', 'WGA', None,\n",
       "       'FAIRE-seq', 'CLONEEND', 'ncRNA-Seq', 'RIP-Seq', 'RAD-Seq',\n",
       "       'DNase-Hypersensitivity', 'SELEX', 'MBD-Seq', 'Targeted-Capture',\n",
       "       'Tn-Seq', 'ATAC-seq', 'Synthetic-Long-Read',\n",
       "       'Tethered Chromatin Conformation Capture', 'FINISHING', 'Hi-C',\n",
       "       'ChIP', 'MRE-Seq', 'VALIDATION',\n",
       "       'Targeted resequencing of human colorectal cancer (CRC) stem-like cells (CCSCs), stem-like circulating tumor cells (cCCSCs) and metastatic colorectal stem cells (mCCSCs).',\n",
       "       'other', 'ChIA-PET'], dtype=object)"
      ]
     },
     "execution_count": 19,
     "metadata": {},
     "output_type": "execute_result"
    }
   ],
   "source": [
    "table.library_strategy.unique()"
   ]
  },
  {
   "cell_type": "code",
   "execution_count": 13,
   "metadata": {},
   "outputs": [
    {
     "data": {
      "text/html": [
       "<div>\n",
       "<style scoped>\n",
       "    .dataframe tbody tr th:only-of-type {\n",
       "        vertical-align: middle;\n",
       "    }\n",
       "\n",
       "    .dataframe tbody tr th {\n",
       "        vertical-align: top;\n",
       "    }\n",
       "\n",
       "    .dataframe thead th {\n",
       "        text-align: right;\n",
       "    }\n",
       "</style>\n",
       "<table border=\"1\" class=\"dataframe\">\n",
       "  <thead>\n",
       "    <tr style=\"text-align: right;\">\n",
       "      <th></th>\n",
       "      <th>run_url_link</th>\n",
       "      <th>run_entrez_link</th>\n",
       "      <th>experiment_ID</th>\n",
       "      <th>experiment_accession</th>\n",
       "      <th>experiment_url_link</th>\n",
       "      <th>experiment_entrez_link</th>\n",
       "      <th>sample_ID</th>\n",
       "      <th>sample_accession</th>\n",
       "      <th>sample_url_link</th>\n",
       "      <th>sample_entrez_link</th>\n",
       "    </tr>\n",
       "  </thead>\n",
       "  <tbody>\n",
       "  </tbody>\n",
       "</table>\n",
       "</div>"
      ],
      "text/plain": [
       "Empty DataFrame\n",
       "Columns: [run_url_link, run_entrez_link, experiment_ID, experiment_accession, experiment_url_link, experiment_entrez_link, sample_ID, sample_accession, sample_url_link, sample_entrez_link]\n",
       "Index: []"
      ]
     },
     "execution_count": 13,
     "metadata": {},
     "output_type": "execute_result"
    }
   ],
   "source": [
    "x[\"run_url_link run_entrez_link experiment_ID experiment_accession experiment_url_link experiment_entrez_link sample_ID sample_accession sample_url_link sample_entrez_link\".split()].head(2)"
   ]
  }
 ],
 "metadata": {
  "kernelspec": {
   "display_name": "Python 3",
   "language": "python",
   "name": "python3"
  },
  "language_info": {
   "codemirror_mode": {
    "name": "ipython",
    "version": 3
   },
   "file_extension": ".py",
   "mimetype": "text/x-python",
   "name": "python",
   "nbconvert_exporter": "python",
   "pygments_lexer": "ipython3",
   "version": "3.7.4"
  }
 },
 "nbformat": 4,
 "nbformat_minor": 4
}
