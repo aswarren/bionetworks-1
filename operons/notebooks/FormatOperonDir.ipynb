{
 "cells": [
  {
   "cell_type": "code",
   "execution_count": 4,
   "metadata": {},
   "outputs": [],
   "source": [
    "import sys\n",
    "import shutil\n",
    "import os\n",
    "import gzip\n",
    "import bz2\n",
    "from pathlib import Path"
   ]
  },
  {
   "cell_type": "markdown",
   "metadata": {},
   "source": [
    "**Pileline**\n",
    "* Take the SRR names grouped by the organism name (sort-u on column 6)\n",
    "* Get the relevant FTP for reference genome\n",
    " * Also need to grab the genome accession (column 6 of the assembly summary)\n",
    "* Use annogesic to create a project directory under the genera name with the genome accession as the dir name\n",
    "* Align the reads to the genome using "
   ]
  },
  {
   "cell_type": "code",
   "execution_count": 13,
   "metadata": {},
   "outputs": [],
   "source": [
    "to_update = True"
   ]
  },
  {
   "cell_type": "code",
   "execution_count": 40,
   "metadata": {},
   "outputs": [],
   "source": [
    "def get_lib_designation(file, tex_pos_terms, tex_neg_terms):\n",
    "    \n",
    "    global to_update\n",
    "    \n",
    "    search_name = file\n",
    "    \n",
    "    if \"TEX\" in file:\n",
    "        dest_folder = \"tex_notex\"\n",
    "        lib_type = \"\"\n",
    "        for pos in tex_pos_terms:\n",
    "            if pos in search_name:\n",
    "                lib_type = \"tex\"\n",
    "                search_name = search_name.replace(pos, \"\")\n",
    "                break\n",
    "        if lib_type == \"\":\n",
    "            for neg in tex_neg_terms:\n",
    "                if neg in search_name:\n",
    "                    lib_type = \"notex\"\n",
    "                    search_name = search_name.replace(neg, \"\")\n",
    "                    break\n",
    "\n",
    "        if lib_type == \"\":\n",
    "            print(f\"Could not find TEX designation for file: {file}\")\n",
    "            \n",
    "            if not to_update:\n",
    "                return 1\n",
    "            \n",
    "            resp = \".\"\n",
    "            while resp.lower() not in [\"\", \"y\", \"n\"]:\n",
    "                resp = choice = input(\"Want to add new terms (y/n/never)?\")\n",
    "            \n",
    "            if resp == \"n\":\n",
    "                return 1\n",
    "            elif resp == \"never\":\n",
    "                to_update = False\n",
    "                return 1\n",
    "            \n",
    "            pos_new = input(\"Add to the positive terms: \")\n",
    "            neg_new = input(\"Add to the negative terms: \")\n",
    "\n",
    "            if pos_new != \"\":\n",
    "                tex_pos_terms.append(pos_new)\n",
    "            if neg_new != \"\":\n",
    "                tex_neg_terms.append(neg_new)\n",
    "            return get_lib_designation(file, tex_pos_terms, tex_neg_terms)\n",
    "\n",
    "\n",
    "    else:\n",
    "        lib_type = \"frag\"\n",
    "        dest_folder = \"fragment\"\n",
    "        \n",
    "    return lib_type, dest_folder, search_name, tex_pos_terms, tex_neg_terms"
   ]
  },
  {
   "cell_type": "code",
   "execution_count": 39,
   "metadata": {},
   "outputs": [],
   "source": [
    "def get_strand_designation(search_name, forward_terms, reverse_terms):\n",
    "    \n",
    "    global to_update\n",
    "    strand = \"\"\n",
    "\n",
    "    for pos in forward_terms:\n",
    "        if pos in search_name:\n",
    "            strand = \"+\"\n",
    "            search_name = search_name.replace(pos, \"\")\n",
    "            break\n",
    "\n",
    "    if strand == \"\":\n",
    "        for neg in reverse_terms:\n",
    "            if neg in search_name:\n",
    "                strand = \"-\"\n",
    "                search_name = search_name.replace(neg, \"\")\n",
    "                break\n",
    "    if strand == \"\":\n",
    "        print(f\"Could not find strand designation for file: {file}\")\n",
    "        if not to_update:\n",
    "            return 1\n",
    "\n",
    "        resp = \".\"\n",
    "        while resp.lower() not in [\"\", \"y\", \"n\"]:\n",
    "            resp = choice = input(\"Want to add new terms (y/n/never)?\")\n",
    "\n",
    "        if resp == \"n\":\n",
    "            return 1\n",
    "        elif resp == \"never\":\n",
    "            to_update = False\n",
    "            return 1\n",
    "\n",
    "        pos_new = input(\"Add to the positive terms: \")\n",
    "        neg_new = input(\"Add to the negative terms: \")\n",
    "\n",
    "        if pos_new != \"\":\n",
    "            forward_terms.append(pos_new)\n",
    "        if neg_new != \"\":\n",
    "            reverse_terms.append(neg_new)\n",
    "        return get_strand_designation(search_name, forward_terms, reverse_terms)\n",
    "    \n",
    "    return strand, search_name, forward_terms, reverse_terms\n",
    "            "
   ]
  },
  {
   "cell_type": "code",
   "execution_count": 29,
   "metadata": {},
   "outputs": [
    {
     "data": {
      "text/plain": [
       "[]"
      ]
     },
     "execution_count": 29,
     "metadata": {},
     "output_type": "execute_result"
    }
   ],
   "source": [
    "import re\n",
    "sample_id = \"GSM3162640-V583_5_-TEX_div_by_17940710.0_multi_by_1000000.0_reverse.wig\"\n",
    "ids = re.compile(\"ID-[0-9]*-\")\n",
    "gsm = re.compile(\"GSM[0-9]*[-,_]\")\n",
    "\n",
    "ids.findall(sample_id)"
   ]
  },
  {
   "cell_type": "code",
   "execution_count": 42,
   "metadata": {},
   "outputs": [
    {
     "name": "stdout",
     "output_type": "stream",
     "text": [
      "Could not find TEX designation for file: GSM3162643_ID-005278-0054_1_plus_a_TEX_reverbose_time.wig\n"
     ]
    },
    {
     "name": "stdin",
     "output_type": "stream",
     "text": [
      "Want to add new terms (y/n/never)? y\n",
      "Add to the positive terms:  plus_a_TEX\n",
      "Add to the negative terms:  \n"
     ]
    },
    {
     "name": "stdout",
     "output_type": "stream",
     "text": [
      "tex\n",
      "Could not find strand designation for file: GSM3162643_ID-005278-0054_1_plus_a_TEX_reverbose_time.wig\n"
     ]
    },
    {
     "name": "stdin",
     "output_type": "stream",
     "text": [
      "Want to add new terms (y/n/never)? \n",
      "Add to the positive terms:  reverbose\n",
      "Add to the negative terms:  \n"
     ]
    },
    {
     "name": "stdout",
     "output_type": "stream",
     "text": [
      "GSM3162643_ID-005278-0054_1_plus_a_TEX_reverbose_time.wig:tex:0:a:+\n"
     ]
    }
   ],
   "source": [
    "wigs_dir_path = Path(\"/scratch/jho5ze/bionets/operons/geo_output/\")\n",
    "annogesic_path = Path(\"/sfs/lustre/bahamut/scratch/jho5ze/bionets/operons/annogesic\")\n",
    "path_to_wigs = \"input/wigs\"\n",
    "org_dirs = os.listdir(wigs_dir_path)\n",
    "\n",
    "tex_neg_terms = [\"minus_TEX\", \"minusTEX\", \"-TEX\", \"TEX_minus\", \"TEX_neg\", \"TEX-untreated\", \"with_TEX\"]\n",
    "tex_pos_terms = [\"plus_TEX\", \"plusTEX\", \"+TEX\", \"TEX_plus\", \"TEX_pos\", \"TEX-treated\", \"without_TEX\"]\n",
    "\n",
    "forward_terms = [\".+.\", \"forward\", \"plus\", \"FWD\"]\n",
    "reverse_terms = [\".-.\", \"reverse\", \"minus\", \"REV\"]\n",
    "\n",
    "for org in [\"test\"]: #org_dirs:\n",
    "    org_path = wigs_dir_path / org\n",
    "    os.chdir(org_path)\n",
    "    treatments = []\n",
    "    for file in os.listdir(org_path):\n",
    "        dest_file = file\n",
    "        if \"chip\" in file.lower() or \"plasmid\" in file.lower() or \"TAP\" in file:\n",
    "#             os.remove(file)\n",
    "            continue\n",
    "        \n",
    "        if file.endswith(\".gz\") or file.endswith(\".bz2\"):\n",
    "            method, dest_file = (gzip, file[:-3]) if file.endswith(\".gz\") else (bz2, file[:-4])\n",
    "            with open(file, \"rb\") as src, open(dest_file, \"wb\") as dest:\n",
    "                dest.write(method.decompress(src.read()))\n",
    "        \n",
    "#         search_name = file\n",
    "        \n",
    "#         if \"TEX\" in file:\n",
    "#             dest_folder = annogesic_path/org/path_to_wigs/\"tex_notex\"\n",
    "#             lib_type = \"\"\n",
    "#             for pos in tex_pos_terms:\n",
    "#                 if pos in search_name:\n",
    "#                     lib_type = \"tex\"\n",
    "#                     search_name = search_name.replace(pos, \"\")\n",
    "#                     break\n",
    "#             if lib_type == \"\":\n",
    "#                 for neg in tex_neg_terms:\n",
    "#                     if neg in search_name:\n",
    "#                         lib_type = \"notex\"\n",
    "#                         search_name = search_name.replace(neg, \"\")\n",
    "#                         break\n",
    "                        \n",
    "#             if lib_type == \"\":\n",
    "#                 print(f\"Could not find TEX designation for file: {file}\")\n",
    "#                 continue\n",
    "            \n",
    "            \n",
    "#         else:\n",
    "#             lib_type = \"frag\"\n",
    "#             dest_folder = annogesic_path/org/path_to_wigs/\"fragment\"\n",
    "\n",
    "        lib_results = get_lib_designation(file, tex_pos_terms, tex_neg_terms)\n",
    "        if lib_results == 1:\n",
    "            continue\n",
    "        else:\n",
    "            lib_type, dest_folder, search_name, tex_pos_terms, tex_neg_terms = lib_results\n",
    "        \n",
    "        \n",
    "        print(lib_type)\n",
    "        \n",
    "        search_name = search_name.lower()\n",
    "        \n",
    "        ids = re.compile(\"ID-[0-9]*-\")\n",
    "        gsm = re.compile(\"GSM[0-9]*[-,_]\")\n",
    "        \n",
    "        for i in ids.findall(search_name):\n",
    "            search_name = search_name.replace(i)\n",
    "        for i in gsm.findall(search_name):\n",
    "            search_name = search_name.replace(i)\n",
    "        \n",
    "#         strand = \"\"\n",
    "        \n",
    "#         for pos in forward_terms:\n",
    "#             if pos in search_name:\n",
    "#                 strand = \"+\"\n",
    "#                 search_name = search_name.replace(pos, \"\")\n",
    "#                 break\n",
    "        \n",
    "#         if strand == \"\":\n",
    "#             for neg in reverse_terms:\n",
    "#                 if neg in search_name:\n",
    "#                     strand = \"-\"\n",
    "#                     search_name = search_name.replace(neg, \"\")\n",
    "#                     break\n",
    "#         if strand == \"\":\n",
    "#             print(f\"Could not find strand designation for file: {file}\")\n",
    "#             continue\n",
    "\n",
    "        strand_results = get_strand_designation(search_name, forward_terms, reverse_terms)\n",
    "        if strand_results == 1:\n",
    "            continue\n",
    "        else:\n",
    "            strand, search_name, forward_terms, reverse_terms = strand_results\n",
    "            \n",
    "        if search_name not in treatments:\n",
    "            treatments.append(search_name)\n",
    "            \n",
    "        condition = str(treatments.index(search_name))\n",
    "        \n",
    "        print(\":\".join([dest_file, lib_type, condition, \"a\", strand]))\n",
    "        \n",
    "        \"\"\"\n",
    "        ToDo:\n",
    "        Add in some stuff to get a more consistent sample representation and to ensure that there are 4 per TEX \n",
    "        and two per fragment with the proper designations\n",
    "        \"\"\"\n",
    "        \n",
    "        break\n",
    "    break\n",
    "        "
   ]
  },
  {
   "cell_type": "code",
   "execution_count": null,
   "metadata": {},
   "outputs": [],
   "source": []
  }
 ],
 "metadata": {
  "kernelspec": {
   "display_name": "Python 3",
   "language": "python",
   "name": "python3"
  },
  "language_info": {
   "codemirror_mode": {
    "name": "ipython",
    "version": 3
   },
   "file_extension": ".py",
   "mimetype": "text/x-python",
   "name": "python",
   "nbconvert_exporter": "python",
   "pygments_lexer": "ipython3",
   "version": "3.7.4"
  }
 },
 "nbformat": 4,
 "nbformat_minor": 4
}
