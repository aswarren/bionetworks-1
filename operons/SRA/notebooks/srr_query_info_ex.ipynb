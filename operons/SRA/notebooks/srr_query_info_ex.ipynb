{
 "cells": [
  {
   "cell_type": "code",
   "execution_count": 3,
   "metadata": {},
   "outputs": [
    {
     "name": "stderr",
     "output_type": "stream",
     "text": [
      "100%|██████████| 2/2 [00:00<00:00,  8.27it/s]\n"
     ]
    }
   ],
   "source": [
    "#!/usr/bin/env python3\n",
    "# coding: utf-8\n",
    "\n",
    "import pandas as pd\n",
    "import sys, os\n",
    "from pathlib import Path\n",
    "from pysradb.search import SraSearch\n",
    "\n",
    "# genus = sys.argv[1]\n",
    "genus = \"Mycobacterium\"\n",
    "# if len(sys.argv) > 2:\n",
    "#     num_results = sys.argv[2]\n",
    "# else:\n",
    "#     num_results = 2\n",
    "    \n",
    "# print(num_results)\n",
    "\n",
    "path = Path(\"/scratch/jho5ze/bionets/operons/SRA/genera/\")\n",
    "\n",
    "query = SraSearch(return_max=2, query=f\"{genus} RNA-Seq\")\n",
    "query.search()\n",
    "query.get_df().to_csv(path/f\"{genus}_query_info.csv\")\n",
    "\n"
   ]
  }
 ],
 "metadata": {
  "kernelspec": {
   "display_name": "Python 3",
   "language": "python",
   "name": "python3"
  },
  "language_info": {
   "codemirror_mode": {
    "name": "ipython",
    "version": 3
   },
   "file_extension": ".py",
   "mimetype": "text/x-python",
   "name": "python",
   "nbconvert_exporter": "python",
   "pygments_lexer": "ipython3",
   "version": "3.7.4"
  }
 },
 "nbformat": 4,
 "nbformat_minor": 4
}
