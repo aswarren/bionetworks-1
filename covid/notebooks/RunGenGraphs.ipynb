{
 "cells": [
  {
   "cell_type": "code",
   "execution_count": 2,
   "metadata": {},
   "outputs": [],
   "source": [
    "import pandas as pd\n",
    "import numpy as np\n",
    "import os\n",
    "import subprocess\n",
    "import datetime\n",
    "from pathlib import Path"
   ]
  },
  {
   "cell_type": "code",
   "execution_count": 38,
   "metadata": {},
   "outputs": [],
   "source": [
    "def prep_gengraph_input_output(date, end_date, seq_names):\n",
    "    date = date.strftime(\"%Y-%m-%d\")\n",
    "    end_date = end_date.strftime(\"%Y-%m-%d\")\n",
    "    \n",
    "    gengraph_path = Path(\"/sfs/lustre/bahamut/scratch/jho5ze/bionets/covid/data/Houston_gengraph\")\n",
    "    run_path = gengraph_path / f\"{date}_{end_date}\"\n",
    "    \n",
    "    if not run_path.exists():\n",
    "        run_path.mkdir()\n",
    "        \n",
    "    seq_path = Path(\"/sfs/lustre/bahamut/scratch/jho5ze/bionets/covid/data/Houston\")\n",
    "    seq_file_dest = run_path / f\"{date}_{end_date}_seq_input.txt\"\n",
    "    with open(seq_file_dest, \"w\") as dest:\n",
    "        dest.write(\"seq_name\\taln_name\\tseq_path\\tannotation_path\\n\")\n",
    "        for ix, seq in enumerate(seq_names):\n",
    "            dest.write(f\"{seq}\\tseq_{ix}\\t{seq_path / seq}.fasta\\n\")\n",
    "            \n",
    "    return run_path, seq_file_dest, f\"{date}_{end_date}\""
   ]
  },
  {
   "cell_type": "code",
   "execution_count": null,
   "metadata": {},
   "outputs": [],
   "source": [
    "base_path = Path(\"/scratch/jho5ze/bionets/covid/\")\n",
    "\n",
    "seqs = pd.read_csv(data_path / \"houston_metadata.csv\", header=None, parse_dates=[4, 5])\n",
    "seqs.columns = [\"strain\", \"Country\", \"seq\", \"year\", \"date\", \"submission_date\"]\n",
    "\n",
    "date_window = 5\n",
    "date_step_size = 5\n",
    "\n",
    "# for date in pd.date_range(seqs.date.min(), seqs.date.max(), freq=f\"{date_step_size}D\"):\n",
    "#     end_date = date + np.timedelta64(date_window - 1, 'D')\n",
    "#     sub_seqs = seqs[(seqs.date >= date) & (seqs.date <= end_date)].seq\n",
    "#     output_directory, seq_file, out_file = prep_gengraph_input_output(date, end_date, sub_seqs)\n",
    "    \n",
    "#     if not out_file + \".xml\" in os.listdir(output_directory):\n",
    "#         print(out_file)\n",
    "    \n",
    "#         command = f\"sbatch {base_path / 'scripts/run_gengraph.sbatch'} {output_directory} {seq_file} {out_file}\"\n",
    "#         subprocess.run(command.split())\n",
    "#     break\n"
   ]
  },
  {
   "cell_type": "code",
   "execution_count": 42,
   "metadata": {},
   "outputs": [
    {
     "data": {
      "text/plain": [
       "Timestamp('2020-03-18 00:00:00')"
      ]
     },
     "execution_count": 42,
     "metadata": {},
     "output_type": "execute_result"
    }
   ],
   "source": [
    "seqs.date.min()"
   ]
  }
 ],
 "metadata": {
  "kernelspec": {
   "display_name": "Python 3",
   "language": "python",
   "name": "python3"
  },
  "language_info": {
   "codemirror_mode": {
    "name": "ipython",
    "version": 3
   },
   "file_extension": ".py",
   "mimetype": "text/x-python",
   "name": "python",
   "nbconvert_exporter": "python",
   "pygments_lexer": "ipython3",
   "version": "3.7.4"
  }
 },
 "nbformat": 4,
 "nbformat_minor": 4
}
