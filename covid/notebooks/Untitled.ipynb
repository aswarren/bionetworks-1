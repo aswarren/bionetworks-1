{
 "cells": [
  {
   "cell_type": "code",
   "execution_count": 1,
   "metadata": {},
   "outputs": [],
   "source": [
    "import pandas as pd\n",
    "import numpy as np\n",
    "from matplotlib import pyplot as plt"
   ]
  },
  {
   "cell_type": "code",
   "execution_count": 41,
   "metadata": {},
   "outputs": [
    {
     "data": {
      "text/plain": [
       "Text(0, 0.5, 'Frequency')"
      ]
     },
     "execution_count": 41,
     "metadata": {},
     "output_type": "execute_result"
    },
    {
     "data": {
      "image/png": "[encoded data removed]",
      "text/plain": [
       "<Figure size 864x288 with 1 Axes>"
      ]
     },
     "metadata": {
      "needs_background": "light"
     },
     "output_type": "display_data"
    }
   ],
   "source": [
    "fig, ax = plt.subplots(figsize=(6,4))\n",
    "lineages = pd.read_csv(\"/sfs/lustre/bahamut/scratch/jho5ze/bionets/covid/data/lineage_recall_report.csv\")\n",
    "lineages = lineages[~lineages.lineage.isin([\"macro avg\", \"weighted avg\"])].sort_values(\"support\")\n",
    "lineages = lineages.sort_values(\"support\")\n",
    "lineages[\"support\"].iloc[:-4].hist(ax=ax, bins=100)\n",
    "ax.set_title(\"Number of Samples in Pangolin Lineages\")\n",
    "ax.set_xlabel(\"Number of Samples\")\n",
    "ax.set_ylabel(\"Frequency\")\n",
    "# plt.savefig(\"samples_per_panrgolin_lineage.png\", dpi=100, facecolor=\"white\")"
   ]
  },
  {
   "cell_type": "code",
   "execution_count": 37,
   "metadata": {},
   "outputs": [
    {
     "data": {
      "text/html": [
       "<div>\n",
       "<style scoped>\n",
       "    .dataframe tbody tr th:only-of-type {\n",
       "        vertical-align: middle;\n",
       "    }\n",
       "\n",
       "    .dataframe tbody tr th {\n",
       "        vertical-align: top;\n",
       "    }\n",
       "\n",
       "    .dataframe thead th {\n",
       "        text-align: right;\n",
       "    }\n",
       "</style>\n",
       "<table border=\"1\" class=\"dataframe\">\n",
       "  <thead>\n",
       "    <tr style=\"text-align: right;\">\n",
       "      <th></th>\n",
       "      <th>lineage</th>\n",
       "      <th>precision</th>\n",
       "      <th>recall</th>\n",
       "      <th>f1_score</th>\n",
       "      <th>support</th>\n",
       "    </tr>\n",
       "  </thead>\n",
       "  <tbody>\n",
       "    <tr>\n",
       "      <th>764</th>\n",
       "      <td>B.1.1.98</td>\n",
       "      <td>0.000000</td>\n",
       "      <td>0.000000</td>\n",
       "      <td>0.000000</td>\n",
       "      <td>2</td>\n",
       "    </tr>\n",
       "    <tr>\n",
       "      <th>416</th>\n",
       "      <td>B.1.191</td>\n",
       "      <td>0.666667</td>\n",
       "      <td>0.666667</td>\n",
       "      <td>0.666667</td>\n",
       "      <td>3</td>\n",
       "    </tr>\n",
       "    <tr>\n",
       "      <th>104</th>\n",
       "      <td>B.1.1.179</td>\n",
       "      <td>1.000000</td>\n",
       "      <td>1.000000</td>\n",
       "      <td>1.000000</td>\n",
       "      <td>3</td>\n",
       "    </tr>\n",
       "    <tr>\n",
       "      <th>777</th>\n",
       "      <td>C.6</td>\n",
       "      <td>0.375000</td>\n",
       "      <td>0.500000</td>\n",
       "      <td>0.416750</td>\n",
       "      <td>4</td>\n",
       "    </tr>\n",
       "    <tr>\n",
       "      <th>760</th>\n",
       "      <td>B.1.1.119</td>\n",
       "      <td>0.300000</td>\n",
       "      <td>0.400000</td>\n",
       "      <td>0.333400</td>\n",
       "      <td>4</td>\n",
       "    </tr>\n",
       "    <tr>\n",
       "      <th>...</th>\n",
       "      <td>...</td>\n",
       "      <td>...</td>\n",
       "      <td>...</td>\n",
       "      <td>...</td>\n",
       "      <td>...</td>\n",
       "    </tr>\n",
       "    <tr>\n",
       "      <th>639</th>\n",
       "      <td>B.1.5</td>\n",
       "      <td>0.796300</td>\n",
       "      <td>0.873500</td>\n",
       "      <td>0.832600</td>\n",
       "      <td>5751</td>\n",
       "    </tr>\n",
       "    <tr>\n",
       "      <th>744</th>\n",
       "      <td>D.2</td>\n",
       "      <td>1.000000</td>\n",
       "      <td>0.999900</td>\n",
       "      <td>1.000000</td>\n",
       "      <td>10570</td>\n",
       "    </tr>\n",
       "    <tr>\n",
       "      <th>23</th>\n",
       "      <td>B.1.1</td>\n",
       "      <td>0.959900</td>\n",
       "      <td>0.928000</td>\n",
       "      <td>0.943200</td>\n",
       "      <td>12773</td>\n",
       "    </tr>\n",
       "    <tr>\n",
       "      <th>22</th>\n",
       "      <td>B.1</td>\n",
       "      <td>0.925200</td>\n",
       "      <td>0.899900</td>\n",
       "      <td>0.912300</td>\n",
       "      <td>21297</td>\n",
       "    </tr>\n",
       "    <tr>\n",
       "      <th>374</th>\n",
       "      <td>B.1.177</td>\n",
       "      <td>0.992900</td>\n",
       "      <td>0.993600</td>\n",
       "      <td>0.993400</td>\n",
       "      <td>25419</td>\n",
       "    </tr>\n",
       "  </tbody>\n",
       "</table>\n",
       "<p>778 rows × 5 columns</p>\n",
       "</div>"
      ],
      "text/plain": [
       "       lineage  precision    recall  f1_score  support\n",
       "764   B.1.1.98   0.000000  0.000000  0.000000        2\n",
       "416    B.1.191   0.666667  0.666667  0.666667        3\n",
       "104  B.1.1.179   1.000000  1.000000  1.000000        3\n",
       "777        C.6   0.375000  0.500000  0.416750        4\n",
       "760  B.1.1.119   0.300000  0.400000  0.333400        4\n",
       "..         ...        ...       ...       ...      ...\n",
       "639      B.1.5   0.796300  0.873500  0.832600     5751\n",
       "744        D.2   1.000000  0.999900  1.000000    10570\n",
       "23       B.1.1   0.959900  0.928000  0.943200    12773\n",
       "22         B.1   0.925200  0.899900  0.912300    21297\n",
       "374    B.1.177   0.992900  0.993600  0.993400    25419\n",
       "\n",
       "[778 rows x 5 columns]"
      ]
     },
     "execution_count": 37,
     "metadata": {},
     "output_type": "execute_result"
    }
   ],
   "source": [
    "lineages"
   ]
  },
  {
   "cell_type": "code",
   "execution_count": 42,
   "metadata": {},
   "outputs": [
    {
     "data": {
      "text/plain": [
       "Text(0, 0.5, 'Frequency')"
      ]
     },
     "execution_count": 42,
     "metadata": {},
     "output_type": "execute_result"
    },
    {
     "data": {
      "image/png": "[encoded data removed]",
      "text/plain": [
       "<Figure size 432x288 with 1 Axes>"
      ]
     },
     "metadata": {
      "needs_background": "light"
     },
     "output_type": "display_data"
    }
   ],
   "source": [
    "fig, ax = plt.subplots(figsize=(6,4))\n",
    "lineages = pd.read_csv(\"/sfs/lustre/bahamut/scratch/jho5ze/bionets/covid/data/lineage_recall_report.csv\")\n",
    "lineages = lineages[~lineages.lineage.isin([\"macro avg\", \"weighted avg\"])].sort_values(\"support\")\n",
    "lineages = lineages.sort_values(\"f1_score\")\n",
    "lineages[\"f1_score\"].hist(ax=ax, bins=100)\n",
    "ax.set_title(\"F1 Classification Score in Pangolin Lineages\")\n",
    "ax.set_xlabel(\"F1 Classification Score\")\n",
    "ax.set_ylabel(\"Frequency\")\n",
    "# plt.savefig(\"samples_per_panrgolin_lineage.png\", dpi=100, facecolor=\"white\")"
   ]
  },
  {
   "cell_type": "code",
   "execution_count": 43,
   "metadata": {},
   "outputs": [
    {
     "data": {
      "text/plain": [
       "(778, 5)"
      ]
     },
     "execution_count": 43,
     "metadata": {},
     "output_type": "execute_result"
    }
   ],
   "source": [
    "lineages.shape"
   ]
  },
  {
   "cell_type": "code",
   "execution_count": 53,
   "metadata": {},
   "outputs": [
    {
     "data": {
      "text/plain": [
       "<AxesSubplot:>"
      ]
     },
     "execution_count": 53,
     "metadata": {},
     "output_type": "execute_result"
    },
    {
     "data": {
      "image/png": "[encoded data removed]",
      "text/plain": [
       "<Figure size 432x288 with 1 Axes>"
      ]
     },
     "metadata": {
      "needs_background": "light"
     },
     "output_type": "display_data"
    }
   ],
   "source": [
    "lineages = pd.read_csv(\"/sfs/lustre/bahamut/scratch/jho5ze/bionets/covid/data/lineages.metadata.csv\")\n",
    "lineages.lineage.value_counts().iloc[4:].hist()"
   ]
  },
  {
   "cell_type": "code",
   "execution_count": 58,
   "metadata": {},
   "outputs": [
    {
     "data": {
      "image/png": "[encoded data removed]",
      "text/plain": [
       "<Figure size 432x288 with 1 Axes>"
      ]
     },
     "metadata": {
      "needs_background": "light"
     },
     "output_type": "display_data"
    }
   ],
   "source": [
    "fig, ax = plt.subplots(figsize=(6,4))\n",
    "lineages = pd.read_csv(\"/sfs/lustre/bahamut/scratch/jho5ze/bionets/covid/data/lineages.metadata.csv\")\n",
    "# lineages = lineages[~lineages.lineage.isin([\"macro avg\", \"weighted avg\"])].sort_values(\"support\")\n",
    "# lineages = lineages.sort_values(\"support\")\n",
    "# lineages = pd.read_csv(\"/sfs/lustre/bahamut/scratch/jho5ze/bionets/covid/data/lineages.metadata.csv\")\n",
    "lineages.lineage.value_counts().iloc[10:].hist(ax=ax, bins=100)\n",
    "ax.set_title(\"Number of Samples in Pangolin Lineages\")\n",
    "ax.set_xlabel(\"Number of Samples\")\n",
    "ax.set_ylabel(\"Frequency\")\n",
    "plt.savefig(\"samples_per_panrgolin_lineage.png\", dpi=100, facecolor=\"white\")"
   ]
  },
  {
   "cell_type": "code",
   "execution_count": 57,
   "metadata": {},
   "outputs": [
    {
     "data": {
      "text/plain": [
       "1288"
      ]
     },
     "execution_count": 57,
     "metadata": {},
     "output_type": "execute_result"
    }
   ],
   "source": [
    "len(lineages.lineage.unique())"
   ]
  }
 ],
 "metadata": {
  "kernelspec": {
   "display_name": "Python 3",
   "language": "python",
   "name": "python3"
  },
  "language_info": {
   "codemirror_mode": {
    "name": "ipython",
    "version": 3
   },
   "file_extension": ".py",
   "mimetype": "text/x-python",
   "name": "python",
   "nbconvert_exporter": "python",
   "pygments_lexer": "ipython3",
   "version": "3.7.4"
  }
 },
 "nbformat": 4,
 "nbformat_minor": 4
}
