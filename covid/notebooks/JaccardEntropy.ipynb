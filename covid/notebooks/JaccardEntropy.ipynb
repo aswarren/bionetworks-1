{
 "cells": [
  {
   "cell_type": "code",
   "execution_count": 1,
   "metadata": {},
   "outputs": [],
   "source": [
    "import pandas as pd\n",
    "import numpy as np\n",
    "from scipy.spatial.distance import pdist\n",
    "import sys\n",
    "sys.path.append('/scratch/jho5ze/bionets/covid/scripts')\n",
    "import entropy_utils as eu\n",
    "from screed import ScreedDB\n",
    "msadb = ScreedDB(\"../data/msa_0408/usa_msa_0408.fasta\")"
   ]
  },
  {
   "cell_type": "code",
   "execution_count": 2,
   "metadata": {},
   "outputs": [
    {
     "name": "stderr",
     "output_type": "stream",
     "text": [
      "/apps/software/standard/compiler/gcc/9.2.0/jupyter_conda/2020.11-py3.8/lib/python3.8/site-packages/IPython/core/interactiveshell.py:3146: DtypeWarning: Columns (13,16) have mixed types.Specify dtype option on import or set low_memory=False.\n",
      "  has_raised = await self.run_ast_nodes(code_ast.body, cell_name,\n"
     ]
    }
   ],
   "source": [
    "metadata = pd.read_csv(\"../data/metadata_2021_04_08.tsv\", sep=\"\\t\", parse_dates = [\"Collection date\", \"Submission date\"])\n",
    "\n",
    "metadata = metadata[[\"Accession ID\", \\\n",
    "                   \"Collection date\", \\\n",
    "                   \"Submission date\", \\\n",
    "                   \"Location\", \\\n",
    "                   \"Additional location information\", \\\n",
    "                   \"Sequence length\", \\\n",
    "                   \"Host\", \\\n",
    "                   \"AA Substitutions\", \\\n",
    "                   \"Is reference?\"]]\n",
    "def get_nth_slash(row, n):\n",
    "    try:\n",
    "        return row.split(\"/\")[n].strip()\n",
    "    except:\n",
    "        return np.nan\n",
    "    \n",
    "for i in range(4):\n",
    "    metadata[f\"Location_{i}\"] = metadata[\"Location\"].apply(lambda row: get_nth_slash(row, i))\n",
    "metadata = metadata.rename(columns={\"Location_1\":\"country\", \"Location_2\":\"state\"})"
   ]
  },
  {
   "cell_type": "code",
   "execution_count": 3,
   "metadata": {},
   "outputs": [
    {
     "name": "stdout",
     "output_type": "stream",
     "text": [
      "yes\n"
     ]
    }
   ],
   "source": [
    "char1=\"-\"\n",
    "char2=\"-\"\n",
    "if char1 == char2 == \"-\":\n",
    "    print(\"yes\")"
   ]
  },
  {
   "cell_type": "markdown",
   "metadata": {},
   "source": [
    "### Alignment Score"
   ]
  },
  {
   "cell_type": "code",
   "execution_count": 12,
   "metadata": {},
   "outputs": [
    {
     "data": {
      "text/plain": [
       "(-9, -1.2857142857142858)"
      ]
     },
     "execution_count": 12,
     "metadata": {},
     "output_type": "execute_result"
    }
   ],
   "source": [
    "seq1 = \"A--TCG-T\"\n",
    "seq2 = \"A-CT-TTT\"\n",
    "\n",
    "def score_seqs(seq1, seq2):\n",
    "    if len(seq1) != len(seq2):\n",
    "        raise ValueError(\"Sequences must be the same length\")\n",
    "    score = 0\n",
    "    gap_length = 0\n",
    "    gap_seq = \"1\"\n",
    "    shared_dash = 0\n",
    "    for pos, char1 in enumerate(seq1):\n",
    "        char2 = seq2[pos]\n",
    "        if char1 == char2 == \"-\":\n",
    "            shared_dash += 1\n",
    "            continue\n",
    "        elif char1 != \"-\" and char2 != \"-\":\n",
    "            if char1 == char2:\n",
    "                score +=1\n",
    "            if gap_length > 0:\n",
    "                score -= 5 + gap_length\n",
    "                gap_length = 0\n",
    "        elif char1 == \"-\":\n",
    "            if gap_seq == \"1\":\n",
    "                gap_length += 1\n",
    "            elif gap_length > 0:\n",
    "                score -= 5 + gap_length\n",
    "                gap_length = 1\n",
    "                gap_seq = \"1\"\n",
    "        elif char2 == \"-\":\n",
    "            if gap_seq == \"2\":\n",
    "                gap_length += 1\n",
    "            elif gap_length > 0:\n",
    "                score -= 5 + gap_length\n",
    "                gap_length = 1\n",
    "                gap_seq = \"2\"\n",
    "\n",
    "    return score, score / (len(seq1) - shared_dash)\n",
    "\n",
    "score_seqs(seq1, seq2)"
   ]
  },
  {
   "cell_type": "code",
   "execution_count": 7,
   "metadata": {},
   "outputs": [
    {
     "data": {
      "text/plain": [
       "'G'"
      ]
     },
     "execution_count": 7,
     "metadata": {},
     "output_type": "execute_result"
    }
   ],
   "source": [
    "import random\n",
    "from Bio import pairwise2\n",
    "random.choice([\"A\", \"T\", \"C\", \"G\"])"
   ]
  },
  {
   "cell_type": "code",
   "execution_count": 16,
   "metadata": {},
   "outputs": [],
   "source": [
    "samples = metadata[metadata.country == \"USA\"][\"Accession ID\"].head(10).to_numpy()\n",
    "sample_arr = []\n",
    "for line in eu.msa_from_screed_ids(samples):\n",
    "    if line[0] == \">\":\n",
    "        continue\n",
    "    else:\n",
    "#         line_arr = map_chars(line)\n",
    "#         print(line[1450:1460])\n",
    "#         line = line[1450:]\n",
    "#         line = line[]\n",
    "        sample_arr.append(line) #_arr)\n",
    "sample_arr = np.array(sample_arr)\n",
    "# sample_arr"
   ]
  },
  {
   "cell_type": "code",
   "execution_count": 20,
   "metadata": {},
   "outputs": [
    {
     "data": {
      "text/plain": [
       "45"
      ]
     },
     "execution_count": 20,
     "metadata": {},
     "output_type": "execute_result"
    }
   ],
   "source": [
    "from math import comb\n",
    "comb(10, 2)"
   ]
  },
  {
   "cell_type": "code",
   "execution_count": 31,
   "metadata": {},
   "outputs": [
    {
     "data": {
      "text/plain": [
       "0.9877627043190954"
      ]
     },
     "execution_count": 31,
     "metadata": {},
     "output_type": "execute_result"
    }
   ],
   "source": [
    "# # affine = pairwise2.affine_penalty(-10, -1)\n",
    "# i = 0\n",
    "# for ix, seq1 in enumerate(sample_arr):\n",
    "#     for ij, seq2 in enumerate(sample_arr[ix+1:]):\n",
    "# #         aln = pairwise2.align.globalxs(seq1, seq2, -10, -1)\n",
    "#         print(score_seqs(seq1, seq2))\n",
    "#         i += 1\n",
    "# #         print(seq1[1400:1420], seq2[1400:1420])\n",
    "# i\n",
    "\n",
    "total_score = 0\n",
    "for ix, seq1 in enumerate(sample_arr):\n",
    "    for ij, seq2 in enumerate(sample_arr[ix+1:]):\n",
    "        total_score += score_seqs(seq1, seq2)[1]\n",
    "\n",
    "total_score /= comb(len(sample_arr), 2)\n",
    "total_score"
   ]
  },
  {
   "cell_type": "markdown",
   "metadata": {},
   "source": [
    "### Jaccard"
   ]
  },
  {
   "cell_type": "code",
   "execution_count": 58,
   "metadata": {},
   "outputs": [],
   "source": [
    "def map_chars(line):\n",
    "    char_map = {\"A\":0, \"C\":1, \"T\":2, \"G\":3}\n",
    "    chars = []\n",
    "    for c in line:\n",
    "        if c in char_map:\n",
    "            chars.append(char_map[c])\n",
    "        else:\n",
    "            chars.append(4)\n",
    "            \n",
    "    return chars"
   ]
  },
  {
   "cell_type": "code",
   "execution_count": 74,
   "metadata": {},
   "outputs": [],
   "source": [
    "samples = metadata[metadata.country == \"USA\"][\"Accession ID\"].head(120).to_numpy()\n",
    "sample_arr = []\n",
    "for line in eu.msa_from_screed_ids(samples):\n",
    "    if line[0] == \">\":\n",
    "        continue\n",
    "    else:\n",
    "        line_arr = map_chars(line)\n",
    "#         print(line[1450:1460])\n",
    "        sample_arr.append(line_arr)\n",
    "sample_arr = np.array(sample_arr)"
   ]
  },
  {
   "cell_type": "code",
   "execution_count": 75,
   "metadata": {},
   "outputs": [
    {
     "data": {
      "text/plain": [
       "0.9917899176623811"
      ]
     },
     "execution_count": 75,
     "metadata": {},
     "output_type": "execute_result"
    }
   ],
   "source": [
    "x = pdist(sample_arr, position_difference)\n",
    "sum(x) / x.shape[0]"
   ]
  },
  {
   "cell_type": "code",
   "execution_count": 40,
   "metadata": {},
   "outputs": [
    {
     "name": "stdout",
     "output_type": "stream",
     "text": [
      "[[0 2 1 3 0]\n",
      " [0 2 1 3 4]\n",
      " [0 2 1 1 0]\n",
      " [1 2 1 3 0]]\n"
     ]
    }
   ],
   "source": [
    "# samples = [\"ATCGA\", \"ATCGN\", \"ATCCA\", \"CTCGA\"]\n",
    "# sample_arr = []\n",
    "# for sample in samples:\n",
    "#     line_arr = [char_map[c] for c in sample]\n",
    "#     sample_arr.append(line_arr)\n",
    "# sample_arr = np.array(sample_arr)    \n",
    "# print(sample_arr)"
   ]
  },
  {
   "cell_type": "code",
   "execution_count": 63,
   "metadata": {},
   "outputs": [],
   "source": [
    "def position_difference(u, v):\n",
    "    return sum(u == v) / u.shape[0]\n",
    "\n",
    "def calculate_jaccard_from_accessions(accessions):\n",
    "    sample_arr = []\n",
    "    for line in eu.msa_from_screed_ids(accessions):\n",
    "        if line[0] == \">\":\n",
    "            continue\n",
    "        else:\n",
    "            line_arr = map_chars(line)\n",
    "            sample_arr.append(line_arr)\n",
    "    sample_arr = np.array(sample_arr)\n",
    "    x = pdist(sample_arr, position_difference)\n",
    "    return sum(x) / x.shape[0]"
   ]
  },
  {
   "cell_type": "code",
   "execution_count": 79,
   "metadata": {},
   "outputs": [
    {
     "ename": "ZeroDivisionError",
     "evalue": "division by zero",
     "output_type": "error",
     "traceback": [
      "\u001b[0;31m---------------------------------------------------------------------------\u001b[0m",
      "\u001b[0;31mZeroDivisionError\u001b[0m                         Traceback (most recent call last)",
      "\u001b[0;32m<ipython-input-79-f0ec632f6e83>\u001b[0m in \u001b[0;36m<module>\u001b[0;34m\u001b[0m\n\u001b[0;32m----> 1\u001b[0;31m \u001b[0mcalculate_jaccard_from_accessions\u001b[0m\u001b[0;34m(\u001b[0m\u001b[0;34m[\u001b[0m\u001b[0;34m\"EPI_ISL_1222555\"\u001b[0m\u001b[0;34m]\u001b[0m\u001b[0;34m)\u001b[0m\u001b[0;34m\u001b[0m\u001b[0;34m\u001b[0m\u001b[0m\n\u001b[0m",
      "\u001b[0;32m<ipython-input-63-dcfcd1226e1f>\u001b[0m in \u001b[0;36mcalculate_jaccard_from_accessions\u001b[0;34m(accessions)\u001b[0m\n\u001b[1;32m     12\u001b[0m     \u001b[0msample_arr\u001b[0m \u001b[0;34m=\u001b[0m \u001b[0mnp\u001b[0m\u001b[0;34m.\u001b[0m\u001b[0marray\u001b[0m\u001b[0;34m(\u001b[0m\u001b[0msample_arr\u001b[0m\u001b[0;34m)\u001b[0m\u001b[0;34m\u001b[0m\u001b[0;34m\u001b[0m\u001b[0m\n\u001b[1;32m     13\u001b[0m     \u001b[0mx\u001b[0m \u001b[0;34m=\u001b[0m \u001b[0mpdist\u001b[0m\u001b[0;34m(\u001b[0m\u001b[0msample_arr\u001b[0m\u001b[0;34m,\u001b[0m \u001b[0mposition_difference\u001b[0m\u001b[0;34m)\u001b[0m\u001b[0;34m\u001b[0m\u001b[0;34m\u001b[0m\u001b[0m\n\u001b[0;32m---> 14\u001b[0;31m     \u001b[0;32mreturn\u001b[0m \u001b[0msum\u001b[0m\u001b[0;34m(\u001b[0m\u001b[0mx\u001b[0m\u001b[0;34m)\u001b[0m \u001b[0;34m/\u001b[0m \u001b[0mx\u001b[0m\u001b[0;34m.\u001b[0m\u001b[0mshape\u001b[0m\u001b[0;34m[\u001b[0m\u001b[0;36m0\u001b[0m\u001b[0;34m]\u001b[0m\u001b[0;34m\u001b[0m\u001b[0;34m\u001b[0m\u001b[0m\n\u001b[0m",
      "\u001b[0;31mZeroDivisionError\u001b[0m: division by zero"
     ]
    }
   ],
   "source": [
    "calculate_jaccard_from_accessions([\"EPI_ISL_1222555\"])"
   ]
  },
  {
   "cell_type": "code",
   "execution_count": 71,
   "metadata": {},
   "outputs": [],
   "source": [
    "from tqdm import tqdm"
   ]
  },
  {
   "cell_type": "code",
   "execution_count": 78,
   "metadata": {},
   "outputs": [
    {
     "data": {
      "text/plain": [
       "[4, 5]"
      ]
     },
     "execution_count": 78,
     "metadata": {},
     "output_type": "execute_result"
    }
   ],
   "source": [
    "x = [1,2,3,4,5]\n",
    "a, b = x[1:3]\n",
    "x[3:]"
   ]
  },
  {
   "cell_type": "code",
   "execution_count": 73,
   "metadata": {},
   "outputs": [
    {
     "name": "stderr",
     "output_type": "stream",
     "text": [
      "  0%|          | 0/51 [00:00<?, ?it/s]"
     ]
    },
    {
     "name": "stdout",
     "output_type": "stream",
     "text": [
      "Houston\n"
     ]
    },
    {
     "name": "stderr",
     "output_type": "stream",
     "text": [
      "  4%|▍         | 2/51 [01:33<38:16, 46.86s/it]\n"
     ]
    },
    {
     "ename": "KeyboardInterrupt",
     "evalue": "",
     "output_type": "error",
     "traceback": [
      "\u001b[0;31m---------------------------------------------------------------------------\u001b[0m",
      "\u001b[0;31mKeyboardInterrupt\u001b[0m                         Traceback (most recent call last)",
      "\u001b[0;32m<ipython-input-73-7fc3420eb596>\u001b[0m in \u001b[0;36m<module>\u001b[0;34m\u001b[0m\n\u001b[1;32m     25\u001b[0m         \u001b[0mstdate\u001b[0m \u001b[0;34m=\u001b[0m \u001b[0mdate\u001b[0m\u001b[0;34m.\u001b[0m\u001b[0mstrftime\u001b[0m\u001b[0;34m(\u001b[0m\u001b[0;34m\"%Y-%m-%d\"\u001b[0m\u001b[0;34m)\u001b[0m\u001b[0;34m\u001b[0m\u001b[0;34m\u001b[0m\u001b[0m\n\u001b[1;32m     26\u001b[0m         \u001b[0mstend_date\u001b[0m \u001b[0;34m=\u001b[0m \u001b[0mend_date\u001b[0m\u001b[0;34m.\u001b[0m\u001b[0mstrftime\u001b[0m\u001b[0;34m(\u001b[0m\u001b[0;34m\"%Y-%m-%d\"\u001b[0m\u001b[0;34m)\u001b[0m\u001b[0;34m\u001b[0m\u001b[0;34m\u001b[0m\u001b[0m\n\u001b[0;32m---> 27\u001b[0;31m         \u001b[0moutput\u001b[0m\u001b[0;34m.\u001b[0m\u001b[0mappend\u001b[0m\u001b[0;34m(\u001b[0m\u001b[0;34m(\u001b[0m\u001b[0mstdate\u001b[0m\u001b[0;34m,\u001b[0m \u001b[0mstend_date\u001b[0m\u001b[0;34m,\u001b[0m \u001b[0mlocation\u001b[0m\u001b[0;34m,\u001b[0m \u001b[0mlen\u001b[0m\u001b[0;34m(\u001b[0m\u001b[0msub_seqs\u001b[0m\u001b[0;34m)\u001b[0m\u001b[0;34m,\u001b[0m \u001b[0mcalculate_jaccard_from_accessions\u001b[0m\u001b[0;34m(\u001b[0m\u001b[0msub_seqs\u001b[0m\u001b[0;34m)\u001b[0m\u001b[0;34m)\u001b[0m\u001b[0;34m)\u001b[0m\u001b[0;34m\u001b[0m\u001b[0;34m\u001b[0m\u001b[0m\n\u001b[0m\u001b[1;32m     28\u001b[0m \u001b[0;31m#         print(stdate, stend_date, location, len(sub_seqs))\u001b[0m\u001b[0;34m\u001b[0m\u001b[0;34m\u001b[0m\u001b[0;34m\u001b[0m\u001b[0m\n\u001b[1;32m     29\u001b[0m \u001b[0;31m#         break\u001b[0m\u001b[0;34m\u001b[0m\u001b[0;34m\u001b[0m\u001b[0;34m\u001b[0m\u001b[0m\n",
      "\u001b[0;32m<ipython-input-63-dcfcd1226e1f>\u001b[0m in \u001b[0;36mcalculate_jaccard_from_accessions\u001b[0;34m(accessions)\u001b[0m\n\u001b[1;32m     11\u001b[0m             \u001b[0msample_arr\u001b[0m\u001b[0;34m.\u001b[0m\u001b[0mappend\u001b[0m\u001b[0;34m(\u001b[0m\u001b[0mline_arr\u001b[0m\u001b[0;34m)\u001b[0m\u001b[0;34m\u001b[0m\u001b[0;34m\u001b[0m\u001b[0m\n\u001b[1;32m     12\u001b[0m     \u001b[0msample_arr\u001b[0m \u001b[0;34m=\u001b[0m \u001b[0mnp\u001b[0m\u001b[0;34m.\u001b[0m\u001b[0marray\u001b[0m\u001b[0;34m(\u001b[0m\u001b[0msample_arr\u001b[0m\u001b[0;34m)\u001b[0m\u001b[0;34m\u001b[0m\u001b[0;34m\u001b[0m\u001b[0m\n\u001b[0;32m---> 13\u001b[0;31m     \u001b[0mx\u001b[0m \u001b[0;34m=\u001b[0m \u001b[0mpdist\u001b[0m\u001b[0;34m(\u001b[0m\u001b[0msample_arr\u001b[0m\u001b[0;34m,\u001b[0m \u001b[0mposition_difference\u001b[0m\u001b[0;34m)\u001b[0m\u001b[0;34m\u001b[0m\u001b[0;34m\u001b[0m\u001b[0m\n\u001b[0m\u001b[1;32m     14\u001b[0m     \u001b[0;32mreturn\u001b[0m \u001b[0msum\u001b[0m\u001b[0;34m(\u001b[0m\u001b[0mx\u001b[0m\u001b[0;34m)\u001b[0m \u001b[0;34m/\u001b[0m \u001b[0mx\u001b[0m\u001b[0;34m.\u001b[0m\u001b[0mshape\u001b[0m\u001b[0;34m[\u001b[0m\u001b[0;36m0\u001b[0m\u001b[0;34m]\u001b[0m\u001b[0;34m\u001b[0m\u001b[0;34m\u001b[0m\u001b[0m\n",
      "\u001b[0;32m/apps/software/standard/compiler/gcc/9.2.0/jupyter_conda/2019.10-py3.7/lib/python3.7/site-packages/scipy/spatial/distance.py\u001b[0m in \u001b[0;36mpdist\u001b[0;34m(X, metric, *args, **kwargs)\u001b[0m\n\u001b[1;32m   2047\u001b[0m         \u001b[0;32mfor\u001b[0m \u001b[0mi\u001b[0m \u001b[0;32min\u001b[0m \u001b[0mxrange\u001b[0m\u001b[0;34m(\u001b[0m\u001b[0;36m0\u001b[0m\u001b[0;34m,\u001b[0m \u001b[0mm\u001b[0m \u001b[0;34m-\u001b[0m \u001b[0;36m1\u001b[0m\u001b[0;34m)\u001b[0m\u001b[0;34m:\u001b[0m\u001b[0;34m\u001b[0m\u001b[0;34m\u001b[0m\u001b[0m\n\u001b[1;32m   2048\u001b[0m             \u001b[0;32mfor\u001b[0m \u001b[0mj\u001b[0m \u001b[0;32min\u001b[0m \u001b[0mxrange\u001b[0m\u001b[0;34m(\u001b[0m\u001b[0mi\u001b[0m \u001b[0;34m+\u001b[0m \u001b[0;36m1\u001b[0m\u001b[0;34m,\u001b[0m \u001b[0mm\u001b[0m\u001b[0;34m)\u001b[0m\u001b[0;34m:\u001b[0m\u001b[0;34m\u001b[0m\u001b[0;34m\u001b[0m\u001b[0m\n\u001b[0;32m-> 2049\u001b[0;31m                 \u001b[0mdm\u001b[0m\u001b[0;34m[\u001b[0m\u001b[0mk\u001b[0m\u001b[0;34m]\u001b[0m \u001b[0;34m=\u001b[0m \u001b[0mmetric\u001b[0m\u001b[0;34m(\u001b[0m\u001b[0mX\u001b[0m\u001b[0;34m[\u001b[0m\u001b[0mi\u001b[0m\u001b[0;34m]\u001b[0m\u001b[0;34m,\u001b[0m \u001b[0mX\u001b[0m\u001b[0;34m[\u001b[0m\u001b[0mj\u001b[0m\u001b[0;34m]\u001b[0m\u001b[0;34m,\u001b[0m \u001b[0;34m**\u001b[0m\u001b[0mkwargs\u001b[0m\u001b[0;34m)\u001b[0m\u001b[0;34m\u001b[0m\u001b[0;34m\u001b[0m\u001b[0m\n\u001b[0m\u001b[1;32m   2050\u001b[0m                 \u001b[0mk\u001b[0m \u001b[0;34m=\u001b[0m \u001b[0mk\u001b[0m \u001b[0;34m+\u001b[0m \u001b[0;36m1\u001b[0m\u001b[0;34m\u001b[0m\u001b[0;34m\u001b[0m\u001b[0m\n\u001b[1;32m   2051\u001b[0m \u001b[0;34m\u001b[0m\u001b[0m\n",
      "\u001b[0;32m<ipython-input-63-dcfcd1226e1f>\u001b[0m in \u001b[0;36mposition_difference\u001b[0;34m(u, v)\u001b[0m\n\u001b[1;32m      1\u001b[0m \u001b[0;32mdef\u001b[0m \u001b[0mposition_difference\u001b[0m\u001b[0;34m(\u001b[0m\u001b[0mu\u001b[0m\u001b[0;34m,\u001b[0m \u001b[0mv\u001b[0m\u001b[0;34m)\u001b[0m\u001b[0;34m:\u001b[0m\u001b[0;34m\u001b[0m\u001b[0;34m\u001b[0m\u001b[0m\n\u001b[0;32m----> 2\u001b[0;31m     \u001b[0;32mreturn\u001b[0m \u001b[0msum\u001b[0m\u001b[0;34m(\u001b[0m\u001b[0mu\u001b[0m \u001b[0;34m==\u001b[0m \u001b[0mv\u001b[0m\u001b[0;34m)\u001b[0m \u001b[0;34m/\u001b[0m \u001b[0mu\u001b[0m\u001b[0;34m.\u001b[0m\u001b[0mshape\u001b[0m\u001b[0;34m[\u001b[0m\u001b[0;36m0\u001b[0m\u001b[0;34m]\u001b[0m\u001b[0;34m\u001b[0m\u001b[0;34m\u001b[0m\u001b[0m\n\u001b[0m\u001b[1;32m      3\u001b[0m \u001b[0;34m\u001b[0m\u001b[0m\n\u001b[1;32m      4\u001b[0m \u001b[0;32mdef\u001b[0m \u001b[0mcalculate_jaccard_from_accessions\u001b[0m\u001b[0;34m(\u001b[0m\u001b[0maccessions\u001b[0m\u001b[0;34m)\u001b[0m\u001b[0;34m:\u001b[0m\u001b[0;34m\u001b[0m\u001b[0;34m\u001b[0m\u001b[0m\n\u001b[1;32m      5\u001b[0m     \u001b[0msample_arr\u001b[0m \u001b[0;34m=\u001b[0m \u001b[0;34m[\u001b[0m\u001b[0;34m]\u001b[0m\u001b[0;34m\u001b[0m\u001b[0;34m\u001b[0m\u001b[0m\n",
      "\u001b[0;31mKeyboardInterrupt\u001b[0m: "
     ]
    }
   ],
   "source": [
    "top_k = 10\n",
    "top_k_sequenced_us = metadata[metadata.country == \"USA\"].Location_3.value_counts()[:top_k].index\n",
    "top_state_county = []\n",
    "for i in top_k_sequenced_us:\n",
    "    top_state = metadata[(metadata.country == \"USA\") & (metadata.Location_3 == i)].state.value_counts().index[0]\n",
    "    top_state_county.append((top_state, i))\n",
    "\n",
    "output = []\n",
    "for state, location in top_state_county:\n",
    "    print(location)\n",
    "        \n",
    "    location_metadata = metadata[(metadata.country == \"USA\") & (metadata.state == state) & (metadata.Location_3 == location)]\n",
    "    location_metadata = location_metadata[[\"Accession ID\", \"Collection date\"]]\n",
    "    location_metadata.columns = [\"seq\", \"date\"]\n",
    "    location_metadata = location_metadata.dropna()\n",
    "    \n",
    "    date_window = 7\n",
    "    date_step_size = 7\n",
    "\n",
    "    for date in tqdm(pd.date_range(location_metadata.date.min(), location_metadata.date.max(), freq=f\"{date_step_size}D\")):\n",
    "        end_date = date + np.timedelta64(date_window - 1, 'D')\n",
    "        sub_seqs = location_metadata[(location_metadata.date >= date) & (location_metadata.date <= end_date)].seq\n",
    "        sub_seqs = [s for s in sub_seqs if s in msadb]\n",
    "        experiment_name = f\"window_{date_window}_step_{date_step_size}\"\n",
    "        stdate = date.strftime(\"%Y-%m-%d\")\n",
    "        stend_date = end_date.strftime(\"%Y-%m-%d\")\n",
    "        output.append((stdate, stend_date, location, len(sub_seqs), calculate_jaccard_from_accessions(sub_seqs)))\n",
    "#         print(stdate, stend_date, location, len(sub_seqs))\n",
    "#         break\n",
    "#     break"
   ]
  }
 ],
 "metadata": {
  "kernelspec": {
   "display_name": "Python 3",
   "language": "python",
   "name": "python3"
  },
  "language_info": {
   "codemirror_mode": {
    "name": "ipython",
    "version": 3
   },
   "file_extension": ".py",
   "mimetype": "text/x-python",
   "name": "python",
   "nbconvert_exporter": "python",
   "pygments_lexer": "ipython3",
   "version": "3.8.8"
  }
 },
 "nbformat": 4,
 "nbformat_minor": 4
}
