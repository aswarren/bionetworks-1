{
 "cells": [
  {
   "cell_type": "code",
   "execution_count": 1,
   "metadata": {},
   "outputs": [],
   "source": [
    "import pandas as pd\n",
    "import numpy as np\n",
    "import subprocess\n",
    "import gffutils\n",
    "import screed\n",
    "from screed import ScreedDB\n",
    "from Bio.Seq import Seq\n",
    "import re\n",
    "import sys\n",
    "sys.path.append('/scratch/jho5ze/bionets/covid/scripts')\n",
    "import entropy_utils as eu\n",
    "import networkx as nx"
   ]
  },
  {
   "cell_type": "code",
   "execution_count": 2,
   "metadata": {},
   "outputs": [
    {
     "name": "stderr",
     "output_type": "stream",
     "text": [
      "/apps/software/standard/compiler/gcc/9.2.0/jupyter_conda/2019.10-py3.7/lib/python3.7/site-packages/IPython/core/interactiveshell.py:3063: DtypeWarning: Columns (13,16) have mixed types.Specify dtype option on import or set low_memory=False.\n",
      "  interactivity=interactivity, compiler=compiler, result=result)\n"
     ]
    }
   ],
   "source": [
    "metadata = pd.read_csv(\"../data/metadata_2021_04_08.tsv\", sep=\"\\t\", parse_dates = [\"Collection date\", \"Submission date\"])\n",
    "\n",
    "metadata = metadata[[\"Accession ID\", \\\n",
    "                   \"Collection date\", \\\n",
    "                   \"Submission date\", \\\n",
    "                   \"Location\", \\\n",
    "                   \"Additional location information\", \\\n",
    "                   \"Sequence length\", \\\n",
    "                   \"Host\", \\\n",
    "                   \"AA Substitutions\", \\\n",
    "                   \"Is reference?\"]]\n",
    "def get_nth_slash(row, n):\n",
    "    try:\n",
    "        return row.split(\"/\")[n].strip()\n",
    "    except:\n",
    "        return np.nan\n",
    "    \n",
    "for i in range(4):\n",
    "    metadata[f\"Location_{i}\"] = metadata[\"Location\"].apply(lambda row: get_nth_slash(row, i))\n",
    "metadata = metadata.rename(columns={\"Location_1\":\"country\", \"Location_2\":\"state\"})"
   ]
  },
  {
   "cell_type": "code",
   "execution_count": 18,
   "metadata": {},
   "outputs": [],
   "source": [
    "msadb = ScreedDB(\"../data/msa_0408/usa_msa_0408.fasta\")"
   ]
  },
  {
   "cell_type": "code",
   "execution_count": 7,
   "metadata": {},
   "outputs": [],
   "source": [
    "orig_orfs = []\n",
    "for line in open(\"../data/GCF_009858895.2_ASM985889v3_genomic.gff\").readlines():\n",
    "    line = line.strip().split()\n",
    "    if len(line) < 5:\n",
    "        continue\n",
    "    if line[2] == \"CDS\":\n",
    "        orig_orfs.append((int(line[3]), int(line[4])))\n",
    "\n",
    "orfs = sorted(orig_orfs, key = lambda tup: tup[1], reverse=True)[:-1] #Last one is just a truncated version of the second to last one"
   ]
  },
  {
   "cell_type": "code",
   "execution_count": 19,
   "metadata": {},
   "outputs": [
    {
     "data": {
      "text/plain": [
       "[(29558, 29674),\n",
       " (28274, 29533),\n",
       " (27894, 28259),\n",
       " (27756, 27887),\n",
       " (27394, 27759),\n",
       " (27202, 27387),\n",
       " (26523, 27191),\n",
       " (26245, 26472),\n",
       " (25393, 26220),\n",
       " (21563, 25384),\n",
       " (13468, 21555),\n",
       " (266, 13483)]"
      ]
     },
     "execution_count": 19,
     "metadata": {},
     "output_type": "execute_result"
    }
   ],
   "source": [
    "orfs"
   ]
  },
  {
   "cell_type": "code",
   "execution_count": 20,
   "metadata": {},
   "outputs": [
    {
     "data": {
      "text/plain": [
       "[(29558, 29674),\n",
       " (28274, 29533),\n",
       " (27894, 28259),\n",
       " (27756, 27887),\n",
       " (27394, 27759),\n",
       " (27202, 27387),\n",
       " (26523, 27191),\n",
       " (26245, 26472),\n",
       " (25393, 26220),\n",
       " (21563, 25384),\n",
       " (13468, 21555),\n",
       " (266, 13483)]"
      ]
     },
     "execution_count": 20,
     "metadata": {},
     "output_type": "execute_result"
    }
   ],
   "source": [
    "\n",
    "t"
   ]
  },
  {
   "cell_type": "code",
   "execution_count": 8,
   "metadata": {},
   "outputs": [],
   "source": [
    "# char_count = 0\n",
    "# orf_pos_ix = 0\n",
    "# with open(\"../data/msa_0408/reference_msa.txt\") as src:\n",
    "#     line = src.readlines()[0]\n",
    "#     for ix, char in enumerate(line):\n",
    "#         ix += 1\n",
    "#         if char == \"-\":\n",
    "#             continue\n",
    "                \n",
    "#         else:\n",
    "#             char_count += 1\n",
    "#             if char_count == orf_pos[orf_pos_ix]:\n",
    "#                 corrected_orf_pos.append(ix)\n",
    "#                 orf_pos_ix += 1\n",
    "#                 if orf_pos_ix == len(orf_pos):\n",
    "#                     break\n"
   ]
  },
  {
   "cell_type": "code",
   "execution_count": 9,
   "metadata": {},
   "outputs": [],
   "source": [
    "orf_pos = [i for tup in orfs for i in tup]\n",
    "corrected_orf_pos = []"
   ]
  },
  {
   "cell_type": "code",
   "execution_count": 10,
   "metadata": {},
   "outputs": [
    {
     "data": {
      "text/plain": [
       "[]"
      ]
     },
     "execution_count": 10,
     "metadata": {},
     "output_type": "execute_result"
    }
   ],
   "source": [
    "[(corrected_orf_pos[i], corrected_orf_pos[i+1]) for i in range(0, len(corrected_orf_pos), 2)]"
   ]
  },
  {
   "cell_type": "code",
   "execution_count": 56,
   "metadata": {},
   "outputs": [],
   "source": [
    "with open(\"../data/msa_0408/reference_msa.txt\") as src:\n",
    "    reference_line = src.readlines()[0]\n",
    "    \n",
    "def match_line_to_reference(line):\n",
    "    with open(\"/scratch/jho5ze/bionets/covid/data/msa_0408/reference_msa.txt\") as src:\n",
    "        reference_line = src.readlines()[0]\n",
    "    processed_line = \"\"\n",
    "    for ix, char in enumerate(line):\n",
    "        if reference_line[ix] != \"-\":\n",
    "            processed_line += char\n",
    "    return processed_line\n",
    "\n",
    "def translate_line(line):\n",
    "    get_dash = re.compile(\"-+\")\n",
    "    dashes = get_dash.findall(line)\n",
    "    if dashes and min([len(i)%3 == 0 for i in dashes]) == False: #Some dash stretch is not divisible by 3\n",
    "        return \"NOPE\"\n",
    "    else:\n",
    "        dashes.append(\"\") #so we don't run out of next \"-\" stretches in the loop below\n",
    "        aa_line = \"\"\n",
    "        if line[0] == \"-\":\n",
    "            aa_line += \"-\" * (len(dashes[0])//3)\n",
    "            dashes.pop(0)\n",
    "        for ix, nas in enumerate([i for i in get_dash.split(line) if i != \"\"]):\n",
    "            aa_line += str(Seq(nas).translate())\n",
    "            aa_line += \"-\" * (len(dashes[ix])//3)\n",
    "        return aa_line\n",
    "    \n",
    "def translate_record(record):\n",
    "    orfs = [(29558, 29674), \\\n",
    "            (28274, 29533), \\\n",
    "            (27894, 28259), \\\n",
    "            (27756, 27887), \\\n",
    "            (27394, 27759), \\\n",
    "            (27202, 27387), \\\n",
    "            (26523, 27191), \\\n",
    "            (26245, 26472), \\\n",
    "            (25393, 26220), \\\n",
    "            (21563, 25384), \\\n",
    "            (13468, 21555), \\\n",
    "            (266, 13483)]\n",
    "    aa_seqs = []\n",
    "    if type(record) == str:\n",
    "        record_seq = match_line_to_reference(record)\n",
    "    else:\n",
    "        record_seq = match_line_to_reference(str(record[\"sequence\"]))\n",
    "    for start, stop in orfs:\n",
    "        start -= 1 #1 based indexing from the preprocessing of orfs (from the GFF file)\n",
    "        segment = record_seq[start:stop]\n",
    "        aa_seqs.append(translate_line(segment))\n",
    "    return \"\".join(aa_seqs)"
   ]
  },
  {
   "cell_type": "code",
   "execution_count": 30,
   "metadata": {},
   "outputs": [],
   "source": [
    "reference_aas = translate_record(reference_line)"
   ]
  },
  {
   "cell_type": "code",
   "execution_count": 58,
   "metadata": {},
   "outputs": [],
   "source": [
    "test_ids = metadata[(metadata.state == \"Texas\") &(metadata.Location_3 == \"Houston\")][\"Accession ID\"].to_numpy()[:10000]\n",
    "test_records = [msadb[test_id] for test_id in test_ids]"
   ]
  },
  {
   "cell_type": "code",
   "execution_count": 59,
   "metadata": {},
   "outputs": [
    {
     "name": "stderr",
     "output_type": "stream",
     "text": [
      "/home/jho5ze/.local/lib/python3.7/site-packages/Bio/Seq.py:2859: BiopythonWarning: Partial codon, len(sequence) not a multiple of three. Explicitly trim the sequence or add trailing N before translation. This may become an error in future.\n",
      "  BiopythonWarning,\n"
     ]
    },
    {
     "data": {
      "text/plain": [
       "300"
      ]
     },
     "execution_count": 59,
     "metadata": {},
     "output_type": "execute_result"
    }
   ],
   "source": [
    "records_aas = []\n",
    "nopes = 0\n",
    "for ix, record in enumerate(test_records):\n",
    "#     records_aas.append(f\">{record['name']}\")\n",
    "#     records_aas.append(translate_record(record))\n",
    "    if \"NOPE\" in translate_record(record):\n",
    "        nopes += 1\n",
    "nopes"
   ]
  },
  {
   "cell_type": "code",
   "execution_count": 44,
   "metadata": {},
   "outputs": [
    {
     "name": "stdout",
     "output_type": "stream",
     "text": [
      ">reference\n",
      "EDLKFPRGQGVPINTNSSPD\n",
      ">EPI_ISL_542487\n",
      "EDLKFPRGQGVPINTNSSPD\n",
      ">EPI_ISL_542488\n",
      "EDLKFPRGQGVPINTNSSPD\n",
      ">EPI_ISL_542489\n",
      "EDLKFPRGQGVPINTNSSPD\n",
      ">EPI_ISL_542490\n",
      "EDLKFPRGQGVPINTNSSPD\n",
      ">EPI_ISL_542491\n",
      "EDLKFPRGQGVPINTNSSPD\n",
      ">EPI_ISL_542492\n",
      "ENLKFPRGQGVPINTNSSPD\n",
      ">EPI_ISL_542493\n",
      "EDLKFPRGQGVPINTNSSPD\n",
      ">EPI_ISL_542494\n",
      "EDLKFPRGQGVPINTNSSPD\n",
      ">EPI_ISL_542495\n",
      "EDLKFPRGQGVPINTNSSPD\n",
      ">EPI_ISL_542496\n",
      "EDLKFPRGQGVPINTNSSPD\n"
     ]
    }
   ],
   "source": [
    "for i in [\">reference\", reference_aas] + records_aas:\n",
    "    if \">\" in i:\n",
    "        print(i)\n",
    "    else:\n",
    "        print(i[100:120])"
   ]
  },
  {
   "cell_type": "code",
   "execution_count": 53,
   "metadata": {},
   "outputs": [
    {
     "name": "stdout",
     "output_type": "stream",
     "text": [
      "145\n"
     ]
    }
   ],
   "source": [
    "print(len(collapsed.nodes))"
   ]
  },
  {
   "cell_type": "code",
   "execution_count": 47,
   "metadata": {},
   "outputs": [
    {
     "name": "stdout",
     "output_type": "stream",
     "text": [
      "{'genomes': ['EPI_ISL_542487', 'EPI_ISL_542488', 'EPI_ISL_542489', 'EPI_ISL_542490', 'EPI_ISL_542491', 'EPI_ISL_542492', 'EPI_ISL_542493', 'EPI_ISL_542494', 'EPI_ISL_542495', 'EPI_ISL_542496'], 'sequence': 'LKFPRGQGVPINTNSSPDDQIGYYRRATRRIRGGDGKMKDLSPRWYFYYLGTGPEAGLPYGANKDGIIWVATEGALNTPKDHIGTRNPANNAAIVLQLPQGTTLPKGFYAEGSRGGSQASSRSSSRSRNSSRNSTPGSS', 'num_genomes': 10}\n"
     ]
    }
   ],
   "source": [
    "print(collapsed.nodes()[\"102_L\"])"
   ]
  },
  {
   "cell_type": "code",
   "execution_count": 4,
   "metadata": {},
   "outputs": [
    {
     "data": {
      "image/png": "[encoded data removed]",
      "text/plain": [
       "<Figure size 432x288 with 1 Axes>"
      ]
     },
     "metadata": {},
     "output_type": "display_data"
    }
   ],
   "source": [
    "graph, genomes = eu.generate_nx_from_msa(test_ids[:10], aa_level=True)\n",
    "collapsed = eu.collapse_graph(graph)\n"
   ]
  },
  {
   "cell_type": "code",
   "execution_count": 16,
   "metadata": {},
   "outputs": [
    {
     "data": {
      "image/png": "[encoded data removed]",
      "text/plain": [
       "<Figure size 432x288 with 1 Axes>"
      ]
     },
     "metadata": {},
     "output_type": "display_data"
    }
   ],
   "source": [
    "nx.draw(collapsed, with_labels=True)"
   ]
  },
  {
   "cell_type": "code",
   "execution_count": 17,
   "metadata": {},
   "outputs": [],
   "source": [
    "def msa_from_screed_ids(ids): \n",
    "    for seq_id in ids:\n",
    "        record = msadb[seq_id]\n",
    "        name = \">\"+record[\"name\"]\n",
    "        sequence = str(record[\"sequence\"])\n",
    "        yield name\n",
    "        yield sequence\n"
   ]
  },
  {
   "cell_type": "code",
   "execution_count": 18,
   "metadata": {},
   "outputs": [
    {
     "name": "stdout",
     "output_type": "stream",
     "text": [
      ">EPI_ISL_542487\n",
      "----------\n",
      ">EPI_ISL_542488\n",
      "----------\n",
      ">EPI_ISL_542489\n",
      "----------\n",
      ">EPI_ISL_542490\n",
      "----------\n",
      ">EPI_ISL_542491\n",
      "----------\n",
      ">EPI_ISL_542492\n",
      "----------\n",
      ">EPI_ISL_542493\n",
      "----------\n",
      ">EPI_ISL_542494\n",
      "----------\n",
      ">EPI_ISL_542495\n",
      "----------\n",
      ">EPI_ISL_542496\n",
      "----------\n"
     ]
    }
   ],
   "source": [
    "for i in msa_from_screed_ids(test_ids[:10]):\n",
    "    print(i)"
   ]
  },
  {
   "cell_type": "code",
   "execution_count": 24,
   "metadata": {},
   "outputs": [],
   "source": [
    "records_aas = []\n",
    "for ix, record in enumerate(test_records):\n",
    "    records_aas.append(f\">{record['name']}\")\n",
    "    records_aas.append(translate_record(record))\n"
   ]
  },
  {
   "cell_type": "code",
   "execution_count": 32,
   "metadata": {},
   "outputs": [],
   "source": [
    "AA_alphabet = \n"
   ]
  },
  {
   "cell_type": "code",
   "execution_count": 33,
   "metadata": {},
   "outputs": [],
   "source": [
    "houston_10000_aas = \"\\n\".join(records_aas)\n",
    "graph, genomes = es.generate_nx_from_msa(houston_10000_aas, accepted_letters=AA_alphabet)"
   ]
  },
  {
   "cell_type": "code",
   "execution_count": 34,
   "metadata": {},
   "outputs": [
    {
     "data": {
      "image/png": "[encoded data removed]",
      "text/plain": [
       "<Figure size 432x288 with 1 Axes>"
      ]
     },
     "metadata": {},
     "output_type": "display_data"
    }
   ],
   "source": [
    "nx.draw(graph, with_labels=True)"
   ]
  },
  {
   "cell_type": "code",
   "execution_count": 194,
   "metadata": {},
   "outputs": [
    {
     "data": {
      "text/plain": [
       "('MGYINVFAFPFTIYSLLLCRMNSRNYIAQVDVVNFNLT*',\n",
       " 'MGYINVFAFPFTIYSLLLCRMNSRNYIAQVDVVNFNLT*',\n",
       " 'MGYINVFAFPFTIYSLLLCRMNSRNYIAQVDVVNFNLT*',\n",
       " 'MGYINVFAFPFTIYSLLLCRMNSRNYIAQVDVVNFNLT*',\n",
       " 'MGYINVFAFPFTIYSLLLCRMNSRNYIAQVDVVNFNLT*',\n",
       " 'MGYINVFAFPFTIYSLLLCRMNSRNYIAQVDVVNFNLT*',\n",
       " 'MGYINVFAFPFTIYSLLLCRMNSRNYIAQVDVVNFNLT*',\n",
       " 'MGYINVFAFPFTIYSLLLCRMNSRNYIAQVDVVNFNLT*',\n",
       " 'MGYINVFAFPFTIYSLLLCRMNSRNYIAQVDVVNFNLT*',\n",
       " 'MGYINVFAFPFTIYSLLLCRMNSRNYIAQVDVVNFNLT*',\n",
       " 'MGYINVFAFPFTIYSLLLCRMNSRNYIAQVDVVNFNLT*',\n",
       " 'MGYINVFAFPFTIYSLLLCRMNSRNYIAQVDVVNFNLT*',\n",
       " 'MGYINVFAFPFTIYSLLLCRMNSRNYIAQVDVVNFNLT*',\n",
       " 'MGYINVFAFPFTIYSLLLCRMNSRNYIAQVDVVNFNLT*',\n",
       " 'MGYINVFAFPFTIYSLLLCRMNSRNYIAQVDVVNFNLT*',\n",
       " 'MGYINVFAFPFTIYSLLLCRMNSRNYIAQVDVVNFNLT*',\n",
       " 'MGYINVFAFPFTIYSLLLCRMNSRNYIAQVDVVNFNLT*',\n",
       " 'MGYINVFAFPFTIYSLLLCRMNSRNYIAQVDVVNFNLT*',\n",
       " 'MGYINVFAFPFTIYSLLLCRMNSRNYIAQVDVVNFNLT*',\n",
       " 'MGYINVFAFPFTIYSLLLCRMNSRNYIAQVDVVNFNLT*',\n",
       " 'MGYINVFAFPFTIYSLLLCRMNSRNYIAQVDVVNFNLT*',\n",
       " 'MGYINVFAFPFTIYSLLLCRMNSRNYIAQVDVVNFNLT*',\n",
       " 'MGYINVFAFPFTIYSLLLCRMNSRNYIAQVDVVNFNLT*',\n",
       " 'MGYINVFAFPFTIYSLLLCRMNSRNYIAQVDVVNFNLT*',\n",
       " 'MGYINVFAFPFTIYSLLLCRMNSRNYIAQVDVVNFNLT*',\n",
       " 'MGYINVFAFPFTIYSLLLCRMNSRNYIAQVDVVNFNLT*',\n",
       " 'MGYINVFAFPFTIYSLLLCRMNSRNYIAQVDVVNFNLT*',\n",
       " 'MGYINVFAFPFTIYSLLLCRMNSRNYIAQVDVVNFNLT*',\n",
       " 'MGYINVFAFPFTIYSLLLCRMNSRNYIAQVDVVNFNLT*',\n",
       " 'MGYINVFAFPFTIYSLLLCRMNSRNYIAQVDVVNFNLT*',\n",
       " 'MGYINVFAFPFTIYSLLLCRMNSRNYIAQVDVVNFNLT*',\n",
       " 'MGYINVFAFPFTIYSLLLCRMNSRNYIAQVDVVNFNLT*',\n",
       " 'MGYINVFAFPFTIYSLLLCRMNSRNYIAQVDVVNFNLT*',\n",
       " 'MGYINVFAFPFTIYSLLLCRMNSRNYIAQVDVVNFNLT*',\n",
       " 'MGYINVFAFPFTIYSLLLCRMNSRNYIAQVDVVNFNLT*',\n",
       " 'MGYINVFAFPFTIYSLLLCRMNSRNYIAQVDVVNFNLT*',\n",
       " 'MGYINVFAFPFTIYSLLLCRMNSRNYIAQVDVVNFNLT*',\n",
       " 'MGYINVFAFPFTIYSLLLCRMNSRNYIAQVDVVNFNLT*',\n",
       " 'MGYINVFAFPFTIYSLLLCRMNSRNYIAQVDVVNFNLT*',\n",
       " 'MGYINVFAFPFTIYSLLLCRMNSRNYIAQVDVVNFNLT*',\n",
       " 'MGYINVFAFPFTIYSLLLCRMNSRNYIAQVDVVNFNLT*',\n",
       " 'MGYINVFAFPFTIYSLLLCRMNSRNYIAQVDVVNFNLT*',\n",
       " 'MGYINVFAFPFTIYSLLLCRMNSRNYIAQVDVVNFNLT*',\n",
       " 'MGYINVFAFPFTIYSLLLCRMNSRNYIAQVDVVNFNLT*',\n",
       " 'MGYINVFAFPFTIYSLLLCRMNSRNYIAQVDVVNFNLT*',\n",
       " 'MGYINVFAFPFTIYSLLLCRMNSRNYIAQVDVVNFNLT*',\n",
       " 'MGYINVFAFPFTIYSLLLCRMNSRNYIAQVDVVNFNLT*',\n",
       " 'MGYINVFAFPFTIYSLLLCRMNSRNYIAQVDVVNFNLT*',\n",
       " 'MGYINVFAFPFTIYSLLLCRMNSRNYIAQVDVVNFNLT*',\n",
       " 'MGYINVFAFPFTIYSLLLCRMNSRNYIAQVDVVNFNLT*',\n",
       " 'MGYINVFAFPFTIYSLLLCRMNSRNYIAQVDVVNFNLT*',\n",
       " 'MGYINVFAFPFTIYSLLLCRMNSRNYIAQVDVVNFNLT*',\n",
       " 'MGYINVFAFPFTIYSLLLCRMNSRNYIAQVDVVNFNLT*',\n",
       " 'MGYINVFAFPFTIYSLLLCRMNSRNYIAQVDVVNFNLT*',\n",
       " 'MGYINVFAFPFTIYSLLLCRMNSRNYIAQVDVVNFNLT*',\n",
       " 'MGYINVFAFPFTIYSLLLCRMNSRNYIAQVDVVNFNLT*',\n",
       " 'MGYINVFAFPFTIYSLLLCRMNSRNYIAQVDVVNFNLT*',\n",
       " 'MGYINVFAFPFTIYSLLLCRMNSRNYIAQVDVVNFNLT*',\n",
       " 'MGYINVFAFPFTIYSLLLCRMNSRNYIAQVDVVNFNLT*',\n",
       " 'MGYINVFAFPFTIYSLLLCRMNSRNYIAQVDVVNFNLT*',\n",
       " 'MGYINVFAFPFTIYSLLLCRMNSRNYIAQVDVVNFNLT*',\n",
       " 'MGYINVFAFPFTIYSLLLCRMNSRNYIAQVDVVNFNLT*',\n",
       " 'MGYINVFAFPFTIYSLLLCRMNSRNYIAQVDVVNFNLT*',\n",
       " 'MGYINVFAFPFTIYSLLLCRMNSRNYIAQVDVVNFNLT*',\n",
       " 'MGYINVFAFPFTIYSLLLCRMNSRNYIAQVDVVNFNLT*',\n",
       " 'MGYINVFAFPFTIYSLLLCRMNSRNYIAQVDVVNFNLT*',\n",
       " 'MGYINVFAFPFTIYSLLLCRMNSRNYIAQVDVVNFNLT*',\n",
       " 'MGYINVFAFPFTIYSLLLCRMNSRNYIAQVDVVNFNLT*',\n",
       " 'MGYINVFAFPFTIYSLLLCRMNSRNYIAQVDVVNFNLT*',\n",
       " 'MGYINVFAFPFTIYSLLLCRMNSRNYIAQVDVVNFNLT*',\n",
       " 'MGYINVFAFPFTIYSLLLCRMNSRNYIAQVDVVNFNLT*',\n",
       " 'MGYINVFAFPFTIYSLLLCRMNSRNYIAQVDVVNFNLT*',\n",
       " 'MGYINVFAFPFTIYSLLLCRMNSRNYIAQVDVVNFNLT*',\n",
       " 'MGYINVFAFPFTIYSLLLCRMNSRNYIAQVDVVNFNXXX',\n",
       " 'MGYINVFAFPFTIYSLLLCRMNSRNYIAQVDVVNFNLT*',\n",
       " 'MGYINVFAFPFTIYSLLLCRMNSRNYIAQVDVVNFNLT*',\n",
       " 'MGYINVFAFPFTIYSLLLCRMNSRNYIAQVDVVNFNLT*',\n",
       " 'MGYINVFAFPFTIYSLLLCRMNSRNYIAQVDVVNFNLT*',\n",
       " 'MGYINVFAFPFTIYSLLLCRMNSRNYIAQVDVVNFNLT*',\n",
       " 'MGYINVFAFPFTIYSLLLCRMNSRNYIAQVDVVNFNLT*',\n",
       " 'MGYINVFAFPFTIYSLLLCRMNSRNYIAQVDVVNFNLT*',\n",
       " 'MGYINVFAFPFTIYSLLLCRMNSRNYIAQVDVVNFNLT*',\n",
       " 'MGYINVFAFPFTIYSLLLCRMNSRNYIAQVDVVNFN---',\n",
       " 'MGYINVFAFPFTIYSLLLCRMNSRNYIAQVDVVNFNLT*',\n",
       " 'MGYINVFAFPFTIYSLLLCRMNSRNYIAQVDVVNFNLT*',\n",
       " 'MGYINVFAFPFTIYSLLLCRMNSRNYIAQVDVVNFNLT*',\n",
       " 'MGYINVFAFPFTIYSLLLCRMNSRNYIAQVDVVNFNLT*',\n",
       " 'MGYINVFAFPFTIYSLLLCRMNSRNYIAQVDVVNFNLT*',\n",
       " 'MGYINVFAFPFTIYSLLLCRMNSRNYIAQVDVVNFNLT*',\n",
       " 'MGYINVFAFPFTIYSLLLCRMNSRNYIAQVDVVNFNLT*',\n",
       " 'MGYINVFAFPFTIYSLLLCRMNSRNYIAQVDVVNFNLT*',\n",
       " 'MGYINVFAFPFTIYSLLLCRMNSRNYIAQVDVVNFNLT*',\n",
       " 'MGYINVFAFPFTIYSLLLCRMNSRNYIAQVDVVNFNLT*',\n",
       " 'MGYINVFAFPFTIYSLLLCRMNSRNYIAQVDVVNFNLT*',\n",
       " 'MGYINVFAFPFTIYSLLLCRMNSRNYIAQVDVVNFNLT*',\n",
       " 'MGYINVFAFPFTIYSLLLCRMNSRNYIAQVDVVNFNLT*',\n",
       " 'MGYINVFAFPFTIYSLLLCRMNSRNYIAQVDVVNFNLT*',\n",
       " 'MGYINVFAFPFTIYSLLLCRMNSRNYIAQVDVVNFNLT*',\n",
       " 'MGYINVFAFPFTIYSLLLCRMNSRNYIAQVDVVNFNLT*',\n",
       " 'MGYINVFAFPFTIYSLLLCRMNSRNYIAQVDVVNFNLT*')"
      ]
     },
     "execution_count": 194,
     "metadata": {},
     "output_type": "execute_result"
    }
   ],
   "source": [
    "grouped_aas = list(zip(*records_aas))\n",
    "grouped_aas[0][:100]"
   ]
  },
  {
   "cell_type": "code",
   "execution_count": null,
   "metadata": {},
   "outputs": [],
   "source": [
    "records_aas"
   ]
  },
  {
   "cell_type": "code",
   "execution_count": 129,
   "metadata": {},
   "outputs": [
    {
     "data": {
      "text/plain": [
       "False"
      ]
     },
     "execution_count": 129,
     "metadata": {},
     "output_type": "execute_result"
    }
   ],
   "source": [
    "t = \"AT-G--FAFAFASD------asdADADSad\"\n",
    "get_dash = re.compile(\"-+\")\n",
    "min([len(i)%3 == 0 for i in get_dash.findall(t)])"
   ]
  },
  {
   "cell_type": "code",
   "execution_count": 132,
   "metadata": {},
   "outputs": [
    {
     "data": {
      "text/plain": [
       "['AT', 'G', 'FAFAFASD', 'asdADADSad']"
      ]
     },
     "execution_count": 132,
     "metadata": {},
     "output_type": "execute_result"
    }
   ],
   "source": [
    "get_dash.split(t)"
   ]
  },
  {
   "cell_type": "code",
   "execution_count": 123,
   "metadata": {},
   "outputs": [
    {
     "data": {
      "text/plain": [
       "Seq('TFDLL*ICSLNEL*NLCGCHSAACLVHSRSIINN*LLSLTGHE*LVYLLQAAYG...KKK', HasStopCodon(ExtendedIUPACProtein(), '*'))"
      ]
     },
     "execution_count": 123,
     "metadata": {},
     "output_type": "execute_result"
    }
   ],
   "source": [
    "test = match_line_to_reference(str(test_records[3][\"sequence\"]))\n"
   ]
  },
  {
   "cell_type": "code",
   "execution_count": 6,
   "metadata": {},
   "outputs": [],
   "source": [
    "sum_real_chars = 0\n",
    "sum_interval_lens = 0\n",
    "with open(\"../data/msa_0408/reference_msa.txt\") as src:\n",
    "    intervals = []\n",
    "    line = src.readlines()[0]\n",
    "    interval_len = 0\n",
    "    interval_pos = -1\n",
    "    for ix, char in enumerate(line):\n",
    "        ix += 1\n",
    "        if char == \"-\":\n",
    "            if interval_pos != -1:\n",
    "                sum_interval_lens += interval_len\n",
    "                intervals.append((interval_pos, interval_len))\n",
    "                interval_len = 0\n",
    "                interval_pos = -1\n",
    "                \n",
    "        else:\n",
    "            sum_real_chars += 1\n",
    "            if interval_pos == -1:\n",
    "                interval_pos = ix\n",
    "            interval_len += 1\n",
    "    \n",
    "    if interval_pos != -1:\n",
    "        sum_interval_lens += interval_len\n",
    "        intervals.append((interval_pos, interval_len))\n",
    "            \n",
    "#     print(intervals)"
   ]
  },
  {
   "cell_type": "code",
   "execution_count": null,
   "metadata": {},
   "outputs": [],
   "source": [
    "\"awk '/^>/{print $1} !/^>/{print \" + \" \".join([f\"substr($0, {i[0]}, {i[1]})\" for i in intervals]) + \"}'\""
   ]
  },
  {
   "cell_type": "code",
   "execution_count": 3,
   "metadata": {},
   "outputs": [
    {
     "name": "stderr",
     "output_type": "stream",
     "text": [
      "/apps/software/standard/compiler/gcc/9.2.0/jupyter_conda/2019.10-py3.7/lib/python3.7/site-packages/IPython/core/interactiveshell.py:3063: DtypeWarning: Columns (13,16) have mixed types.Specify dtype option on import or set low_memory=False.\n",
      "  interactivity=interactivity, compiler=compiler, result=result)\n"
     ]
    }
   ],
   "source": [
    "metadata = pd.read_csv(\"../data/metadata_2021_04_08.tsv\", sep=\"\\t\", parse_dates = [\"Collection date\", \"Submission date\"])"
   ]
  },
  {
   "cell_type": "code",
   "execution_count": 4,
   "metadata": {},
   "outputs": [
    {
     "data": {
      "text/plain": [
       "Index(['Virus name', 'Type', 'Accession ID', 'Collection date', 'Location',\n",
       "       'Additional location information', 'Sequence length', 'Host',\n",
       "       'Patient age', 'Gender', 'Clade', 'Pango lineage', 'Pangolin version',\n",
       "       'Variant', 'AA Substitutions', 'Submission date', 'Is reference?',\n",
       "       'Is complete?', 'Is high coverage?', 'Is low coverage?', 'N-Content',\n",
       "       'GC-Content'],\n",
       "      dtype='object')"
      ]
     },
     "execution_count": 4,
     "metadata": {},
     "output_type": "execute_result"
    }
   ],
   "source": [
    "metadata.columns"
   ]
  },
  {
   "cell_type": "code",
   "execution_count": 14,
   "metadata": {},
   "outputs": [],
   "source": [
    "metadata[\"aa_sub_len\"] = metadata[\"AA Substitutions\"].apply(lambda row: len(str(row).split(\",\")))"
   ]
  },
  {
   "cell_type": "code",
   "execution_count": 16,
   "metadata": {},
   "outputs": [
    {
     "data": {
      "text/plain": [
       "14.777207618015215"
      ]
     },
     "execution_count": 16,
     "metadata": {},
     "output_type": "execute_result"
    }
   ],
   "source": [
    "metadata[\"aa_sub_len\"].mean()"
   ]
  },
  {
   "cell_type": "code",
   "execution_count": 114,
   "metadata": {},
   "outputs": [
    {
     "name": "stderr",
     "output_type": "stream",
     "text": [
      "/apps/software/standard/compiler/gcc/9.2.0/jupyter_conda/2019.10-py3.7/lib/python3.7/site-packages/ipykernel_launcher.py:17: SettingWithCopyWarning: \n",
      "A value is trying to be set on a copy of a slice from a DataFrame.\n",
      "Try using .loc[row_indexer,col_indexer] = value instead\n",
      "\n",
      "See the caveats in the documentation: https://pandas.pydata.org/pandas-docs/stable/user_guide/indexing.html#returning-a-view-versus-a-copy\n"
     ]
    }
   ],
   "source": [
    "aadata = metadata[[\"Accession ID\", \\\n",
    "                   \"Collection date\", \\\n",
    "                   \"Submission date\", \\\n",
    "                   \"Location\", \\\n",
    "                   \"Additional location information\", \\\n",
    "                   \"Sequence length\", \\\n",
    "                   \"Host\", \\\n",
    "                   \"AA Substitutions\", \\\n",
    "                   \"Is reference?\"]]\n",
    "def get_nth_slash(row, n):\n",
    "    try:\n",
    "        return row.split(\"/\")[n].strip()\n",
    "    except:\n",
    "        return np.nan\n",
    "    \n",
    "for i in range(4):\n",
    "    aadata[f\"Location_{i}\"] = aadata[\"Location\"].apply(lambda row: get_nth_slash(row, i))"
   ]
  },
  {
   "cell_type": "code",
   "execution_count": null,
   "metadata": {},
   "outputs": [],
   "source": []
  },
  {
   "cell_type": "code",
   "execution_count": 142,
   "metadata": {},
   "outputs": [],
   "source": [
    "mutant_list = dict()\n",
    "for mutants, count in aadata[aadata.Location_3 == \"Houston\"][\"AA Substitutions\"].value_counts().reset_index().to_numpy():\n",
    "    mutants = mutants.replace(\"(\", \"\").replace(\")\", \"\").split(\",\")\n",
    "    for mutant in mutants:\n",
    "        if mutant.strip() == \"\" or \"ins\" in mutant:\n",
    "            continue\n",
    "        protein, mutation = mutant.split(\"_\")\n",
    "        position = mutation.replace(\"el\", \"\").replace(\"top\", \"\")[1:-1]\n",
    "        mutant_list.setdefault(protein, []).append(int(position))\n",
    "#     break"
   ]
  },
  {
   "cell_type": "code",
   "execution_count": 143,
   "metadata": {},
   "outputs": [
    {
     "data": {
      "text/plain": [
       "dict_keys(['N', 'NS3', 'NSP2', 'NSP12', 'NSP5', 'Spike', 'NSP16', 'NS8', 'NSP14', 'NSP3', 'NSP6', 'NSP13', 'NSP1', 'E', 'NS6', 'NSP4', 'NS7a', 'NSP15', 'NSP8', 'NSP9', 'M', 'NSP7', 'NSP10', 'NS7b', 'NSP11'])"
      ]
     },
     "execution_count": 143,
     "metadata": {},
     "output_type": "execute_result"
    }
   ],
   "source": [
    "mutant_list.keys()"
   ]
  }
 ],
 "metadata": {
  "kernelspec": {
   "display_name": "Python 3",
   "language": "python",
   "name": "python3"
  },
  "language_info": {
   "codemirror_mode": {
    "name": "ipython",
    "version": 3
   },
   "file_extension": ".py",
   "mimetype": "text/x-python",
   "name": "python",
   "nbconvert_exporter": "python",
   "pygments_lexer": "ipython3",
   "version": "3.7.4"
  }
 },
 "nbformat": 4,
 "nbformat_minor": 4
}
