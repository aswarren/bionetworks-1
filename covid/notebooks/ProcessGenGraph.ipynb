{
 "cells": [
  {
   "cell_type": "code",
   "execution_count": 1,
   "metadata": {},
   "outputs": [],
   "source": [
    "import pandas as pd\n",
    "import numpy as np\n",
    "import networkx as nx\n",
    "from math import log\n",
    "from pathlib import Path\n",
    "from matplotlib import pyplot as plt\n",
    "from copy import deepcopy\n",
    "from tqdm import tqdm"
   ]
  },
  {
   "cell_type": "code",
   "execution_count": 2,
   "metadata": {},
   "outputs": [],
   "source": [
    "def expand_ggraph(ggraph):\n",
    "    \"\"\"\n",
    "    Expand the graph from normal run of GrnGraph so each node is a nucleotide\n",
    "    \"\"\"\n",
    "    new_graph = nx.DiGraph()\n",
    "    entry_points = {node:None for node in ggraph.nodes()}\n",
    "    \n",
    "    for node in ggraph.nodes():\n",
    "        \n",
    "        node_info = ggraph.nodes[node]\n",
    "        \n",
    "        if entry_points[node] is None:\n",
    "            last_node = None\n",
    "            entry_points[node] = node + \"_0\"\n",
    "            start_idx = 0\n",
    "        else:\n",
    "            last_node = entry_points[node]\n",
    "            start_idx = 1\n",
    "            \n",
    "        ids = set(ggraph.nodes[node][\"ids\"].split(\",\"))\n",
    "        num_genomes = len(ids)\n",
    "        for ix, character in enumerate(node_info[\"sequence\"][start_idx:]):\n",
    "            ix += start_idx\n",
    "            new_node = node + \"_\" + str(ix)\n",
    "#             new_graph.add_node(new_node, attr_dict={\"sequence\":character, \"num_genomes\":num_genomes})\n",
    "            new_graph.add_node(new_node, sequence = character, num_genomes = num_genomes)\n",
    "            if last_node is not None:\n",
    "                new_graph.add_edge(last_node, new_node, weight=num_genomes)\n",
    "            last_node = new_node\n",
    "\n",
    "        for child in ggraph.successors(node):\n",
    "            child_info = ggraph.nodes[child]\n",
    "            child_ids = set(child_info[\"ids\"].split(\",\"))\n",
    "            \n",
    "            entry_point = entry_points[child]\n",
    "            if entry_point is not None:\n",
    "                new_graph.add_edge(last_node, entry_point, weight=len(ids & child_ids))\n",
    "            else:\n",
    "\n",
    "                child_node = child + \"_0\"\n",
    "#                 new_graph.add_node(child_node, attr_dict={\"sequence\":child_info[\"sequence\"][0], \"num_genomes\":len(child_info[\"ids\"].split(\",\"))})\n",
    "                new_graph.add_node(child_node, sequence=child_info[\"sequence\"][0], num_genomes=len(child_info[\"ids\"].split(\",\")))\n",
    "                entry_points[child] = child_node\n",
    "                new_graph.add_edge(last_node, child_node, weight=len(ids & child_ids))\n",
    "                \n",
    "    return new_graph\n",
    "        \n",
    "def add_root(ggraph, genomes):\n",
    "    num_genomes = len(genomes)\n",
    "    no_in_nodes = []\n",
    "    for node in ggraph.nodes():\n",
    "        if ggraph.in_degree(node) == 0:\n",
    "            no_in_nodes.append(node)\n",
    "    if len(no_in_nodes) == 1:\n",
    "        return no_in_nodes[0]\n",
    "    else:\n",
    "        ggraph.add_node(\"root\", sequence=\"A\", num_genomes=num_genomes, genomes=genomes)\n",
    "        for node in no_in_nodes:\n",
    "            ggraph.add_edge(\"root\", node)\n",
    "        return \"root\", no_in_nodes\n",
    "    "
   ]
  },
  {
   "cell_type": "code",
   "execution_count": 19,
   "metadata": {},
   "outputs": [
    {
     "name": "stdout",
     "output_type": "stream",
     "text": [
      "8.19 µs ± 331 ns per loop (mean ± std. dev. of 7 runs, 100000 loops each)\n"
     ]
    }
   ],
   "source": [
    "#13_C, 14_G\n",
    "%timeit get_complement_nodes_numpy(graph, \"14_C\", graph_presence_info)"
   ]
  },
  {
   "cell_type": "code",
   "execution_count": 20,
   "metadata": {},
   "outputs": [
    {
     "name": "stdout",
     "output_type": "stream",
     "text": [
      "130 µs ± 1.72 µs per loop (mean ± std. dev. of 7 runs, 10000 loops each)\n"
     ]
    }
   ],
   "source": [
    "#13_C, 14_G\n",
    "%timeit get_complement_nodes(graph, \"14_C\", graph_genome_induced_nodes)"
   ]
  },
  {
   "cell_type": "code",
   "execution_count": 42,
   "metadata": {},
   "outputs": [
    {
     "name": "stdout",
     "output_type": "stream",
     "text": [
      "7.74 ms ± 112 µs per loop (mean ± std. dev. of 7 runs, 100 loops each)\n"
     ]
    }
   ],
   "source": [
    "%timeit calc_uncertainty(graph, graph_genome_induced_nodes, weigh_on_genomes=True, weigh_on_sequence=True)"
   ]
  },
  {
   "cell_type": "code",
   "execution_count": 43,
   "metadata": {},
   "outputs": [
    {
     "name": "stdout",
     "output_type": "stream",
     "text": [
      "1.06 ms ± 36.2 µs per loop (mean ± std. dev. of 7 runs, 1000 loops each)\n"
     ]
    }
   ],
   "source": [
    "%timeit calc_uncertainty_numpy(graph, graph_presence_info, weigh_on_genomes=True, weigh_on_sequence=True)"
   ]
  },
  {
   "cell_type": "code",
   "execution_count": 15,
   "metadata": {},
   "outputs": [],
   "source": [
    "def get_complement_nodes_numpy(ggraph, x_node, graph_presence_info):\n",
    "    sorted_genome_dict, sorted_nodes, genome_presences = graph_presence_info\n",
    "    genome_ixs = [sorted_genome_dict[g] for g in ggraph.nodes[x_node][\"genomes\"]]\n",
    "    genome_x_presences = genome_presences[genome_ixs]\n",
    "    mask = np.any(genome_x_presences.T, axis=1)\n",
    "    y_nodes = sorted_nodes[~mask]\n",
    "    return y_nodes"
   ]
  },
  {
   "cell_type": "code",
   "execution_count": 3,
   "metadata": {},
   "outputs": [],
   "source": [
    "def get_complement_nodes(ggraph, x_node, induced_nodes_dict):\n",
    "    x_genomes = ggraph.nodes[x_node][\"genomes\"]\n",
    "    \n",
    "    induced_nodes = set().union(*[induced_nodes_dict[genome] for genome in x_genomes])\n",
    "    all_nodes = set(ggraph.nodes())\n",
    "    \n",
    "    complement_nodes = all_nodes - induced_nodes\n",
    "    return complement_nodes\n",
    "    \n",
    "# def get_complement_nodes(ggraph, x_node, induced_nodes_dict):\n",
    "#     y_nodes = []\n",
    "    \n",
    "#     x_genomes = set(ggraph.nodes[x_node][\"genomes\"])\n",
    "    \n",
    "#     for node in ggraph.nodes():\n",
    "#         node_genomes = set(ggraph.nodes[node][\"genomes\"])\n",
    "#         if len(node_genomes & x_genomes) == 0:\n",
    "#             y_nodes.append(node)\n",
    "            \n",
    "#     return y_nodes\n",
    "\n",
    "# def get_complement_nodes(ggraph, x_node, induces_nodes_dict): #, num_genomes):\n",
    "#     #Could benefit from some indexing\n",
    "#     #Could optimize by finding the consensus nodes and stopping \n",
    "#     #     early there since all above or below are \"implied\"\n",
    "#     #     but would need to potentially iterate over the nodes \n",
    "#     #     again since switching from negation to inclusion\n",
    "#     node_in_y_states = {node:True for node in ggraph.nodes}\n",
    "#     node_visited_states = {node:False for node in ggraph.nodes}\n",
    "#     genomes = set(ggraph.nodes[x_node][\"genomes\"])\n",
    "        \n",
    "#     def follow_ancestors(node):\n",
    "#         if not node_visited_states[node] or node == x_node: #stop if node already visited\n",
    "#             node_visited_states[node] = True\n",
    "#             if len(set(ggraph.nodes[node][\"genomes\"]) & genomes) > 0:\n",
    "#                 node_in_y_states[node] = False\n",
    "#                 for anc_node in ggraph.predecessors(node):\n",
    "#                     follow_ancestors(anc_node)\n",
    "            \n",
    "#     def follow_descendants(node):\n",
    "#         if not node_visited_states[node] or node == x_node: #stop if node already visited\n",
    "#             node_visited_states[node] = True\n",
    "#             if len(set(ggraph.nodes[node][\"genomes\"]) & genomes) > 0:\n",
    "#                 node_in_y_states[node] = False\n",
    "#                 for dec_node in ggraph.successors(node):\n",
    "#                     follow_descendants(dec_node)\n",
    "    \n",
    "#     follow_ancestors(x_node)\n",
    "#     follow_descendants(x_node)\n",
    "    \n",
    "#     return [node for node in node_in_y_states if node_in_y_states[node]]\n",
    "\n",
    "def get_sequence_genome_weight(ggraph, node):\n",
    "    return ggraph.nodes[node][\"sequence_len\"] * ggraph.nodes[node][\"num_genomes\"]\n",
    "\n",
    "def get_genome_weight(ggraph, node):\n",
    "    return ggraph.nodes[node][\"num_genomes\"]\n",
    "\n",
    "def get_sequence_weight(ggraph, node):\n",
    "    return len(ggraph.nodes[node][\"sequence\"])\n",
    "\n",
    "def get_weight(ggraph, node):\n",
    "    return 1\n",
    "\n",
    "def calc_uncertainty(ggraph, induced_nodes_dict, weigh_on_sequence=True, weigh_on_genomes=True): #, num_genomes):\n",
    "    \n",
    "    \"\"\"\n",
    "    Calculates the uncertainty/entropy of the genome graph using configurable weighing schemes\n",
    "    \n",
    "    ToDo:\n",
    "        Determine if the genome weighing by itself should be, e.g. for the graph, the sum of the number of genomes in each node\n",
    "    \"\"\"\n",
    "    \n",
    "#     if weigh_on_sequence and num_chars is None:\n",
    "#         raise ValueError(\"If using sequence weighing, must provide the total number of characters in the graph\")\n",
    "    \n",
    "    if weigh_on_genomes and weigh_on_sequence:\n",
    "        func = get_sequence_genome_weight\n",
    "    elif weigh_on_genomes:\n",
    "        func = get_genome_weight\n",
    "    elif weigh_on_sequence:\n",
    "        func = get_sequence_weight\n",
    "    else:\n",
    "        func = get_weight\n",
    "        \n",
    "    graph_weight = sum([func(ggraph, node) for node in ggraph.nodes])\n",
    "    uncert = 0\n",
    "    \n",
    "    terms = dict()\n",
    "    \n",
    "    for x_node in tqdm(ggraph.nodes()):\n",
    "#     for x_node in ggraph.nodes():\n",
    "        \n",
    "        x_weight = func(ggraph, x_node)\n",
    "        \n",
    "        x_uncert = x_weight / graph_weight\n",
    "        \n",
    "        #For the first term\n",
    "        uncert -= x_uncert * log( x_uncert , 2)\n",
    "        \n",
    "        #For the second term\n",
    "        y_nodes = get_complement_nodes(ggraph, x_node, induced_nodes_dict)\n",
    "        y_set_weight = sum([func(ggraph, y_node) for y_node in y_nodes])\n",
    "        for y_node in y_nodes:\n",
    "            \n",
    "            y_node_weight = func(ggraph, y_node)\n",
    "            y_uncert = ( y_node_weight / y_set_weight )\n",
    "            \n",
    "            uncert -= x_uncert * y_uncert * log( y_uncert , 2)\n",
    "    return uncert\n",
    "\n",
    "def calc_uncertainty_numpy(ggraph, graph_presence_info, weigh_on_sequence=True, weigh_on_genomes=True): #, num_genomes):\n",
    "    \n",
    "    \"\"\"\n",
    "    Calculates the uncertainty/entropy of the genome graph using configurable weighing schemes\n",
    "    \n",
    "    ToDo:\n",
    "        Determine if the genome weighing by itself should be, e.g. for the graph, the sum of the number of genomes in each node\n",
    "    \"\"\"\n",
    "    \n",
    "#     if weigh_on_sequence and num_chars is None:\n",
    "#         raise ValueError(\"If using sequence weighing, must provide the total number of characters in the graph\")\n",
    "    \n",
    "    sorted_genome_dict, sorted_nodes, genome_presences = graph_presence_info\n",
    "    \n",
    "    if weigh_on_genomes and weigh_on_sequence:\n",
    "        func = get_sequence_genome_weight\n",
    "    elif weigh_on_genomes:\n",
    "        func = get_genome_weight\n",
    "    elif weigh_on_sequence:\n",
    "        func = get_sequence_weight\n",
    "    else:\n",
    "        func = get_weight\n",
    "        \n",
    "    graph_weight = sum([func(ggraph, node) for node in ggraph.nodes])\n",
    "    uncert = 0\n",
    "    \n",
    "    terms = dict()\n",
    "    \n",
    "    for x_node in tqdm(ggraph.nodes()):\n",
    "#     for x_node in ggraph.nodes():\n",
    "        \n",
    "        #uninduced nodes\n",
    "        genome_ixs = [sorted_genome_dict[g] for g in ggraph.nodes[x_node][\"genomes\"]]\n",
    "        genome_x_presences = genome_presences[genome_ixs]\n",
    "        mask = np.any(genome_x_presences.T, axis=1)\n",
    "        y_nodes = sorted_nodes[~mask]\n",
    "        \n",
    "        x_weight = func(ggraph, x_node)\n",
    "        \n",
    "        x_uncert = x_weight / graph_weight\n",
    "        \n",
    "        #For the first term\n",
    "        uncert -= x_uncert * log( x_uncert , 2)\n",
    "        \n",
    "        #For the second term\n",
    "#         y_nodes = get_complement_nodes(ggraph, x_node, induced_nodes_dict)\n",
    "        y_set_weight = sum([func(ggraph, y_node) for y_node in y_nodes])\n",
    "        for y_node in y_nodes:\n",
    "            \n",
    "            y_node_weight = func(ggraph, y_node)\n",
    "            y_uncert = ( y_node_weight / y_set_weight )\n",
    "            \n",
    "            uncert -= x_uncert * y_uncert * log( y_uncert , 2)\n",
    "    return uncert"
   ]
  },
  {
   "cell_type": "markdown",
   "metadata": {},
   "source": [
    "Currently calculates:\n",
    "\n",
    "$ -\\log_{2} \\frac{1}{Nodes} + \\frac{1}{Nodes} \\sum_{x}^{Nodes} -\\log_{2}\\frac{1}{\\# nodes\\_not\\_connected\\_to\\_i} $\n",
    "\n",
    "Need to do: \n",
    "\n",
    "$ -\\sum_{x}^{Nodes} \\frac{C_x}{C} \\log_{2} \\frac{C_x}{C} - \\sum_{x}^{Nodes}\\sum_{y}^{\\overline{G_x}} \\frac{C_x}{C} \\frac{C_y}{C_{\\overline{G_x}}} \\log_{2}\\frac{C_y}{C_{\\overline{G_x}}}$\n",
    "\n",
    "Where $C$ is the number of characters ($G*alignment\\_len$) in the graph, $C_x$ is the number of characters going through node $x$ and ${\\overline{G_x}}$ is the set of nodes which are not descendants or ancestors of $x$ (alternate implementation: which contain none of the genomes in $x$)"
   ]
  },
  {
   "cell_type": "code",
   "execution_count": null,
   "metadata": {},
   "outputs": [
    {
     "name": "stderr",
     "output_type": "stream",
     "text": [
      "  0%|          | 2/8551 [00:00<10:30, 13.55it/s]"
     ]
    },
    {
     "name": "stdout",
     "output_type": "stream",
     "text": [
      "collapsed_sequences_0_genomes_0\n"
     ]
    },
    {
     "name": "stderr",
     "output_type": "stream",
     "text": [
      "  3%|▎         | 224/8551 [00:32<21:49,  6.36it/s]"
     ]
    }
   ],
   "source": [
    "# for G, graph_name in zip([graph, collapsed_graph], [\"full\", \"collapsed\"]):\n",
    "for G, graph_name in zip([collapsed_graph], [\"collapsed\"]):\n",
    "    for seqs in range(2):\n",
    "        seq_name = f\"_sequences_{seqs}\"\n",
    "        for genomes in range(2):\n",
    "            genome_name = f\"_genomes_{genomes}\"\n",
    "            print(graph_name + seq_name + genome_name)\n",
    "            print(calc_uncertainty(G, weigh_on_sequence=seqs, weigh_on_genomes=genomes))\n",
    "            "
   ]
  },
  {
   "cell_type": "code",
   "execution_count": 66,
   "metadata": {},
   "outputs": [],
   "source": [
    "def generate_nx_from_msa_collect_edges(seq_paths):\n",
    "    \n",
    "    accepted_letters = [\"A\",\"T\",\"C\",\"G\"]\n",
    "    \n",
    "    num_chars = 0\n",
    "    genome_len = 34742 \n",
    "    genomes = []\n",
    "#     genome_ix_to_name = dict()\n",
    "    \n",
    "    graph = nx.DiGraph()\n",
    "#     for letter in accepted_letters:\n",
    "#         nodes = [f\"{ix}_{letter}\" for ix in range(genome_len)]\n",
    "#         graph.add_nodes_from(nodes, genomes=[], sequence=letter, num_genomes=0)\n",
    "\n",
    "#     nodes = [(f\"{ix}_{letter}\", {\"genomes\":[], \"sequence\":letter, \"num_genomes\":0}) \\\n",
    "#               for letter in accepted_letters for ix in range(genome_len)]\n",
    "#     graph.add_nodes_from(nodes)\n",
    "\n",
    "    for ix in range(genome_len):\n",
    "        for letter in [\"A\",\"T\",\"C\",\"G\"]: #,\"N\"]:\n",
    "            graph.add_node(f\"{ix}_{letter}\", genomes=[], sequence=letter, num_genomes=0)\n",
    "\n",
    "\n",
    "    edges = dict()\n",
    "    for seq in seq_paths:\n",
    "        with open(seq) as src:\n",
    "            for line in src.readlines():\n",
    "                line = line.strip()\n",
    "                if line[0] == \">\":\n",
    "                    genome = line[1:] #.split(\"/\")[2]\n",
    "                    genomes.append(genome)\n",
    "                else:\n",
    "\n",
    "                    prev_node = None\n",
    "                    num_chars += len(line)\n",
    "                    for ix, char in enumerate(line): #[34000:35000]):\n",
    "                        char = char.upper()\n",
    "#                         if char == \"-\":\n",
    "# #                             char = \"N\" #Preserves overall length of genome graph\n",
    "#                             continue\n",
    "                        if char not in accepted_letters: #,\"N\"]:\n",
    "#                             char = \"N\"\n",
    "                            continue\n",
    "                        node = f\"{ix}_{char}\"\n",
    "                        graph.nodes[node][\"genomes\"].append(genome)\n",
    "                        graph.nodes[node][\"num_genomes\"] += 1\n",
    "#                         if prev_node is not None and node not in graph.successors(prev_node):\n",
    "                        if prev_node is not None: # and node not in graph.successors(prev_node):\n",
    "#                             graph.add_edge(prev_node, node) #could make a dict of tuples and then create edges with weights from the value and links from the key (tup)\n",
    "                            edges.setdefault((prev_node, node), [0])[0] += 1  #could make a dict of tuples and then create edges with weights from the value and links from the key (tup)\n",
    "                        prev_node = node\n",
    "    \n",
    "    edges = [(key[0], key[1], value[0]) for key, value in edges.items()]\n",
    "    graph.add_weighted_edges_from(edges)\n",
    "        \n",
    "    empty_nodes = []\n",
    "    for node in graph.nodes():\n",
    "        if not graph.nodes[node][\"genomes\"]:\n",
    "            empty_nodes.append(node)\n",
    "            \n",
    "    graph.remove_nodes_from(empty_nodes)\n",
    "    \n",
    "    return graph, num_chars, genomes    \n",
    "\n",
    "def generate_nx_from_msa(seq_paths):\n",
    "    num_chars = 0\n",
    "    genome_len = 34742 #54\n",
    "    genomes = []\n",
    "#     genome_ix_to_name = dict()\n",
    "    \n",
    "    graph = nx.DiGraph()\n",
    "    for ix in range(genome_len):\n",
    "        for letter in [\"A\",\"T\",\"C\",\"G\"]: #,\"N\"]:\n",
    "            graph.add_node(f\"{ix}_{letter}\", genomes=[], sequence=letter, num_genomes=0)\n",
    "\n",
    "#     edges = dict()\n",
    "    for seq in seq_paths:\n",
    "        with open(seq) as src:\n",
    "            for line in src.readlines():\n",
    "                line = line.strip()\n",
    "                if line[0] == \">\":\n",
    "                    genome = line[1:] #.split(\"/\")[2]\n",
    "                    genomes.append(genome)\n",
    "                else:\n",
    "\n",
    "                    prev_node = None\n",
    "                    num_chars += len(line)\n",
    "                    for ix, char in enumerate(line): #[34000:35000]):\n",
    "#                         if char == \"-\":\n",
    "# #                             char = \"N\" #Preserves overall length of genome graph\n",
    "#                             continue\n",
    "                        if char not in [\"A\",\"T\",\"C\",\"G\"]: #,\"N\"]:\n",
    "#                             char = \"N\"\n",
    "                            continue\n",
    "                        node = f\"{ix}_{char}\"\n",
    "                        graph.nodes[node][\"genomes\"].append(genome)\n",
    "                        graph.nodes[node][\"num_genomes\"] += 1\n",
    "                        if prev_node is not None:\n",
    "                            if node not in graph.successors(prev_node):\n",
    "                                graph.add_edge(prev_node, node, weight=1)\n",
    "                            else:\n",
    "                                graph[prev_node][node][\"weight\"] += 1\n",
    "#                         if prev_node is not None and node not in graph.successors(prev_node):\n",
    "#                             graph.add_edge(prev_node, node) #could make a dict of tuples and then create edges with weights from the value and links from the key (tup)\n",
    "                        prev_node = node\n",
    "    \n",
    "#     edges = [(key[0], key[1], value[0]) for key, value in edges.items()]\n",
    "#     graph.add_weighted_edges_from(edges)\n",
    "        \n",
    "    empty_nodes = []\n",
    "    for node in graph.nodes():\n",
    "        if not graph.nodes[node][\"genomes\"]:\n",
    "            empty_nodes.append(node)\n",
    "            \n",
    "    graph.remove_nodes_from(empty_nodes)\n",
    "\n",
    "#     bad_n_nodes = []\n",
    "#     for node in graph.nodes:\n",
    "#         ix, char = node.split(\"_\")\n",
    "#         if char == \"N\":\n",
    "#             n_genomes = graph.nodes[node][\"genomes\"]\n",
    "#             n_num_genomes = graph.nodes[node][\"num_genomes\"]\n",
    "#             pop_node = None\n",
    "#             pop_node_genomes = 0\n",
    "#             for alt_node in [f\"{ix}_{c}\" for c in [\"A\",\"T\",\"C\",\"G\"]]:\n",
    "#                 try:\n",
    "#                     node_genomes = len(graph.nodes[alt_node][\"genomes\"])\n",
    "#                     if node_genomes > pop_node_genomes:\n",
    "#                         pop_node = alt_node\n",
    "#                         pop_node_genomes = node_genomes\n",
    "#                 except:\n",
    "#                     continue\n",
    "#             if pop_node is not None:\n",
    "#                 graph.nodes[pop_node][\"genomes\"].extend(n_genomes)\n",
    "#                 graph.nodes[pop_node][\"num_genomes\"] += n_num_genomes\n",
    "#                 bad_n_nodes.append(node)\n",
    "#     graph.remove_nodes_from(bad_n_nodes)\n",
    "    \n",
    "    return graph, num_chars, genomes"
   ]
  },
  {
   "cell_type": "code",
   "execution_count": 7,
   "metadata": {},
   "outputs": [],
   "source": [
    "def collapse_graph(graph):\n",
    "    new_graph = deepcopy(graph)\n",
    "    redundant_nodes = []\n",
    "    node_states = {node:False for node in new_graph.nodes} #tracks if nodes will be removed\n",
    "    \n",
    "    for main_node in new_graph:\n",
    "        seq = new_graph.nodes[main_node][\"sequence\"]\n",
    "        cur_node = main_node\n",
    "        successors = list(new_graph.successors(cur_node))\n",
    "        if len(successors) == 0 or len(successors) > 1 or node_states[successors[0]]:\n",
    "            continue\n",
    "        elif len(list(new_graph.predecessors(successors[0]))) > 1:\n",
    "            continue\n",
    "        while len(successors) <= 1:\n",
    "            cur_node = successors[0]\n",
    "            redundant_nodes.append(cur_node)\n",
    "            node_states[cur_node] = True\n",
    "            try:\n",
    "                seq += new_graph.nodes[cur_node][\"sequence\"]\n",
    "            except:\n",
    "                print(cur_node)\n",
    "                print(new_graph.nodes[cur_node])\n",
    "            successors = list(new_graph.successors(cur_node))\n",
    "            if len(successors) == 0 or node_states[successors[0]]:\n",
    "                break\n",
    "            elif len(list(new_graph.predecessors(successors[0]))) > 1:\n",
    "                break\n",
    "\n",
    "        for node in new_graph.successors(cur_node):\n",
    "            new_graph.add_edge(main_node, node)\n",
    "                \n",
    "        new_graph.nodes[main_node][\"sequence\"] = seq\n",
    "    new_graph.remove_nodes_from(redundant_nodes)\n",
    "        \n",
    "    return new_graph     \n",
    "\n",
    "def annotate_graph(graph):\n",
    "    for node in graph.nodes():\n",
    "        node = graph.nodes[node]\n",
    "        node[\"sequence_len\"] = len(node[\"sequence\"])"
   ]
  },
  {
   "cell_type": "code",
   "execution_count": 62,
   "metadata": {},
   "outputs": [
    {
     "name": "stdout",
     "output_type": "stream",
     "text": [
      "29929\n"
     ]
    }
   ],
   "source": [
    "graph, num_chars, genomes = generate_nx_from_msa_collect_edges(seq_paths[:50])\n",
    "print(len(graph.nodes()))"
   ]
  },
  {
   "cell_type": "code",
   "execution_count": 63,
   "metadata": {},
   "outputs": [
    {
     "name": "stdout",
     "output_type": "stream",
     "text": [
      "29929\n"
     ]
    }
   ],
   "source": [
    "graph, num_chars, genomes = generate_nx_from_msa(seq_paths[:50])\n",
    "print(len(graph.nodes()))"
   ]
  },
  {
   "cell_type": "code",
   "execution_count": 67,
   "metadata": {},
   "outputs": [
    {
     "name": "stdout",
     "output_type": "stream",
     "text": [
      "3.62 s ± 20.1 ms per loop (mean ± std. dev. of 7 runs, 1 loop each)\n"
     ]
    }
   ],
   "source": [
    "%timeit generate_nx_from_msa_collect_edges(seq_paths[:50])\n"
   ]
  },
  {
   "cell_type": "code",
   "execution_count": 65,
   "metadata": {},
   "outputs": [
    {
     "name": "stdout",
     "output_type": "stream",
     "text": [
      "5.49 s ± 39.3 ms per loop (mean ± std. dev. of 7 runs, 1 loop each)\n"
     ]
    }
   ],
   "source": [
    "%timeit generate_nx_from_msa(seq_paths[:50])\n"
   ]
  },
  {
   "cell_type": "code",
   "execution_count": 49,
   "metadata": {},
   "outputs": [
    {
     "name": "stdout",
     "output_type": "stream",
     "text": [
      "56\n"
     ]
    },
    {
     "data": {
      "image/png": "[encoded data removed]",
      "text/plain": [
       "<Figure size 432x288 with 1 Axes>"
      ]
     },
     "metadata": {},
     "output_type": "display_data"
    }
   ],
   "source": [
    "# seqs = \"\"\"TX-HMH-1002.fasta\n",
    "# TX-HMH-1003.fasta\n",
    "# TX-HMH-1004.fasta\n",
    "# TX-HMH-1006.fasta\n",
    "# TX-HMH-1007.fasta\n",
    "# TX-HMH-1011.fasta\n",
    "# TX-HMH-1012.fasta\n",
    "# TX-HMH-1013.fasta\n",
    "# TX-HMH-1016.fasta\n",
    "# TX-HMH-1020.fasta\"\"\".split()\n",
    "# houston_path = \"/sfs/lustre/bahamut/scratch/jho5ze/bionets/covid/data/Houston/\"\n",
    "# seq_paths = [houston_path + seq for seq in seqs]  \n",
    "\n",
    "# seqs = [\"first\", \"second\", \"third\", \"fourth\"]\n",
    "seqs = [\"fourth\", \"fifth\"]\n",
    "test_path = \"/scratch/jho5ze/bionets/covid/data/test/\"\n",
    "seq_paths = [test_path + seq + \".fasta\" for seq in seqs] \n",
    "# # print(\" \".join(seq_paths))\n",
    "# num_genomes = len(seqs)\n",
    "\n",
    "# seq_paths = ['/sfs/lustre/bahamut/scratch/jho5ze/bionets/covid/data/Houston/TX-HMH-793.fasta', '/sfs/lustre/bahamut/scratch/jho5ze/bionets/covid/data/Houston/TX-HMH-792.fasta']\n",
    "\n",
    "graph, num_chars, genomes = generate_nx_from_msa(seq_paths)\n",
    "print(len(graph.edges()))\n",
    "add_root(graph, genomes)\n",
    "collapsed_graph = collapse_graph(graph)\n",
    "annotate_graph(graph)\n",
    "annotate_graph(collapsed_graph)\n",
    "nx.draw(collapsed_graph, with_labels=True)"
   ]
  },
  {
   "cell_type": "code",
   "execution_count": 58,
   "metadata": {},
   "outputs": [
    {
     "data": {
      "text/plain": [
       "127"
      ]
     },
     "execution_count": 58,
     "metadata": {},
     "output_type": "execute_result"
    }
   ],
   "source": [
    "seq_paths = \"\"\"/sfs/lustre/bahamut/scratch/jho5ze/bionets/covid/data/Houston/TX-HMH-490.fasta /sfs/lustre/bahamut/scratch/jho5ze/bionets/covid/data/Houston/TX-HMH-484.fasta /sfs/lustre/bahamut/scratch/jho5ze/bionets/covid/data/Houston/TX-HMH-536.fasta /sfs/lustre/bahamut/scratch/jho5ze/bionets/covid/data/Houston/TX-HMH-460.fasta /sfs/lustre/bahamut/scratch/jho5ze/bionets/covid/data/Houston/TX-HMH-464.fasta /sfs/lustre/bahamut/scratch/jho5ze/bionets/covid/data/Houston/TX-HMH-1016.fasta /sfs/lustre/bahamut/scratch/jho5ze/bionets/covid/data/Houston/TX-HMH-1066.fasta /sfs/lustre/bahamut/scratch/jho5ze/bionets/covid/data/Houston/TX-HMH-487.fasta /sfs/lustre/bahamut/scratch/jho5ze/bionets/covid/data/Houston/TX-HMH-494.fasta /sfs/lustre/bahamut/scratch/jho5ze/bionets/covid/data/Houston/TX-HMH-849.fasta /sfs/lustre/bahamut/scratch/jho5ze/bionets/covid/data/Houston/TX-HMH-1530.fasta /sfs/lustre/bahamut/scratch/jho5ze/bionets/covid/data/Houston/TX-HMH-564.fasta /sfs/lustre/bahamut/scratch/jho5ze/bionets/covid/data/Houston/TX-HMH-533.fasta /sfs/lustre/bahamut/scratch/jho5ze/bionets/covid/data/Houston/TX-HMH-874.fasta /sfs/lustre/bahamut/scratch/jho5ze/bionets/covid/data/Houston/TX-HMH-730.fasta /sfs/lustre/bahamut/scratch/jho5ze/bionets/covid/data/Houston/TX-HMH-1035.fasta /sfs/lustre/bahamut/scratch/jho5ze/bionets/covid/data/Houston/TX-HMH-860.fasta /sfs/lustre/bahamut/scratch/jho5ze/bionets/covid/data/Houston/TX-HMH-520.fasta /sfs/lustre/bahamut/scratch/jho5ze/bionets/covid/data/Houston/TX-HMH-457.fasta /sfs/lustre/bahamut/scratch/jho5ze/bionets/covid/data/Houston/TX-HMH-765.fasta /sfs/lustre/bahamut/scratch/jho5ze/bionets/covid/data/Houston/TX-HMH-522.fasta /sfs/lustre/bahamut/scratch/jho5ze/bionets/covid/data/Houston/TX-HMH-754.fasta /sfs/lustre/bahamut/scratch/jho5ze/bionets/covid/data/Houston/TX-HMH-524.fasta /sfs/lustre/bahamut/scratch/jho5ze/bionets/covid/data/Houston/TX-HMH-862.fasta /sfs/lustre/bahamut/scratch/jho5ze/bionets/covid/data/Houston/TX-HMH-758.fasta /sfs/lustre/bahamut/scratch/jho5ze/bionets/covid/data/Houston/TX-HMH-1045.fasta /sfs/lustre/bahamut/scratch/jho5ze/bionets/covid/data/Houston/TX-HMH-848.fasta /sfs/lustre/bahamut/scratch/jho5ze/bionets/covid/data/Houston/TX-HMH-868.fasta /sfs/lustre/bahamut/scratch/jho5ze/bionets/covid/data/Houston/TX-HMH-495.fasta /sfs/lustre/bahamut/scratch/jho5ze/bionets/covid/data/Houston/TX-HMH-470.fasta /sfs/lustre/bahamut/scratch/jho5ze/bionets/covid/data/Houston/TX-HMH-567.fasta /sfs/lustre/bahamut/scratch/jho5ze/bionets/covid/data/Houston/TX-HMH-854.fasta /sfs/lustre/bahamut/scratch/jho5ze/bionets/covid/data/Houston/TX-HMH-806.fasta /sfs/lustre/bahamut/scratch/jho5ze/bionets/covid/data/Houston/TX-HMH-1739.fasta /sfs/lustre/bahamut/scratch/jho5ze/bionets/covid/data/Houston/TX-HMH-535.fasta /sfs/lustre/bahamut/scratch/jho5ze/bionets/covid/data/Houston/TX-HMH-995.fasta /sfs/lustre/bahamut/scratch/jho5ze/bionets/covid/data/Houston/TX-HMH-586.fasta /sfs/lustre/bahamut/scratch/jho5ze/bionets/covid/data/Houston/TX-HMH-996.fasta /sfs/lustre/bahamut/scratch/jho5ze/bionets/covid/data/Houston/TX-HMH-1249.fasta /sfs/lustre/bahamut/scratch/jho5ze/bionets/covid/data/Houston/TX-HMH-592.fasta /sfs/lustre/bahamut/scratch/jho5ze/bionets/covid/data/Houston/TX-HMH-505.fasta /sfs/lustre/bahamut/scratch/jho5ze/bionets/covid/data/Houston/TX-HMH-549.fasta /sfs/lustre/bahamut/scratch/jho5ze/bionets/covid/data/Houston/TX-HMH-577.fasta /sfs/lustre/bahamut/scratch/jho5ze/bionets/covid/data/Houston/TX-HMH-1732.fasta /sfs/lustre/bahamut/scratch/jho5ze/bionets/covid/data/Houston/TX-HMH-468.fasta /sfs/lustre/bahamut/scratch/jho5ze/bionets/covid/data/Houston/TX-HMH-463.fasta /sfs/lustre/bahamut/scratch/jho5ze/bionets/covid/data/Houston/TX-HMH-472.fasta /sfs/lustre/bahamut/scratch/jho5ze/bionets/covid/data/Houston/TX-HMH-852.fasta /sfs/lustre/bahamut/scratch/jho5ze/bionets/covid/data/Houston/TX-HMH-571.fasta /sfs/lustre/bahamut/scratch/jho5ze/bionets/covid/data/Houston/TX-HMH-488.fasta /sfs/lustre/bahamut/scratch/jho5ze/bionets/covid/data/Houston/TX-HMH-863.fasta /sfs/lustre/bahamut/scratch/jho5ze/bionets/covid/data/Houston/TX-HMH-755.fasta /sfs/lustre/bahamut/scratch/jho5ze/bionets/covid/data/Houston/TX-HMH-1228.fasta /sfs/lustre/bahamut/scratch/jho5ze/bionets/covid/data/Houston/TX-HMH-1006.fasta /sfs/lustre/bahamut/scratch/jho5ze/bionets/covid/data/Houston/TX-HMH-753.fasta /sfs/lustre/bahamut/scratch/jho5ze/bionets/covid/data/Houston/TX-HMH-823.fasta /sfs/lustre/bahamut/scratch/jho5ze/bionets/covid/data/Houston/TX-HMH-850.fasta /sfs/lustre/bahamut/scratch/jho5ze/bionets/covid/data/Houston/TX-HMH-443.fasta /sfs/lustre/bahamut/scratch/jho5ze/bionets/covid/data/Houston/TX-HMH-559.fasta /sfs/lustre/bahamut/scratch/jho5ze/bionets/covid/data/Houston/TX-HMH-1375.fasta /sfs/lustre/bahamut/scratch/jho5ze/bionets/covid/data/Houston/TX-HMH-1184.fasta /sfs/lustre/bahamut/scratch/jho5ze/bionets/covid/data/Houston/TX-HMH-1074.fasta /sfs/lustre/bahamut/scratch/jho5ze/bionets/covid/data/Houston/TX-HMH-476.fasta /sfs/lustre/bahamut/scratch/jho5ze/bionets/covid/data/Houston/TX-HMH-518.fasta /sfs/lustre/bahamut/scratch/jho5ze/bionets/covid/data/Houston/TX-HMH-461.fasta /sfs/lustre/bahamut/scratch/jho5ze/bionets/covid/data/Houston/TX-HMH-911.fasta /sfs/lustre/bahamut/scratch/jho5ze/bionets/covid/data/Houston/TX-HMH-869.fasta /sfs/lustre/bahamut/scratch/jho5ze/bionets/covid/data/Houston/TX-HMH-570.fasta /sfs/lustre/bahamut/scratch/jho5ze/bionets/covid/data/Houston/TX-HMH-794.fasta /sfs/lustre/bahamut/scratch/jho5ze/bionets/covid/data/Houston/TX-HMH-532.fasta /sfs/lustre/bahamut/scratch/jho5ze/bionets/covid/data/Houston/TX-HMH-1733.fasta /sfs/lustre/bahamut/scratch/jho5ze/bionets/covid/data/Houston/TX-HMH-454.fasta /sfs/lustre/bahamut/scratch/jho5ze/bionets/covid/data/Houston/TX-HMH-467.fasta /sfs/lustre/bahamut/scratch/jho5ze/bionets/covid/data/Houston/TX-HMH-845.fasta /sfs/lustre/bahamut/scratch/jho5ze/bionets/covid/data/Houston/TX-HMH-469.fasta /sfs/lustre/bahamut/scratch/jho5ze/bionets/covid/data/Houston/TX-HMH-749.fasta /sfs/lustre/bahamut/scratch/jho5ze/bionets/covid/data/Houston/TX-HMH-466.fasta /sfs/lustre/bahamut/scratch/jho5ze/bionets/covid/data/Houston/TX-HMH-751.fasta /sfs/lustre/bahamut/scratch/jho5ze/bionets/covid/data/Houston/TX-HMH-1741.fasta /sfs/lustre/bahamut/scratch/jho5ze/bionets/covid/data/Houston/TX-HMH-496.fasta /sfs/lustre/bahamut/scratch/jho5ze/bionets/covid/data/Houston/TX-HMH-534.fasta /sfs/lustre/bahamut/scratch/jho5ze/bionets/covid/data/Houston/TX-HMH-1241.fasta /sfs/lustre/bahamut/scratch/jho5ze/bionets/covid/data/Houston/TX-HMH-1026.fasta /sfs/lustre/bahamut/scratch/jho5ze/bionets/covid/data/Houston/TX-HMH-513.fasta /sfs/lustre/bahamut/scratch/jho5ze/bionets/covid/data/Houston/TX-HMH-1727.fasta /sfs/lustre/bahamut/scratch/jho5ze/bionets/covid/data/Houston/TX-HMH-521.fasta /sfs/lustre/bahamut/scratch/jho5ze/bionets/covid/data/Houston/TX-HMH-1057.fasta /sfs/lustre/bahamut/scratch/jho5ze/bionets/covid/data/Houston/TX-HMH-1036.fasta /sfs/lustre/bahamut/scratch/jho5ze/bionets/covid/data/Houston/TX-HMH-1024.fasta /sfs/lustre/bahamut/scratch/jho5ze/bionets/covid/data/Houston/TX-HMH-784.fasta /sfs/lustre/bahamut/scratch/jho5ze/bionets/covid/data/Houston/TX-HMH-1056.fasta /sfs/lustre/bahamut/scratch/jho5ze/bionets/covid/data/Houston/TX-HMH-474.fasta /sfs/lustre/bahamut/scratch/jho5ze/bionets/covid/data/Houston/TX-HMH-1531.fasta /sfs/lustre/bahamut/scratch/jho5ze/bionets/covid/data/Houston/TX-HMH-1242.fasta /sfs/lustre/bahamut/scratch/jho5ze/bionets/covid/data/Houston/TX-HMH-523.fasta /sfs/lustre/bahamut/scratch/jho5ze/bionets/covid/data/Houston/TX-HMH-872.fasta /sfs/lustre/bahamut/scratch/jho5ze/bionets/covid/data/Houston/TX-HMH-867.fasta /sfs/lustre/bahamut/scratch/jho5ze/bionets/covid/data/Houston/TX-HMH-565.fasta /sfs/lustre/bahamut/scratch/jho5ze/bionets/covid/data/Houston/TX-HMH-909.fasta /sfs/lustre/bahamut/scratch/jho5ze/bionets/covid/data/Houston/TX-HMH-486.fasta /sfs/lustre/bahamut/scratch/jho5ze/bionets/covid/data/Houston/TX-HMH-790.fasta /sfs/lustre/bahamut/scratch/jho5ze/bionets/covid/data/Houston/TX-HMH-738.fasta /sfs/lustre/bahamut/scratch/jho5ze/bionets/covid/data/Houston/TX-HMH-851.fasta /sfs/lustre/bahamut/scratch/jho5ze/bionets/covid/data/Houston/TX-HMH-1264.fasta /sfs/lustre/bahamut/scratch/jho5ze/bionets/covid/data/Houston/TX-HMH-1235.fasta /sfs/lustre/bahamut/scratch/jho5ze/bionets/covid/data/Houston/TX-HMH-1257.fasta /sfs/lustre/bahamut/scratch/jho5ze/bionets/covid/data/Houston/TX-HMH-853.fasta /sfs/lustre/bahamut/scratch/jho5ze/bionets/covid/data/Houston/TX-HMH-861.fasta /sfs/lustre/bahamut/scratch/jho5ze/bionets/covid/data/Houston/TX-HMH-1054.fasta /sfs/lustre/bahamut/scratch/jho5ze/bionets/covid/data/Houston/TX-HMH-489.fasta /sfs/lustre/bahamut/scratch/jho5ze/bionets/covid/data/Houston/TX-HMH-471.fasta /sfs/lustre/bahamut/scratch/jho5ze/bionets/covid/data/Houston/TX-HMH-530.fasta /sfs/lustre/bahamut/scratch/jho5ze/bionets/covid/data/Houston/TX-HMH-526.fasta /sfs/lustre/bahamut/scratch/jho5ze/bionets/covid/data/Houston/TX-HMH-835.fasta /sfs/lustre/bahamut/scratch/jho5ze/bionets/covid/data/Houston/TX-HMH-479.fasta /sfs/lustre/bahamut/scratch/jho5ze/bionets/covid/data/Houston/TX-HMH-866.fasta /sfs/lustre/bahamut/scratch/jho5ze/bionets/covid/data/Houston/TX-HMH-483.fasta /sfs/lustre/bahamut/scratch/jho5ze/bionets/covid/data/Houston/TX-HMH-519.fasta /sfs/lustre/bahamut/scratch/jho5ze/bionets/covid/data/Houston/TX-HMH-529.fasta /sfs/lustre/bahamut/scratch/jho5ze/bionets/covid/data/Houston/TX-HMH-491.fasta /sfs/lustre/bahamut/scratch/jho5ze/bionets/covid/data/Houston/TX-HMH-512.fasta /sfs/lustre/bahamut/scratch/jho5ze/bionets/covid/data/Houston/TX-HMH-509.fasta /sfs/lustre/bahamut/scratch/jho5ze/bionets/covid/data/Houston/TX-HMH-453.fasta /sfs/lustre/bahamut/scratch/jho5ze/bionets/covid/data/Houston/TX-HMH-858.fasta /sfs/lustre/bahamut/scratch/jho5ze/bionets/covid/data/Houston/TX-HMH-1046.fasta /sfs/lustre/bahamut/scratch/jho5ze/bionets/covid/data/Houston/TX-HMH-492.fasta /sfs/lustre/bahamut/scratch/jho5ze/bionets/covid/data/Houston/TX-HMH-511.fasta\"\"\".split()\n",
    "len(seq_paths)"
   ]
  },
  {
   "cell_type": "code",
   "execution_count": null,
   "metadata": {},
   "outputs": [],
   "source": [
    "# seq_paths = ['/sfs/lustre/bahamut/scratch/jho5ze/bionets/covid/data/Houston/TX-HMH-793.fasta', '/sfs/lustre/bahamut/scratch/jho5ze/bionets/covid/data/Houston/TX-HMH-792.fasta']\n",
    "# seq_paths = ['/sfs/lustre/bahamut/scratch/jho5ze/bionets/covid/data/Houston/TX-HMH-MCoV-26102.fasta', '/sfs/lustre/bahamut/scratch/jho5ze/bionets/covid/data/Houston/TX-HMH-MCoV-31049.fasta', '/sfs/lustre/bahamut/scratch/jho5ze/bionets/covid/data/Houston/TX-HMH-MCoV-26155.fasta', '/sfs/lustre/bahamut/scratch/jho5ze/bionets/covid/data/Houston/TX-HMH-MCoV-26182.fasta', '/sfs/lustre/bahamut/scratch/jho5ze/bionets/covid/data/Houston/TX-HMH-MCoV-26335.fasta', '/sfs/lustre/bahamut/scratch/jho5ze/bionets/covid/data/Houston/TX-HMH-MCoV-31013.fasta', '/sfs/lustre/bahamut/scratch/jho5ze/bionets/covid/data/Houston/TX-HMH-MCoV-26322.fasta', '/sfs/lustre/bahamut/scratch/jho5ze/bionets/covid/data/Houston/TX-HMH-MCoV-30789.fasta', '/sfs/lustre/bahamut/scratch/jho5ze/bionets/covid/data/Houston/TX-HMH-MCoV-26237.fasta', '/sfs/lustre/bahamut/scratch/jho5ze/bionets/covid/data/Houston/TX-HMH-MCoV-31086.fasta', '/sfs/lustre/bahamut/scratch/jho5ze/bionets/covid/data/Houston/TX-HMH-MCoV-30798.fasta', '/sfs/lustre/bahamut/scratch/jho5ze/bionets/covid/data/Houston/TX-HMH-MCoV-26208.fasta', '/sfs/lustre/bahamut/scratch/jho5ze/bionets/covid/data/Houston/TX-HMH-MCoV-30997.fasta', '/sfs/lustre/bahamut/scratch/jho5ze/bionets/covid/data/Houston/TX-HMH-MCoV-26235.fasta', '/sfs/lustre/bahamut/scratch/jho5ze/bionets/covid/data/Houston/TX-HMH-MCoV-26358.fasta', '/sfs/lustre/bahamut/scratch/jho5ze/bionets/covid/data/Houston/TX-HMH-MCoV-26122.fasta', '/sfs/lustre/bahamut/scratch/jho5ze/bionets/covid/data/Houston/TX-HMH-MCoV-30718.fasta', '/sfs/lustre/bahamut/scratch/jho5ze/bionets/covid/data/Houston/TX-HMH-MCoV-30762.fasta', '/sfs/lustre/bahamut/scratch/jho5ze/bionets/covid/data/Houston/TX-HMH-MCoV-31039.fasta', '/sfs/lustre/bahamut/scratch/jho5ze/bionets/covid/data/Houston/TX-HMH-MCoV-26271.fasta', '/sfs/lustre/bahamut/scratch/jho5ze/bionets/covid/data/Houston/TX-HMH-MCoV-26261.fasta', '/sfs/lustre/bahamut/scratch/jho5ze/bionets/covid/data/Houston/TX-HMH-MCoV-30891.fasta', '/sfs/lustre/bahamut/scratch/jho5ze/bionets/covid/data/Houston/TX-HMH-MCoV-26288.fasta', '/sfs/lustre/bahamut/scratch/jho5ze/bionets/covid/data/Houston/TX-HMH-MCoV-30765.fasta', '/sfs/lustre/bahamut/scratch/jho5ze/bionets/covid/data/Houston/TX-HMH-MCoV-26275.fasta', '/sfs/lustre/bahamut/scratch/jho5ze/bionets/covid/data/Houston/TX-HMH-MCoV-26233.fasta', '/sfs/lustre/bahamut/scratch/jho5ze/bionets/covid/data/Houston/TX-HMH-MCoV-26183.fasta', '/sfs/lustre/bahamut/scratch/jho5ze/bionets/covid/data/Houston/TX-HMH-MCoV-30879.fasta', '/sfs/lustre/bahamut/scratch/jho5ze/bionets/covid/data/Houston/TX-HMH-MCoV-30867.fasta', '/sfs/lustre/bahamut/scratch/jho5ze/bionets/covid/data/Houston/TX-HMH-MCoV-26307.fasta', '/sfs/lustre/bahamut/scratch/jho5ze/bionets/covid/data/Houston/TX-HMH-MCoV-26187.fasta', '/sfs/lustre/bahamut/scratch/jho5ze/bionets/covid/data/Houston/TX-HMH-MCoV-31035.fasta', '/sfs/lustre/bahamut/scratch/jho5ze/bionets/covid/data/Houston/TX-HMH-MCoV-26227.fasta', '/sfs/lustre/bahamut/scratch/jho5ze/bionets/covid/data/Houston/TX-HMH-MCoV-26118.fasta', '/sfs/lustre/bahamut/scratch/jho5ze/bionets/covid/data/Houston/TX-HMH-MCoV-26176.fasta', '/sfs/lustre/bahamut/scratch/jho5ze/bionets/covid/data/Houston/TX-HMH-MCoV-31081.fasta', '/sfs/lustre/bahamut/scratch/jho5ze/bionets/covid/data/Houston/TX-HMH-MCoV-30963.fasta', '/sfs/lustre/bahamut/scratch/jho5ze/bionets/covid/data/Houston/TX-HMH-MCoV-31094.fasta', '/sfs/lustre/bahamut/scratch/jho5ze/bionets/covid/data/Houston/TX-HMH-MCoV-30955.fasta', '/sfs/lustre/bahamut/scratch/jho5ze/bionets/covid/data/Houston/TX-HMH-MCoV-30773.fasta', '/sfs/lustre/bahamut/scratch/jho5ze/bionets/covid/data/Houston/TX-HMH-MCoV-26164.fasta', '/sfs/lustre/bahamut/scratch/jho5ze/bionets/covid/data/Houston/TX-HMH-MCoV-30799.fasta', '/sfs/lustre/bahamut/scratch/jho5ze/bionets/covid/data/Houston/TX-HMH-MCoV-30934.fasta', '/sfs/lustre/bahamut/scratch/jho5ze/bionets/covid/data/Houston/TX-HMH-MCoV-30768.fasta', '/sfs/lustre/bahamut/scratch/jho5ze/bionets/covid/data/Houston/TX-HMH-MCoV-26294.fasta', '/sfs/lustre/bahamut/scratch/jho5ze/bionets/covid/data/Houston/TX-HMH-MCoV-26216.fasta', '/sfs/lustre/bahamut/scratch/jho5ze/bionets/covid/data/Houston/TX-HMH-MCoV-26309.fasta', '/sfs/lustre/bahamut/scratch/jho5ze/bionets/covid/data/Houston/TX-HMH-MCoV-26221.fasta', '/sfs/lustre/bahamut/scratch/jho5ze/bionets/covid/data/Houston/TX-HMH-MCoV-26100.fasta', '/sfs/lustre/bahamut/scratch/jho5ze/bionets/covid/data/Houston/TX-HMH-MCoV-26368.fasta', '/sfs/lustre/bahamut/scratch/jho5ze/bionets/covid/data/Houston/TX-HMH-MCoV-26301.fasta', '/sfs/lustre/bahamut/scratch/jho5ze/bionets/covid/data/Houston/TX-HMH-MCoV-30882.fasta', '/sfs/lustre/bahamut/scratch/jho5ze/bionets/covid/data/Houston/TX-HMH-MCoV-30937.fasta', '/sfs/lustre/bahamut/scratch/jho5ze/bionets/covid/data/Houston/TX-HMH-MCoV-31057.fasta', '/sfs/lustre/bahamut/scratch/jho5ze/bionets/covid/data/Houston/TX-HMH-MCoV-30869.fasta', '/sfs/lustre/bahamut/scratch/jho5ze/bionets/covid/data/Houston/TX-HMH-MCoV-31073.fasta', '/sfs/lustre/bahamut/scratch/jho5ze/bionets/covid/data/Houston/TX-HMH-MCoV-31058.fasta', '/sfs/lustre/bahamut/scratch/jho5ze/bionets/covid/data/Houston/TX-HMH-MCoV-26101.fasta', '/sfs/lustre/bahamut/scratch/jho5ze/bionets/covid/data/Houston/TX-HMH-MCoV-31078.fasta', '/sfs/lustre/bahamut/scratch/jho5ze/bionets/covid/data/Houston/TX-HMH-MCoV-26296.fasta', '/sfs/lustre/bahamut/scratch/jho5ze/bionets/covid/data/Houston/TX-HMH-MCoV-26241.fasta', '/sfs/lustre/bahamut/scratch/jho5ze/bionets/covid/data/Houston/TX-HMH-MCoV-26194.fasta', '/sfs/lustre/bahamut/scratch/jho5ze/bionets/covid/data/Houston/TX-HMH-MCoV-26336.fasta', '/sfs/lustre/bahamut/scratch/jho5ze/bionets/covid/data/Houston/TX-HMH-MCoV-26201.fasta', '/sfs/lustre/bahamut/scratch/jho5ze/bionets/covid/data/Houston/TX-HMH-MCoV-30949.fasta', '/sfs/lustre/bahamut/scratch/jho5ze/bionets/covid/data/Houston/TX-HMH-MCoV-26249.fasta', '/sfs/lustre/bahamut/scratch/jho5ze/bionets/covid/data/Houston/TX-HMH-MCoV-30842.fasta', '/sfs/lustre/bahamut/scratch/jho5ze/bionets/covid/data/Houston/TX-HMH-MCoV-26280.fasta', '/sfs/lustre/bahamut/scratch/jho5ze/bionets/covid/data/Houston/TX-HMH-MCoV-26163.fasta', '/sfs/lustre/bahamut/scratch/jho5ze/bionets/covid/data/Houston/TX-HMH-MCoV-26295.fasta', '/sfs/lustre/bahamut/scratch/jho5ze/bionets/covid/data/Houston/TX-HMH-MCoV-26130.fasta', '/sfs/lustre/bahamut/scratch/jho5ze/bionets/covid/data/Houston/TX-HMH-MCoV-26178.fasta', '/sfs/lustre/bahamut/scratch/jho5ze/bionets/covid/data/Houston/TX-HMH-MCoV-31046.fasta', '/sfs/lustre/bahamut/scratch/jho5ze/bionets/covid/data/Houston/TX-HMH-MCoV-26174.fasta', '/sfs/lustre/bahamut/scratch/jho5ze/bionets/covid/data/Houston/TX-HMH-MCoV-26351.fasta', '/sfs/lustre/bahamut/scratch/jho5ze/bionets/covid/data/Houston/TX-HMH-MCoV-30914.fasta', '/sfs/lustre/bahamut/scratch/jho5ze/bionets/covid/data/Houston/TX-HMH-MCoV-26344.fasta', '/sfs/lustre/bahamut/scratch/jho5ze/bionets/covid/data/Houston/TX-HMH-MCoV-30904.fasta', '/sfs/lustre/bahamut/scratch/jho5ze/bionets/covid/data/Houston/TX-HMH-MCoV-30711.fasta', '/sfs/lustre/bahamut/scratch/jho5ze/bionets/covid/data/Houston/TX-HMH-MCoV-26180.fasta', '/sfs/lustre/bahamut/scratch/jho5ze/bionets/covid/data/Houston/TX-HMH-MCoV-26316.fasta', '/sfs/lustre/bahamut/scratch/jho5ze/bionets/covid/data/Houston/TX-HMH-MCoV-26319.fasta', '/sfs/lustre/bahamut/scratch/jho5ze/bionets/covid/data/Houston/TX-HMH-MCoV-26108.fasta', '/sfs/lustre/bahamut/scratch/jho5ze/bionets/covid/data/Houston/TX-HMH-MCoV-26248.fasta', '/sfs/lustre/bahamut/scratch/jho5ze/bionets/covid/data/Houston/TX-HMH-MCoV-26293.fasta', '/sfs/lustre/bahamut/scratch/jho5ze/bionets/covid/data/Houston/TX-HMH-MCoV-26264.fasta', '/sfs/lustre/bahamut/scratch/jho5ze/bionets/covid/data/Houston/TX-HMH-MCoV-30714.fasta', '/sfs/lustre/bahamut/scratch/jho5ze/bionets/covid/data/Houston/TX-HMH-MCoV-26262.fasta', '/sfs/lustre/bahamut/scratch/jho5ze/bionets/covid/data/Houston/TX-HMH-MCoV-30771.fasta', '/sfs/lustre/bahamut/scratch/jho5ze/bionets/covid/data/Houston/TX-HMH-MCoV-26211.fasta', '/sfs/lustre/bahamut/scratch/jho5ze/bionets/covid/data/Houston/TX-HMH-MCoV-26198.fasta', '/sfs/lustre/bahamut/scratch/jho5ze/bionets/covid/data/Houston/TX-HMH-MCoV-30938.fasta', '/sfs/lustre/bahamut/scratch/jho5ze/bionets/covid/data/Houston/TX-HMH-MCoV-26196.fasta', '/sfs/lustre/bahamut/scratch/jho5ze/bionets/covid/data/Houston/TX-HMH-MCoV-30719.fasta', '/sfs/lustre/bahamut/scratch/jho5ze/bionets/covid/data/Houston/TX-HMH-MCoV-26223.fasta', '/sfs/lustre/bahamut/scratch/jho5ze/bionets/covid/data/Houston/TX-HMH-MCoV-26165.fasta', '/sfs/lustre/bahamut/scratch/jho5ze/bionets/covid/data/Houston/TX-HMH-MCoV-26324.fasta', '/sfs/lustre/bahamut/scratch/jho5ze/bionets/covid/data/Houston/TX-HMH-MCoV-26160.fasta', '/sfs/lustre/bahamut/scratch/jho5ze/bionets/covid/data/Houston/TX-HMH-MCoV-30783.fasta', '/sfs/lustre/bahamut/scratch/jho5ze/bionets/covid/data/Houston/TX-HMH-MCoV-26134.fasta', '/sfs/lustre/bahamut/scratch/jho5ze/bionets/covid/data/Houston/TX-HMH-MCoV-30887.fasta', '/sfs/lustre/bahamut/scratch/jho5ze/bionets/covid/data/Houston/TX-HMH-MCoV-26245.fasta', '/sfs/lustre/bahamut/scratch/jho5ze/bionets/covid/data/Houston/TX-HMH-MCoV-26361.fasta', '/sfs/lustre/bahamut/scratch/jho5ze/bionets/covid/data/Houston/TX-HMH-MCoV-26303.fasta', '/sfs/lustre/bahamut/scratch/jho5ze/bionets/covid/data/Houston/TX-HMH-MCoV-26179.fasta', '/sfs/lustre/bahamut/scratch/jho5ze/bionets/covid/data/Houston/TX-HMH-MCoV-31089.fasta', '/sfs/lustre/bahamut/scratch/jho5ze/bionets/covid/data/Houston/TX-HMH-MCoV-26230.fasta', '/sfs/lustre/bahamut/scratch/jho5ze/bionets/covid/data/Houston/TX-HMH-MCoV-26289.fasta', '/sfs/lustre/bahamut/scratch/jho5ze/bionets/covid/data/Houston/TX-HMH-MCoV-30712.fasta', '/sfs/lustre/bahamut/scratch/jho5ze/bionets/covid/data/Houston/TX-HMH-MCoV-26347.fasta', '/sfs/lustre/bahamut/scratch/jho5ze/bionets/covid/data/Houston/TX-HMH-MCoV-26175.fasta', '/sfs/lustre/bahamut/scratch/jho5ze/bionets/covid/data/Houston/TX-HMH-MCoV-26272.fasta', '/sfs/lustre/bahamut/scratch/jho5ze/bionets/covid/data/Houston/TX-HMH-MCoV-26111.fasta', '/sfs/lustre/bahamut/scratch/jho5ze/bionets/covid/data/Houston/TX-HMH-MCoV-30809.fasta', '/sfs/lustre/bahamut/scratch/jho5ze/bionets/covid/data/Houston/TX-HMH-MCoV-26150.fasta', '/sfs/lustre/bahamut/scratch/jho5ze/bionets/covid/data/Houston/TX-HMH-MCoV-26311.fasta', '/sfs/lustre/bahamut/scratch/jho5ze/bionets/covid/data/Houston/TX-HMH-MCoV-30828.fasta', '/sfs/lustre/bahamut/scratch/jho5ze/bionets/covid/data/Houston/TX-HMH-MCoV-30825.fasta', '/sfs/lustre/bahamut/scratch/jho5ze/bionets/covid/data/Houston/TX-HMH-MCoV-31088.fasta', '/sfs/lustre/bahamut/scratch/jho5ze/bionets/covid/data/Houston/TX-HMH-MCoV-31041.fasta', '/sfs/lustre/bahamut/scratch/jho5ze/bionets/covid/data/Houston/TX-HMH-MCoV-30977.fasta', '/sfs/lustre/bahamut/scratch/jho5ze/bionets/covid/data/Houston/TX-HMH-MCoV-30992.fasta', '/sfs/lustre/bahamut/scratch/jho5ze/bionets/covid/data/Houston/TX-HMH-MCoV-26363.fasta', '/sfs/lustre/bahamut/scratch/jho5ze/bionets/covid/data/Houston/TX-HMH-MCoV-31083.fasta', '/sfs/lustre/bahamut/scratch/jho5ze/bionets/covid/data/Houston/TX-HMH-MCoV-26326.fasta', '/sfs/lustre/bahamut/scratch/jho5ze/bionets/covid/data/Houston/TX-HMH-MCoV-26112.fasta', '/sfs/lustre/bahamut/scratch/jho5ze/bionets/covid/data/Houston/TX-HMH-MCoV-30915.fasta', '/sfs/lustre/bahamut/scratch/jho5ze/bionets/covid/data/Houston/TX-HMH-MCoV-30924.fasta', '/sfs/lustre/bahamut/scratch/jho5ze/bionets/covid/data/Houston/TX-HMH-MCoV-30961.fasta', '/sfs/lustre/bahamut/scratch/jho5ze/bionets/covid/data/Houston/TX-HMH-MCoV-30819.fasta', '/sfs/lustre/bahamut/scratch/jho5ze/bionets/covid/data/Houston/TX-HMH-MCoV-30778.fasta', '/sfs/lustre/bahamut/scratch/jho5ze/bionets/covid/data/Houston/TX-HMH-MCoV-26274.fasta', '/sfs/lustre/bahamut/scratch/jho5ze/bionets/covid/data/Houston/TX-HMH-MCoV-26139.fasta', '/sfs/lustre/bahamut/scratch/jho5ze/bionets/covid/data/Houston/TX-HMH-MCoV-26218.fasta', '/sfs/lustre/bahamut/scratch/jho5ze/bionets/covid/data/Houston/TX-HMH-MCoV-26353.fasta', '/sfs/lustre/bahamut/scratch/jho5ze/bionets/covid/data/Houston/TX-HMH-MCoV-26156.fasta', '/sfs/lustre/bahamut/scratch/jho5ze/bionets/covid/data/Houston/TX-HMH-MCoV-30950.fasta', '/sfs/lustre/bahamut/scratch/jho5ze/bionets/covid/data/Houston/TX-HMH-MCoV-30787.fasta', '/sfs/lustre/bahamut/scratch/jho5ze/bionets/covid/data/Houston/TX-HMH-MCoV-31032.fasta', '/sfs/lustre/bahamut/scratch/jho5ze/bionets/covid/data/Houston/TX-HMH-MCoV-30731.fasta', '/sfs/lustre/bahamut/scratch/jho5ze/bionets/covid/data/Houston/TX-HMH-MCoV-26127.fasta', '/sfs/lustre/bahamut/scratch/jho5ze/bionets/covid/data/Houston/TX-HMH-MCoV-31075.fasta', '/sfs/lustre/bahamut/scratch/jho5ze/bionets/covid/data/Houston/TX-HMH-MCoV-26097.fasta', '/sfs/lustre/bahamut/scratch/jho5ze/bionets/covid/data/Houston/TX-HMH-MCoV-31093.fasta', '/sfs/lustre/bahamut/scratch/jho5ze/bionets/covid/data/Houston/TX-HMH-MCoV-26096.fasta', '/sfs/lustre/bahamut/scratch/jho5ze/bionets/covid/data/Houston/TX-HMH-MCoV-30920.fasta', '/sfs/lustre/bahamut/scratch/jho5ze/bionets/covid/data/Houston/TX-HMH-MCoV-26337.fasta', '/sfs/lustre/bahamut/scratch/jho5ze/bionets/covid/data/Houston/TX-HMH-MCoV-30919.fasta', '/sfs/lustre/bahamut/scratch/jho5ze/bionets/covid/data/Houston/TX-HMH-MCoV-30917.fasta', '/sfs/lustre/bahamut/scratch/jho5ze/bionets/covid/data/Houston/TX-HMH-MCoV-30918.fasta', '/sfs/lustre/bahamut/scratch/jho5ze/bionets/covid/data/Houston/TX-HMH-MCoV-26334.fasta', '/sfs/lustre/bahamut/scratch/jho5ze/bionets/covid/data/Houston/TX-HMH-MCoV-26120.fasta', '/sfs/lustre/bahamut/scratch/jho5ze/bionets/covid/data/Houston/TX-HMH-MCoV-26206.fasta', '/sfs/lustre/bahamut/scratch/jho5ze/bionets/covid/data/Houston/TX-HMH-MCoV-30884.fasta', '/sfs/lustre/bahamut/scratch/jho5ze/bionets/covid/data/Houston/TX-HMH-MCoV-26204.fasta', '/sfs/lustre/bahamut/scratch/jho5ze/bionets/covid/data/Houston/TX-HMH-MCoV-26202.fasta', '/sfs/lustre/bahamut/scratch/jho5ze/bionets/covid/data/Houston/TX-HMH-MCoV-26129.fasta', '/sfs/lustre/bahamut/scratch/jho5ze/bionets/covid/data/Houston/TX-HMH-MCoV-31015.fasta', '/sfs/lustre/bahamut/scratch/jho5ze/bionets/covid/data/Houston/TX-HMH-MCoV-30980.fasta', '/sfs/lustre/bahamut/scratch/jho5ze/bionets/covid/data/Houston/TX-HMH-MCoV-30871.fasta', '/sfs/lustre/bahamut/scratch/jho5ze/bionets/covid/data/Houston/TX-HMH-MCoV-26192.fasta', '/sfs/lustre/bahamut/scratch/jho5ze/bionets/covid/data/Houston/TX-HMH-MCoV-30932.fasta', '/sfs/lustre/bahamut/scratch/jho5ze/bionets/covid/data/Houston/TX-HMH-MCoV-30821.fasta', '/sfs/lustre/bahamut/scratch/jho5ze/bionets/covid/data/Houston/TX-HMH-MCoV-26258.fasta', '/sfs/lustre/bahamut/scratch/jho5ze/bionets/covid/data/Houston/TX-HMH-MCoV-26209.fasta', '/sfs/lustre/bahamut/scratch/jho5ze/bionets/covid/data/Houston/TX-HMH-MCoV-31085.fasta', '/sfs/lustre/bahamut/scratch/jho5ze/bionets/covid/data/Houston/TX-HMH-MCoV-26166.fasta', '/sfs/lustre/bahamut/scratch/jho5ze/bionets/covid/data/Houston/TX-HMH-MCoV-26254.fasta', '/sfs/lustre/bahamut/scratch/jho5ze/bionets/covid/data/Houston/TX-HMH-MCoV-26260.fasta', '/sfs/lustre/bahamut/scratch/jho5ze/bionets/covid/data/Houston/TX-HMH-MCoV-26354.fasta', '/sfs/lustre/bahamut/scratch/jho5ze/bionets/covid/data/Houston/TX-HMH-MCoV-26207.fasta', '/sfs/lustre/bahamut/scratch/jho5ze/bionets/covid/data/Houston/TX-HMH-MCoV-26141.fasta', '/sfs/lustre/bahamut/scratch/jho5ze/bionets/covid/data/Houston/TX-HMH-MCoV-26357.fasta', '/sfs/lustre/bahamut/scratch/jho5ze/bionets/covid/data/Houston/TX-HMH-MCoV-26137.fasta', '/sfs/lustre/bahamut/scratch/jho5ze/bionets/covid/data/Houston/TX-HMH-MCoV-26346.fasta', '/sfs/lustre/bahamut/scratch/jho5ze/bionets/covid/data/Houston/TX-HMH-MCoV-31072.fasta', '/sfs/lustre/bahamut/scratch/jho5ze/bionets/covid/data/Houston/TX-HMH-MCoV-26340.fasta', '/sfs/lustre/bahamut/scratch/jho5ze/bionets/covid/data/Houston/TX-HMH-MCoV-26282.fasta', '/sfs/lustre/bahamut/scratch/jho5ze/bionets/covid/data/Houston/TX-HMH-MCoV-30928.fasta', '/sfs/lustre/bahamut/scratch/jho5ze/bionets/covid/data/Houston/TX-HMH-MCoV-30816.fasta', '/sfs/lustre/bahamut/scratch/jho5ze/bionets/covid/data/Houston/TX-HMH-MCoV-31092.fasta', '/sfs/lustre/bahamut/scratch/jho5ze/bionets/covid/data/Houston/TX-HMH-MCoV-26116.fasta', '/sfs/lustre/bahamut/scratch/jho5ze/bionets/covid/data/Houston/TX-HMH-MCoV-30854.fasta', '/sfs/lustre/bahamut/scratch/jho5ze/bionets/covid/data/Houston/TX-HMH-MCoV-26140.fasta', '/sfs/lustre/bahamut/scratch/jho5ze/bionets/covid/data/Houston/TX-HMH-MCoV-30979.fasta', '/sfs/lustre/bahamut/scratch/jho5ze/bionets/covid/data/Houston/TX-HMH-MCoV-26219.fasta', '/sfs/lustre/bahamut/scratch/jho5ze/bionets/covid/data/Houston/TX-HMH-MCoV-26177.fasta', '/sfs/lustre/bahamut/scratch/jho5ze/bionets/covid/data/Houston/TX-HMH-MCoV-30930.fasta', '/sfs/lustre/bahamut/scratch/jho5ze/bionets/covid/data/Houston/TX-HMH-MCoV-30817.fasta', '/sfs/lustre/bahamut/scratch/jho5ze/bionets/covid/data/Houston/TX-HMH-MCoV-30940.fasta', '/sfs/lustre/bahamut/scratch/jho5ze/bionets/covid/data/Houston/TX-HMH-MCoV-26222.fasta', '/sfs/lustre/bahamut/scratch/jho5ze/bionets/covid/data/Houston/TX-HMH-MCoV-26184.fasta', '/sfs/lustre/bahamut/scratch/jho5ze/bionets/covid/data/Houston/TX-HMH-MCoV-26285.fasta', '/sfs/lustre/bahamut/scratch/jho5ze/bionets/covid/data/Houston/TX-HMH-MCoV-30803.fasta', '/sfs/lustre/bahamut/scratch/jho5ze/bionets/covid/data/Houston/TX-HMH-MCoV-26220.fasta', '/sfs/lustre/bahamut/scratch/jho5ze/bionets/covid/data/Houston/TX-HMH-MCoV-30908.fasta', '/sfs/lustre/bahamut/scratch/jho5ze/bionets/covid/data/Houston/TX-HMH-MCoV-30885.fasta', '/sfs/lustre/bahamut/scratch/jho5ze/bionets/covid/data/Houston/TX-HMH-MCoV-26121.fasta', '/sfs/lustre/bahamut/scratch/jho5ze/bionets/covid/data/Houston/TX-HMH-MCoV-30720.fasta', '/sfs/lustre/bahamut/scratch/jho5ze/bionets/covid/data/Houston/TX-HMH-MCoV-30713.fasta', '/sfs/lustre/bahamut/scratch/jho5ze/bionets/covid/data/Houston/TX-HMH-MCoV-26267.fasta', '/sfs/lustre/bahamut/scratch/jho5ze/bionets/covid/data/Houston/TX-HMH-MCoV-26243.fasta', '/sfs/lustre/bahamut/scratch/jho5ze/bionets/covid/data/Houston/TX-HMH-MCoV-31064.fasta', '/sfs/lustre/bahamut/scratch/jho5ze/bionets/covid/data/Houston/TX-HMH-MCoV-31047.fasta', '/sfs/lustre/bahamut/scratch/jho5ze/bionets/covid/data/Houston/TX-HMH-MCoV-26253.fasta', '/sfs/lustre/bahamut/scratch/jho5ze/bionets/covid/data/Houston/TX-HMH-MCoV-26117.fasta', '/sfs/lustre/bahamut/scratch/jho5ze/bionets/covid/data/Houston/TX-HMH-MCoV-30889.fasta', '/sfs/lustre/bahamut/scratch/jho5ze/bionets/covid/data/Houston/TX-HMH-MCoV-26217.fasta', '/sfs/lustre/bahamut/scratch/jho5ze/bionets/covid/data/Houston/TX-HMH-MCoV-26159.fasta', '/sfs/lustre/bahamut/scratch/jho5ze/bionets/covid/data/Houston/TX-HMH-MCoV-26273.fasta', '/sfs/lustre/bahamut/scratch/jho5ze/bionets/covid/data/Houston/TX-HMH-MCoV-30909.fasta', '/sfs/lustre/bahamut/scratch/jho5ze/bionets/covid/data/Houston/TX-HMH-MCoV-31017.fasta', '/sfs/lustre/bahamut/scratch/jho5ze/bionets/covid/data/Houston/TX-HMH-MCoV-26328.fasta', '/sfs/lustre/bahamut/scratch/jho5ze/bionets/covid/data/Houston/TX-HMH-MCoV-31016.fasta', '/sfs/lustre/bahamut/scratch/jho5ze/bionets/covid/data/Houston/TX-HMH-MCoV-26190.fasta', '/sfs/lustre/bahamut/scratch/jho5ze/bionets/covid/data/Houston/TX-HMH-MCoV-26302.fasta', '/sfs/lustre/bahamut/scratch/jho5ze/bionets/covid/data/Houston/TX-HMH-MCoV-30966.fasta', '/sfs/lustre/bahamut/scratch/jho5ze/bionets/covid/data/Houston/TX-HMH-MCoV-31077.fasta', '/sfs/lustre/bahamut/scratch/jho5ze/bionets/covid/data/Houston/TX-HMH-MCoV-26213.fasta', '/sfs/lustre/bahamut/scratch/jho5ze/bionets/covid/data/Houston/TX-HMH-MCoV-30943.fasta', '/sfs/lustre/bahamut/scratch/jho5ze/bionets/covid/data/Houston/TX-HMH-MCoV-26105.fasta', '/sfs/lustre/bahamut/scratch/jho5ze/bionets/covid/data/Houston/TX-HMH-MCoV-26277.fasta', '/sfs/lustre/bahamut/scratch/jho5ze/bionets/covid/data/Houston/TX-HMH-MCoV-30820.fasta', '/sfs/lustre/bahamut/scratch/jho5ze/bionets/covid/data/Houston/TX-HMH-MCoV-31026.fasta', '/sfs/lustre/bahamut/scratch/jho5ze/bionets/covid/data/Houston/TX-HMH-MCoV-30880.fasta', '/sfs/lustre/bahamut/scratch/jho5ze/bionets/covid/data/Houston/TX-HMH-MCoV-30717.fasta', '/sfs/lustre/bahamut/scratch/jho5ze/bionets/covid/data/Houston/TX-HMH-MCoV-26110.fasta', '/sfs/lustre/bahamut/scratch/jho5ze/bionets/covid/data/Houston/TX-HMH-MCoV-26268.fasta', '/sfs/lustre/bahamut/scratch/jho5ze/bionets/covid/data/Houston/TX-HMH-MCoV-26244.fasta', '/sfs/lustre/bahamut/scratch/jho5ze/bionets/covid/data/Houston/TX-HMH-MCoV-31059.fasta', '/sfs/lustre/bahamut/scratch/jho5ze/bionets/covid/data/Houston/TX-HMH-MCoV-26333.fasta', '/sfs/lustre/bahamut/scratch/jho5ze/bionets/covid/data/Houston/TX-HMH-MCoV-26152.fasta', '/sfs/lustre/bahamut/scratch/jho5ze/bionets/covid/data/Houston/TX-HMH-MCoV-31060.fasta', '/sfs/lustre/bahamut/scratch/jho5ze/bionets/covid/data/Houston/TX-HMH-MCoV-30823.fasta', '/sfs/lustre/bahamut/scratch/jho5ze/bionets/covid/data/Houston/TX-HMH-MCoV-26145.fasta', '/sfs/lustre/bahamut/scratch/jho5ze/bionets/covid/data/Houston/TX-HMH-MCoV-26215.fasta', '/sfs/lustre/bahamut/scratch/jho5ze/bionets/covid/data/Houston/TX-HMH-MCoV-26193.fasta', '/sfs/lustre/bahamut/scratch/jho5ze/bionets/covid/data/Houston/TX-HMH-MCoV-26170.fasta', '/sfs/lustre/bahamut/scratch/jho5ze/bionets/covid/data/Houston/TX-HMH-MCoV-30866.fasta', '/sfs/lustre/bahamut/scratch/jho5ze/bionets/covid/data/Houston/TX-HMH-MCoV-26224.fasta', '/sfs/lustre/bahamut/scratch/jho5ze/bionets/covid/data/Houston/TX-HMH-MCoV-30881.fasta', '/sfs/lustre/bahamut/scratch/jho5ze/bionets/covid/data/Houston/TX-HMH-MCoV-26200.fasta', '/sfs/lustre/bahamut/scratch/jho5ze/bionets/covid/data/Houston/TX-HMH-MCoV-26115.fasta', '/sfs/lustre/bahamut/scratch/jho5ze/bionets/covid/data/Houston/TX-HMH-MCoV-30814.fasta', '/sfs/lustre/bahamut/scratch/jho5ze/bionets/covid/data/Houston/TX-HMH-MCoV-30948.fasta', '/sfs/lustre/bahamut/scratch/jho5ze/bionets/covid/data/Houston/TX-HMH-MCoV-26138.fasta', '/sfs/lustre/bahamut/scratch/jho5ze/bionets/covid/data/Houston/TX-HMH-MCoV-30946.fasta', '/sfs/lustre/bahamut/scratch/jho5ze/bionets/covid/data/Houston/TX-HMH-MCoV-26318.fasta', '/sfs/lustre/bahamut/scratch/jho5ze/bionets/covid/data/Houston/TX-HMH-MCoV-26119.fasta', '/sfs/lustre/bahamut/scratch/jho5ze/bionets/covid/data/Houston/TX-HMH-MCoV-30913.fasta', '/sfs/lustre/bahamut/scratch/jho5ze/bionets/covid/data/Houston/TX-HMH-MCoV-26329.fasta', '/sfs/lustre/bahamut/scratch/jho5ze/bionets/covid/data/Houston/TX-HMH-MCoV-30995.fasta', '/sfs/lustre/bahamut/scratch/jho5ze/bionets/covid/data/Houston/TX-HMH-MCoV-30933.fasta', '/sfs/lustre/bahamut/scratch/jho5ze/bionets/covid/data/Houston/TX-HMH-MCoV-26109.fasta', '/sfs/lustre/bahamut/scratch/jho5ze/bionets/covid/data/Houston/TX-HMH-MCoV-30910.fasta', '/sfs/lustre/bahamut/scratch/jho5ze/bionets/covid/data/Houston/TX-HMH-MCoV-31076.fasta', '/sfs/lustre/bahamut/scratch/jho5ze/bionets/covid/data/Houston/TX-HMH-MCoV-26350.fasta', '/sfs/lustre/bahamut/scratch/jho5ze/bionets/covid/data/Houston/TX-HMH-MCoV-26125.fasta', '/sfs/lustre/bahamut/scratch/jho5ze/bionets/covid/data/Houston/TX-HMH-MCoV-31052.fasta', '/sfs/lustre/bahamut/scratch/jho5ze/bionets/covid/data/Houston/TX-HMH-MCoV-26149.fasta', '/sfs/lustre/bahamut/scratch/jho5ze/bionets/covid/data/Houston/TX-HMH-MCoV-26364.fasta', '/sfs/lustre/bahamut/scratch/jho5ze/bionets/covid/data/Houston/TX-HMH-MCoV-26135.fasta', '/sfs/lustre/bahamut/scratch/jho5ze/bionets/covid/data/Houston/TX-HMH-MCoV-30870.fasta', '/sfs/lustre/bahamut/scratch/jho5ze/bionets/covid/data/Houston/TX-HMH-MCoV-30929.fasta', '/sfs/lustre/bahamut/scratch/jho5ze/bionets/covid/data/Houston/TX-HMH-MCoV-26299.fasta', '/sfs/lustre/bahamut/scratch/jho5ze/bionets/covid/data/Houston/TX-HMH-MCoV-26276.fasta', '/sfs/lustre/bahamut/scratch/jho5ze/bionets/covid/data/Houston/TX-HMH-MCoV-30818.fasta', '/sfs/lustre/bahamut/scratch/jho5ze/bionets/covid/data/Houston/TX-HMH-MCoV-30886.fasta', '/sfs/lustre/bahamut/scratch/jho5ze/bionets/covid/data/Houston/TX-HMH-MCoV-26310.fasta', '/sfs/lustre/bahamut/scratch/jho5ze/bionets/covid/data/Houston/TX-HMH-MCoV-30807.fasta', '/sfs/lustre/bahamut/scratch/jho5ze/bionets/covid/data/Houston/TX-HMH-MCoV-30954.fasta', '/sfs/lustre/bahamut/scratch/jho5ze/bionets/covid/data/Houston/TX-HMH-MCoV-26185.fasta', '/sfs/lustre/bahamut/scratch/jho5ze/bionets/covid/data/Houston/TX-HMH-MCoV-26132.fasta', '/sfs/lustre/bahamut/scratch/jho5ze/bionets/covid/data/Houston/TX-HMH-MCoV-26252.fasta', '/sfs/lustre/bahamut/scratch/jho5ze/bionets/covid/data/Houston/TX-HMH-MCoV-26298.fasta', '/sfs/lustre/bahamut/scratch/jho5ze/bionets/covid/data/Houston/TX-HMH-MCoV-30796.fasta', '/sfs/lustre/bahamut/scratch/jho5ze/bionets/covid/data/Houston/TX-HMH-MCoV-26142.fasta', '/sfs/lustre/bahamut/scratch/jho5ze/bionets/covid/data/Houston/TX-HMH-MCoV-26338.fasta', '/sfs/lustre/bahamut/scratch/jho5ze/bionets/covid/data/Houston/TX-HMH-MCoV-26136.fasta', '/sfs/lustre/bahamut/scratch/jho5ze/bionets/covid/data/Houston/TX-HMH-MCoV-26345.fasta', '/sfs/lustre/bahamut/scratch/jho5ze/bionets/covid/data/Houston/TX-HMH-MCoV-26365.fasta', '/sfs/lustre/bahamut/scratch/jho5ze/bionets/covid/data/Houston/TX-HMH-MCoV-30748.fasta', '/sfs/lustre/bahamut/scratch/jho5ze/bionets/covid/data/Houston/TX-HMH-MCoV-30815.fasta', '/sfs/lustre/bahamut/scratch/jho5ze/bionets/covid/data/Houston/TX-HMH-MCoV-30931.fasta', '/sfs/lustre/bahamut/scratch/jho5ze/bionets/covid/data/Houston/TX-HMH-MCoV-26205.fasta', '/sfs/lustre/bahamut/scratch/jho5ze/bionets/covid/data/Houston/TX-HMH-MCoV-26114.fasta', '/sfs/lustre/bahamut/scratch/jho5ze/bionets/covid/data/Houston/TX-HMH-MCoV-30969.fasta', '/sfs/lustre/bahamut/scratch/jho5ze/bionets/covid/data/Houston/TX-HMH-MCoV-26278.fasta', '/sfs/lustre/bahamut/scratch/jho5ze/bionets/covid/data/Houston/TX-HMH-MCoV-26348.fasta', '/sfs/lustre/bahamut/scratch/jho5ze/bionets/covid/data/Houston/TX-HMH-MCoV-30874.fasta', '/sfs/lustre/bahamut/scratch/jho5ze/bionets/covid/data/Houston/TX-HMH-MCoV-26315.fasta', '/sfs/lustre/bahamut/scratch/jho5ze/bionets/covid/data/Houston/TX-HMH-MCoV-30877.fasta', '/sfs/lustre/bahamut/scratch/jho5ze/bionets/covid/data/Houston/TX-HMH-MCoV-30749.fasta', '/sfs/lustre/bahamut/scratch/jho5ze/bionets/covid/data/Houston/TX-HMH-MCoV-26331.fasta', '/sfs/lustre/bahamut/scratch/jho5ze/bionets/covid/data/Houston/TX-HMH-MCoV-26320.fasta', '/sfs/lustre/bahamut/scratch/jho5ze/bionets/covid/data/Houston/TX-HMH-MCoV-30826.fasta', '/sfs/lustre/bahamut/scratch/jho5ze/bionets/covid/data/Houston/TX-HMH-MCoV-26231.fasta', '/sfs/lustre/bahamut/scratch/jho5ze/bionets/covid/data/Houston/TX-HMH-MCoV-30883.fasta', '/sfs/lustre/bahamut/scratch/jho5ze/bionets/covid/data/Houston/TX-HMH-MCoV-26263.fasta', '/sfs/lustre/bahamut/scratch/jho5ze/bionets/covid/data/Houston/TX-HMH-MCoV-26167.fasta', '/sfs/lustre/bahamut/scratch/jho5ze/bionets/covid/data/Houston/TX-HMH-MCoV-26279.fasta', '/sfs/lustre/bahamut/scratch/jho5ze/bionets/covid/data/Houston/TX-HMH-MCoV-31069.fasta', '/sfs/lustre/bahamut/scratch/jho5ze/bionets/covid/data/Houston/TX-HMH-MCoV-26154.fasta', '/sfs/lustre/bahamut/scratch/jho5ze/bionets/covid/data/Houston/TX-HMH-MCoV-26128.fasta', '/sfs/lustre/bahamut/scratch/jho5ze/bionets/covid/data/Houston/TX-HMH-MCoV-30907.fasta', '/sfs/lustre/bahamut/scratch/jho5ze/bionets/covid/data/Houston/TX-HMH-MCoV-26266.fasta', '/sfs/lustre/bahamut/scratch/jho5ze/bionets/covid/data/Houston/TX-HMH-MCoV-31043.fasta', '/sfs/lustre/bahamut/scratch/jho5ze/bionets/covid/data/Houston/TX-HMH-MCoV-30878.fasta', '/sfs/lustre/bahamut/scratch/jho5ze/bionets/covid/data/Houston/TX-HMH-MCoV-26352.fasta', '/sfs/lustre/bahamut/scratch/jho5ze/bionets/covid/data/Houston/TX-HMH-MCoV-30987.fasta', '/sfs/lustre/bahamut/scratch/jho5ze/bionets/covid/data/Houston/TX-HMH-MCoV-30947.fasta', '/sfs/lustre/bahamut/scratch/jho5ze/bionets/covid/data/Houston/TX-HMH-MCoV-30808.fasta', '/sfs/lustre/bahamut/scratch/jho5ze/bionets/covid/data/Houston/TX-HMH-MCoV-30905.fasta', '/sfs/lustre/bahamut/scratch/jho5ze/bionets/covid/data/Houston/TX-HMH-MCoV-26144.fasta', '/sfs/lustre/bahamut/scratch/jho5ze/bionets/covid/data/Houston/TX-HMH-MCoV-26255.fasta', '/sfs/lustre/bahamut/scratch/jho5ze/bionets/covid/data/Houston/TX-HMH-MCoV-30715.fasta', '/sfs/lustre/bahamut/scratch/jho5ze/bionets/covid/data/Houston/TX-HMH-MCoV-31037.fasta', '/sfs/lustre/bahamut/scratch/jho5ze/bionets/covid/data/Houston/TX-HMH-MCoV-30830.fasta', '/sfs/lustre/bahamut/scratch/jho5ze/bionets/covid/data/Houston/TX-HMH-MCoV-30994.fasta', '/sfs/lustre/bahamut/scratch/jho5ze/bionets/covid/data/Houston/TX-HMH-MCoV-26304.fasta', '/sfs/lustre/bahamut/scratch/jho5ze/bionets/covid/data/Houston/TX-HMH-MCoV-26321.fasta', '/sfs/lustre/bahamut/scratch/jho5ze/bionets/covid/data/Houston/TX-HMH-MCoV-30988.fasta', '/sfs/lustre/bahamut/scratch/jho5ze/bionets/covid/data/Houston/TX-HMH-MCoV-26123.fasta', '/sfs/lustre/bahamut/scratch/jho5ze/bionets/covid/data/Houston/TX-HMH-MCoV-26104.fasta', '/sfs/lustre/bahamut/scratch/jho5ze/bionets/covid/data/Houston/TX-HMH-MCoV-26191.fasta', '/sfs/lustre/bahamut/scratch/jho5ze/bionets/covid/data/Houston/TX-HMH-MCoV-30761.fasta', '/sfs/lustre/bahamut/scratch/jho5ze/bionets/covid/data/Houston/TX-HMH-MCoV-30747.fasta', '/sfs/lustre/bahamut/scratch/jho5ze/bionets/covid/data/Houston/TX-HMH-MCoV-26226.fasta', '/sfs/lustre/bahamut/scratch/jho5ze/bionets/covid/data/Houston/TX-HMH-MCoV-26148.fasta', '/sfs/lustre/bahamut/scratch/jho5ze/bionets/covid/data/Houston/TX-HMH-MCoV-31062.fasta', '/sfs/lustre/bahamut/scratch/jho5ze/bionets/covid/data/Houston/TX-HMH-MCoV-31080.fasta', '/sfs/lustre/bahamut/scratch/jho5ze/bionets/covid/data/Houston/TX-HMH-MCoV-31038.fasta', '/sfs/lustre/bahamut/scratch/jho5ze/bionets/covid/data/Houston/TX-HMH-MCoV-26317.fasta', '/sfs/lustre/bahamut/scratch/jho5ze/bionets/covid/data/Houston/TX-HMH-MCoV-30998.fasta', '/sfs/lustre/bahamut/scratch/jho5ze/bionets/covid/data/Houston/TX-HMH-MCoV-31036.fasta', '/sfs/lustre/bahamut/scratch/jho5ze/bionets/covid/data/Houston/TX-HMH-MCoV-30926.fasta', '/sfs/lustre/bahamut/scratch/jho5ze/bionets/covid/data/Houston/TX-HMH-MCoV-30898.fasta', '/sfs/lustre/bahamut/scratch/jho5ze/bionets/covid/data/Houston/TX-HMH-MCoV-30939.fasta', '/sfs/lustre/bahamut/scratch/jho5ze/bionets/covid/data/Houston/TX-HMH-MCoV-30923.fasta', '/sfs/lustre/bahamut/scratch/jho5ze/bionets/covid/data/Houston/TX-HMH-MCoV-26168.fasta', '/sfs/lustre/bahamut/scratch/jho5ze/bionets/covid/data/Houston/TX-HMH-MCoV-31087.fasta', '/sfs/lustre/bahamut/scratch/jho5ze/bionets/covid/data/Houston/TX-HMH-MCoV-30973.fasta', '/sfs/lustre/bahamut/scratch/jho5ze/bionets/covid/data/Houston/TX-HMH-MCoV-26236.fasta', '/sfs/lustre/bahamut/scratch/jho5ze/bionets/covid/data/Houston/TX-HMH-MCoV-31061.fasta', '/sfs/lustre/bahamut/scratch/jho5ze/bionets/covid/data/Houston/TX-HMH-MCoV-26240.fasta', '/sfs/lustre/bahamut/scratch/jho5ze/bionets/covid/data/Houston/TX-HMH-MCoV-26242.fasta', '/sfs/lustre/bahamut/scratch/jho5ze/bionets/covid/data/Houston/TX-HMH-MCoV-31028.fasta', '/sfs/lustre/bahamut/scratch/jho5ze/bionets/covid/data/Houston/TX-HMH-MCoV-30853.fasta', '/sfs/lustre/bahamut/scratch/jho5ze/bionets/covid/data/Houston/TX-HMH-MCoV-26300.fasta', '/sfs/lustre/bahamut/scratch/jho5ze/bionets/covid/data/Houston/TX-HMH-MCoV-31063.fasta', '/sfs/lustre/bahamut/scratch/jho5ze/bionets/covid/data/Houston/TX-HMH-MCoV-30978.fasta', '/sfs/lustre/bahamut/scratch/jho5ze/bionets/covid/data/Houston/TX-HMH-MCoV-31042.fasta', '/sfs/lustre/bahamut/scratch/jho5ze/bionets/covid/data/Houston/TX-HMH-MCoV-26186.fasta', '/sfs/lustre/bahamut/scratch/jho5ze/bionets/covid/data/Houston/TX-HMH-MCoV-31071.fasta', '/sfs/lustre/bahamut/scratch/jho5ze/bionets/covid/data/Houston/TX-HMH-MCoV-26195.fasta', '/sfs/lustre/bahamut/scratch/jho5ze/bionets/covid/data/Houston/TX-HMH-MCoV-26199.fasta', '/sfs/lustre/bahamut/scratch/jho5ze/bionets/covid/data/Houston/TX-HMH-MCoV-30964.fasta', '/sfs/lustre/bahamut/scratch/jho5ze/bionets/covid/data/Houston/TX-HMH-MCoV-30760.fasta', '/sfs/lustre/bahamut/scratch/jho5ze/bionets/covid/data/Houston/TX-HMH-MCoV-26158.fasta', '/sfs/lustre/bahamut/scratch/jho5ze/bionets/covid/data/Houston/TX-HMH-MCoV-26360.fasta', '/sfs/lustre/bahamut/scratch/jho5ze/bionets/covid/data/Houston/TX-HMH-MCoV-30876.fasta', '/sfs/lustre/bahamut/scratch/jho5ze/bionets/covid/data/Houston/TX-HMH-MCoV-30991.fasta', '/sfs/lustre/bahamut/scratch/jho5ze/bionets/covid/data/Houston/TX-HMH-MCoV-30764.fasta', '/sfs/lustre/bahamut/scratch/jho5ze/bionets/covid/data/Houston/TX-HMH-MCoV-30906.fasta', '/sfs/lustre/bahamut/scratch/jho5ze/bionets/covid/data/Houston/TX-HMH-MCoV-30975.fasta', '/sfs/lustre/bahamut/scratch/jho5ze/bionets/covid/data/Houston/TX-HMH-MCoV-30811.fasta', '/sfs/lustre/bahamut/scratch/jho5ze/bionets/covid/data/Houston/TX-HMH-MCoV-31091.fasta', '/sfs/lustre/bahamut/scratch/jho5ze/bionets/covid/data/Houston/TX-HMH-MCoV-26147.fasta', '/sfs/lustre/bahamut/scratch/jho5ze/bionets/covid/data/Houston/TX-HMH-MCoV-30795.fasta', '/sfs/lustre/bahamut/scratch/jho5ze/bionets/covid/data/Houston/TX-HMH-MCoV-26308.fasta', '/sfs/lustre/bahamut/scratch/jho5ze/bionets/covid/data/Houston/TX-HMH-MCoV-26366.fasta', '/sfs/lustre/bahamut/scratch/jho5ze/bionets/covid/data/Houston/TX-HMH-MCoV-30972.fasta', '/sfs/lustre/bahamut/scratch/jho5ze/bionets/covid/data/Houston/TX-HMH-MCoV-30945.fasta', '/sfs/lustre/bahamut/scratch/jho5ze/bionets/covid/data/Houston/TX-HMH-MCoV-31051.fasta', '/sfs/lustre/bahamut/scratch/jho5ze/bionets/covid/data/Houston/TX-HMH-MCoV-31019.fasta', '/sfs/lustre/bahamut/scratch/jho5ze/bionets/covid/data/Houston/TX-HMH-MCoV-26284.fasta', '/sfs/lustre/bahamut/scratch/jho5ze/bionets/covid/data/Houston/TX-HMH-MCoV-30888.fasta', '/sfs/lustre/bahamut/scratch/jho5ze/bionets/covid/data/Houston/TX-HMH-MCoV-30786.fasta', '/sfs/lustre/bahamut/scratch/jho5ze/bionets/covid/data/Houston/TX-HMH-MCoV-26339.fasta', '/sfs/lustre/bahamut/scratch/jho5ze/bionets/covid/data/Houston/TX-HMH-MCoV-30801.fasta', '/sfs/lustre/bahamut/scratch/jho5ze/bionets/covid/data/Houston/TX-HMH-MCoV-30890.fasta', '/sfs/lustre/bahamut/scratch/jho5ze/bionets/covid/data/Houston/TX-HMH-MCoV-30921.fasta', '/sfs/lustre/bahamut/scratch/jho5ze/bionets/covid/data/Houston/TX-HMH-MCoV-30759.fasta', '/sfs/lustre/bahamut/scratch/jho5ze/bionets/covid/data/Houston/TX-HMH-MCoV-26370.fasta', '/sfs/lustre/bahamut/scratch/jho5ze/bionets/covid/data/Houston/TX-HMH-MCoV-26330.fasta', '/sfs/lustre/bahamut/scratch/jho5ze/bionets/covid/data/Houston/TX-HMH-MCoV-30804.fasta', '/sfs/lustre/bahamut/scratch/jho5ze/bionets/covid/data/Houston/TX-HMH-MCoV-26143.fasta', '/sfs/lustre/bahamut/scratch/jho5ze/bionets/covid/data/Houston/TX-HMH-MCoV-30763.fasta', '/sfs/lustre/bahamut/scratch/jho5ze/bionets/covid/data/Houston/TX-HMH-MCoV-26305.fasta', '/sfs/lustre/bahamut/scratch/jho5ze/bionets/covid/data/Houston/TX-HMH-MCoV-26151.fasta', '/sfs/lustre/bahamut/scratch/jho5ze/bionets/covid/data/Houston/TX-HMH-MCoV-26126.fasta', '/sfs/lustre/bahamut/scratch/jho5ze/bionets/covid/data/Houston/TX-HMH-MCoV-26292.fasta', '/sfs/lustre/bahamut/scratch/jho5ze/bionets/covid/data/Houston/TX-HMH-MCoV-26287.fasta', '/sfs/lustre/bahamut/scratch/jho5ze/bionets/covid/data/Houston/TX-HMH-MCoV-30812.fasta', '/sfs/lustre/bahamut/scratch/jho5ze/bionets/covid/data/Houston/TX-HMH-MCoV-30936.fasta', '/sfs/lustre/bahamut/scratch/jho5ze/bionets/covid/data/Houston/TX-HMH-MCoV-30868.fasta', '/sfs/lustre/bahamut/scratch/jho5ze/bionets/covid/data/Houston/TX-HMH-MCoV-31040.fasta', '/sfs/lustre/bahamut/scratch/jho5ze/bionets/covid/data/Houston/TX-HMH-MCoV-30894.fasta', '/sfs/lustre/bahamut/scratch/jho5ze/bionets/covid/data/Houston/TX-HMH-MCoV-30911.fasta', '/sfs/lustre/bahamut/scratch/jho5ze/bionets/covid/data/Houston/TX-HMH-MCoV-30873.fasta', '/sfs/lustre/bahamut/scratch/jho5ze/bionets/covid/data/Houston/TX-HMH-MCoV-26259.fasta', '/sfs/lustre/bahamut/scratch/jho5ze/bionets/covid/data/Houston/TX-HMH-MCoV-26189.fasta', '/sfs/lustre/bahamut/scratch/jho5ze/bionets/covid/data/Houston/TX-HMH-MCoV-30840.fasta', '/sfs/lustre/bahamut/scratch/jho5ze/bionets/covid/data/Houston/TX-HMH-MCoV-26356.fasta', '/sfs/lustre/bahamut/scratch/jho5ze/bionets/covid/data/Houston/TX-HMH-MCoV-26169.fasta', '/sfs/lustre/bahamut/scratch/jho5ze/bionets/covid/data/Houston/TX-HMH-MCoV-26157.fasta', '/sfs/lustre/bahamut/scratch/jho5ze/bionets/covid/data/Houston/TX-HMH-MCoV-26283.fasta', '/sfs/lustre/bahamut/scratch/jho5ze/bionets/covid/data/Houston/TX-HMH-MCoV-31022.fasta', '/sfs/lustre/bahamut/scratch/jho5ze/bionets/covid/data/Houston/TX-HMH-MCoV-31067.fasta', '/sfs/lustre/bahamut/scratch/jho5ze/bionets/covid/data/Houston/TX-HMH-MCoV-30960.fasta', '/sfs/lustre/bahamut/scratch/jho5ze/bionets/covid/data/Houston/TX-HMH-MCoV-26173.fasta', '/sfs/lustre/bahamut/scratch/jho5ze/bionets/covid/data/Houston/TX-HMH-MCoV-31082.fasta', '/sfs/lustre/bahamut/scratch/jho5ze/bionets/covid/data/Houston/TX-HMH-MCoV-26238.fasta', '/sfs/lustre/bahamut/scratch/jho5ze/bionets/covid/data/Houston/TX-HMH-MCoV-30956.fasta', '/sfs/lustre/bahamut/scratch/jho5ze/bionets/covid/data/Houston/TX-HMH-MCoV-30897.fasta', '/sfs/lustre/bahamut/scratch/jho5ze/bionets/covid/data/Houston/TX-HMH-MCoV-31021.fasta', '/sfs/lustre/bahamut/scratch/jho5ze/bionets/covid/data/Houston/TX-HMH-MCoV-30792.fasta', '/sfs/lustre/bahamut/scratch/jho5ze/bionets/covid/data/Houston/TX-HMH-MCoV-26355.fasta', '/sfs/lustre/bahamut/scratch/jho5ze/bionets/covid/data/Houston/TX-HMH-MCoV-26290.fasta', '/sfs/lustre/bahamut/scratch/jho5ze/bionets/covid/data/Houston/TX-HMH-MCoV-31074.fasta', '/sfs/lustre/bahamut/scratch/jho5ze/bionets/covid/data/Houston/TX-HMH-MCoV-30893.fasta', '/sfs/lustre/bahamut/scratch/jho5ze/bionets/covid/data/Houston/TX-HMH-MCoV-26203.fasta', '/sfs/lustre/bahamut/scratch/jho5ze/bionets/covid/data/Houston/TX-HMH-MCoV-26197.fasta', '/sfs/lustre/bahamut/scratch/jho5ze/bionets/covid/data/Houston/TX-HMH-MCoV-31034.fasta', '/sfs/lustre/bahamut/scratch/jho5ze/bionets/covid/data/Houston/TX-HMH-MCoV-31044.fasta', '/sfs/lustre/bahamut/scratch/jho5ze/bionets/covid/data/Houston/TX-HMH-MCoV-26228.fasta', '/sfs/lustre/bahamut/scratch/jho5ze/bionets/covid/data/Houston/TX-HMH-MCoV-26214.fasta', '/sfs/lustre/bahamut/scratch/jho5ze/bionets/covid/data/Houston/TX-HMH-MCoV-30959.fasta', '/sfs/lustre/bahamut/scratch/jho5ze/bionets/covid/data/Houston/TX-HMH-MCoV-31020.fasta', '/sfs/lustre/bahamut/scratch/jho5ze/bionets/covid/data/Houston/TX-HMH-MCoV-30903.fasta', '/sfs/lustre/bahamut/scratch/jho5ze/bionets/covid/data/Houston/TX-HMH-MCoV-30892.fasta', '/sfs/lustre/bahamut/scratch/jho5ze/bionets/covid/data/Houston/TX-HMH-MCoV-31053.fasta', '/sfs/lustre/bahamut/scratch/jho5ze/bionets/covid/data/Houston/TX-HMH-MCoV-31050.fasta', '/sfs/lustre/bahamut/scratch/jho5ze/bionets/covid/data/Houston/TX-HMH-MCoV-26341.fasta', '/sfs/lustre/bahamut/scratch/jho5ze/bionets/covid/data/Houston/TX-HMH-MCoV-26246.fasta', '/sfs/lustre/bahamut/scratch/jho5ze/bionets/covid/data/Houston/TX-HMH-MCoV-26171.fasta', '/sfs/lustre/bahamut/scratch/jho5ze/bionets/covid/data/Houston/TX-HMH-MCoV-26239.fasta', '/sfs/lustre/bahamut/scratch/jho5ze/bionets/covid/data/Houston/TX-HMH-MCoV-26256.fasta', '/sfs/lustre/bahamut/scratch/jho5ze/bionets/covid/data/Houston/TX-HMH-MCoV-26314.fasta', '/sfs/lustre/bahamut/scratch/jho5ze/bionets/covid/data/Houston/TX-HMH-MCoV-26098.fasta', '/sfs/lustre/bahamut/scratch/jho5ze/bionets/covid/data/Houston/TX-HMH-MCoV-26161.fasta', '/sfs/lustre/bahamut/scratch/jho5ze/bionets/covid/data/Houston/TX-HMH-MCoV-30716.fasta', '/sfs/lustre/bahamut/scratch/jho5ze/bionets/covid/data/Houston/TX-HMH-MCoV-26349.fasta', '/sfs/lustre/bahamut/scratch/jho5ze/bionets/covid/data/Houston/TX-HMH-MCoV-31056.fasta', '/sfs/lustre/bahamut/scratch/jho5ze/bionets/covid/data/Houston/TX-HMH-MCoV-26106.fasta', '/sfs/lustre/bahamut/scratch/jho5ze/bionets/covid/data/Houston/TX-HMH-MCoV-30935.fasta', '/sfs/lustre/bahamut/scratch/jho5ze/bionets/covid/data/Houston/TX-HMH-MCoV-26099.fasta', '/sfs/lustre/bahamut/scratch/jho5ze/bionets/covid/data/Houston/TX-HMH-MCoV-26133.fasta', '/sfs/lustre/bahamut/scratch/jho5ze/bionets/covid/data/Houston/TX-HMH-MCoV-26367.fasta', '/sfs/lustre/bahamut/scratch/jho5ze/bionets/covid/data/Houston/TX-HMH-MCoV-30902.fasta', '/sfs/lustre/bahamut/scratch/jho5ze/bionets/covid/data/Houston/TX-HMH-MCoV-30872.fasta', '/sfs/lustre/bahamut/scratch/jho5ze/bionets/covid/data/Houston/TX-HMH-MCoV-26172.fasta', '/sfs/lustre/bahamut/scratch/jho5ze/bionets/covid/data/Houston/TX-HMH-MCoV-26131.fasta', '/sfs/lustre/bahamut/scratch/jho5ze/bionets/covid/data/Houston/TX-HMH-MCoV-31066.fasta', '/sfs/lustre/bahamut/scratch/jho5ze/bionets/covid/data/Houston/TX-HMH-MCoV-30968.fasta', '/sfs/lustre/bahamut/scratch/jho5ze/bionets/covid/data/Houston/TX-HMH-MCoV-26270.fasta', '/sfs/lustre/bahamut/scratch/jho5ze/bionets/covid/data/Houston/TX-HMH-MCoV-26306.fasta', '/sfs/lustre/bahamut/scratch/jho5ze/bionets/covid/data/Houston/TX-HMH-MCoV-30895.fasta', '/sfs/lustre/bahamut/scratch/jho5ze/bionets/covid/data/Houston/TX-HMH-MCoV-26181.fasta', '/sfs/lustre/bahamut/scratch/jho5ze/bionets/covid/data/Houston/TX-HMH-MCoV-26332.fasta', '/sfs/lustre/bahamut/scratch/jho5ze/bionets/covid/data/Houston/TX-HMH-MCoV-31014.fasta', '/sfs/lustre/bahamut/scratch/jho5ze/bionets/covid/data/Houston/TX-HMH-MCoV-30865.fasta', '/sfs/lustre/bahamut/scratch/jho5ze/bionets/covid/data/Houston/TX-HMH-MCoV-30824.fasta', '/sfs/lustre/bahamut/scratch/jho5ze/bionets/covid/data/Houston/TX-HMH-MCoV-26325.fasta', '/sfs/lustre/bahamut/scratch/jho5ze/bionets/covid/data/Houston/TX-HMH-MCoV-31070.fasta', '/sfs/lustre/bahamut/scratch/jho5ze/bionets/covid/data/Houston/TX-HMH-MCoV-31030.fasta', '/sfs/lustre/bahamut/scratch/jho5ze/bionets/covid/data/Houston/TX-HMH-MCoV-26225.fasta', '/sfs/lustre/bahamut/scratch/jho5ze/bionets/covid/data/Houston/TX-HMH-MCoV-26286.fasta', '/sfs/lustre/bahamut/scratch/jho5ze/bionets/covid/data/Houston/TX-HMH-MCoV-26327.fasta', '/sfs/lustre/bahamut/scratch/jho5ze/bionets/covid/data/Houston/TX-HMH-MCoV-26234.fasta', '/sfs/lustre/bahamut/scratch/jho5ze/bionets/covid/data/Houston/TX-HMH-MCoV-30967.fasta', '/sfs/lustre/bahamut/scratch/jho5ze/bionets/covid/data/Houston/TX-HMH-MCoV-26342.fasta', '/sfs/lustre/bahamut/scratch/jho5ze/bionets/covid/data/Houston/TX-HMH-MCoV-26323.fasta', '/sfs/lustre/bahamut/scratch/jho5ze/bionets/covid/data/Houston/TX-HMH-MCoV-26153.fasta', '/sfs/lustre/bahamut/scratch/jho5ze/bionets/covid/data/Houston/TX-HMH-MCoV-26281.fasta', '/sfs/lustre/bahamut/scratch/jho5ze/bionets/covid/data/Houston/TX-HMH-MCoV-26188.fasta', '/sfs/lustre/bahamut/scratch/jho5ze/bionets/covid/data/Houston/TX-HMH-MCoV-31023.fasta', '/sfs/lustre/bahamut/scratch/jho5ze/bionets/covid/data/Houston/TX-HMH-MCoV-31025.fasta', '/sfs/lustre/bahamut/scratch/jho5ze/bionets/covid/data/Houston/TX-HMH-MCoV-26229.fasta', '/sfs/lustre/bahamut/scratch/jho5ze/bionets/covid/data/Houston/TX-HMH-MCoV-30829.fasta', '/sfs/lustre/bahamut/scratch/jho5ze/bionets/covid/data/Houston/TX-HMH-MCoV-30925.fasta', '/sfs/lustre/bahamut/scratch/jho5ze/bionets/covid/data/Houston/TX-HMH-MCoV-31065.fasta', '/sfs/lustre/bahamut/scratch/jho5ze/bionets/covid/data/Houston/TX-HMH-MCoV-26291.fasta', '/sfs/lustre/bahamut/scratch/jho5ze/bionets/covid/data/Houston/TX-HMH-MCoV-30912.fasta', '/sfs/lustre/bahamut/scratch/jho5ze/bionets/covid/data/Houston/TX-HMH-MCoV-26162.fasta', '/sfs/lustre/bahamut/scratch/jho5ze/bionets/covid/data/Houston/TX-HMH-MCoV-30767.fasta', '/sfs/lustre/bahamut/scratch/jho5ze/bionets/covid/data/Houston/TX-HMH-MCoV-30993.fasta', '/sfs/lustre/bahamut/scratch/jho5ze/bionets/covid/data/Houston/TX-HMH-MCoV-30822.fasta', '/sfs/lustre/bahamut/scratch/jho5ze/bionets/covid/data/Houston/TX-HMH-MCoV-26257.fasta', '/sfs/lustre/bahamut/scratch/jho5ze/bionets/covid/data/Houston/TX-HMH-MCoV-26212.fasta', '/sfs/lustre/bahamut/scratch/jho5ze/bionets/covid/data/Houston/TX-HMH-MCoV-30942.fasta', '/sfs/lustre/bahamut/scratch/jho5ze/bionets/covid/data/Houston/TX-HMH-MCoV-31048.fasta', '/sfs/lustre/bahamut/scratch/jho5ze/bionets/covid/data/Houston/TX-HMH-MCoV-31084.fasta', '/sfs/lustre/bahamut/scratch/jho5ze/bionets/covid/data/Houston/TX-HMH-MCoV-30899.fasta', '/sfs/lustre/bahamut/scratch/jho5ze/bionets/covid/data/Houston/TX-HMH-MCoV-30800.fasta', '/sfs/lustre/bahamut/scratch/jho5ze/bionets/covid/data/Houston/TX-HMH-MCoV-26113.fasta', '/sfs/lustre/bahamut/scratch/jho5ze/bionets/covid/data/Houston/TX-HMH-MCoV-26343.fasta', '/sfs/lustre/bahamut/scratch/jho5ze/bionets/covid/data/Houston/TX-HMH-MCoV-30784.fasta', '/sfs/lustre/bahamut/scratch/jho5ze/bionets/covid/data/Houston/TX-HMH-MCoV-26210.fasta', '/sfs/lustre/bahamut/scratch/jho5ze/bionets/covid/data/Houston/TX-HMH-MCoV-26107.fasta', '/sfs/lustre/bahamut/scratch/jho5ze/bionets/covid/data/Houston/TX-HMH-MCoV-26359.fasta', '/sfs/lustre/bahamut/scratch/jho5ze/bionets/covid/data/Houston/TX-HMH-MCoV-26146.fasta', '/sfs/lustre/bahamut/scratch/jho5ze/bionets/covid/data/Houston/TX-HMH-MCoV-30957.fasta', '/sfs/lustre/bahamut/scratch/jho5ze/bionets/covid/data/Houston/TX-HMH-MCoV-30990.fasta', '/sfs/lustre/bahamut/scratch/jho5ze/bionets/covid/data/Houston/TX-HMH-MCoV-26251.fasta', '/sfs/lustre/bahamut/scratch/jho5ze/bionets/covid/data/Houston/TX-HMH-MCoV-30810.fasta', '/sfs/lustre/bahamut/scratch/jho5ze/bionets/covid/data/Houston/TX-HMH-MCoV-30732.fasta', '/sfs/lustre/bahamut/scratch/jho5ze/bionets/covid/data/Houston/TX-HMH-MCoV-26313.fasta', '/sfs/lustre/bahamut/scratch/jho5ze/bionets/covid/data/Houston/TX-HMH-MCoV-30989.fasta', '/sfs/lustre/bahamut/scratch/jho5ze/bionets/covid/data/Houston/TX-HMH-MCoV-26103.fasta', '/sfs/lustre/bahamut/scratch/jho5ze/bionets/covid/data/Houston/TX-HMH-MCoV-26247.fasta', '/sfs/lustre/bahamut/scratch/jho5ze/bionets/covid/data/Houston/TX-HMH-MCoV-26232.fasta', '/sfs/lustre/bahamut/scratch/jho5ze/bionets/covid/data/Houston/TX-HMH-MCoV-26362.fasta', '/sfs/lustre/bahamut/scratch/jho5ze/bionets/covid/data/Houston/TX-HMH-MCoV-26265.fasta', '/sfs/lustre/bahamut/scratch/jho5ze/bionets/covid/data/Houston/TX-HMH-MCoV-26250.fasta', '/sfs/lustre/bahamut/scratch/jho5ze/bionets/covid/data/Houston/TX-HMH-MCoV-26269.fasta', '/sfs/lustre/bahamut/scratch/jho5ze/bionets/covid/data/Houston/TX-HMH-MCoV-30927.fasta', '/sfs/lustre/bahamut/scratch/jho5ze/bionets/covid/data/Houston/TX-HMH-MCoV-26124.fasta', '/sfs/lustre/bahamut/scratch/jho5ze/bionets/covid/data/Houston/TX-HMH-MCoV-26297.fasta', '/sfs/lustre/bahamut/scratch/jho5ze/bionets/covid/data/Houston/TX-HMH-MCoV-26369.fasta', '/sfs/lustre/bahamut/scratch/jho5ze/bionets/covid/data/Houston/TX-HMH-MCoV-30900.fasta', '/sfs/lustre/bahamut/scratch/jho5ze/bionets/covid/data/Houston/TX-HMH-MCoV-26312.fasta', '/sfs/lustre/bahamut/scratch/jho5ze/bionets/covid/data/Houston/TX-HMH-MCoV-31068.fasta', '/sfs/lustre/bahamut/scratch/jho5ze/bionets/covid/data/Houston/TX-HMH-MCoV-30802.fasta', '/sfs/lustre/bahamut/scratch/jho5ze/bionets/covid/data/Houston/TX-HMH-MCoV-30791.fasta', '/sfs/lustre/bahamut/scratch/jho5ze/bionets/covid/data/Houston/TX-HMH-MCoV-30901.fasta']\n",
    "graph, num_chars, genomes = generate_nx_from_msa(seq_paths)\n",
    "\n",
    "add_root(graph, genomes)\n",
    "collapsed_graph = collapse_graph(graph)\n",
    "annotate_graph(graph)\n",
    "annotate_graph(collapsed_graph)"
   ]
  },
  {
   "cell_type": "code",
   "execution_count": 10,
   "metadata": {},
   "outputs": [],
   "source": [
    "def get_genome_node_presence(ggraph, genomes):\n",
    "    sorted_genomes = np.array(sorted(genomes))\n",
    "    sorted_nodes = np.array(sorted(ggraph.nodes()))\n",
    "    \n",
    "    gs = [[] for g in sorted_genomes]\n",
    "    for node in sorted_nodes:\n",
    "        node_genomes = ggraph.nodes[node][\"genomes\"]\n",
    "        for gix, g in enumerate(sorted_genomes):\n",
    "            presence = True if g in node_genomes else False\n",
    "            gs[gix].append(presence)\n",
    "    \n",
    "    sorted_genome_dict = {genome:ix for ix, genome in enumerate(sorted_genomes)}\n",
    "    \n",
    "    return (sorted_genome_dict, sorted_nodes, np.array(gs))\n",
    "# get_genome_node_presence(collapsed_graph, genomes)"
   ]
  },
  {
   "cell_type": "code",
   "execution_count": 119,
   "metadata": {},
   "outputs": [],
   "source": [
    "# graph_genome_induced_nodes = {genome:set() for genome in genomes}\n",
    "# collapsed_graph_genome_induced_nodes = {genome:set() for genome in genomes}\n",
    "# for node in graph.nodes():\n",
    "#     node_genomes = graph.nodes[node][\"genomes\"]\n",
    "#     for genome in genomes:\n",
    "#         if genome in node_genomes:\n",
    "#             graph_genome_induced_nodes[genome].add(node)\n",
    "            \n",
    "# for node in collapsed_graph.nodes():\n",
    "#     node_genomes = collapsed_graph.nodes[node][\"genomes\"]\n",
    "#     for genome in genomes:\n",
    "#         if genome in node_genomes:\n",
    "#             collapsed_graph_genome_induced_nodes[genome].add(node) \n",
    "\n",
    "graph_presence_info = get_genome_node_presence(graph, genomes)\n",
    "collapsed_graph_presence_info = eu.get_genome_node_presence(collapsed_graph, genomes)\n",
    "            \n",
    "# for G, graph_name, induced_nodes_dict in zip([graph, collapsed_graph], [\"full\", \"collapsed\"], [graph_genome_induced_nodes, collapsed_graph_genome_induced_nodes]):\n",
    "# #     graph_presence_info = get_genome_node_presence(G, genomes)\n",
    "#     for seqs_iter in range(2):\n",
    "#         seq_name = f\"_sequences_{seqs_iter}\"\n",
    "#         for genomes_iter in range(2):\n",
    "#             genome_name = f\"_genomes_{genomes_iter}\"\n",
    "#             print(graph_name + seq_name + genome_name)\n",
    "#             print(calc_uncertainty(G, induced_nodes_dict, weigh_on_sequence=seqs_iter, weigh_on_genomes=genomes_iter))\n",
    "#             break\n",
    "#         break\n",
    "#     break"
   ]
  },
  {
   "cell_type": "code",
   "execution_count": 89,
   "metadata": {},
   "outputs": [
    {
     "data": {
      "text/plain": [
       "'157_A'"
      ]
     },
     "execution_count": 89,
     "metadata": {},
     "output_type": "execute_result"
    }
   ],
   "source": [
    "add_root(collapsed_graph, genomes)"
   ]
  },
  {
   "cell_type": "code",
   "execution_count": null,
   "metadata": {},
   "outputs": [],
   "source": [
    "calc_uncertainty(graph, graph_genome_induced_nodes, weigh_on_sequence=False, weigh_on_genomes=False)"
   ]
  },
  {
   "cell_type": "code",
   "execution_count": 2,
   "metadata": {},
   "outputs": [],
   "source": [
    "import sys\n",
    "sys.path.append('/scratch/jho5ze/bionets/covid/scripts/')\n",
    "import entropy_utils as eu"
   ]
  },
  {
   "cell_type": "code",
   "execution_count": 120,
   "metadata": {},
   "outputs": [
    {
     "data": {
      "text/plain": [
       "12.019793880351871"
      ]
     },
     "execution_count": 120,
     "metadata": {},
     "output_type": "execute_result"
    }
   ],
   "source": [
    "eu.calc_uncertainty(collapsed_graph, collapsed_graph_presence_info, weigh_on_sequence=False, weigh_on_genomes=False)"
   ]
  },
  {
   "cell_type": "code",
   "execution_count": 121,
   "metadata": {},
   "outputs": [
    {
     "name": "stderr",
     "output_type": "stream",
     "text": [
      "100%|██████████| 828/828 [00:00<00:00, 13930.54it/s]\n"
     ]
    },
    {
     "data": {
      "text/plain": [
       "12.019793880351871"
      ]
     },
     "execution_count": 121,
     "metadata": {},
     "output_type": "execute_result"
    }
   ],
   "source": [
    "calc_uncertainty_numpy(collapsed_graph, collapsed_graph_presence_info, weigh_on_sequence=False, weigh_on_genomes=False)"
   ]
  },
  {
   "cell_type": "code",
   "execution_count": 3,
   "metadata": {},
   "outputs": [
    {
     "name": "stdout",
     "output_type": "stream",
     "text": [
      "127\n"
     ]
    }
   ],
   "source": [
    "eu_graph, eu_genomes = eu.generate_nx_from_msa(seq_paths)\n",
    "print(len(eu_genomes))\n",
    "eu.add_root(eu_graph, eu_genomes)\n",
    "collapsed_eu_graph = eu.collapse_graph(eu_graph)\n",
    "\n",
    "eu.annotate_graph(eu_graph)\n",
    "eu.annotate_graph(collapsed_eu_graph)\n",
    "\n",
    "eu_graph_presence_info = eu.get_genome_node_presence(eu_graph, eu_genomes)\n",
    "collapsed_eu_graph_presence_info = eu.get_genome_node_presence(collapsed_eu_graph, eu_genomes)"
   ]
  },
  {
   "cell_type": "code",
   "execution_count": 4,
   "metadata": {},
   "outputs": [
    {
     "data": {
      "text/plain": [
       "12.019793880351871"
      ]
     },
     "execution_count": 4,
     "metadata": {},
     "output_type": "execute_result"
    }
   ],
   "source": [
    "eu.calc_uncertainty(collapsed_eu_graph, collapsed_eu_graph_presence_info, weigh_on_sequence=False, weigh_on_genomes=False)"
   ]
  },
  {
   "cell_type": "code",
   "execution_count": 124,
   "metadata": {},
   "outputs": [
    {
     "data": {
      "text/plain": [
       "['TX-HMH-490',\n",
       " 'TX-HMH-484',\n",
       " 'TX-HMH-536',\n",
       " 'TX-HMH-460',\n",
       " 'TX-HMH-464',\n",
       " 'TX-HMH-1016',\n",
       " 'TX-HMH-1066',\n",
       " 'TX-HMH-487',\n",
       " 'TX-HMH-494',\n",
       " 'TX-HMH-849']"
      ]
     },
     "execution_count": 124,
     "metadata": {},
     "output_type": "execute_result"
    }
   ],
   "source": [
    "eu_genomes"
   ]
  },
  {
   "cell_type": "code",
   "execution_count": 108,
   "metadata": {},
   "outputs": [
    {
     "name": "stdout",
     "output_type": "stream",
     "text": [
      "29996\n",
      "29821\n"
     ]
    }
   ],
   "source": [
    "print(len(graph.nodes()))\n",
    "print(len(eu_graph.nodes()))\n"
   ]
  },
  {
   "cell_type": "code",
   "execution_count": 164,
   "metadata": {},
   "outputs": [
    {
     "data": {
      "image/png": "[encoded data removed]",
      "text/plain": [
       "<Figure size 432x288 with 1 Axes>"
      ]
     },
     "metadata": {},
     "output_type": "display_data"
    }
   ],
   "source": [
    "nx.draw(collapsed_graph, with_labels=True)"
   ]
  },
  {
   "cell_type": "code",
   "execution_count": null,
   "metadata": {},
   "outputs": [],
   "source": [
    "collapsed_graph = collapse_graph(graph)\n",
    "nx.draw(collapsed_graph, with_labels=True)"
   ]
  },
  {
   "cell_type": "code",
   "execution_count": null,
   "metadata": {},
   "outputs": [],
   "source": [
    "for node in collapsed_graph:\n",
    "    print(node, collapsed_graph.nodes[node][\"sequence\"])"
   ]
  },
  {
   "cell_type": "code",
   "execution_count": null,
   "metadata": {},
   "outputs": [],
   "source": [
    "\"\"\"TX-HMH-1002.fasta\n",
    "TX-HMH-1003.fasta\n",
    "TX-HMH-1004.fasta\n",
    "TX-HMH-1006.fasta\n",
    "TX-HMH-1007.fasta\n",
    "TX-HMH-1011.fasta\n",
    "TX-HMH-1012.fasta\n",
    "TX-HMH-1013.fasta\n",
    "TX-HMH-1016.fasta\n",
    "TX-HMH-1020.fasta\"\"\".split()"
   ]
  },
  {
   "cell_type": "code",
   "execution_count": null,
   "metadata": {},
   "outputs": [],
   "source": []
  },
  {
   "cell_type": "code",
   "execution_count": 68,
   "metadata": {},
   "outputs": [],
   "source": [
    "def msa_from_seq_paths(seq_paths): \n",
    "    for seq in seq_paths[:10]:\n",
    "        with open(seq) as src:\n",
    "            for line in src.readlines():\n",
    "                yield line"
   ]
  },
  {
   "cell_type": "code",
   "execution_count": 69,
   "metadata": {},
   "outputs": [
    {
     "name": "stdout",
     "output_type": "stream",
     "text": [
      ">hCoV-19/U\n",
      "----------\n",
      ">hCoV-19/U\n",
      "----------\n",
      ">hCoV-19/U\n",
      "----------\n",
      ">hCoV-19/U\n",
      "----------\n",
      ">hCoV-19/U\n",
      "----------\n",
      ">hCoV-19/U\n",
      "----------\n",
      ">hCoV-19/U\n",
      "----------\n",
      ">hCoV-19/U\n",
      "----------\n",
      ">hCoV-19/U\n",
      "----------\n",
      ">hCoV-19/U\n",
      "----------\n"
     ]
    }
   ],
   "source": [
    "for i in msa_from_seq_paths(seq_paths):\n",
    "    print(i[:10])"
   ]
  }
 ],
 "metadata": {
  "kernelspec": {
   "display_name": "Python 3",
   "language": "python",
   "name": "python3"
  },
  "language_info": {
   "codemirror_mode": {
    "name": "ipython",
    "version": 3
   },
   "file_extension": ".py",
   "mimetype": "text/x-python",
   "name": "python",
   "nbconvert_exporter": "python",
   "pygments_lexer": "ipython3",
   "version": "3.7.4"
  }
 },
 "nbformat": 4,
 "nbformat_minor": 4
}
