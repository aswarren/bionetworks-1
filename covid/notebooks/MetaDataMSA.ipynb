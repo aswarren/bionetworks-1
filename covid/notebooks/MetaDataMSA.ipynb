{
 "cells": [
  {
   "cell_type": "code",
   "execution_count": 2,
   "metadata": {},
   "outputs": [],
   "source": [
    "import pandas as pd\n",
    "import numpy as np\n",
    "import re"
   ]
  },
  {
   "cell_type": "code",
   "execution_count": 3,
   "metadata": {},
   "outputs": [
    {
     "name": "stderr",
     "output_type": "stream",
     "text": [
      "/apps/software/standard/compiler/gcc/9.2.0/jupyter_conda/2019.10-py3.7/lib/python3.7/site-packages/IPython/core/interactiveshell.py:3063: DtypeWarning: Columns (13,16) have mixed types.Specify dtype option on import or set low_memory=False.\n",
      "  interactivity=interactivity, compiler=compiler, result=result)\n"
     ]
    }
   ],
   "source": [
    "metadata = pd.read_csv(\"../data/metadata_2021_04_08.tsv\", sep=\"\\t\", parse_dates = [\"Collection date\", \"Submission date\"])"
   ]
  },
  {
   "cell_type": "code",
   "execution_count": 4,
   "metadata": {},
   "outputs": [
    {
     "data": {
      "text/plain": [
       "Index(['Virus name', 'Type', 'Accession ID', 'Collection date', 'Location',\n",
       "       'Additional location information', 'Sequence length', 'Host',\n",
       "       'Patient age', 'Gender', 'Clade', 'Pango lineage', 'Pangolin version',\n",
       "       'Variant', 'AA Substitutions', 'Submission date', 'Is reference?',\n",
       "       'Is complete?', 'Is high coverage?', 'Is low coverage?', 'N-Content',\n",
       "       'GC-Content'],\n",
       "      dtype='object')"
      ]
     },
     "execution_count": 4,
     "metadata": {},
     "output_type": "execute_result"
    }
   ],
   "source": [
    "metadata.columns"
   ]
  },
  {
   "cell_type": "code",
   "execution_count": 3,
   "metadata": {},
   "outputs": [
    {
     "name": "stderr",
     "output_type": "stream",
     "text": [
      "/apps/software/standard/compiler/gcc/9.2.0/jupyter_conda/2019.10-py3.7/lib/python3.7/site-packages/ipykernel_launcher.py:17: SettingWithCopyWarning: \n",
      "A value is trying to be set on a copy of a slice from a DataFrame.\n",
      "Try using .loc[row_indexer,col_indexer] = value instead\n",
      "\n",
      "See the caveats in the documentation: https://pandas.pydata.org/pandas-docs/stable/user_guide/indexing.html#returning-a-view-versus-a-copy\n"
     ]
    }
   ],
   "source": [
    "aadata = metadata[[\"Accession ID\", \\\n",
    "                   \"Collection date\", \\\n",
    "                   \"Submission date\", \\\n",
    "                   \"Location\", \\\n",
    "                   \"Additional location information\", \\\n",
    "                   \"Sequence length\", \\\n",
    "                   \"Host\", \\\n",
    "                   \"AA Substitutions\", \\\n",
    "                   \"Is reference?\"]]\n",
    "def get_nth_slash(row, n):\n",
    "    try:\n",
    "        return row.split(\"/\")[n].strip()\n",
    "    except:\n",
    "        return np.nan\n",
    "    \n",
    "for i in range(4):\n",
    "    aadata[f\"Location_{i}\"] = aadata[\"Location\"].apply(lambda row: get_nth_slash(row, i))"
   ]
  },
  {
   "cell_type": "code",
   "execution_count": 35,
   "metadata": {},
   "outputs": [
    {
     "data": {
      "text/plain": [
       "array([['(Spike_H69del,NS8_Q27stop,NSP3_T183I,Spike_T716I,NSP6_S106del,N_R203K,Spike_A570D,Spike_N501Y,NSP3_I1412T,NS8_R52I,Spike_P681H,Spike_Y144del,NSP6_G107del,NSP3_A890D,Spike_D1118H,NSP6_F108del,NS8_Y73C,N_G204R,Spike_V70del,NSP12_P323L,Spike_D614G,N_D3L,Spike_S982A,N_S235F)',\n",
       "        8623],\n",
       "       ['(Spike_H69del,NS8_Q27stop,NSP3_T183I,Spike_T716I,NSP6_S106del,N_R203K,Spike_A570D,Spike_N501Y,NSP3_I1412T,NS8_R52I,Spike_P681H,Spike_Y144del,NSP2_L550F,NSP6_G107del,NSP3_A890D,Spike_D1118H,NSP6_F108del,NS8_Y73C,N_G204R,Spike_V70del,NSP12_P323L,Spike_D614G,N_D3L,Spike_S982A,N_S235F)',\n",
       "        4173],\n",
       "       ['(Spike_H69del,NS8_Q27stop,NSP3_T183I,Spike_T716I,NSP6_S106del,N_R203K,Spike_A570D,NSP13_K460R,Spike_N501Y,NSP3_I1412T,NS8_R52I,Spike_P681H,Spike_Y144del,NSP6_G107del,NSP3_A890D,Spike_D1118H,NSP6_F108del,NS8_Y73C,N_G204R,Spike_V70del,NSP12_P323L,Spike_D614G,N_D3L,Spike_S982A,N_S235F)',\n",
       "        3690],\n",
       "       ...,\n",
       "       ['(Spike_H69del,NS8_Q27stop,NSP3_T183I,Spike_T716I,NSP6_S106del,N_R203K,Spike_A570D,Spike_N501Y,NSP3_S1296F,NSP3_I1412T,NS8_R52I,Spike_P681H,Spike_V976A,Spike_Y144del,NSP2_L550F,NSP6_G107del,NSP3_A890D,Spike_D1118H,NSP6_F108del,NS8_Y73C,N_G204R,Spike_V70del,NSP14_T31I,NSP12_P323L,Spike_D614G,N_D3L,Spike_S982A,N_S235F)',\n",
       "        1],\n",
       "       ['(Spike_H69del,NS8_Q27stop,NSP3_T183I,Spike_T716I,NS8_K68stop,NSP6_S106del,NSP8_Q168R,N_R203K,Spike_A570D,Spike_N501Y,NS3_M1L,NSP3_I1412T,NS8_R52I,Spike_P681H,Spike_Y144del,NSP9_L42F,NSP12_P227L,NSP6_G107del,NSP3_A890D,Spike_D1118H,NSP6_F108del,NS8_Y73C,N_G204R,NSP14_S503L,Spike_V70del,NS7a_K117Q,NSP12_P323L,Spike_D614G,N_D3L,Spike_S982A,N_S235F)',\n",
       "        1],\n",
       "       ['(Spike_H69del,NS8_Q27stop,NSP3_T183I,Spike_T716I,NS8_K68stop,NSP6_S106del,N_R203K,Spike_A570D,Spike_N501Y,NSP3_I1412T,NS8_R52I,Spike_P681H,Spike_Y144del,NSP3_C1246Y,NSP6_G107del,NSP3_A890D,NSP14_G248V,Spike_D1118H,NSP6_F108del,NS8_Y73C,N_G204R,Spike_V70del,NSP12_P323L,Spike_D614G,N_D3L,Spike_S982A,N_S235F)',\n",
       "        1]], dtype=object)"
      ]
     },
     "execution_count": 35,
     "metadata": {},
     "output_type": "execute_result"
    }
   ],
   "source": [
    "metadata[metadata[\"Pango lineage\"] == \"B.1.1.7\"][\"AA Substitutions\"].value_counts().reset_index().to_numpy()"
   ]
  },
  {
   "cell_type": "code",
   "execution_count": 16,
   "metadata": {},
   "outputs": [
    {
     "data": {
      "text/plain": [
       "'75'"
      ]
     },
     "execution_count": 16,
     "metadata": {},
     "output_type": "execute_result"
    }
   ],
   "source": [
    "i = \"NS7a_ins75LHT\"\n",
    "position_finder = re.compile(\"[0-9]+\")\n",
    "position_finder.search(i)[1]"
   ]
  },
  {
   "cell_type": "code",
   "execution_count": 46,
   "metadata": {},
   "outputs": [
    {
     "data": {
      "text/plain": [
       "Accession ID                                                          EPI_ISL_542487\n",
       "Collection date                                                  2020-04-10 00:00:00\n",
       "Submission date                                                  2020-09-23 00:00:00\n",
       "Location                                       North America / USA / Texas / Houston\n",
       "Additional location information                                                  NaN\n",
       "Sequence length                                                                29782\n",
       "Host                                                                           Human\n",
       "AA Substitutions                   (NSP14_G6R,NSP14_D496Y,N_R203K,N_G204R,NSP12_P...\n",
       "Is reference?                                                                    NaN\n",
       "Location_0                                                             North America\n",
       "Location_1                                                                       USA\n",
       "Location_2                                                                     Texas\n",
       "Location_3                                                                   Houston\n",
       "Name: 108083, dtype: object"
      ]
     },
     "execution_count": 46,
     "metadata": {},
     "output_type": "execute_result"
    }
   ],
   "source": [
    "aadata[aadata.Location_3 == \"Houston\"].iloc[0]"
   ]
  },
  {
   "cell_type": "code",
   "execution_count": null,
   "metadata": {},
   "outputs": [],
   "source": [
    "def get_mutant_info(mutation)\n"
   ]
  },
  {
   "cell_type": "code",
   "execution_count": 39,
   "metadata": {},
   "outputs": [
    {
     "name": "stdout",
     "output_type": "stream",
     "text": [
      "\n"
     ]
    }
   ],
   "source": [
    "right_weirds = []\n",
    "left_weirds = []\n",
    "\n",
    "position_finder = re.compile(\"[0-9]+\")\n",
    "mutant_list = dict()\n",
    "# for mutants, count in aadata[aadata.Location_3 == \"Houston\"][\"AA Substitutions\"].value_counts().reset_index().to_numpy():\n",
    "for mutants, count in metadata[\"AA Substitutions\"].value_counts().reset_index().to_numpy():\n",
    "    mutants = mutants.replace(\"(\", \"\").replace(\")\", \"\").split(\",\")\n",
    "    for mutant in mutants:\n",
    "        if mutant.strip() == \"\":\n",
    "            continue\n",
    "#         if \"ins\" in mutant:\n",
    "#             print(mutant)\n",
    "#             continue\n",
    "        protein, mutation = mutant.split(\"_\")\n",
    "        mutation = mutation.replace(\"stop\", \"*\")\n",
    "        try:\n",
    "            position = position_finder.search(mutation)[0]\n",
    "        except:\n",
    "            print(mutation)\n",
    "            continue\n",
    "        left_mutation, right_mutation = mutation.split(position)\n",
    "        if len(right_mutation) > 0:\n",
    "            right_weirds.append(right_mutation)\n",
    "        if len(left_mutation) > 0:\n",
    "            left_weirds.append(left_mutation)\n",
    "        mutant_list.setdefault(protein, []).append((int(position), left_mutation, right_mutation))\n",
    "#     break"
   ]
  },
  {
   "cell_type": "code",
   "execution_count": 40,
   "metadata": {},
   "outputs": [
    {
     "data": {
      "text/plain": [
       "array(['A', 'C', 'D', 'E', 'F', 'G', 'H', 'I', 'K', 'L', 'M', 'N', 'P',\n",
       "       'Q', 'R', 'S', 'T', 'V', 'W', 'Y', 'ins'], dtype='<U3')"
      ]
     },
     "execution_count": 40,
     "metadata": {},
     "output_type": "execute_result"
    }
   ],
   "source": [
    "np.unique(left_weirds)"
   ]
  },
  {
   "cell_type": "code",
   "execution_count": 42,
   "metadata": {},
   "outputs": [
    {
     "data": {
      "text/plain": [
       "array(['*', '**', '**E', '**HAL', '**IQ', '**MGSHY**YVR', '**QPS*NTPT',\n",
       "       '**R*L*', '**RSCTRYSCF', '**S', '**YV', '*A', '*A*G*', '*C*',\n",
       "       '*CC*T', '*CKQI*CCYY', '*CL', '*CS', '*CS*SIHH', '*CVL*H', '*D',\n",
       "       '*E', '*EICC*GF*', '*ELYILVLVL', '*ESLD', '*F**',\n",
       "       '*F*WLFKTY*QCIH*KCRHCGR', '*FFFRL', '*FTVMY*', '*G*Y', '*GF*',\n",
       "       '*GLE', '*GY*QYHAS*I**LYSY*', '*H*', '*HGLLL*Q', '*HK', '*HLQ',\n",
       "       '*HLWHCL*KT', '*HQF', '*I', '*I*H*SAI*P', '*I*KI', '*I*V',\n",
       "       '*IIQIL', '*ILFA', '*ILL', '*IM', '*IP*TPIL', '*IT', '*IWKKL',\n",
       "       '*K', '*KD', '*KI', '*KNI*VT', '*KY', '*L', '*L*', '*L*T*',\n",
       "       '*LAY*LLRLLYTLQ*CNFFNCH', '*LDV', '*LH', '*LIL', '*LKVNLQ', '*LL',\n",
       "       '*LLVFMIT*FLHTM', '*LNFH*', '*LP**', '*LQ', '*LR', '*LRL*SVYD*',\n",
       "       '*LS', '*LSCRVV', '*LSLIDFYLC', '*LSTSAL', '*LVI', '*LVVMQS*LG',\n",
       "       '*LY*PS', '*LYV', '*M', '*M**NYTC', '*MEFH', '*ML*I', '*N',\n",
       "       '*NCRWTN', '*NE', '*NFM', '*NQQWLL', '*NSMS', '*NSMSFVL*', '*NYGL',\n",
       "       '*PLT', '*Q', '*QAQVFLLSLT', '*QCN**SHV*TKY', '*QL', '*QLLI',\n",
       "       '*QRYY*L', '*QVCLLGS', '*RC', '*RCCCVFQ*H', '*RCLCF', '*RII',\n",
       "       '*RRK', '*RS', '*RSL*MW', '*S', '*S*', '*SC**VL*L', '*SCCY*NVRV',\n",
       "       '*SIFN', '*SIIRL*', '*SL*I', '*STQP', '*STSCR', '*T', '*T*YL',\n",
       "       '*T*YLLQQQPN*WL', '*TARS**NL', '*TDKYYNLV', '*THSRRS*I',\n",
       "       '*TL*E***GFGFAGNAV', '*TRLSVT', '*TS', '*TVF', '*TVHQTRGSSR',\n",
       "       '*TVHQTRGSSRTLL', '*TVS*', '*TVX', '*TYNF*', '*V', '*V*', '*V*S*',\n",
       "       '*VNN*E*K', '*VSL*K*RC*', '*VTK*EKK', '*VTSL', '*W', '*WCCPTIT*N',\n",
       "       '*WW', '*Y*', '*YN', '*YPFTS*QS*G*S', '*YY', '*YYD', 'A', 'A***',\n",
       "       'A**C', 'AA', 'ACLFYRF*C', 'ADL', 'AGY', 'AI', 'AI**ILSSL**V',\n",
       "       'AI*P*', 'AIKITEQAXXXXXXXXXXXXXXXXXXXXXXXXXXXXXXXXX',\n",
       "       'AIKITEQXXXXXXXXXXXXXXXXXXXXXXXXXXXXXXXXXX', 'AILRLGSPLSLNMARK',\n",
       "       'AKKN', 'ALNHTKKWKYPQVNGXXXXXXXXXXXXXXXXXXXXXXXXXXXXXXXXXXCRYMS',\n",
       "       'ANRN', 'ANTVIWDYXXXXXXXXXXXXXXXXXXXXXXXXXXXXXXXXXXLGDVYKRQ', 'AP',\n",
       "       'AQER', 'AQSF', 'ASA', 'ASM', 'ASMRLPRI*M', 'ASN', 'ASWFTALTQHG',\n",
       "       'AT', 'ATLR', 'AV**', 'AVIXXXXXXXXXXXXXXXXXXXXXXXXXXXXXXXXXLIA',\n",
       "       'AVSYTHLRAXXXXXXXXXXXXXXXXXXXXXXXXXXXXXXXXXNLNLPGCD',\n",
       "       'AVSYTHLRXXXXXXXXXXXXXXXXXXXXXXXXXXXXXXXXX',\n",
       "       'AVSYTHLRXXXXXXXXXXXXXXXXXXXXXXXXXXXXXXXXXXLNLPGCD',\n",
       "       'AXXXXXXXXXXXXXXXXXXXXXXXXXXXXXXXXX', 'AYCCGN',\n",
       "       'AYTNSFTRGVYSRTQLPP',\n",
       "       'AYTVELGTXXXXXXXXXXXXXXXXXXXXXXXXXXXXXXXXXXLGDVYKRQ', 'B', 'C',\n",
       "       'C*CTM*', 'C*G', 'C*GF*', 'C*HSN', 'C*L', 'C*L*YILCW*YIY***SC',\n",
       "       'C*WC*KVLLCL', 'CAF*',\n",
       "       'CAXXXXXXXXXXXXXXXXXXXXXXXXXXXXXXXXXXLSLREVRTIKVFTTVDNINLHTQVVDMSMTYGQQF',\n",
       "       'CC', 'CCC', 'CCFSERFQN', 'CCL*YFTIPYVIHC', 'CCP', 'CCRPKC*QR*R',\n",
       "       'CCSVDFAV', 'CDIXXXXXXXXXXXXXXXXXXXXXXXXXXXXXXXXXXTM', 'CDTFCAGS',\n",
       "       'CF', 'CFKWHTL', 'CFLD', 'CFLE', 'CFSLC', 'CFWPE',\n",
       "       'CGK*VQSLF*XXXXXXXXXXXXXXXXXXXXXXXXXXXXXXXXXXSKRVDF', 'CH*',\n",
       "       'CHTVSID*L', 'CISPRM*', 'CKWL*V*WYW', 'CL', 'CLL', 'CLLL*QL*',\n",
       "       'CLLYT', 'CLLYTSPSXXXXXXXXXXXXXXXXXXXXXXXXXXXXXXXXXXVREFLTRNP',\n",
       "       'CLLYTSPXXXXXXXXXXXXXXXXXXXXXXXXXXXXXXXXXXDAYKTFPPT',\n",
       "       'CLLYTSPXXXXXXXXXXXXXXXXXXXXXXXXXXXXXXXXXXFQTRAGCLI', 'CNT', 'CPR',\n",
       "       'CQLQFLFLHLMLLQR', 'CR', 'CR*', 'CRALG',\n",
       "       'CRHLSLIXXXXXXXXXXXXXXXXXXXXXXXXXXXXXXXXXXIRDRY', 'CSCL*YF',\n",
       "       'CSCL*YFTIPYVI', 'CSY', 'CSY*V*', 'CT', 'CTYRLC*YT**', 'CV', 'CVM',\n",
       "       'CWP', 'CWP*', 'CY', 'CY*', 'CYL', 'CYLL', 'D', 'DC*L*L*', 'DD',\n",
       "       'DEDEEE', 'DF', 'DG', 'DHNE', 'DHR', 'DIMLTST',\n",
       "       'DKLXXXXXXXXXXXXXXXXXXXXXXXXXXXXXXXXXXLY', 'DLQ', 'DQIA', 'DRCI',\n",
       "       'DSWG', 'DVG', 'DVV', 'DVXXXXXXXXXXXXXXXXXXXXXXXXXXXXXXXXXX',\n",
       "       'DWLQQ', 'DXXXXXXXXXXXXXXXXXXXXXXXXXXXXXXXXXHF', 'E', 'E*LNFH*',\n",
       "       'ECGHL*MS*H', 'EER*', 'ELL**LEQ', 'EN*',\n",
       "       'ENKYSQLDENLDYIINLIIKNLSKSLT', 'EPG', 'EV*KS', 'EWW', 'F', 'F**R*',\n",
       "       'F*L', 'F*QI',\n",
       "       'F*QXXXXXXXXXXXXXXXXXXXXXXXXXXXXXV*LLLIVSLGIL*LIMLSLF', 'F*T',\n",
       "       'F*YFTIPYVIHCTL', 'FC*SHLRIL', 'FCAD', 'FDFTFSF', 'FDQ',\n",
       "       'FELWAKRNIKPVPEVKILNNLGVDIA', 'FF', 'FFS', 'FGS', 'FH', 'FH*',\n",
       "       'FHLLNGI*LLLA*', 'FHXX', 'FI',\n",
       "       'FKKGXXXXXXXXXXXXXXXXXXXXXXXXXXXXXXXXXXDVVAIDYKHYTPS', 'FKT',\n",
       "       'FKXXXXXXXXXXXXXXXXXXXXXXXXXXXXXXXXXEFV', 'FL', 'FL*', 'FLAC*',\n",
       "       'FLAFLLFLVXXXXXXXXXXXXXXXXXXXXXXXXXXXXXXXXXLGDVYKRQ', 'FLIX',\n",
       "       'FLN**IL*', 'FLQ', 'FLR',\n",
       "       'FMRERKRTRLNSSHCXXXXXXXXXXXXXXXXXXXXXXXXXXXXXXXXXXLAYY', 'FMRLC',\n",
       "       'FNWIPLX', 'FP*',\n",
       "       'FQTRAGCLICLLYTSPXXXXXXXXXXXXXXXXXXXXXXXXXXXXXXXXXX',\n",
       "       'FRELGVVHNQDVNLHSSRLS', 'FS', 'FS*', 'FSCLL**', 'FSLELQD', 'FSP',\n",
       "       'FT', 'FT*T', 'FTALTQHCLLYTSPSXXXXXXXXXXXXXXXXXXXXXXXXXXXXXXXXX',\n",
       "       'FTALTQHGLSLIHISEXXXXXXXXXXXXXXXXXXXXXXXXXXXXXXXXX', 'FTCFT*KLF',\n",
       "       'FVDGVPRSXXXXXXXXXXXXXXXXXXXXXXXXXXXXXXXXXX',\n",
       "       'FVTCLLYTSPSXXXXXXXXXXXXXXXXXXXXXXXXXXXXXXXXXL', 'FXVFINCXN',\n",
       "       'FY**', 'FY*N', 'FYLHHYYQL', 'FYR*PTKQP*SVLS', 'G', 'G*CVL*HG',\n",
       "       'G*HKEL*', 'G*LWC*I', 'G*Y',\n",
       "       'GCLXXXXXXXXXXXXXXXXXXXXXXXXXXXXXXXXXXRA', 'GCNH',\n",
       "       'GDXXXXXXXXXXXXXXXXXXXXXXXXXXXXXXXXXXIETFMTSCNLQVLKFHVVVEVVDRYFDCYDG',\n",
       "       'GEEMRSGRLAERLLR', 'GER', 'GF',\n",
       "       'GGXXXXXXXXXXXXXXXXXXXXXXXXXXXXXXXXXNKGA', 'GH', 'GI', 'GI*L',\n",
       "       'GIAL', 'GIWSKRLC', 'GKQHKQLVRTQL', 'GL*HKGI', 'GLCG**LI',\n",
       "       'GLLCQNPLTCL', 'GLSLIHISXXXXXXXXXXXXXXXXXXXXXXXXXXXXXXXXXXPLH',\n",
       "       'GN', 'GNAFTVQ', 'GNFKNLMDLEGKQ', 'GPKCINRLDLR', 'GQ*L*L',\n",
       "       'GQTVTNYQNGERSGARSKQRRPQGLPNNTASWFTALTQQ', 'GR', 'GRN*',\n",
       "       'GSSRTLLSN', 'GSXX',\n",
       "       'GSXXXXXXXXXXXXXXXXXXXXXXXXXXXXXXXXXARRCV*ETGA',\n",
       "       'GTGVXXXXXXXXXXXXXXXXXXXXXXXXXNGLI', 'GW', 'GWL', 'GXXX',\n",
       "       'GXXXXXXXXXXXXXXXXXXXXXXXXXXXXXXXXXLGDVYKRQLQ',\n",
       "       'GXXXXXXXXXXXXXXXXXXXXXXXXXXXXXXXXXVIIIVKYPSTTSRYTNTSF*SFPGVFC',\n",
       "       'H', 'H*', 'H*L', 'H*RS', 'H*Y*CRI*', 'HA*T', 'HA*TNMKFLV', 'HD*',\n",
       "       'HDT', 'HEN*', 'HF', 'HFIMYGK', 'HGGQP', 'HGKLVNLDHHLTEIMS', 'HHQ',\n",
       "       'HIG', 'HK', 'HKDKSAXXXXXXXXXXXXXXXXXXXXXXXXXXXXXXXXXXL', 'HL',\n",
       "       'HL**LVVL*LS**HA', 'HLQNI*Y', 'HMVSNPLMVL', 'HQ', 'HQLKILVVL',\n",
       "       'HQN', 'HQTRGSS', 'HQTRGSSRTLLS', 'HR**CYS', 'HRR',\n",
       "       'HRVVCTAVAT*IIQILKDFVT*R*VCTNTYNLC**PCXXXXXXXXXXXXXXXXXXXXXXXXXXXX',\n",
       "       'HSLY', 'HTQKKDR', 'HVLVAIMLL', 'HVPD', 'HW*P*SY*V', 'HYFR*', 'I',\n",
       "       'I*', 'I**C', 'I**VW*V*I', 'I*MG*IP*E*WN', 'I*TH*H*LYP', 'I*WLLM*',\n",
       "       'IAK', 'IAWN', 'ICFA', 'ID*', 'IEPA*', 'IFRS', 'IG*', 'II', 'II*',\n",
       "       'IKITEQXXXXXXXXXXXXXXXXXXXXXXXXXXXXXXXXXXALGGSVV', 'IKPCFNW', 'IL',\n",
       "       'ILG', 'ILRVYANLGLSLIHISXXXXXXXXXXXXXXXXXXXXXXXXXXXXXXXXXX', 'ILV',\n",
       "       'INK', 'INSAN', 'INT', 'IP*WFMW*', 'IQSE', 'IRPV', 'IS*',\n",
       "       'ISKIKSFC*ISI', 'ISM', 'ISYVP', 'ISYVPD',\n",
       "       'ITEQXXXXXXXXXXXXXXXXXXXXXXXXXXXXXXXXXXGGSVAIR',\n",
       "       'ITGNTXXXXXXXXXXXXXXXXXXXXXXXXXXXXXXXXXSEMCIRDSF', 'ITH',\n",
       "       'ITL*CQLFSLLAY*LLR', 'ITLAT', 'ITRC*', 'IVDTQGLSSEGLFQEP*LG',\n",
       "       'IVS*', 'IVW', 'IXXXXXXXXXXXXXXXXXXXXXXXXXXXXXXXXXXARRCV*ETGSKSP',\n",
       "       'IY*LD*', 'J', 'J*C', 'K', 'K**', 'K*MQ', 'K*NTSISYVP', 'KA',\n",
       "       'KAE', 'KAVR', 'KCAF', 'KCT', 'KDRMIE', 'KEM', 'KF', 'KFH',\n",
       "       'KGTKL*GYSL*G', 'KHXXXXXXXXXXXXXXXXXXXXXXXXXXXXXXXXXAIDY',\n",
       "       'KITEQXXXXXXXXXXXXXXXXXXXXXXXXXXXXXXXXXXLGGSVAK', 'KKKADETQ',\n",
       "       'KKKHH*', 'KKS', 'KKVKPTV', 'KL', 'KLG', 'KLGP', 'KLGS', 'KNKKWLL',\n",
       "       'KNLMDLEGKQGNF', 'KP', 'KQ', 'KQLH', 'KRI', 'KRIS', 'KSIRX', 'KTT',\n",
       "       'KVG', 'KVHI', 'KVKTFNFLRV', 'KVLLEW*', 'KY', 'KYF*', 'L', 'L*',\n",
       "       'L***L', 'L**L', 'L*G', 'L*KK', 'L*LITNLH*L', 'L*LLSL*STNNV*',\n",
       "       'L*LS**H', 'L*MET', 'L*Q', 'L*QRYY*LL*',\n",
       "       'L*RLFRVS*RSCCFRFHLKDTIIGR', 'L*YESY', 'LA',\n",
       "       'LARKXXXXXXXXXXXXXXXXXXXXXXXXXXXLV', 'LCHSLYFV*',\n",
       "       'LCLLASFYWI*LRL*SVYD*CS', 'LCTWIGCK', 'LD', 'LDFWYYF',\n",
       "       'LDHHLTEIMSLLVIV*L', 'LEC*SL*', 'LFQAFWK*', 'LG', 'LGEKLSLFH',\n",
       "       'LH', 'LHC*RV', 'LHRR', 'LHT', 'LI', 'LI*V*', 'LIFLN**',\n",
       "       'LIFVLLLEVQI', 'LIIL', 'LIKPRINQI', 'LILY', 'LIR', 'LIS', 'LK',\n",
       "       'LKEPPHFHRGHAEYDRVYSEQC', 'LKGCLVTIMLCCMTSCCSCLKGCLVTIMLCCMTSCCSC',\n",
       "       'LL', 'LL*TDSWCL*L', 'LLA', 'LLII', 'LLLLEWLAM', 'LLLLLK',\n",
       "       'LLSFTPQ', 'LLV', 'LLY', 'LMS', 'LN**', 'LNMS', 'LNQLTGYKKPASREL',\n",
       "       'LNWL', 'LP', 'LPQ', 'LQ*', 'LQLIA', 'LQML*TV', 'LQSCNCFSA',\n",
       "       'LQSFTPH', 'LR', 'LR*TCTP', 'LRC', 'LRN', 'LRRKTR', 'LRSDVL',\n",
       "       'LRVYANFCLLYTSPXXXXXXXXXXXXXXXXXXXXXXXXXXXXXXXXXXI', 'LRY', 'LSL',\n",
       "       'LSLIHISEPXXXXXXXXXXXXXXXXXXXXXXXXXXXXXXXXXACEIVGGQI',\n",
       "       'LSLIHISEXXXXXXXXXXXXXXXXXXXXXXXXXXXXXXXXXLPGCD',\n",
       "       'LSVLTGLLNIL*LVMN*RLMRL', 'LT', 'LT*Q', 'LV', 'LVF*CLI*ACL', 'LVL',\n",
       "       'LVLT', 'LVLWTYQHL**', 'LWF', 'LWQRLLVLWQX', 'LWQX', 'LWVE',\n",
       "       'LXXXXXXXXXXXXXXXXXXXXXXXXXXXXXXXXXSHAASGN', 'LY', 'LY*', 'LYQ',\n",
       "       'LYSE*KFTRI*T',\n",
       "       'LYTXXXXXXXXXXXXXXXXXXXXXXXXXXXXXXXXXCV*ETGVLEVGHTDL', 'M', 'M*',\n",
       "       'M**', 'M*H', 'M*RII', 'MALS*HL*SIL*K*', 'MAVFVHN*TVL*LE*L',\n",
       "       'MFMEILVIVS*', 'MHXXXXXXXXXXXXXXXXXXXXXXXXXXXXXXXXXDPA', 'MI',\n",
       "       'MLL', 'MLSAQMLTKV', 'MNC', 'MQI', 'MQIQL*', 'MRVS', 'MSLLVIV*LK',\n",
       "       'MSRIG', 'MSTT', 'MTARTVYDDG', 'MV*QAQV', 'MVHLAR',\n",
       "       'MVLVTNHTE**YFLL', 'MY*KVLLLMKV', 'N', 'N*', 'N**', 'N*E',\n",
       "       'N*PPQ*G', 'N*WL', 'NA', 'NACT', 'NAE', 'NAM', 'NAV', 'NCE',\n",
       "       'NCL**', 'NCTXXXXXXXXXXXXXXXXXXXXXXXXXLYQGV', 'NDVCQT*ACI',\n",
       "       'NEDY*G', 'NFCLLYTXXXXXXXXXXXXXXXXXXXXXXXXXXXXXXXXXV*ETGP', 'NFG',\n",
       "       'NFH*', 'NFH*L', 'NFKFVCD', 'NG', 'NH', 'NI*LLKKLCIA*', 'NK*',\n",
       "       'NLMNYLEY*V*', 'NNV*Y', 'NPHLE', 'NS**', 'NSRLTF', 'NST**', 'NT',\n",
       "       'NTLXXXXXXXXXXXXXXXXXXXXXXXXXHVVAF', 'NTQ', 'NV', 'NVA', 'NVQ',\n",
       "       'NWM*', 'NWVVL*CV', 'NXXXXXXXXXXXXXXXXXXXXXXXXXXXXXXXXXXCRYMSAL',\n",
       "       'NYYL*', 'P', 'P**I', 'PAP', 'PC', 'PCGLL*',\n",
       "       'PCSSGTYEGLSLIHISEPXXXXXXXXXXXXXXXXXXXXXXXXXXXXXXXXX', 'PDQFH',\n",
       "       'PF', 'PF*', 'PFAR', 'PFW', 'PGTGGDPGGLLAVDLQPGPDQAV', 'PGVYS',\n",
       "       'PIIL', 'PIS', 'PK', 'PLCTHTHTHTHT*', 'PLEELL**', 'PLHCX',\n",
       "       'PLLLM*MRH', 'PLSLNMAR', 'PLV', 'PP', 'PQ', 'PRF',\n",
       "       'PRTEXXXXXXXXXXXXXXXXXXXXXXXXXXXXXXXXXXFVDGV', 'PS', 'PSDFVRAT',\n",
       "       'PSKLXXXXXXXXXXXXXXXXXXXXXXXXXXXXXXXXXXHYT', 'PSVNLSECVA*E*N',\n",
       "       'PVS', 'Q', 'Q*', 'Q*CLSN', 'Q*N', 'Q*X', 'QCNT', 'QE*V', 'QF',\n",
       "       'QFTH', 'QG', 'QHT*RSK*NS', 'QHV', 'QI', 'QKKDR', 'QKKDRM',\n",
       "       'QKKDRMIEL', 'QKWR', 'QL', 'QLE', 'QLH', 'QQ*', 'QT', 'QTYNVL*',\n",
       "       'QVTYKATMICIVKSMVXXXXXXXXXXXXXXXXXXXXXXXXXXXXXXXXX',\n",
       "       'QVXXXXXXXXXXXXXXXXXXXXXXXXFLMVVDG', 'R', 'R*', 'R**', 'R*N',\n",
       "       'R*P', 'R*YRK', 'RAG',\n",
       "       'RALAWKSXXXXXXXXXXXXXXXXXXXXXXXXXXXXXXXXXXNLKQLPFFYYSDSPC',\n",
       "       'RCCWP*SP', 'RCCY', 'RED', 'RER', 'RGE', 'RGV*NLWTTADNP*', 'RISL',\n",
       "       'RKQL', 'RL*LCLFL', 'RLCQTIHLPRQKQDSTGPKLPQFSGQATFL',\n",
       "       'RLGNTRQNRVRI*EIEQGHFQR', 'RLIQGGVR*IF*', 'RLL', 'RLR', 'RM',\n",
       "       'RN*', 'RNT', 'RNY', 'RPQP', 'RQTW', 'RQV',\n",
       "       'RRAFGEYSHVVAFNTLXXXXXXXXXXXXXXXXXXXXXXXXXXXXXXXXXA', 'RRGRQGD',\n",
       "       'RRXX', 'RS', 'RSC', 'RSHF', 'RSN',\n",
       "       'RTXXXXXXXXXXXXXXXXXXXXXXXXXXXXXXXXX', 'RV*', 'RV*N', 'RVF**I',\n",
       "       'RWYTY', 'RXXXXXXXXXXXXXXXXXXXXXXXXXXXXXXXXXXFVDGVP', 'RY*',\n",
       "       'RYMR*LSYS', 'S', 'S*', 'S*G', 'S*I**', 'S*LQ', 'S*QSC*', 'SA',\n",
       "       'SACAYKGTLVV', 'SAHRGQ', 'SAIP', 'SAL', 'SALS',\n",
       "       'SCCSCLKGCLVTIMLCCMT', 'SCSSSG*RAAXXXXGATS', 'SCSV',\n",
       "       'SCXTFYXXXXXXXXXXXXXXXXXXXXXXXXXTV', 'SFC*IS',\n",
       "       'SFKKGXXXXXXXXXXXXXXXXXXXXXXXXXXXXXXXXXX',\n",
       "       'SFKKGXXXXXXXXXXXXXXXXXXXXXXXXXXXXXXXXXXIDYKHYTP', 'SFR', 'SFSG',\n",
       "       'SG', 'SGK', 'SGRG',\n",
       "       'SGTYEGLSLIHISEXXXXXXXXXXXXXXXXXXXXXXXXXXXXXXXXXS',\n",
       "       'SGTYEGLSLIHISEXXXXXXXXXXXXXXXXXXXXXXXXXXXXXXXXXXS', 'SI', 'SI*IT',\n",
       "       'SIISN', 'SIRT', 'SIT', 'SL', 'SLA', 'SLE', 'SLIDFYLC', 'SLR',\n",
       "       'SMQQ', 'SMY', 'SPEYSMVFVL', 'SQLA', 'SR*VR*C*RN', 'SRWESV', 'SS',\n",
       "       'SS*', 'SSGTYEGNSCLLYTSPSXXXXXXXXXXXXXXXXXXXXXXXXXXXXXXXXX',\n",
       "       'SSLT', 'SSTN', 'STT*TNET', 'STVLSF', 'SVC',\n",
       "       'SVSYTHLRAXXXXXXXXXXXXXXXXXXXXXXXXXXXXXXXXXLLNKEMYLK', 'SWF',\n",
       "       'SWYSC*', 'SWYSL', 'SX', 'SXXXXXXXXXXXXXXXXXXXXXXXXXXXXXXXXX',\n",
       "       'SY', 'SYCC', 'SYCCG', 'SYVPD', 'T', 'T*', 'T**', 'T**S',\n",
       "       'T*HFILLIF', 'T*LL', 'T*TSK**', 'T*TVHQ', 'TAY', 'TC*R*',\n",
       "       'TCLLYTXXXXXXXXXXXXXXXXXXXXXXXXXXXXXXXXXTEEVGH', 'TDR',\n",
       "       'TEIVSRCL*HD*SP', 'TEXXXXXXXXXXXXXXXXXXXXXXXXXXXXXXXXXXS', 'TFL',\n",
       "       'TFSNYQHEXXXXXXXXXXXXXXXXXXXXXXXXXXXXXXXXXH',\n",
       "       'TFTXXXXXXXXXXXXXXXXXXXXXXXXXELKHG', 'TG', 'TGTY',\n",
       "       'TGXXXXXXXXXXXXXXXXXXXXXXXXXXXXXXXXXTDAQ', 'TH', 'TIFT', 'TIIL',\n",
       "       'TIKCLPR', 'TIS', 'TK',\n",
       "       'TKNSKVQIGAVSYTHLRXXXXXXXXXXXXXXXXXXXXXXXXXXXXXXXXX', 'TL*',\n",
       "       'TL*CQLFSLLAY*LLRLLYTLQ*CN', 'TL*MS', 'TL*W', 'TLASFVY',\n",
       "       'TLKRKTE*LN', 'TLLPN', 'TLLSN',\n",
       "       'TLXXXXXXXXXXXXXXXXXXXXXXXXXXXXXXXXXANDPVGF', 'TM*', 'TNHTE**YFL',\n",
       "       'TPF', 'TPFA', 'TPL', 'TQ', 'TR', 'TRN*', 'TRN*S', 'TRPC*',\n",
       "       'TRT*S', 'TRXXXXXXXXXXXXXXXXXXXXXXXXXXXXXXXXXX', 'TSX', 'TSY',\n",
       "       'TVM*LP', 'TXXXXXXXXXXXXXXXXXXXXXXXXXXXXXXXXXEFRRVLFRSD',\n",
       "       'TXXXXXXXXXXXXXXXXXXXXXXXXXXXXXXXXXSEMCIRDSFITGN', 'TY', 'TYTG',\n",
       "       'V', 'V*', 'V*R', 'V*RLH*I', 'V*T*', 'V*VQPVLH', 'VF', 'VFH',\n",
       "       'VFVHN*', 'VH', 'VHI', 'VHQTRG', 'VHR', 'VIH', 'VIHSVLVVHF', 'VIL',\n",
       "       'VIT*R', 'VKVSLFQMAHTGF*', 'VL', 'VLII', 'VLL', 'VLLH', 'VLNP',\n",
       "       'VLQLPQGTTCLLYTSPXXXXXXXXXXXXXXXXXXXXXXXXXXXXXXXXXX', 'VLT',\n",
       "       'VLTA*N', 'VN', 'VP', 'VQN', 'VR*', 'VRG', 'VSA', 'VSM', 'VT',\n",
       "       'VTAP', 'VTTM', 'VW', 'VW*R', 'VX', 'VYXX',\n",
       "       'VYYGNALDLSLIHISEPXXXXXXXXXXXXXXXXXXXXXXXXXXXXXXXXX', 'W',\n",
       "       'W*IQSCSCL*YFTI', 'W*L', 'W*N', 'WEF', 'WF**RSCTRY', 'WFHPSLL**',\n",
       "       'WGP', 'WH', 'WK*R', 'WLL', 'WLS', 'WLSC', 'WNTKGN', 'WP*', 'WP*X',\n",
       "       'WQTGDXXXXXXXXXXXXXXXXXXXXXXXXXXXXXXXXXARRCV*ETAS', 'WY', 'WYC',\n",
       "       'WYW', 'X*', 'XF', 'XHT', 'XKQL', 'XLSY**CF',\n",
       "       'XLWDQWY*EV**PCPTI**WCLFC', 'XN*Q', 'XP', 'XTD', 'XV', 'XX',\n",
       "       'XXSFQFA', 'XXX', 'XXXX', 'XXXXXXX', 'XXXXXXXX',\n",
       "       'XXXXXXXXXXXXXHNFL', 'XXXXXXXXXXXXXXXXXXXX',\n",
       "       'XXXXXXXXXXXXXXXXXXXXXXXX*', 'XXXXXXXXXXXXXXXXXXXXXXXXL',\n",
       "       'XXXXXXXXXXXXXXXXXXXXXXXXLQVDGV',\n",
       "       'XXXXXXXXXXXXXXXXXXXXXXXXXXXV*LLLIVSLGIL*LIMLSLFFNKVV',\n",
       "       'XXXXXXXXXXXXXXXXXXXXXXXXXXXX*XSHVVAFNTLLFLMSFTVLCLTP',\n",
       "       'XXXXXXXXXXXXXXXXXXXXXXXXXXXXXXLPIW',\n",
       "       'XXXXXXXXXXXXXXXXXXXXXXXXXXXXXXXSEMCIRDR',\n",
       "       'XXXXXXXXXXXXXXXXXXXXXXXXXXXXXXXXVQTCAL',\n",
       "       'XXXXXXXXXXXXXXXXXXXXXXXXXXXXXXXXX',\n",
       "       'XXXXXXXXXXXXXXXXXXXXXXXXXXXXXXXXXLGDVYKRQLMSFPQSAP',\n",
       "       'XXXXXXXXXXXXXXXXXXXXXXXXXXXXXXXXXRRCV*ETGYTTTIKPVT',\n",
       "       'XXXXXXXXXXXXXXXXXXXXXXXXXXXXXXXXXRVL',\n",
       "       'XXXXXXXXXXXXXXXXXXXXXXXXXXXXXXXXXWV',\n",
       "       'XXXXXXXXXXXXXXXXXXXXXXXXXXXXXXXXXX',\n",
       "       'XXXXXXXXXXXXXXXXXXXXXXXXXXXXXXXXXXEI',\n",
       "       'XXXXXXXXXXXXXXXXXXXXXXXXXXXXXXXXXXFFDESGE',\n",
       "       'XXXXXXXXXXXXXXXXXXXXXXXXXXXXXXXXXXII',\n",
       "       'XXXXXXXXXXXXXXXXXXXXXXXXXXXXXXXXXXSEMCIRDRYMGTLSY',\n",
       "       'XXXXXXXXXXXXXXXXXXXXXXXXXXXXXXXXXXSEMCIRDRYMGTLSYE',\n",
       "       'XXXXXXXXXXXXXXXXXXXXXXXXXXXXXXXXXXSEMCIRDSYCTGYRE',\n",
       "       'XXXXXXXXXXXXXXXXXXXXXXXXXXXXXXXXXXXXXXXXXXXXXX', 'Y', 'Y*', 'Y**',\n",
       "       'Y**CFFF', 'Y*C', 'Y*LFK*', 'Y*V*', 'Y*V*KPL', 'Y*W*QNCR*VC',\n",
       "       'YCH*', 'YCLLML*',\n",
       "       'YCTGYREXXXXXXXXXXXXXXXXXXXXXXXXXXXXXXXXXXSEMCIRDS', 'YD*TVRV',\n",
       "       'YDPNV*TG*I*', 'YDXXXXXXXXXXXXXXXXXXXXXXXXXXXXXXXXXSDM', 'YE',\n",
       "       'YH', 'YHLLCKWL', 'YHLY', 'YIEVI*', 'YILL', 'YIQ', 'YK', 'YKLP',\n",
       "       'YL', 'YLHHYYQLVX', 'YLKLM*N', 'YLR*VF*QCC',\n",
       "       'YMGTLSYEXXXXXXXXXXXXXXXXXXXXXXXXXXXXXXXXXXSEMCIRDR', 'YN',\n",
       "       'YNNLQIKCW*LFC', 'YNVL*LVTP', 'YQWLTARF',\n",
       "       'YQXXXXXXXXXXXXXXXXXXXXXXXXXXXXXXXXXXNQVAVL', 'YS*', 'YSC*LH*',\n",
       "       'YTGL', 'YV', 'YVP', 'YVPD', 'YW*', 'YYAQ', 'YYL*LKLLISTLIVT',\n",
       "       'YYWCLFYD*L', 'Z', 'del'], dtype='<U71')"
      ]
     },
     "execution_count": 42,
     "metadata": {},
     "output_type": "execute_result"
    }
   ],
   "source": [
    "np.unique(right_weirds)"
   ]
  },
  {
   "cell_type": "code",
   "execution_count": 38,
   "metadata": {},
   "outputs": [
    {
     "data": {
      "text/plain": [
       "[('N', 1, 419),\n",
       " ('NSP12', 5, 931),\n",
       " ('Spike', 1, 1273),\n",
       " ('NS8', 1, 121),\n",
       " ('NSP3', 1, 1944),\n",
       " ('NSP6', 1, 289),\n",
       " ('NS3', 1, 274),\n",
       " ('NSP2', 1, 637),\n",
       " ('NSP13', 1, 601),\n",
       " ('NSP4', 1, 500),\n",
       " ('NS7b', 1, 43),\n",
       " ('NS7a', 1, 121),\n",
       " ('NSP5', 1, 306),\n",
       " ('NSP16', 1, 298),\n",
       " ('NSP14', 1, 527),\n",
       " ('NSP15', 2, 346),\n",
       " ('M', 1, 222),\n",
       " ('NSP8', 1, 197),\n",
       " ('NSP7', 1, 82),\n",
       " ('NSP9', 1, 113),\n",
       " ('NS6', 1, 61),\n",
       " ('NSP1', 1, 179),\n",
       " ('NSP10', 1, 139),\n",
       " ('E', 1, 75),\n",
       " ('NSP11', 1, 13)]"
      ]
     },
     "execution_count": 38,
     "metadata": {},
     "output_type": "execute_result"
    }
   ],
   "source": [
    "[(key, min([i[0] for i in mutant_list[key]]), max([i[0] for i in mutant_list[key]])) for key in mutant_list.keys()]"
   ]
  }
 ],
 "metadata": {
  "kernelspec": {
   "display_name": "Python 3",
   "language": "python",
   "name": "python3"
  },
  "language_info": {
   "codemirror_mode": {
    "name": "ipython",
    "version": 3
   },
   "file_extension": ".py",
   "mimetype": "text/x-python",
   "name": "python",
   "nbconvert_exporter": "python",
   "pygments_lexer": "ipython3",
   "version": "3.7.4"
  }
 },
 "nbformat": 4,
 "nbformat_minor": 4
}
