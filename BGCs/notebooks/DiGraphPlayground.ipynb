{
 "cells": [
  {
   "cell_type": "code",
   "execution_count": 1,
   "metadata": {},
   "outputs": [],
   "source": [
    "import numpy as np \n",
    "import pandas as pd\n",
    "import networkx as nx\n",
    "import math\n",
    "\n",
    "from networkx.drawing.nx_agraph import graphviz_layout\n",
    "import matplotlib.pyplot as plt\n",
    "import functools"
   ]
  },
  {
   "cell_type": "code",
   "execution_count": 2,
   "metadata": {},
   "outputs": [
    {
     "name": "stdout",
     "output_type": "stream",
     "text": [
      "(1, 3)\n",
      "(2, 3)\n",
      "(3, 11)\n",
      "(4, 8)\n",
      "(5, 9)\n",
      "(6, 7)\n",
      "(9, 10)\n",
      "(10, 7)\n",
      "(7, 8)\n",
      "(11, 12)\n",
      "(12, 8)\n",
      "(8, 14)\n",
      "(13, 14)\n",
      "(15, 14)\n",
      "(14, 14)\n"
     ]
    }
   ],
   "source": [
    "sorted_nodes = [1, 2, 3, 4, 5, 6, 9, 10, 7, 11, 12, 8, 13, 15, 14]\n",
    "outchildren = [2, 2, 9, 11, 6, 8, 7, 8, 11, 10, 11, 14, 14, 14, -1]\n",
    "outparents = [-1, 1, 1, 3, 3, 5, 5, 6, 6, 3, 10, 4, 12, 13, 12]\n",
    "for i in list(zip(sorted_nodes, [sorted_nodes[i] for i in outchildren])):\n",
    "    print(i)"
   ]
  },
  {
   "cell_type": "code",
   "execution_count": 3,
   "metadata": {},
   "outputs": [
    {
     "data": {
      "text/plain": [
       "[(1, -1),\n",
       " (2, 1),\n",
       " (3, 1),\n",
       " (11, 3),\n",
       " (12, 11),\n",
       " (5, 3),\n",
       " (9, 5),\n",
       " (6, 5),\n",
       " (10, 9),\n",
       " (7, 6),\n",
       " (4, 3),\n",
       " (8, 12),\n",
       " (13, 8),\n",
       " (15, 13),\n",
       " (14, 8)]"
      ]
     },
     "execution_count": 3,
     "metadata": {},
     "output_type": "execute_result"
    }
   ],
   "source": [
    "outparents = [np.inf, 0, 0, 2, 3, 2, 5, 5, 6, 7, 2, 4, 11, 12, 11]\n",
    "outchildren = [2, 2, 10, 4, 11, 7, 8, 9, 9, 11, 11, 14, 14, 14, -1]\n",
    "sorted_nodes = [1,2,3,11,12,5,9,6,10,7,4,8,13,15,14]\n",
    "list(zip(sorted_nodes, [-1] + [sorted_nodes[ix] for ix in outparents[1:]]))"
   ]
  },
  {
   "cell_type": "code",
   "execution_count": 20,
   "metadata": {},
   "outputs": [
    {
     "data": {
      "text/plain": [
       "[3, 3, 11, 5, 12, 8, 9, 10, 10, 12, 12, 15, 15, 15, 0]"
      ]
     },
     "execution_count": 20,
     "metadata": {},
     "output_type": "execute_result"
    }
   ],
   "source": [
    "[i+1 for i in outchildren]"
   ]
  },
  {
   "cell_type": "code",
   "execution_count": 21,
   "metadata": {},
   "outputs": [
    {
     "data": {
      "text/plain": [
       "[(1, 3),\n",
       " (2, 3),\n",
       " (3, 4),\n",
       " (11, 12),\n",
       " (12, 8),\n",
       " (5, 6),\n",
       " (9, 10),\n",
       " (6, 7),\n",
       " (10, 7),\n",
       " (7, 8),\n",
       " (4, 8),\n",
       " (8, 14),\n",
       " (13, 14),\n",
       " (15, 14),\n",
       " (14, inf)]"
      ]
     },
     "execution_count": 21,
     "metadata": {},
     "output_type": "execute_result"
    }
   ],
   "source": [
    "list(zip(sorted_nodes, [sorted_nodes[ix] for ix in outchildren[:-1]] + [np.inf]))"
   ]
  },
  {
   "cell_type": "code",
   "execution_count": 2,
   "metadata": {},
   "outputs": [],
   "source": [
    "\n",
    "def construct_pg_edge(g, prev_pg_id, cur_pg_id, genome_id, sequence_id):\n",
    "    edge_data=g.get_edge_data(prev_pg_id, cur_pg_id, default=None)\n",
    "    if edge_data != None:\n",
    "        edge_data[\"genomes\"].add(genome_id)\n",
    "        edge_data[\"sequences\"].add(sequence_id)\n",
    "    else:\n",
    "        g.add_edge(prev_pg_id, cur_pg_id, genomes=set([genome_id]), sequences=set([sequence_id]))"
   ]
  },
  {
   "cell_type": "code",
   "execution_count": null,
   "metadata": {},
   "outputs": [],
   "source": []
  },
  {
   "cell_type": "code",
   "execution_count": 5,
   "metadata": {},
   "outputs": [],
   "source": [
    "g = nx.DiGraph()\n",
    "g.add_nodes_from(range(1,16))\n",
    "starts = [1, 1, 2, 3, 3, 3, 4, 5, 5, 6, 6, 7, 8, 8, 9, 10, 11, 12, 13, 13, 15]\n",
    "ends =  [2, 3, 3, 11, 5, 4, 8, 9, 6, 10, 7, 8, 13, 14, 10, 7, 12, 8, 15, 14, 14]\n",
    "edges = list(zip(starts, ends))\n",
    "g.add_edges_from(edges)\n",
    "# g.add_edge(0,2)\n",
    "# g.add_edge(1,3)\n",
    "# g.add_edge(2,4)\n",
    "# g.add_edge(4,5)\n",
    "# g.add_edge(3,6)\n",
    "# g.add_edge(5,6)\n",
    "# g.add_edge(2,7)\n",
    "# g.add_edge(7,4)\n",
    "# g.add_edge(7,8)\n",
    "# g.add_edge(8,5)\n",
    "# g.add_edge(1,9)\n",
    "# g.add_edge(9,10)\n",
    "# g.add_edge(10,11)\n",
    "# g.add_edge(11,3)\n",
    "\n",
    "# # g.add_edges_from([(start, start+1) for start in range(9)])\n",
    "# g.add_edge(1,9, genomes=set([\"111.1\"]), sequences=set([\"sequence.1\"]))\n",
    "# construct_pg_edge(g, 2, 3, \"222.2\", \"sequence.2\")"
   ]
  },
  {
   "cell_type": "code",
   "execution_count": null,
   "metadata": {},
   "outputs": [],
   "source": [
    "for edge in g.edges:\n",
    "    print(edge)\n",
    "    print(g.edges[edge])"
   ]
  },
  {
   "cell_type": "code",
   "execution_count": 4,
   "metadata": {},
   "outputs": [
    {
     "data": {
      "image/png": "[encoded data removed]",
      "text/plain": [
       "<Figure size 432x288 with 1 Axes>"
      ]
     },
     "metadata": {},
     "output_type": "display_data"
    }
   ],
   "source": [
    "nx.draw(g, with_labels=True)"
   ]
  },
  {
   "cell_type": "code",
   "execution_count": 90,
   "metadata": {},
   "outputs": [
    {
     "data": {
      "text/plain": [
       "[2, 7]"
      ]
     },
     "execution_count": 90,
     "metadata": {},
     "output_type": "execute_result"
    }
   ],
   "source": [
    "[i for i in g.predecessors(4)]"
   ]
  },
  {
   "cell_type": "code",
   "execution_count": 29,
   "metadata": {},
   "outputs": [
    {
     "data": {
      "text/plain": [
       "[1, 2, 3]"
      ]
     },
     "execution_count": 29,
     "metadata": {},
     "output_type": "execute_result"
    }
   ],
   "source": [
    "x = [1,2,3]\n",
    "y = []\n",
    "x.extend(y)\n",
    "x"
   ]
  },
  {
   "cell_type": "code",
   "execution_count": 13,
   "metadata": {},
   "outputs": [
    {
     "data": {
      "text/plain": [
       "[(1, 2),\n",
       " (1, 3),\n",
       " (2, 3),\n",
       " (3, 11),\n",
       " (3, 5),\n",
       " (3, 4),\n",
       " (4, 8),\n",
       " (5, 9),\n",
       " (5, 6),\n",
       " (6, 10),\n",
       " (6, 7),\n",
       " (7, 8),\n",
       " (8, 13),\n",
       " (8, 14),\n",
       " (9, 10),\n",
       " (10, 7),\n",
       " (11, 12),\n",
       " (12, 8),\n",
       " (13, 15),\n",
       " (13, 14),\n",
       " (15, 14)]"
      ]
     },
     "execution_count": 13,
     "metadata": {},
     "output_type": "execute_result"
    }
   ],
   "source": [
    "edges"
   ]
  },
  {
   "cell_type": "code",
   "execution_count": 12,
   "metadata": {},
   "outputs": [
    {
     "data": {
      "text/plain": [
       "([((3, 'Entrance', 2), (14, 'Exit', 14)),\n",
       "  ((11, 'Entrance', 9), (12, 'Exit', 10))],\n",
       " [inf, 0, 0, 2, 2, 4, 4, 5, 5, 2, 9, 3, 11, 12, 11])"
      ]
     },
     "execution_count": 12,
     "metadata": {},
     "output_type": "execute_result"
    }
   ],
   "source": [
    "super_bubble(g, 1)"
   ]
  },
  {
   "cell_type": "code",
   "execution_count": 3,
   "metadata": {},
   "outputs": [],
   "source": [
    "def super_bubble(g, start_node):\n",
    "    \n",
    "    def validate_superbubble(start_node, end_node):\n",
    "        start = start_node[2]\n",
    "        end = end_node[2]\n",
    "        \n",
    "        outchild = outchild_rangearr.range_extreme(start, end-1)\n",
    "        outparent = outparent_rangearr.range_extreme(start+1, end)\n",
    "        \n",
    "        if outchild != end:\n",
    "            return -1\n",
    "        if outparent == start:\n",
    "            return start_node\n",
    "        else:\n",
    "            if outparent not in total_topo_order_to_node:\n",
    "                return prev_entrances[outparent]\n",
    "            elif total_topo_order_to_node[outparent][2] == \"Entrance\":\n",
    "                return total_topo_order_to_node[outparent]\n",
    "            else:\n",
    "                return prev_entrances[outparent]\n",
    "\n",
    "    \n",
    "    def report_superbubble(start, exit):\n",
    "        super_bubbles = []\n",
    "        if start is None or exit is None or topo_order[start[0]] >= topo_order[exit[0]]:\n",
    "            node_candidates.pop()\n",
    "            return super_bubbles\n",
    "        \n",
    "        s = prev_entrances[exit[2]]\n",
    "        \n",
    "        while topo_order[s[0]] >= topo_order[start[0]]:\n",
    "            valid = validate_superbubble(s, exit)\n",
    "            if (valid == s) or (valid == alternative_entrances[s[2]]) or (valid == -1):\n",
    "                break\n",
    "            alternative_entrances[s[2]] = valid\n",
    "            s = valid\n",
    "            \n",
    "        node_candidates.pop()\n",
    "        \n",
    "        if valid == s:\n",
    "            super_bubbles.append((s, exit))\n",
    "            while node_candidates and node_candidates[-1] is not s:\n",
    "                if node_candidates[-1][1] == \"Exit\":\n",
    "                    next_s = order_to_node[topo_order[s[0]]+1]\n",
    "                    super_bubbles.extend(report_superbubble(next_s, node_candidates[-1]))\n",
    "                else:\n",
    "                    node_candidates.pop()\n",
    "        return super_bubbles\n",
    "    \n",
    "    sorted_nodes = topo_sort(g, start_node)\n",
    "    node_to_topo = {node:ix for ix, node in enumerate(sorted_nodes)} \n",
    "    outparent = []\n",
    "    outchild = []\n",
    "    \n",
    "    node_candidates = []\n",
    "    prev_entrances = dict()\n",
    "    \n",
    "    prev_ent = None\n",
    "    \n",
    "    for ix, node in enumerate(sorted_nodes):\n",
    "        prev_entrances[ix] = prev_ent\n",
    "        is_entrance = False\n",
    "        is_exit = False\n",
    "\n",
    "        topo_orders = [np.inf]\n",
    "        for parent in g.predecessors(node):\n",
    "            topo_orders.append(node_to_topo[parent])\n",
    "            if g.out_degree(parent) == 1:\n",
    "                is_exit = True\n",
    "                node_candidates.append((node, \"Exit\", ix))\n",
    "        outparent.append(min(topo_orders))\n",
    "            \n",
    "        topo_orders = [-1]\n",
    "        for child in g.successors(node):\n",
    "            topo_orders.append(node_to_topo[child])\n",
    "            if g.in_degree(child) == 1:\n",
    "                is_entrance = True\n",
    "                node_candidates.append((node, \"Entrance\", ix))\n",
    "                prev_ent = (node, \"Entrance\", ix)\n",
    "        outchild.append(max(topo_orders))\n",
    "#         sorted_nodes[ix] = (node, is_entrance, is_exit)\n",
    "\n",
    "    outparent_rangearr = RangeMinMaxArray(outparent, comp=min)\n",
    "    outchild_rangearr = RangeMinMaxArray(outchild, comp=max)\n",
    "    \n",
    "#     node_candidates, prev_entrances = identify_entrance_exit_nodes(g, start_node)\n",
    "    alternative_entrances = {i:None for i in prev_entrances}\n",
    "    topo_order = {i[0]:ix for ix, i in enumerate(node_candidates)}    \n",
    "    order_to_node = {ix:i for ix, i in enumerate(node_candidates)}    \n",
    "    total_topo_order_to_node = {i[2]:i for ix, i in enumerate(node_candidates)}    \n",
    "#     node_candidates, prev_entrances = node_candidates[::-1], prev_entrances[::-1] #Need to operate on them in reverse order\n",
    "    entrances = [node[0] for node in node_candidates if node[1] == \"Entrance\"]\n",
    "    \n",
    "    super_bubbles = []\n",
    "    \n",
    "    while node_candidates:\n",
    "        if node_candidates[-1][1] == \"Entrance\":\n",
    "            node_candidates.pop()\n",
    "        else:\n",
    "            super_bubbles.extend(report_superbubble(node_candidates[0], node_candidates[-1]))\n",
    "    \n",
    "    return super_bubbles, outparent"
   ]
  },
  {
   "cell_type": "code",
   "execution_count": 4,
   "metadata": {},
   "outputs": [],
   "source": [
    "# g = nx.readwrite.read_gexf(\"../test_data/digraph_test.gexf\")"
   ]
  },
  {
   "cell_type": "code",
   "execution_count": 5,
   "metadata": {},
   "outputs": [],
   "source": [
    "def topo_sort(g, start_node):\n",
    "    nodes = g.nodes()\n",
    "    node_status = {i:False for i in nodes}\n",
    "    node_loc = {i:0 for i in nodes}\n",
    "    sorted_nodes = []\n",
    "\n",
    "    def topo_sort_helper(g, node):\n",
    "        if not node_status[node]:\n",
    "            node_status[node] = True\n",
    "            for neighbor in g.neighbors(node):\n",
    "                topo_sort_helper(g, neighbor)\n",
    "            sorted_nodes.append(node)\n",
    "    \n",
    "    topo_sort_helper(g, start_node)\n",
    "    return sorted_nodes[::-1]"
   ]
  },
  {
   "cell_type": "code",
   "execution_count": 25,
   "metadata": {},
   "outputs": [
    {
     "data": {
      "text/plain": [
       "[1, 2, 3, 4, 5, 6, 9, 10, 7, 11, 12, 8, 13, 15, 14]"
      ]
     },
     "execution_count": 25,
     "metadata": {},
     "output_type": "execute_result"
    }
   ],
   "source": [
    "topo_sort(g, 1)"
   ]
  },
  {
   "cell_type": "code",
   "execution_count": 14,
   "metadata": {},
   "outputs": [
    {
     "data": {
      "text/plain": [
       "[1, 2, 3, 4, 5, 6, 9, 10, 7, 11, 12, 8, 13, 15, 14]"
      ]
     },
     "execution_count": 14,
     "metadata": {},
     "output_type": "execute_result"
    }
   ],
   "source": [
    "topo_sort(g, 1)"
   ]
  },
  {
   "cell_type": "code",
   "execution_count": 10,
   "metadata": {},
   "outputs": [],
   "source": [
    "@functools.total_ordering\n",
    "class Node():\n",
    "    def __init__(self, value, index):\n",
    "        self.left = None\n",
    "        self.right = None\n",
    "        self.parent = None\n",
    "        self.value = value\n",
    "        self.index = index\n",
    "    \n",
    "    def __eq__(self, other):\n",
    "        return self.value == other.value and self.index == other.index\n",
    "    \n",
    "    def __lt__(self, other):\n",
    "        return self.value < other.value or (self.value == other.value and self.index < other.index)\n",
    "    \n",
    "    def __str__(self):\n",
    "        return f\"Node: {self.value}\"\n",
    "    \n",
    "class CartesianTree():\n",
    "    \n",
    "    \"\"\"\n",
    "    Need to make it totally ordered by index (ties broken by index so \n",
    "    if it comes first it is smaller)\n",
    "    \"\"\"\n",
    "    \n",
    "    def __init__(self, arr):\n",
    "        self.root = Node(arr[0], 0)\n",
    "        self.size = 1\n",
    "        self.last_node = self.root\n",
    "        \n",
    "        for i in arr[1:]:\n",
    "            self.insert(i)\n",
    "        \n",
    "    def insert(self, data):\n",
    "        node_index = self.size\n",
    "        new_node = Node(data, node_index)\n",
    "        cur_node = self.last_node\n",
    "        while (cur_node != self.root) and cur_node > new_node:\n",
    "            cur_node = cur_node.parent\n",
    "#             print(\"Now on current node: \", cur_node)\n",
    "        if cur_node == self.root and cur_node > new_node:\n",
    "            self.root = new_node\n",
    "            new_node.left = cur_node\n",
    "            cur_node.parent = new_node\n",
    "        else:\n",
    "            if not cur_node.right is None:\n",
    "                new_node.left = cur_node.right\n",
    "                new_node.left.parent = new_node\n",
    "            cur_node.right = new_node\n",
    "            new_node.parent = cur_node\n",
    "        self.last_node = new_node\n",
    "        self.size += 1\n",
    "    \n",
    "    def plot(self, name):\n",
    "        G = nx.DiGraph()\n",
    "        def add_nodes(node):\n",
    "            G.add_node(node.value)\n",
    "            if not node.parent is None:\n",
    "                G.add_edge(node.parent.value, node.value)\n",
    "            if not node.right is None:\n",
    "                add_nodes(node.right)\n",
    "            if not node.left is None:\n",
    "                add_nodes(node.left)\n",
    "        \n",
    "        add_nodes(self.root)\n",
    "\n",
    "        plt.title('draw_networkx')\n",
    "        p=nx.drawing.nx_pydot.to_pydot(G)\n",
    "        p.write_png(f\"{name}.png\")\n",
    "        \n",
    "    def get_cartesian_hash(self):\n",
    "        cart_hash = []\n",
    "        def update_hash(node):\n",
    "            cart_hash.append(\"0\")\n",
    "            if node.left is None:\n",
    "                cart_hash.append(\"1\")\n",
    "            else:\n",
    "                update_hash(node.left)\n",
    "            \n",
    "            if node.right is None:\n",
    "                cart_hash.append(\"1\")\n",
    "            else:\n",
    "                update_hash(node.right)\n",
    "                \n",
    "        update_hash(self.root)\n",
    "        return \"\".join(cart_hash)\n",
    "    \n",
    "    def get_in_order(self):\n",
    "        nodes = []\n",
    "        def add_node(node):\n",
    "            if not node.left is None:\n",
    "                add_node(node.left)\n",
    "                \n",
    "            nodes.append(node)\n",
    "            if not node.right is None:\n",
    "                add_node(node.right)\n",
    "\n",
    "        add_node(self.root)\n",
    "        return nodes    \n",
    "        \n",
    "    def get_pairwise_comps(self, comp=min):\n",
    "        nodes = self.get_in_order()\n",
    "        arr = np.zeros((len(nodes), len(nodes)))\n",
    "        \n",
    "        for i, first in enumerate(nodes):\n",
    "            cur_extreme = first\n",
    "            for j, second in enumerate(nodes[i:]):\n",
    "                cur_extreme = comp(cur_extreme, second)\n",
    "                arr[i][j+i] = cur_extreme.index\n",
    "        return arr\n",
    "                "
   ]
  },
  {
   "cell_type": "code",
   "execution_count": 11,
   "metadata": {},
   "outputs": [],
   "source": [
    "# def identify_entrance_exit_nodes(g, start_node):\n",
    "    \n",
    "#     sorted_nodes = topo_sort(g, start_node)\n",
    "#     node_candidates = []\n",
    "#     prev_entrances = []\n",
    "#     prev_ent = None\n",
    "    \n",
    "#     for ix, node in enumerate(sorted_nodes):\n",
    "#         prev_entrances.append(prev_ent)\n",
    "#         is_entrance = False\n",
    "#         is_exit = False\n",
    "#         for parent in g.predecessors(node):\n",
    "#             if g.out_degree(parent) == 1:\n",
    "#                 is_exit = True\n",
    "#                 node_candidates.append((node, \"Exit\"))\n",
    "#                 break\n",
    "            \n",
    "#         for child in g.successors(node):\n",
    "#             if g.in_degree(child) == 1:\n",
    "#                 is_entrance = True\n",
    "#                 node_candidates.append((node, \"Entrance\"))\n",
    "#                 prev_ent = node\n",
    "#                 break\n",
    "#         sorted_nodes[ix] = (node, is_entrance, is_exit)\n",
    "#     return node_candidates, prev_entrances\n",
    "\n",
    "\n",
    "            \n",
    "class RangeMinMaxArray():\n",
    "    \"\"\"\n",
    "    Need to add an array to store the precomputed range extrema for\n",
    "    all block index queries to make constant lookup of the extrema for\n",
    "    all blocks fully contained in the query (and then only have three \n",
    "    extrema to consider)\n",
    "    \n",
    "    Adapted from \n",
    "    ftp://nozdr.ru/biblio/kolxoz/Cs/CsLn/Combinatorial%20Pattern%20Matching,%2017%20conf.,%20CPM%202006(LNCS4009,%20Springer,%202006)(ISBN%203540354557)(424s).pdf#page=46\n",
    "        (Johannes Fischer and Volker Heun)\n",
    "    https://en.wikipedia.org/wiki/Range_minimum_query\n",
    "    https://en.wikipedia.org/wiki/Cartesian_tree\n",
    "    \"\"\"\n",
    "    def __init__(self, data, comp=min):\n",
    "        self.data = data\n",
    "        self.comp=comp\n",
    "        self.block_size = int(math.log(len(self.data), 2) // 1)\n",
    "        self.blocks = [self.data[ix:ix + self.block_size] for ix in range(0,len(self.data),self.block_size)]\n",
    "        self.block_extrema = [self.comp(arr) for arr in self.blocks]\n",
    "        \n",
    "        #Construct long query array\n",
    "        array_len = len(self.blocks)\n",
    "        log_len = math.floor(math.log(array_len, 2)) + 1\n",
    "        self.long_query_array = np.zeros((array_len, log_len))\n",
    "        for j in range(log_len):\n",
    "            for ix, i in enumerate(self.block_extrema):\n",
    "                if j == 0:\n",
    "                    self.long_query_array[ix][0] = min(self.block_extrema[ix:ix+1])\n",
    "                else:\n",
    "                    second_index = ix + 2**(j-1)\n",
    "                    if second_index >= array_len:\n",
    "                        self.long_query_array[ix][j] = self.long_query_array[ix][j-1]\n",
    "                    else:\n",
    "                        self.long_query_array[ix][j] = min(self.long_query_array[ix][j-1], \\\n",
    "                                              self.long_query_array[second_index][j-1])\n",
    "\n",
    "        self.build_cartesian_map()\n",
    "        \n",
    "    def __iter__(self):\n",
    "        for i in self.data:\n",
    "            yield i\n",
    "            \n",
    "    def __getitem__(self, key):\n",
    "        return self.data[key]\n",
    "    \n",
    "    def get_pairwise_block_comps(self):\n",
    "        \n",
    "        for i, first in enumerate(self.block_extrema):\n",
    "            cur_extreme = first\n",
    "            for j, second in enumerate(nodes[i:]):\n",
    "                cur_extreme = self.comp(cur_extreme, second)\n",
    "                arr[i][j+i] = cur_extreme.index\n",
    "        return arr\n",
    "        \n",
    "    def get_long_block_extrema(self, i, j):\n",
    "        \n",
    "        if i == j:\n",
    "            return self.block_extrema[i]\n",
    "        \n",
    "        l = math.floor(math.log(j-i, 2))\n",
    "        return self.comp(self.long_query_array[i][l], self.long_query_array[j - (2**l) +1][l])\n",
    "            \n",
    "    def build_cartesian_map(self):\n",
    "#         import pdb; pdb.set_trace()\n",
    "        \n",
    "        cartesian_map = dict() #I know this breaks the linear time algorithm (worst case is O(n) where the \n",
    "        #wikipedia article https://en.wikipedia.org/wiki/Range_minimum_query recommends an array of\n",
    "        #size log n, but \"key in dict\" in constant on average by https://wiki.python.org/moin/TimeComplexity\n",
    "        #So I'm saving some space and \"readability\")\n",
    "\n",
    "        block_id_to_cart_hash = dict()\n",
    "        for ix, block in enumerate(self.blocks):\n",
    "            cart_tree = CartesianTree(block)\n",
    "            cart_hash = cart_tree.get_cartesian_hash()\n",
    "            if not cart_hash in cartesian_map:\n",
    "                cartesian_map[cart_hash] = cart_tree.get_pairwise_comps(comp=self.comp)\n",
    "            block_id_to_cart_hash[ix] = cart_hash \n",
    "\n",
    "        self.cartesian_map, self.block_id_to_cart_hash = cartesian_map, block_id_to_cart_hash\n",
    "        \n",
    "    def range_extreme(self, left, right):\n",
    "        print(f\"\\t{self.data[left:right+1]}\")\n",
    "#         right = right -1 #To account for standard python indexing\n",
    "#         import pdb; pdb.set_trace()\n",
    "#         print(f\"Left: {left}\\tRight: {right}\")\n",
    "        if left > right:\n",
    "            raise ValueError(\"Left index must be less than or equal to the right index.\")\n",
    "        extrema = []\n",
    "        left_block = math.floor(left/self.block_size)\n",
    "        right_block = math.floor(right/self.block_size)\n",
    "        \n",
    "        if right_block - left_block > 1: #So there is at least one block completely between them\n",
    "            extrema.append(self.get_long_block_extrema(left_block+1, right_block-1))\n",
    "        \n",
    "        #If the indices are in the same block, both left_extrema and right_extrema are the same\n",
    "        \n",
    "        left_block_offset = left_block * self.block_size\n",
    "        left_block_left, left_block_right = (left - left_block_offset, \\\n",
    "                              min(self.block_size - 1, right - left_block_offset))\n",
    "        \n",
    "        left_block_cart_hash = self.block_id_to_cart_hash[left_block]\n",
    "        left_extrema_index = int(self.cartesian_map[left_block_cart_hash][left_block_left][left_block_right])\n",
    "        left_extrema = self.blocks[left_block][left_extrema_index]\n",
    "        \n",
    "        right_block_offset = right_block * self.block_size\n",
    "        right_block_left, right_block_right = (max(0, left - right_block_offset), \\\n",
    "                                               right - right_block_offset)\n",
    "        \n",
    "        right_block_cart_hash = self.block_id_to_cart_hash[right_block]\n",
    "        right_extrema_index = int(self.cartesian_map[right_block_cart_hash][right_block_left][right_block_right])\n",
    "        right_extrema = self.blocks[right_block][right_extrema_index]\n",
    "        \n",
    "        extrema.append(left_extrema)\n",
    "        extrema.append(right_extrema)\n",
    "        \n",
    "        return self.comp(extrema)\n",
    "            \n",
    "def blockify_array(array):\n",
    "    block_size = int(math.log(len(array), 2) // 1)\n",
    "    blocks = [array[ix:ix + block_size] for ix in range(0,len(array),block_size)]\n",
    "    block_minima = [min(arr) for arr in blocks]\n",
    "    return blocks, block_minima\n",
    "\n",
    "def build_cartesian_map(blocks, comp=min):\n",
    "    \"\"\"\n",
    "    Don't quite have the implementation correct I think because this seems to do\n",
    "    log^2(n) operations n/log(n) times which is nlogn instead of log^2 in time\n",
    "    \"\"\"\n",
    "    cartesian_map = dict() #I know this breaks the linear time algorithm (worst case is O(n) where the \n",
    "    #wikipedia article https://en.wikipedia.org/wiki/Range_minimum_query recommends an array of\n",
    "    #size log n, but \"key in dict\" in constant on average by https://wiki.python.org/moin/TimeComplexity\n",
    "    #So I'm saving some space and \"readability\")\n",
    "\n",
    "    block_id_to_cart_hash = dict()\n",
    "    for ix, block in enumerate(blocks):\n",
    "        cart_tree = CartesianTree(block)\n",
    "        cart_hash = cart_tree.get_cartesian_hash()\n",
    "        if not cart_hash in cartesian_map:\n",
    "            cartesian_map[cart_hash] = cart_tree.get_pairwise_comps(comp=comp)\n",
    "        block_id_to_cart_hash[ix] = cart_hash \n",
    "\n",
    "    return cartesian_map, block_id_to_cart_hash\n",
    "    \n",
    "def calc_min_parent():\n",
    "    pass\n",
    "def calc_max_child():\n",
    "    pass\n",
    "def build_cartesian_tree_array(arr):\n",
    "    pass"
   ]
  },
  {
   "cell_type": "code",
   "execution_count": 12,
   "metadata": {},
   "outputs": [
    {
     "name": "stdout",
     "output_type": "stream",
     "text": [
      "\t[2, 2, 9, 11, 6, 8, 7, 8, 11, 10, 11, 14, 14, 14]\n"
     ]
    },
    {
     "data": {
      "text/plain": [
       "2"
      ]
     },
     "execution_count": 12,
     "metadata": {},
     "output_type": "execute_result"
    }
   ],
   "source": [
    "arr = [2, 2, 9, 11, 6, 8, 7, 8, 11, 10, 11, 14, 14, 14, -1]\n",
    "test = RangeMinMaxArray(arr)\n",
    "\n",
    "test.range_extreme(0,13)"
   ]
  },
  {
   "cell_type": "code",
   "execution_count": 10,
   "metadata": {},
   "outputs": [],
   "source": [
    "from numpy.random import randint"
   ]
  },
  {
   "cell_type": "code",
   "execution_count": 11,
   "metadata": {},
   "outputs": [
    {
     "data": {
      "text/plain": [
       "0"
      ]
     },
     "execution_count": 11,
     "metadata": {},
     "output_type": "execute_result"
    }
   ],
   "source": [
    "np.random.seed(42)\n",
    "arr = [9,3,7,1,8,12,10,20,15,18,5,13,22,29,33,0,-15,3,5,6,7,8,9,0,10,123]\n",
    "test = RangeMinMaxArray(arr)\n",
    "\n",
    "# test.range_extreme(0,22)\n",
    "# min(arr[0:23])\n",
    "\n",
    "s = 0\n",
    "for num_arr in range(300, 600, 50):\n",
    "# for num_arr in range(3, 10):\n",
    "    arr = randint(0,num_arr*500, num_arr)\n",
    "    test = RangeMinMaxArray(arr)\n",
    "\n",
    "    for i in range(len(arr)):\n",
    "        for j in range(i+1,len(arr)+1):\n",
    "            mi = min(arr[i:j])\n",
    "            result = test.range_extreme(i,j-1)\n",
    "\n",
    "    #         print(f\"{mi == result}\\tStart: {i} {arr[i]}\\tStop: {j-1} {arr[j-1]}\\tMin: {mi}\\tResult: {result}\")\n",
    "            s += mi != result\n",
    "\n",
    "s\n",
    "    "
   ]
  },
  {
   "cell_type": "code",
   "execution_count": 13,
   "metadata": {},
   "outputs": [
    {
     "name": "stdout",
     "output_type": "stream",
     "text": [
      "0, 1\n",
      "\t[2, 2]\n",
      "\t[2, 2]\n",
      "\tMin is 2, result is 2: True\n",
      "0, 2\n",
      "\t[2, 2, 9]\n",
      "\t[2, 2, 9]\n",
      "\tMin is 2, result is 2: True\n",
      "0, 3\n",
      "\t[2, 2, 9, 11]\n",
      "\t[2, 2, 9, 11]\n",
      "\tMin is 2, result is 2: True\n",
      "0, 4\n",
      "\t[2, 2, 9, 11, 6]\n",
      "\t[2, 2, 9, 11, 6]\n",
      "\tMin is 2, result is 2: True\n",
      "0, 5\n",
      "\t[2, 2, 9, 11, 6, 8]\n",
      "\t[2, 2, 9, 11, 6, 8]\n",
      "\tMin is 2, result is 2: True\n",
      "0, 6\n",
      "\t[2, 2, 9, 11, 6, 8, 7]\n",
      "\t[2, 2, 9, 11, 6, 8, 7]\n",
      "\tMin is 2, result is 2: True\n",
      "0, 7\n",
      "\t[2, 2, 9, 11, 6, 8, 7, 8]\n",
      "\t[2, 2, 9, 11, 6, 8, 7, 8]\n",
      "\tMin is 2, result is 2: True\n",
      "0, 8\n",
      "\t[2, 2, 9, 11, 6, 8, 7, 8, 11]\n",
      "\t[2, 2, 9, 11, 6, 8, 7, 8, 11]\n",
      "\tMin is 2, result is 2: True\n",
      "0, 9\n",
      "\t[2, 2, 9, 11, 6, 8, 7, 8, 11, 10]\n",
      "\t[2, 2, 9, 11, 6, 8, 7, 8, 11, 10]\n",
      "\tMin is 2, result is 2: True\n",
      "0, 10\n",
      "\t[2, 2, 9, 11, 6, 8, 7, 8, 11, 10, 11]\n",
      "\t[2, 2, 9, 11, 6, 8, 7, 8, 11, 10, 11]\n",
      "\tMin is 2, result is 2: True\n",
      "0, 11\n",
      "\t[2, 2, 9, 11, 6, 8, 7, 8, 11, 10, 11, 14]\n",
      "\t[2, 2, 9, 11, 6, 8, 7, 8, 11, 10, 11, 14]\n",
      "\tMin is 2, result is 2: True\n",
      "0, 12\n",
      "\t[2, 2, 9, 11, 6, 8, 7, 8, 11, 10, 11, 14, 14]\n",
      "\t[2, 2, 9, 11, 6, 8, 7, 8, 11, 10, 11, 14, 14]\n",
      "\tMin is 2, result is 2: True\n",
      "0, 13\n",
      "\t[2, 2, 9, 11, 6, 8, 7, 8, 11, 10, 11, 14, 14, 14]\n",
      "\t[2, 2, 9, 11, 6, 8, 7, 8, 11, 10, 11, 14, 14, 14]\n",
      "\tMin is 2, result is 2: True\n",
      "0, 14\n",
      "\t[2, 2, 9, 11, 6, 8, 7, 8, 11, 10, 11, 14, 14, 14, -1]\n",
      "\t[2, 2, 9, 11, 6, 8, 7, 8, 11, 10, 11, 14, 14, 14, -1]\n",
      "\tMin is -1, result is -1: True\n",
      "1, 2\n",
      "\t[2, 9]\n",
      "\t[2, 9]\n",
      "\tMin is 2, result is 2: True\n",
      "1, 3\n",
      "\t[2, 9, 11]\n",
      "\t[2, 9, 11]\n",
      "\tMin is 2, result is 2: True\n",
      "1, 4\n",
      "\t[2, 9, 11, 6]\n",
      "\t[2, 9, 11, 6]\n",
      "\tMin is 2, result is 2: True\n",
      "1, 5\n",
      "\t[2, 9, 11, 6, 8]\n",
      "\t[2, 9, 11, 6, 8]\n",
      "\tMin is 2, result is 2: True\n",
      "1, 6\n",
      "\t[2, 9, 11, 6, 8, 7]\n",
      "\t[2, 9, 11, 6, 8, 7]\n",
      "\tMin is 2, result is 2: True\n",
      "1, 7\n",
      "\t[2, 9, 11, 6, 8, 7, 8]\n",
      "\t[2, 9, 11, 6, 8, 7, 8]\n",
      "\tMin is 2, result is 2: True\n",
      "1, 8\n",
      "\t[2, 9, 11, 6, 8, 7, 8, 11]\n",
      "\t[2, 9, 11, 6, 8, 7, 8, 11]\n",
      "\tMin is 2, result is 2: True\n",
      "1, 9\n",
      "\t[2, 9, 11, 6, 8, 7, 8, 11, 10]\n",
      "\t[2, 9, 11, 6, 8, 7, 8, 11, 10]\n",
      "\tMin is 2, result is 2: True\n",
      "1, 10\n",
      "\t[2, 9, 11, 6, 8, 7, 8, 11, 10, 11]\n",
      "\t[2, 9, 11, 6, 8, 7, 8, 11, 10, 11]\n",
      "\tMin is 2, result is 2: True\n",
      "1, 11\n",
      "\t[2, 9, 11, 6, 8, 7, 8, 11, 10, 11, 14]\n",
      "\t[2, 9, 11, 6, 8, 7, 8, 11, 10, 11, 14]\n",
      "\tMin is 2, result is 2: True\n",
      "1, 12\n",
      "\t[2, 9, 11, 6, 8, 7, 8, 11, 10, 11, 14, 14]\n",
      "\t[2, 9, 11, 6, 8, 7, 8, 11, 10, 11, 14, 14]\n",
      "\tMin is 2, result is 2: True\n",
      "1, 13\n",
      "\t[2, 9, 11, 6, 8, 7, 8, 11, 10, 11, 14, 14, 14]\n",
      "\t[2, 9, 11, 6, 8, 7, 8, 11, 10, 11, 14, 14, 14]\n",
      "\tMin is 2, result is 2: True\n",
      "1, 14\n",
      "\t[2, 9, 11, 6, 8, 7, 8, 11, 10, 11, 14, 14, 14, -1]\n",
      "\t[2, 9, 11, 6, 8, 7, 8, 11, 10, 11, 14, 14, 14, -1]\n",
      "\tMin is -1, result is -1: True\n",
      "2, 3\n",
      "\t[9, 11]\n",
      "\t[9, 11]\n",
      "\tMin is 9, result is 9: True\n",
      "2, 4\n",
      "\t[9, 11, 6]\n",
      "\t[9, 11, 6]\n",
      "\tMin is 6, result is 6: True\n",
      "2, 5\n",
      "\t[9, 11, 6, 8]\n",
      "\t[9, 11, 6, 8]\n",
      "\tMin is 6, result is 6: True\n",
      "2, 6\n",
      "\t[9, 11, 6, 8, 7]\n",
      "\t[9, 11, 6, 8, 7]\n",
      "\tMin is 6, result is 6: True\n",
      "2, 7\n",
      "\t[9, 11, 6, 8, 7, 8]\n",
      "\t[9, 11, 6, 8, 7, 8]\n",
      "\tMin is 6, result is 6: True\n",
      "2, 8\n",
      "\t[9, 11, 6, 8, 7, 8, 11]\n",
      "\t[9, 11, 6, 8, 7, 8, 11]\n",
      "\tMin is 6, result is 6: True\n",
      "2, 9\n",
      "\t[9, 11, 6, 8, 7, 8, 11, 10]\n",
      "\t[9, 11, 6, 8, 7, 8, 11, 10]\n",
      "\tMin is 6, result is 6.0: True\n",
      "2, 10\n",
      "\t[9, 11, 6, 8, 7, 8, 11, 10, 11]\n",
      "\t[9, 11, 6, 8, 7, 8, 11, 10, 11]\n",
      "\tMin is 6, result is 6.0: True\n",
      "2, 11\n",
      "\t[9, 11, 6, 8, 7, 8, 11, 10, 11, 14]\n",
      "\t[9, 11, 6, 8, 7, 8, 11, 10, 11, 14]\n",
      "\tMin is 6, result is 6.0: True\n",
      "2, 12\n",
      "\t[9, 11, 6, 8, 7, 8, 11, 10, 11, 14, 14]\n",
      "\t[9, 11, 6, 8, 7, 8, 11, 10, 11, 14, 14]\n",
      "\tMin is 6, result is 6.0: True\n",
      "2, 13\n",
      "\t[9, 11, 6, 8, 7, 8, 11, 10, 11, 14, 14, 14]\n",
      "\t[9, 11, 6, 8, 7, 8, 11, 10, 11, 14, 14, 14]\n",
      "\tMin is 6, result is 6.0: True\n",
      "2, 14\n",
      "\t[9, 11, 6, 8, 7, 8, 11, 10, 11, 14, 14, 14, -1]\n",
      "\t[9, 11, 6, 8, 7, 8, 11, 10, 11, 14, 14, 14, -1]\n",
      "\tMin is -1, result is -1: True\n",
      "3, 4\n",
      "\t[11, 6]\n",
      "\t[11, 6]\n",
      "\tMin is 6, result is 6: True\n",
      "3, 5\n",
      "\t[11, 6, 8]\n",
      "\t[11, 6, 8]\n",
      "\tMin is 6, result is 6: True\n",
      "3, 6\n",
      "\t[11, 6, 8, 7]\n",
      "\t[11, 6, 8, 7]\n",
      "\tMin is 6, result is 6: True\n",
      "3, 7\n",
      "\t[11, 6, 8, 7, 8]\n",
      "\t[11, 6, 8, 7, 8]\n",
      "\tMin is 6, result is 6: True\n",
      "3, 8\n",
      "\t[11, 6, 8, 7, 8, 11]\n",
      "\t[11, 6, 8, 7, 8, 11]\n",
      "\tMin is 6, result is 6: True\n",
      "3, 9\n",
      "\t[11, 6, 8, 7, 8, 11, 10]\n",
      "\t[11, 6, 8, 7, 8, 11, 10]\n",
      "\tMin is 6, result is 6: True\n",
      "3, 10\n",
      "\t[11, 6, 8, 7, 8, 11, 10, 11]\n",
      "\t[11, 6, 8, 7, 8, 11, 10, 11]\n",
      "\tMin is 6, result is 6: True\n",
      "3, 11\n",
      "\t[11, 6, 8, 7, 8, 11, 10, 11, 14]\n",
      "\t[11, 6, 8, 7, 8, 11, 10, 11, 14]\n",
      "\tMin is 6, result is 6: True\n",
      "3, 12\n",
      "\t[11, 6, 8, 7, 8, 11, 10, 11, 14, 14]\n",
      "\t[11, 6, 8, 7, 8, 11, 10, 11, 14, 14]\n",
      "\tMin is 6, result is 6: True\n",
      "3, 13\n",
      "\t[11, 6, 8, 7, 8, 11, 10, 11, 14, 14, 14]\n",
      "\t[11, 6, 8, 7, 8, 11, 10, 11, 14, 14, 14]\n",
      "\tMin is 6, result is 6: True\n",
      "3, 14\n",
      "\t[11, 6, 8, 7, 8, 11, 10, 11, 14, 14, 14, -1]\n",
      "\t[11, 6, 8, 7, 8, 11, 10, 11, 14, 14, 14, -1]\n",
      "\tMin is -1, result is -1: True\n",
      "4, 5\n",
      "\t[6, 8]\n",
      "\t[6, 8]\n",
      "\tMin is 6, result is 6: True\n",
      "4, 6\n",
      "\t[6, 8, 7]\n",
      "\t[6, 8, 7]\n",
      "\tMin is 6, result is 6: True\n",
      "4, 7\n",
      "\t[6, 8, 7, 8]\n",
      "\t[6, 8, 7, 8]\n",
      "\tMin is 6, result is 6: True\n",
      "4, 8\n",
      "\t[6, 8, 7, 8, 11]\n",
      "\t[6, 8, 7, 8, 11]\n",
      "\tMin is 6, result is 6: True\n",
      "4, 9\n",
      "\t[6, 8, 7, 8, 11, 10]\n",
      "\t[6, 8, 7, 8, 11, 10]\n",
      "\tMin is 6, result is 6: True\n",
      "4, 10\n",
      "\t[6, 8, 7, 8, 11, 10, 11]\n",
      "\t[6, 8, 7, 8, 11, 10, 11]\n",
      "\tMin is 6, result is 6: True\n",
      "4, 11\n",
      "\t[6, 8, 7, 8, 11, 10, 11, 14]\n",
      "\t[6, 8, 7, 8, 11, 10, 11, 14]\n",
      "\tMin is 6, result is 6: True\n",
      "4, 12\n",
      "\t[6, 8, 7, 8, 11, 10, 11, 14, 14]\n",
      "\t[6, 8, 7, 8, 11, 10, 11, 14, 14]\n",
      "\tMin is 6, result is 6: True\n",
      "4, 13\n",
      "\t[6, 8, 7, 8, 11, 10, 11, 14, 14, 14]\n",
      "\t[6, 8, 7, 8, 11, 10, 11, 14, 14, 14]\n",
      "\tMin is 6, result is 6: True\n",
      "4, 14\n",
      "\t[6, 8, 7, 8, 11, 10, 11, 14, 14, 14, -1]\n",
      "\t[6, 8, 7, 8, 11, 10, 11, 14, 14, 14, -1]\n",
      "\tMin is -1, result is -1: True\n",
      "5, 6\n",
      "\t[8, 7]\n",
      "\t[8, 7]\n",
      "\tMin is 7, result is 7: True\n",
      "5, 7\n",
      "\t[8, 7, 8]\n",
      "\t[8, 7, 8]\n",
      "\tMin is 7, result is 7: True\n",
      "5, 8\n",
      "\t[8, 7, 8, 11]\n",
      "\t[8, 7, 8, 11]\n",
      "\tMin is 7, result is 7: True\n",
      "5, 9\n",
      "\t[8, 7, 8, 11, 10]\n",
      "\t[8, 7, 8, 11, 10]\n",
      "\tMin is 7, result is 7: True\n",
      "5, 10\n",
      "\t[8, 7, 8, 11, 10, 11]\n",
      "\t[8, 7, 8, 11, 10, 11]\n",
      "\tMin is 7, result is 7: True\n",
      "5, 11\n",
      "\t[8, 7, 8, 11, 10, 11, 14]\n",
      "\t[8, 7, 8, 11, 10, 11, 14]\n",
      "\tMin is 7, result is 7: True\n",
      "5, 12\n",
      "\t[8, 7, 8, 11, 10, 11, 14, 14]\n",
      "\t[8, 7, 8, 11, 10, 11, 14, 14]\n",
      "\tMin is 7, result is 7.0: True\n",
      "5, 13\n",
      "\t[8, 7, 8, 11, 10, 11, 14, 14, 14]\n",
      "\t[8, 7, 8, 11, 10, 11, 14, 14, 14]\n",
      "\tMin is 7, result is 7.0: True\n",
      "5, 14\n",
      "\t[8, 7, 8, 11, 10, 11, 14, 14, 14, -1]\n",
      "\t[8, 7, 8, 11, 10, 11, 14, 14, 14, -1]\n",
      "\tMin is -1, result is -1: True\n",
      "6, 7\n",
      "\t[7, 8]\n",
      "\t[7, 8]\n",
      "\tMin is 7, result is 7: True\n",
      "6, 8\n",
      "\t[7, 8, 11]\n",
      "\t[7, 8, 11]\n",
      "\tMin is 7, result is 7: True\n",
      "6, 9\n",
      "\t[7, 8, 11, 10]\n",
      "\t[7, 8, 11, 10]\n",
      "\tMin is 7, result is 7: True\n",
      "6, 10\n",
      "\t[7, 8, 11, 10, 11]\n",
      "\t[7, 8, 11, 10, 11]\n",
      "\tMin is 7, result is 7: True\n",
      "6, 11\n",
      "\t[7, 8, 11, 10, 11, 14]\n",
      "\t[7, 8, 11, 10, 11, 14]\n",
      "\tMin is 7, result is 7: True\n",
      "6, 12\n",
      "\t[7, 8, 11, 10, 11, 14, 14]\n",
      "\t[7, 8, 11, 10, 11, 14, 14]\n",
      "\tMin is 7, result is 7: True\n",
      "6, 13\n",
      "\t[7, 8, 11, 10, 11, 14, 14, 14]\n",
      "\t[7, 8, 11, 10, 11, 14, 14, 14]\n",
      "\tMin is 7, result is 7: True\n",
      "6, 14\n",
      "\t[7, 8, 11, 10, 11, 14, 14, 14, -1]\n",
      "\t[7, 8, 11, 10, 11, 14, 14, 14, -1]\n",
      "\tMin is -1, result is -1: True\n",
      "7, 8\n",
      "\t[8, 11]\n",
      "\t[8, 11]\n",
      "\tMin is 8, result is 8: True\n",
      "7, 9\n",
      "\t[8, 11, 10]\n",
      "\t[8, 11, 10]\n",
      "\tMin is 8, result is 8: True\n",
      "7, 10\n",
      "\t[8, 11, 10, 11]\n",
      "\t[8, 11, 10, 11]\n",
      "\tMin is 8, result is 8: True\n",
      "7, 11\n",
      "\t[8, 11, 10, 11, 14]\n",
      "\t[8, 11, 10, 11, 14]\n",
      "\tMin is 8, result is 8: True\n",
      "7, 12\n",
      "\t[8, 11, 10, 11, 14, 14]\n",
      "\t[8, 11, 10, 11, 14, 14]\n",
      "\tMin is 8, result is 8: True\n",
      "7, 13\n",
      "\t[8, 11, 10, 11, 14, 14, 14]\n",
      "\t[8, 11, 10, 11, 14, 14, 14]\n",
      "\tMin is 8, result is 8: True\n",
      "7, 14\n",
      "\t[8, 11, 10, 11, 14, 14, 14, -1]\n",
      "\t[8, 11, 10, 11, 14, 14, 14, -1]\n",
      "\tMin is -1, result is -1: True\n",
      "8, 9\n",
      "\t[11, 10]\n",
      "\t[11, 10]\n",
      "\tMin is 10, result is 10: True\n",
      "8, 10\n",
      "\t[11, 10, 11]\n",
      "\t[11, 10, 11]\n",
      "\tMin is 10, result is 10: True\n",
      "8, 11\n",
      "\t[11, 10, 11, 14]\n",
      "\t[11, 10, 11, 14]\n",
      "\tMin is 10, result is 10: True\n",
      "8, 12\n",
      "\t[11, 10, 11, 14, 14]\n",
      "\t[11, 10, 11, 14, 14]\n",
      "\tMin is 10, result is 10: True\n",
      "8, 13\n",
      "\t[11, 10, 11, 14, 14, 14]\n",
      "\t[11, 10, 11, 14, 14, 14]\n",
      "\tMin is 10, result is 10: True\n",
      "8, 14\n",
      "\t[11, 10, 11, 14, 14, 14, -1]\n",
      "\t[11, 10, 11, 14, 14, 14, -1]\n",
      "\tMin is -1, result is -1: True\n",
      "9, 10\n",
      "\t[10, 11]\n",
      "\t[10, 11]\n",
      "\tMin is 10, result is 10: True\n",
      "9, 11\n",
      "\t[10, 11, 14]\n",
      "\t[10, 11, 14]\n",
      "\tMin is 10, result is 10: True\n",
      "9, 12\n",
      "\t[10, 11, 14, 14]\n",
      "\t[10, 11, 14, 14]\n",
      "\tMin is 10, result is 10: True\n",
      "9, 13\n",
      "\t[10, 11, 14, 14, 14]\n",
      "\t[10, 11, 14, 14, 14]\n",
      "\tMin is 10, result is 10: True\n",
      "9, 14\n",
      "\t[10, 11, 14, 14, 14, -1]\n",
      "\t[10, 11, 14, 14, 14, -1]\n",
      "\tMin is -1, result is -1: True\n",
      "10, 11\n",
      "\t[11, 14]\n",
      "\t[11, 14]\n",
      "\tMin is 11, result is 11: True\n",
      "10, 12\n",
      "\t[11, 14, 14]\n",
      "\t[11, 14, 14]\n",
      "\tMin is 11, result is 11: True\n",
      "10, 13\n",
      "\t[11, 14, 14, 14]\n",
      "\t[11, 14, 14, 14]\n",
      "\tMin is 11, result is 11: True\n",
      "10, 14\n",
      "\t[11, 14, 14, 14, -1]\n",
      "\t[11, 14, 14, 14, -1]\n",
      "\tMin is -1, result is -1: True\n",
      "11, 12\n",
      "\t[14, 14]\n",
      "\t[14, 14]\n",
      "\tMin is 14, result is 14: True\n",
      "11, 13\n",
      "\t[14, 14, 14]\n",
      "\t[14, 14, 14]\n",
      "\tMin is 14, result is 14: True\n",
      "11, 14\n",
      "\t[14, 14, 14, -1]\n",
      "\t[14, 14, 14, -1]\n",
      "\tMin is -1, result is -1: True\n",
      "12, 13\n",
      "\t[14, 14]\n",
      "\t[14, 14]\n",
      "\tMin is 14, result is 14: True\n",
      "12, 14\n",
      "\t[14, 14, -1]\n",
      "\t[14, 14, -1]\n",
      "\tMin is -1, result is -1: True\n",
      "13, 14\n",
      "\t[14, -1]\n",
      "\t[14, -1]\n",
      "\tMin is -1, result is -1: True\n"
     ]
    }
   ],
   "source": [
    "arr = [2, 2, 9, 11, 6, 8, 7, 8, 11, 10, 11, 14, 14, 14, -1] #[9, 5, 7, 11, 6, 4, 7, 8, 11, 10, 11, 14, 15, 16, 0]\n",
    "test = RangeMinMaxArray(arr)\n",
    "for i in range(len(arr)):\n",
    "    for j in range(i+1,len(arr)):\n",
    "        print(f\"{i}, {j}\")\n",
    "        print(f\"\\t{arr[i:j+1]}\")\n",
    "        mi = min(arr[i:j+1])\n",
    "        result = test.range_extreme(i,j)\n",
    "        print(f\"\\tMin is {mi}, result is {result}: {mi==result}\")"
   ]
  },
  {
   "cell_type": "code",
   "execution_count": null,
   "metadata": {},
   "outputs": [],
   "source": []
  },
  {
   "cell_type": "code",
   "execution_count": 18,
   "metadata": {},
   "outputs": [
    {
     "data": {
      "text/plain": [
       "-1"
      ]
     },
     "execution_count": 18,
     "metadata": {},
     "output_type": "execute_result"
    }
   ],
   "source": [
    "arr[14]"
   ]
  },
  {
   "cell_type": "code",
   "execution_count": null,
   "metadata": {},
   "outputs": [],
   "source": [
    "\n",
    "for i in range(len(test_arr)):\n",
    "    for j in range(i+2,len(test_arr)+1):\n",
    "        mi = min(test_arr[i:j])\n",
    "        result = get_dynamic_min(long_query_array,i,j-1)\n",
    "        print(f\"{mi == result}\\tStart: {i} {test_arr[i]}\\tStop: {j-1} {test_arr[j-1]}\\tMin: {mi}\\tResult: {result}\")\n",
    "    "
   ]
  },
  {
   "cell_type": "code",
   "execution_count": 35,
   "metadata": {},
   "outputs": [
    {
     "data": {
      "text/plain": [
       "[1]"
      ]
     },
     "execution_count": 35,
     "metadata": {},
     "output_type": "execute_result"
    }
   ],
   "source": [
    "x=[1,2,3,4]\n",
    "x[0:1]"
   ]
  },
  {
   "cell_type": "code",
   "execution_count": 56,
   "metadata": {},
   "outputs": [
    {
     "data": {
      "text/plain": [
       "3.0"
      ]
     },
     "execution_count": 56,
     "metadata": {},
     "output_type": "execute_result"
    }
   ],
   "source": [
    "math.log(len(arr), 2) // 1"
   ]
  },
  {
   "cell_type": "code",
   "execution_count": 123,
   "metadata": {},
   "outputs": [
    {
     "data": {
      "text/plain": [
       "[]"
      ]
     },
     "execution_count": 123,
     "metadata": {},
     "output_type": "execute_result"
    }
   ],
   "source": [
    "arr[5:0]"
   ]
  },
  {
   "cell_type": "code",
   "execution_count": 117,
   "metadata": {},
   "outputs": [
    {
     "data": {
      "text/plain": [
       "({'0011011': array([[9., 3., 3.],\n",
       "         [0., 3., 3.],\n",
       "         [0., 0., 7.]]),\n",
       "  '0101011': array([[ 1.,  1.,  1.],\n",
       "         [ 0.,  8.,  8.],\n",
       "         [ 0.,  0., 12.]]),\n",
       "  '0100111': array([[10., 10., 10.],\n",
       "         [ 0., 20., 15.],\n",
       "         [ 0.,  0., 15.]])},\n",
       " {0: '0011011', 1: '0101011', 2: '0100111', 3: '0011011', 4: '0101011'})"
      ]
     },
     "execution_count": 117,
     "metadata": {},
     "output_type": "execute_result"
    }
   ],
   "source": [
    "arr = [9,3,7,1,8,12,10,20,15,18,5,13,22,29,33,]\n",
    "blocks, block_minima = blockify_array(arr)\n",
    "build_cartesian_map(blocks, comp=min)"
   ]
  },
  {
   "cell_type": "code",
   "execution_count": 103,
   "metadata": {},
   "outputs": [
    {
     "name": "stdout",
     "output_type": "stream",
     "text": [
      "Node: 9\n",
      "Node: 9\n",
      "0 0\n",
      "Node: 3\n",
      "0 1\n",
      "Node: 7\n",
      "0 2\n",
      "Node: 1\n",
      "0 3\n",
      "Node: 3\n",
      "Node: 3\n",
      "1 0\n",
      "Node: 7\n",
      "1 1\n",
      "Node: 1\n",
      "1 2\n",
      "Node: 7\n",
      "Node: 7\n",
      "2 0\n",
      "Node: 1\n",
      "2 1\n",
      "Node: 1\n",
      "Node: 1\n",
      "3 0\n"
     ]
    },
    {
     "data": {
      "text/plain": [
       "array([[9., 3., 3., 1.],\n",
       "       [0., 3., 3., 1.],\n",
       "       [0., 0., 7., 1.],\n",
       "       [0., 0., 0., 1.]])"
      ]
     },
     "execution_count": 103,
     "metadata": {},
     "output_type": "execute_result"
    },
    {
     "data": {
      "image/png": "[encoded data removed]",
      "text/plain": [
       "<Figure size 432x288 with 1 Axes>"
      ]
     },
     "metadata": {
      "needs_background": "light"
     },
     "output_type": "display_data"
    }
   ],
   "source": [
    "arr = [9,3,7,1] #,8,12,10,20,15,18,5]\n",
    "test = CartesianTree(arr)\n",
    "test.plot(\"small\")\n",
    "test.get_pairwise_comps()"
   ]
  },
  {
   "cell_type": "code",
   "execution_count": 101,
   "metadata": {},
   "outputs": [
    {
     "data": {
      "text/plain": [
       "array([[0., 0., 0., 0.],\n",
       "       [0., 0., 0., 0.],\n",
       "       [0., 0., 0., 0.],\n",
       "       [0., 0., 0., 0.]])"
      ]
     },
     "execution_count": 101,
     "metadata": {},
     "output_type": "execute_result"
    }
   ],
   "source": [
    "arr = np.zeros((4, 4))\n",
    "arr"
   ]
  },
  {
   "cell_type": "code",
   "execution_count": 72,
   "metadata": {},
   "outputs": [
    {
     "data": {
      "text/plain": [
       "2048"
      ]
     },
     "execution_count": 72,
     "metadata": {},
     "output_type": "execute_result"
    }
   ],
   "source": [
    "2**11"
   ]
  },
  {
   "cell_type": "code",
   "execution_count": 28,
   "metadata": {},
   "outputs": [
    {
     "name": "stdout",
     "output_type": "stream",
     "text": [
      "Node: 9\n",
      "Node: 3\n",
      "Node: 7\n",
      "Node: 1\n",
      "Node: 8\n",
      "Node: 12\n",
      "Node: 10\n",
      "Node: 20\n",
      "Node: 15\n",
      "Node: 18\n",
      "Node: 5\n"
     ]
    }
   ],
   "source": [
    "def print_tree(tree):\n",
    "    if not tree.left is None:\n",
    "        print_tree(tree.left)\n",
    "    print(tree)\n",
    "    if not tree.right is None:\n",
    "        print_tree(tree.right)\n",
    "        \n",
    "print_tree(test.root)"
   ]
  },
  {
   "cell_type": "code",
   "execution_count": null,
   "metadata": {},
   "outputs": [],
   "source": [
    "identify_entrance_exit_nodes(g, 0)\n"
   ]
  },
  {
   "cell_type": "code",
   "execution_count": null,
   "metadata": {},
   "outputs": [],
   "source": []
  }
 ],
 "metadata": {
  "kernelspec": {
   "display_name": "Python 3.6",
   "language": "python",
   "name": "python36"
  },
  "language_info": {
   "codemirror_mode": {
    "name": "ipython",
    "version": 3
   },
   "file_extension": ".py",
   "mimetype": "text/x-python",
   "name": "python",
   "nbconvert_exporter": "python",
   "pygments_lexer": "ipython3",
   "version": "3.6.6"
  }
 },
 "nbformat": 4,
 "nbformat_minor": 4
}
