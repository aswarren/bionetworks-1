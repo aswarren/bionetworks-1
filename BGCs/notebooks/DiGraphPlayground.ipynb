{
 "cells": [
  {
   "cell_type": "code",
   "execution_count": null,
   "metadata": {},
   "outputs": [],
   "source": [
    "import numpy as np \n",
    "import pandas as pd\n",
    "import networkx as nx"
   ]
  },
  {
   "cell_type": "code",
   "execution_count": null,
   "metadata": {},
   "outputs": [],
   "source": [
    "\n",
    "def construct_pg_edge(g, prev_pg_id, cur_pg_id, genome_id, sequence_id):\n",
    "    edge_data=g.get_edge_data(prev_pg_id, cur_pg_id, default=None)\n",
    "    if edge_data != None:\n",
    "        edge_data[\"genomes\"].add(genome_id)\n",
    "        edge_data[\"sequences\"].add(sequence_id)\n",
    "    else:\n",
    "        g.add_edge(prev_pg_id, cur_pg_id, genomes=set([genome_id]), sequences=set([sequence_id]))"
   ]
  },
  {
   "cell_type": "code",
   "execution_count": 60,
   "metadata": {},
   "outputs": [],
   "source": [
    "g = nx.DiGraph()\n",
    "g.add_nodes_from(range(9))\n",
    "g.add_edge(0,1)\n",
    "g.add_edge(0,2)\n",
    "g.add_edge(1,3)\n",
    "g.add_edge(2,4)\n",
    "g.add_edge(4,5)\n",
    "g.add_edge(3,6)\n",
    "g.add_edge(5,6)\n",
    "g.add_edge(2,7)\n",
    "g.add_edge(7,4)\n",
    "g.add_edge(7,8)\n",
    "g.add_edge(8,5)\n",
    "\n",
    "# # g.add_edges_from([(start, start+1) for start in range(9)])\n",
    "# g.add_edge(1,9, genomes=set([\"111.1\"]), sequences=set([\"sequence.1\"]))\n",
    "# construct_pg_edge(g, 2, 3, \"222.2\", \"sequence.2\")"
   ]
  },
  {
   "cell_type": "code",
   "execution_count": null,
   "metadata": {},
   "outputs": [],
   "source": [
    "for edge in g.edges:\n",
    "    print(edge)\n",
    "    print(g.edges[edge])"
   ]
  },
  {
   "cell_type": "code",
   "execution_count": 68,
   "metadata": {},
   "outputs": [
    {
     "data": {
      "image/png": "[encoded data removed]",
      "text/plain": [
       "<Figure size 432x288 with 1 Axes>"
      ]
     },
     "metadata": {},
     "output_type": "display_data"
    }
   ],
   "source": [
    "nx.draw(g, with_labels=True)"
   ]
  },
  {
   "cell_type": "code",
   "execution_count": 90,
   "metadata": {},
   "outputs": [
    {
     "data": {
      "text/plain": [
       "[2, 7]"
      ]
     },
     "execution_count": 90,
     "metadata": {},
     "output_type": "execute_result"
    }
   ],
   "source": [
    "[i for i in g.predecessors(4)]"
   ]
  },
  {
   "cell_type": "code",
   "execution_count": 92,
   "metadata": {},
   "outputs": [
    {
     "data": {
      "text/plain": [
       "1"
      ]
     },
     "execution_count": 92,
     "metadata": {},
     "output_type": "execute_result"
    }
   ],
   "source": [
    "g.out_degree(4)"
   ]
  },
  {
   "cell_type": "code",
   "execution_count": null,
   "metadata": {},
   "outputs": [],
   "source": [
    "# g = nx.readwrite.read_gexf(\"../test_data/digraph_test.gexf\")"
   ]
  },
  {
   "cell_type": "code",
   "execution_count": 81,
   "metadata": {},
   "outputs": [],
   "source": [
    "def topo_sort(g, start_node):\n",
    "    nodes = g.nodes()\n",
    "    node_status = {i:False for i in nodes}\n",
    "    sorted_nodes = []\n",
    "\n",
    "    def topo_sort_helper(g, node):\n",
    "        if not node_status[node]:\n",
    "            node_status[node] = True\n",
    "            for neighbor in g.neighbors(node):\n",
    "                topo_sort_helper(g, neighbor)\n",
    "            sorted_nodes.append(node)\n",
    "    \n",
    "    topo_sort_helper(g, start_node)\n",
    "    return sorted_nodes[::-1]"
   ]
  },
  {
   "cell_type": "code",
   "execution_count": 82,
   "metadata": {},
   "outputs": [
    {
     "data": {
      "text/plain": [
       "[0, 2, 7, 8, 4, 5, 1, 3, 6]"
      ]
     },
     "execution_count": 82,
     "metadata": {},
     "output_type": "execute_result"
    }
   ],
   "source": [
    "topo_sort(g, 0)"
   ]
  },
  {
   "cell_type": "code",
   "execution_count": 86,
   "metadata": {},
   "outputs": [
    {
     "data": {
      "text/plain": [
       "{0: {'index': 0, 'source': None, 'sink': None},\n",
       " 2: {'index': 1, 'source': None, 'sink': None},\n",
       " 7: {'index': 2, 'source': None, 'sink': None},\n",
       " 8: {'index': 3, 'source': None, 'sink': None},\n",
       " 4: {'index': 4, 'source': None, 'sink': None},\n",
       " 5: {'index': 5, 'source': None, 'sink': None},\n",
       " 1: {'index': 6, 'source': None, 'sink': None},\n",
       " 3: {'index': 7, 'source': None, 'sink': None},\n",
       " 6: {'index': 8, 'source': None, 'sink': None}}"
      ]
     },
     "execution_count": 86,
     "metadata": {},
     "output_type": "execute_result"
    }
   ],
   "source": [
    "node_info = {i:{\"index\":ix, \"source\":None, \"sink\":None} for ix, i in enumerate(topo_sort(g, 0))}\n",
    "node_info"
   ]
  },
  {
   "cell_type": "code",
   "execution_count": 83,
   "metadata": {},
   "outputs": [
    {
     "data": {
      "text/plain": [
       "array([0, 6, 1, 7, 4, 5, 8, 2, 3])"
      ]
     },
     "execution_count": 83,
     "metadata": {},
     "output_type": "execute_result"
    }
   ],
   "source": [
    "for ix, i in np.argsort(topo_sort(g, 0)): #The index of each node, in sorted id order\n",
    "    "
   ]
  },
  {
   "cell_type": "code",
   "execution_count": 113,
   "metadata": {},
   "outputs": [],
   "source": [
    "def identify_entrance_exit_nodes(g, start_node):\n",
    "    \n",
    "    sorted_nodes = topo_sort(g, start_node)\n",
    "    node_candidates = []\n",
    "    prev_entrances = []\n",
    "    prev_ent = None\n",
    "    \n",
    "    for ix, node in enumerate(sorted_nodes):\n",
    "        prev_entrances.append(prev_ent)\n",
    "        is_entrance = False\n",
    "        is_exit = False\n",
    "        for parent in g.predecessors(node):\n",
    "            if g.out_degree(parent) == 1:\n",
    "                is_exit = True\n",
    "                node_candidates.append((node, \"Exit\"))\n",
    "                break\n",
    "            \n",
    "        for child in g.successors(node):\n",
    "            if g.in_degree(child) == 1:\n",
    "                is_entrance = True\n",
    "                node_candidates.append((node, \"Entrance\"))\n",
    "                prev_ent = node\n",
    "                break\n",
    "        sorted_nodes[ix] = (node, is_entrance, is_exit)\n",
    "    return node_candidates, prev_entrances\n",
    "\n",
    "def super_bubble(g, start_node):\n",
    "    \n",
    "#     sorted_nodes = topo_sort(g, start_node)\n",
    "    node_candidates = []\n",
    "    prev_entrances = dict()\n",
    "    prev_ent = None\n",
    "    \n",
    "    for ix, node in enumerate(sorted_nodes):\n",
    "        prev_entrances[node] = prev_ent\n",
    "        is_entrance = False\n",
    "        is_exit = False\n",
    "        for parent in g.predecessors(node):\n",
    "            if g.out_degree(parent) == 1:\n",
    "                is_exit = True\n",
    "                node_candidates.append((node, \"Exit\"))\n",
    "                break\n",
    "            \n",
    "        for child in g.successors(node):\n",
    "            if g.in_degree(child) == 1:\n",
    "                is_entrance = True\n",
    "                node_candidates.append((node, \"Entrance\"))\n",
    "                prev_ent = node\n",
    "                break\n",
    "#         sorted_nodes[ix] = (node, is_entrance, is_exit)\n",
    "    \n",
    "#     node_candidates, prev_entrances = identify_entrance_exit_nodes(g, start_node)\n",
    "    alternative_entrances = {i:None for i in prev_entrances}\n",
    "    topo_order = {i[0]:ix for ix, i in enumerate(node_candidates)}    \n",
    "#     node_candidates, prev_entrances = node_candidates[::-1], prev_entrances[::-1] #Need to operate on them in reverse order\n",
    "    entrances = [node[0] for node in node_candidates if node[1] == \"Entrance\"]\n",
    "    \n",
    "    def report_superbubble(start, exit):\n",
    "        if start is None or exit is None or topo_order[start] >= topo_order[exit]:\n",
    "            node_candidates.pop()\n",
    "            return\n",
    "        s = prev_entrances[exit]\n",
    "        while topo_order[s] >= topo_order[start]:\n",
    "            valid = validate_supperbubble(s, exit)\n",
    "    \n",
    "    for node, status in node_candidates:\n",
    "        if status == \"Entrance\":\n",
    "            continue\n",
    "        else:\n",
    "            report_superbubble(node, entrances)\n",
    "            \n"
   ]
  },
  {
   "cell_type": "code",
   "execution_count": 120,
   "metadata": {},
   "outputs": [
    {
     "data": {
      "text/plain": [
       "([(0, 'Entrance'),\n",
       "  (2, 'Entrance'),\n",
       "  (7, 'Entrance'),\n",
       "  (5, 'Exit'),\n",
       "  (1, 'Entrance'),\n",
       "  (3, 'Exit'),\n",
       "  (6, 'Exit')],\n",
       " [None, 0, 2, 7, 7, 7, 7, 1, 1])"
      ]
     },
     "execution_count": 120,
     "metadata": {},
     "output_type": "execute_result"
    }
   ],
   "source": [
    "identify_entrance_exit_nodes(g, 0)\n"
   ]
  }
 ],
 "metadata": {
  "kernelspec": {
   "display_name": "Python 3",
   "language": "python",
   "name": "python3"
  },
  "language_info": {
   "codemirror_mode": {
    "name": "ipython",
    "version": 3
   },
   "file_extension": ".py",
   "mimetype": "text/x-python",
   "name": "python",
   "nbconvert_exporter": "python",
   "pygments_lexer": "ipython3",
   "version": "3.7.4"
  }
 },
 "nbformat": 4,
 "nbformat_minor": 4
}
