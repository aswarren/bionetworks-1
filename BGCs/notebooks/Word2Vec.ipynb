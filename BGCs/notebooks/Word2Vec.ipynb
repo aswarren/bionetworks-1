{
 "cells": [
  {
   "cell_type": "code",
   "execution_count": 1,
   "metadata": {},
   "outputs": [],
   "source": [
    "import gensim\n",
    "from gensim import utils"
   ]
  },
  {
   "cell_type": "code",
   "execution_count": 35,
   "metadata": {},
   "outputs": [],
   "source": [
    "class FileToCorpus:\n",
    "    \"\"\"An iterator that yields sentences (lists of str).\"\"\"\n",
    "    def __init__(self, file):\n",
    "        self.file = file\n",
    "    def __iter__(self):\n",
    "        corpus_path = self.file\n",
    "        for line in open(corpus_path):\n",
    "            # assume there's one document per line, tokens separated by whitespace\n",
    "#             processed = utils.simple_preprocess(line)\n",
    "            processed = line.split()\n",
    "            yield line.split()"
   ]
  },
  {
   "cell_type": "code",
   "execution_count": 60,
   "metadata": {},
   "outputs": [],
   "source": [
    "# model = gensim.models.Word2Vec(sentences=FileToCorpus(\"../test_data/all_pfam_docs.txt\"))\n",
    "kwargs = {\"min_count\":0, \"sg\":1, \"hs\":1, \"seed\":42, \"iter\":8}\n",
    "pfam_model = gensim.models.Word2Vec(corpus_file=\"../test_data/all_pfam_docs.txt\", **kwargs) #sentences=FileToCorpus(\"../test_data/all_pfam_docs.txt\"))\n",
    "pgfam_model = gensim.models.Word2Vec(corpus_file=\"../test_data/all_pgfam_docs.txt\", **kwargs) #sentences=FileToCorpus(\"../test_data/all_pfam_docs.txt\"))\n",
    "pgfam_pfam_model = gensim.models.Word2Vec(corpus_file=\"../test_data/all_pgfam_and_pfam_docs.txt\", **kwargs) #sentences=FileToCorpus(\"../test_data/all_pfam_docs.txt\"))\n"
   ]
  },
  {
   "cell_type": "code",
   "execution_count": 63,
   "metadata": {},
   "outputs": [
    {
     "data": {
      "text/plain": [
       "29807"
      ]
     },
     "execution_count": 63,
     "metadata": {},
     "output_type": "execute_result"
    }
   ],
   "source": [
    "len(pgfam_pfam_model.wv.index2word)"
   ]
  },
  {
   "cell_type": "code",
   "execution_count": 47,
   "metadata": {},
   "outputs": [
    {
     "data": {
      "text/plain": [
       "2495"
      ]
     },
     "execution_count": 47,
     "metadata": {},
     "output_type": "execute_result"
    }
   ],
   "source": [
    "len(model.wv.index2word)"
   ]
  },
  {
   "cell_type": "code",
   "execution_count": 53,
   "metadata": {},
   "outputs": [
    {
     "data": {
      "text/plain": [
       "'3.8.3'"
      ]
     },
     "execution_count": 53,
     "metadata": {},
     "output_type": "execute_result"
    }
   ],
   "source": [
    "gensim.__version__"
   ]
  },
  {
   "cell_type": "code",
   "execution_count": 61,
   "metadata": {},
   "outputs": [],
   "source": [
    "pfam_model.save(\"pfam_wv_embedding.pkl\")\n",
    "pgfam_model.save(\"pgfam_wv_embedding.pkl\")\n",
    "pgfam_pfam_model.save(\"pgfam_and_pfam_wv_embedding.pkl\")\n"
   ]
  },
  {
   "cell_type": "code",
   "execution_count": 2,
   "metadata": {},
   "outputs": [
    {
     "ename": "NameError",
     "evalue": "name 'pickle' is not defined",
     "output_type": "error",
     "traceback": [
      "\u001b[0;31m---------------------------------------------------------------------------\u001b[0m",
      "\u001b[0;31mNameError\u001b[0m                                 Traceback (most recent call last)",
      "\u001b[0;32m<ipython-input-2-a335c81088ae>\u001b[0m in \u001b[0;36m<module>\u001b[0;34m\u001b[0m\n\u001b[0;32m----> 1\u001b[0;31m \u001b[0mem\u001b[0m \u001b[0;34m=\u001b[0m \u001b[0mpickle\u001b[0m\u001b[0;34m.\u001b[0m\u001b[0mload\u001b[0m\u001b[0;34m(\u001b[0m\u001b[0;34m\"../test_data/pgfam_wv_embedding.pkl\"\u001b[0m\u001b[0;34m)\u001b[0m\u001b[0;34m\u001b[0m\u001b[0;34m\u001b[0m\u001b[0m\n\u001b[0m\u001b[1;32m      2\u001b[0m \u001b[0mem\u001b[0m\u001b[0;34m\u001b[0m\u001b[0;34m\u001b[0m\u001b[0m\n",
      "\u001b[0;31mNameError\u001b[0m: name 'pickle' is not defined"
     ]
    }
   ],
   "source": [
    "em = pickle.load(\"../test_data/pgfam_wv_embedding.pkl\")\n",
    "em"
   ]
  }
 ],
 "metadata": {
  "kernelspec": {
   "display_name": "Stellar",
   "language": "python",
   "name": "stellar"
  },
  "language_info": {
   "codemirror_mode": {
    "name": "ipython",
    "version": 3
   },
   "file_extension": ".py",
   "mimetype": "text/x-python",
   "name": "python",
   "nbconvert_exporter": "python",
   "pygments_lexer": "ipython3",
   "version": "3.7.4"
  }
 },
 "nbformat": 4,
 "nbformat_minor": 4
}
