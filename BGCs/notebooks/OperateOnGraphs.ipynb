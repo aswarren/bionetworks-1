{
 "cells": [
  {
   "cell_type": "code",
   "execution_count": 1,
   "metadata": {},
   "outputs": [],
   "source": [
    "import pandas as pd\n",
    "import numpy as np\n",
    "import networkx as nx\n",
    "from Bio import SeqIO\n",
    "import graphviz as gv\n",
    "import json"
   ]
  },
  {
   "cell_type": "code",
   "execution_count": 2,
   "metadata": {},
   "outputs": [],
   "source": [
    "no_pfams = \"/sfs/lustre/bahamut/scratch/jho5ze/bionets/BGCs/genera/Mycobacterium/graphs/anti_gids_no_pfams.gexf\"\n",
    "no_pfams = nx.readwrite.read_gexf(no_pfams)\n",
    "\n",
    "pfams_path = \"/sfs/lustre/bahamut/scratch/jho5ze/bionets/BGCs/genera/Mycobacterium/graphs/anti_gids_with_pfams.gexf\"\n",
    "pfams = nx.readwrite.read_gexf(pfams_path)"
   ]
  },
  {
   "cell_type": "code",
   "execution_count": 2,
   "metadata": {},
   "outputs": [],
   "source": [
    "smash = pd.read_csv(\"antismash_db_results.csv\", sep=\"\\t\")\n",
    "smash[smash[\"NCBI accession\"] == \"NC_010612.1\"] \n",
    "counts = smash[\"NCBI accession\"].value_counts()\n",
    "above_10_index = counts[counts > 10].index\n",
    "smash = smash[smash[\"NCBI accession\"].isin(above_10_index)]\n",
    "smash[\"NCBI accession\"] = smash[\"NCBI accession\"].apply(lambda row: row.split(\".\")[0])\n",
    "smash_dict = dict()\n",
    "for accession, df in smash.groupby(\"NCBI accession\"):\n",
    "    smash_dict[accession] = df[[\"From\", \"To\"]].to_numpy()"
   ]
  },
  {
   "cell_type": "code",
   "execution_count": 5,
   "metadata": {},
   "outputs": [
    {
     "data": {
      "text/plain": [
       "90"
      ]
     },
     "execution_count": 5,
     "metadata": {},
     "output_type": "execute_result"
    }
   ],
   "source": [
    "len(smash_dict.keys())"
   ]
  },
  {
   "cell_type": "code",
   "execution_count": 87,
   "metadata": {},
   "outputs": [
    {
     "data": {
      "text/plain": [
       "['NC_010612', 'NZ_CP024190', 'NZ_AP018410']"
      ]
     },
     "execution_count": 87,
     "metadata": {},
     "output_type": "execute_result"
    }
   ],
   "source": [
    "[i[0] for i in sorted([(k, len(value)) for k, value in smash_dict.items()], key = lambda tup: tup[1], reverse=True)][:3]"
   ]
  },
  {
   "cell_type": "code",
   "execution_count": 37,
   "metadata": {},
   "outputs": [
    {
     "data": {
      "text/plain": [
       "array([[ 260663,  316802],\n",
       "       [1140141, 1179943],\n",
       "       [2127726, 2167061],\n",
       "       [2404961, 2447356],\n",
       "       [2476639, 2517560],\n",
       "       [2980520, 3038252],\n",
       "       [3296046, 3358234],\n",
       "       [3683063, 3747542],\n",
       "       [4479777, 4490167],\n",
       "       [5080399, 5124335],\n",
       "       [5321913, 5367367],\n",
       "       [5403153, 5424104]])"
      ]
     },
     "execution_count": 37,
     "metadata": {},
     "output_type": "execute_result"
    }
   ],
   "source": [
    "smash_dict[\"NC_008705\"]"
   ]
  },
  {
   "cell_type": "code",
   "execution_count": 42,
   "metadata": {},
   "outputs": [],
   "source": [
    "def is_feature_in_bgc(contig_name, start, stop):\n",
    "    start = int(start)\n",
    "    stop = int(stop)\n",
    "    try:\n",
    "        bgcs = smash_dict[contig_name]\n",
    "    except:\n",
    "        return False\n",
    "    for b_start, b_stop in bgcs:\n",
    "        if (start>= b_start) and (stop <= b_stop):\n",
    "            return True\n",
    "    return False"
   ]
  },
  {
   "cell_type": "code",
   "execution_count": 94,
   "metadata": {},
   "outputs": [],
   "source": [
    "def annotate_nodes(pfams):\n",
    "    for node_id in pfams.nodes:\n",
    "        node = pfams.nodes[node_id]\n",
    "        node_bgc = False\n",
    "        if type(node[\"features\"]) == str:\n",
    "            features = json.loads(node[\"features\"].replace('\"\"', '\"'))\n",
    "        else:\n",
    "            features = node[\"features\"]\n",
    "            \n",
    "        if node[\"family\"][:2] == \"PF\":\n",
    "            node[\"resolution\"] = \"Pfam\"\n",
    "        else:\n",
    "            node[\"resolution\"] = \"PGFam\"\n",
    "\n",
    "        for genome in features[\"info\"]:\n",
    "            for contig in features[\"info\"][genome]:\n",
    "                for ix, sequence in enumerate(features[\"info\"][genome][contig]):\n",
    "                    is_in_bgc = is_feature_in_bgc(contig, sequence[\"start\"], sequence[\"end\"])\n",
    "                    features[\"info\"][genome][contig][ix][\"in_bgc\"] = is_in_bgc\n",
    "                    if is_in_bgc:\n",
    "                        node_bgc = True\n",
    "\n",
    "        node[\"features\"] = features\n",
    "        node[\"BGC\"] = node_bgc"
   ]
  },
  {
   "cell_type": "code",
   "execution_count": 77,
   "metadata": {},
   "outputs": [
    {
     "name": "stdout",
     "output_type": "stream",
     "text": [
      "3253\n"
     ]
    }
   ],
   "source": [
    "tot = 0\n",
    "for node_id in pfams.nodes:\n",
    "    if pfams.nodes[node_id][\"BGC\"] and pfams.nodes[node_id][\"family\"][:2] == \"PF\":\n",
    "        tot += 1\n",
    "print(tot)"
   ]
  },
  {
   "cell_type": "code",
   "execution_count": 92,
   "metadata": {},
   "outputs": [],
   "source": [
    "def annotate_edges(pfams):\n",
    "    for u,v,a in pfams.edges(data=True):\n",
    "        start = pfams.nodes[u]\n",
    "        stop = pfams.nodes[v]\n",
    "        edge_bgc = start[\"BGC\"] and stop[\"BGC\"]\n",
    "        is_start_pfam = start[\"family\"][:2] == \"PF\"\n",
    "        is_stop_pfam = stop[\"family\"][:2] == \"PF\"\n",
    "        if is_start_pfam and is_stop_pfam:\n",
    "            edge_type = \"pfam\"\n",
    "        elif is_start_pfam ^ is_stop_pfam:\n",
    "            edge_type = \"mixed\"\n",
    "        else:\n",
    "            edge_type = \"pgfam\"\n",
    "        a[\"BGC\"] = edge_bgc\n",
    "        a[\"LinkType\"] = edge_type\n"
   ]
  },
  {
   "cell_type": "code",
   "execution_count": 72,
   "metadata": {},
   "outputs": [],
   "source": [
    "nx.readwrite.write_gexf(pfams, \"anti_gids_with_pfams_processed.gexf\")"
   ]
  },
  {
   "cell_type": "code",
   "execution_count": 90,
   "metadata": {},
   "outputs": [],
   "source": [
    "def process_graph(graph_path, save=True):\n",
    "    pfams = nx.readwrite.read_gexf(graph_path)    \n",
    "    annotate_nodes(pfams)\n",
    "    annotate_edges(pfams)\n",
    "    if save:\n",
    "        save_path = graph_path.split(\".\")[0] + \"_processed.gexf\"\n",
    "        nx.readwrite.write_gexf(pfams, save_path)        "
   ]
  },
  {
   "cell_type": "code",
   "execution_count": 95,
   "metadata": {},
   "outputs": [],
   "source": [
    "process_graph(\"top_3_anti_gids_with_pfams.gexf\")"
   ]
  }
 ],
 "metadata": {
  "kernelspec": {
   "display_name": "Python 3",
   "language": "python",
   "name": "python3"
  },
  "language_info": {
   "codemirror_mode": {
    "name": "ipython",
    "version": 3
   },
   "file_extension": ".py",
   "mimetype": "text/x-python",
   "name": "python",
   "nbconvert_exporter": "python",
   "pygments_lexer": "ipython3",
   "version": "3.7.4"
  }
 },
 "nbformat": 4,
 "nbformat_minor": 4
}
