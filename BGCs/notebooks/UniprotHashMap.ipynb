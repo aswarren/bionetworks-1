{
 "cells": [
  {
   "cell_type": "code",
   "execution_count": 1,
   "metadata": {},
   "outputs": [],
   "source": [
    "import pandas as pd\n",
    "import numpy as np\n",
    "import networkx as nx\n",
    "import graphviz as gv\n",
    "import json\n",
    "from Bio import SeqIO"
   ]
  },
  {
   "cell_type": "code",
   "execution_count": 2,
   "metadata": {},
   "outputs": [],
   "source": [
    "import subprocess"
   ]
  },
  {
   "cell_type": "code",
   "execution_count": null,
   "metadata": {},
   "outputs": [],
   "source": [
    "smash = pd.read_csv(\"antismash_db_results.csv\", sep=\"\\t\")\n",
    "smash[smash[\"NCBI accession\"] == \"NC_010612.1\"] \n",
    "counts = smash[\"NCBI accession\"].value_counts()\n",
    "above_10_index = counts[counts > 10].index\n",
    "smash = smash[smash[\"NCBI accession\"].isin(above_10_index)]\n",
    "smash[\"NCBI accession\"] = smash[\"NCBI accession\"].apply(lambda row: row.split(\".\")[0])\n",
    "smash_dict = dict()\n",
    "for accession, df in smash.groupby(\"NCBI accession\"):\n",
    "    smash_dict[accession] = df[[\"From\", \"To\"]].to_numpy()"
   ]
  },
  {
   "cell_type": "code",
   "execution_count": 146,
   "metadata": {},
   "outputs": [
    {
     "data": {
      "text/html": [
       "<div>\n",
       "<style scoped>\n",
       "    .dataframe tbody tr th:only-of-type {\n",
       "        vertical-align: middle;\n",
       "    }\n",
       "\n",
       "    .dataframe tbody tr th {\n",
       "        vertical-align: top;\n",
       "    }\n",
       "\n",
       "    .dataframe thead th {\n",
       "        text-align: right;\n",
       "    }\n",
       "</style>\n",
       "<table border=\"1\" class=\"dataframe\">\n",
       "  <thead>\n",
       "    <tr style=\"text-align: right;\">\n",
       "      <th></th>\n",
       "      <th>genome_id</th>\n",
       "      <th>accession</th>\n",
       "      <th>annotation</th>\n",
       "      <th>feature_type</th>\n",
       "      <th>start</th>\n",
       "      <th>end</th>\n",
       "      <th>pgfam_id</th>\n",
       "    </tr>\n",
       "  </thead>\n",
       "  <tbody>\n",
       "  </tbody>\n",
       "</table>\n",
       "</div>"
      ],
      "text/plain": [
       "Empty DataFrame\n",
       "Columns: [genome_id, accession, annotation, feature_type, start, end, pgfam_id]\n",
       "Index: []"
      ]
     },
     "execution_count": 146,
     "metadata": {},
     "output_type": "execute_result"
    }
   ],
   "source": [
    "x = pd.read_csv(\"top_3.features_with_pafm.tsv\", sep=\"\\t\") #.sort_values([\"genome_id\", \"sequence_id\", \"start\"])\n",
    "# x.dropna(subset=[\"pgfam_id\"]).to_csv(\"top_3.features_with_pafm.tsv\", sep=\"\\t\")\n",
    "ind = x.index\n",
    "ind_sort = x.sort_values([\"genome_id\", \"accession\", \"start\"]).index\n",
    "x[(ind != ind_sort)][\"genome_id accession annotation feature_type start end pgfam_id\".split()]\n",
    "# x.dropna(subset=[\"pgfam_id\"]).to_csv(\"top_3.features_with_pafm.tsv\", sep=\"\\t\", index=False)\n",
    "# x"
   ]
  },
  {
   "cell_type": "code",
   "execution_count": 143,
   "metadata": {},
   "outputs": [
    {
     "name": "stdout",
     "output_type": "stream",
     "text": [
      "17234\n"
     ]
    }
   ],
   "source": [
    "records = [r for r in SeqIO.parse(\"/sfs/lustre/bahamut/scratch/jho5ze/bionets/BGCs/genera/Mycobacterium/jsonhfasta/first_pass.jsonhfasta\", \"fasta\")]\n",
    "seq_dict = [json.loads(r.description.split(None, 1)[-1]) for r in records]\n",
    "seq_dict = {x[\"md5\"]:sorted([i for i in x.setdefault(\"sequence_domain\", [{\"source\":\"none\", \"start\":\"0\"}]) if i[\"source\"] == \"pfam\"], key = lambda x: int(x[\"start\"])) for x in seq_dict}\n",
    "\n",
    "def gen_pfam_graph_input(source=\"top_3.features.tsv\", destination = \"top_3.features_with_pafm.tsv\", )\n",
    "    with open(source) as src:\n",
    "        with open(destination, \"w\") as dest:\n",
    "            for ix, line in enumerate(src.readlines()):\n",
    "                vals = line.strip().split(\"\\t\")\n",
    "                if ix == 0:\n",
    "                    names = vals\n",
    "                    name_ids = {name:ix for ix, name in enumerate(names)}\n",
    "                vals = {name:vals[ix] for ix, name in enumerate(names)}\n",
    "                md5 = vals[\"aa_sequence_md5\"]\n",
    "                pgfam = vals[\"pgfam_id\"]\n",
    "\n",
    "                #This means that the pgfam is NAN and should be skipped\n",
    "                if len(pgfam) < 2:\n",
    "                    continue\n",
    "\n",
    "                dest.write(line)\n",
    "\n",
    "                try:\n",
    "                    pfams = seq_dict[md5]\n",
    "                except:\n",
    "                    continue\n",
    "                if len(pfams) > 0:\n",
    "                    for pfam in pfams:\n",
    "                        pfam_line = line.split(\"\\t\")\n",
    "                        pfam_line[name_ids[\"start\"]] = str(int(vals['start']) + int(pfam['start']))\n",
    "                        pfam_line[name_ids[\"end\"]] = str(int(vals['start']) + int(pfam['end']))\n",
    "                        pfam_line[name_ids[\"na_length\"]] = str(int(pfam['end']) - int(pfam['start']))\n",
    "                        pfam_line[name_ids[\"pgfam_id\"]] = pfam[\"sequence_domain\"]\n",
    "                        pfam_line[name_ids[\"figfam_id\"]] = pfam[\"sequence_domain\"]\n",
    "                        pfam_line[name_ids[\"plfam_id\"]] = pfam[\"sequence_domain\"]\n",
    "                        pfam_line[name_ids[\"annotation\"]] = \"CUSTOM\"\n",
    "                        dest.write((\"\\t\".join(pfam_line)))\n",
    "\n"
   ]
  },
  {
   "cell_type": "code",
   "execution_count": 14,
   "metadata": {},
   "outputs": [],
   "source": [
    "x = json.loads(records[0].description.split(None, 1)[-1])"
   ]
  },
  {
   "cell_type": "code",
   "execution_count": 22,
   "metadata": {},
   "outputs": [
    {
     "data": {
      "text/plain": [
       "[{'end': 471,\n",
       "  'name': 'Peptidase M28',\n",
       "  'sequence_domain': 'PF04389',\n",
       "  'start': 252,\n",
       "  'ipr_id': 'IPR007484',\n",
       "  'source': 'pfam'},\n",
       " {'end': 229,\n",
       "  'name': 'PA domain',\n",
       "  'sequence_domain': 'PF02225',\n",
       "  'start': 140,\n",
       "  'ipr_id': 'IPR003137',\n",
       "  'source': 'pfam'}]"
      ]
     },
     "execution_count": 22,
     "metadata": {},
     "output_type": "execute_result"
    }
   ],
   "source": [
    "[i for i in x[\"sequence_domain\"] if i[\"source\"] == \"pfam\"]"
   ]
  },
  {
   "cell_type": "code",
   "execution_count": 11,
   "metadata": {},
   "outputs": [],
   "source": [
    "# !module load muscle"
   ]
  },
  {
   "cell_type": "code",
   "execution_count": null,
   "metadata": {},
   "outputs": [],
   "source": [
    "def generic_msa(strings):\n",
    "    \"\"\"\n",
    "    Implement from here: http://readiab.org/book/0.1.2/2/3#1.2\n",
    "    \"\"\"\n",
    "    pass"
   ]
  },
  {
   "cell_type": "code",
   "execution_count": 2,
   "metadata": {},
   "outputs": [],
   "source": [
    "def reannotate_graph(graph, feature_map):\n",
    "    \"\"\"\n",
    "    Feature map should translate the md5 hash to new features\n",
    "    and should include start and stop per feature, or ordered \n",
    "    features to generate a new node resolution\n",
    "    \"\"\"\n",
    "    pass"
   ]
  },
  {
   "cell_type": "code",
   "execution_count": 135,
   "metadata": {},
   "outputs": [],
   "source": [
    "# g = \"../genera/Acaryochloris/graphs/Acaryochloris_gids.gexf\"\n",
    "# g = \"/sfs/lustre/bahamut/scratch/jho5ze/bionets/patric_genera/fork/pangenome_graphs/Mycobacterium_all_md5s_and_coords.gexf\"\n",
    "g = \"/sfs/lustre/bahamut/scratch/jho5ze/bionets/BGCs/genera/Mycobacterium/graphs/top_3.features_with_pafm.gexf\"\n",
    "g = nx.readwrite.read_gexf(g)"
   ]
  },
  {
   "cell_type": "code",
   "execution_count": 137,
   "metadata": {},
   "outputs": [
    {
     "data": {
      "text/plain": [
       "{'info': {'1078013.3': {'AGAQ01000593': [{'start': 85,\n",
       "     'end': 849,\n",
       "     'md5': None}]},\n",
       "  '1041522.3': {'NZ_AFVW01000003': [{'start': 674004,\n",
       "     'end': 674759,\n",
       "     'md5': None}]}},\n",
       " '1078013.3': {'AGAQ01000593': ['fig|1078013.3.peg.4027']},\n",
       " '1041522.3': {'NZ_AFVW01000003': ['fig|1041522.3.peg.2271']}}"
      ]
     },
     "execution_count": 137,
     "metadata": {},
     "output_type": "execute_result"
    }
   ],
   "source": [
    "json.loads(g.nodes['1000'][\"features\"].replace('\"\"', '\"'))"
   ]
  },
  {
   "cell_type": "code",
   "execution_count": 149,
   "metadata": {},
   "outputs": [
    {
     "data": {
      "text/plain": [
       "'PGF_00930759'"
      ]
     },
     "execution_count": 149,
     "metadata": {},
     "output_type": "execute_result"
    }
   ],
   "source": [
    "# json.loads(g.nodes['6532'][\"features\"].replace('\"\"', '\"'))\n",
    "g.nodes['1000'][\"family\"]"
   ]
  },
  {
   "cell_type": "code",
   "execution_count": 8,
   "metadata": {},
   "outputs": [],
   "source": [
    "#g.nodes['4257']\n",
    "feature_dict = [(i, json.loads(g.nodes[i][\"features\"].replace('\"\"', '\"'))) for i in g.nodes]\n",
    "feature_dict.sort(key=lambda tup: int(tup[0]))"
   ]
  },
  {
   "cell_type": "code",
   "execution_count": 9,
   "metadata": {},
   "outputs": [
    {
     "data": {
      "text/plain": [
       "('0',\n",
       " {'146020.3': {'BCSX01000015': ['fig|146020.3.peg.1203']},\n",
       "  '244292.6': {'LDPP01000030': ['fig|244292.6.peg.3180']},\n",
       "  '1545691.3': {'JRMK01000078': ['fig|1545691.3.peg.2687']},\n",
       "  '1299333.3': {'JAOC01000002': ['fig|1299333.3.peg.101']},\n",
       "  '1209984.3': {'CCBF010000001': ['fig|1209984.3.peg.943']},\n",
       "  '216594.6': {'NC_010612': ['fig|216594.6.peg.1106']},\n",
       "  '1214102.3': {'ALQB01000212': ['fig|1214102.3.peg.5706']},\n",
       "  '1078020.3': {'AGVE01000046': ['fig|1078020.3.peg.2325']},\n",
       "  '233413.5': {'NC_002945': ['fig|233413.5.peg.792']},\n",
       "  '1157943.3': {'AREU01000003': ['fig|1157943.3.peg.2908']},\n",
       "  '1078013.3': {'AGAQ01000331': ['fig|1078013.3.peg.2529']},\n",
       "  '710421.3': {'CP003053': ['fig|710421.3.peg.957']},\n",
       "  '512402.8': {'LZLB01000061': ['fig|512402.8.peg.2847']},\n",
       "  '710685.3': {'CP003169': ['fig|710685.3.peg.699']},\n",
       "  '487514.18': {'LLXQ01000012': ['fig|487514.18.peg.623']},\n",
       "  '487514.3': {'BBKA01000003': ['fig|487514.3.peg.180']},\n",
       "  '1771.11': {'CP014475': ['fig|1771.11.peg.1293']},\n",
       "  '1041522.3': {'NZ_AFVW01000012': ['fig|1041522.3.peg.4604']},\n",
       "  '1772274.3': {'LQIK01000031': ['fig|1772274.3.peg.4153']},\n",
       "  '350058.8': {'NC_008726': ['fig|350058.8.peg.1348']},\n",
       "  '362242.7': {'NC_008611': ['fig|362242.7.peg.997']},\n",
       "  '189918.11': {'NC_008705': ['fig|189918.11.peg.1553']},\n",
       "  '525368.3': {'NZ_GG770553': ['fig|525368.3.peg.1363']},\n",
       "  '1194972.3': {'ALQA01000012': ['fig|1194972.3.peg.1603']},\n",
       "  '512402.5': {'LDPO01000003': ['fig|512402.5.peg.3234']},\n",
       "  'info': {'146020.3': {'BCSX01000015': [{'start': 128766,\n",
       "      'end': 129254,\n",
       "      'md5': '7a22a32c6f3da9e7ad2c1f04e8acb9a1'}]},\n",
       "   '244292.6': {'LDPP01000030': [{'start': 10687,\n",
       "      'end': 11238,\n",
       "      'md5': '54d3fb4f7b1c00123850198dbb968354'}]},\n",
       "   '1545691.3': {'JRMK01000078': [{'start': 1466,\n",
       "      'end': 2089,\n",
       "      'md5': '16c96d99f86c35f633385e85c2febc35'}]},\n",
       "   '1299333.3': {'JAOC01000002': [{'start': 49889,\n",
       "      'end': 50401,\n",
       "      'md5': 'a7258bdc998b23c54390cee62a2f2322'}]},\n",
       "   '1209984.3': {'CCBF010000001': [{'start': 950355,\n",
       "      'end': 950834,\n",
       "      'md5': '6956e2ed21ca0c33f71f2bc3c0e2b581'}]},\n",
       "   '216594.6': {'NC_010612': [{'start': 1265933,\n",
       "      'end': 1266463,\n",
       "      'md5': '0a063725943df5f2fec8b46a34ed2706'}]},\n",
       "   '1214102.3': {'ALQB01000212': [{'start': 4010,\n",
       "      'end': 4474,\n",
       "      'md5': '6c6d5afcf8f47cf138db1a222eb00324'}]},\n",
       "   '1078020.3': {'AGVE01000046': [{'start': 333715,\n",
       "      'end': 334218,\n",
       "      'md5': 'cb6edd6a617ef01f2a3241d3da8c9d7a'}]},\n",
       "   '233413.5': {'NC_002945': [{'start': 805511,\n",
       "      'end': 806104,\n",
       "      'md5': 'cba8dad1f98aab371c6782b70ea0a2fa'}]},\n",
       "   '1157943.3': {'AREU01000003': [{'start': 2882552,\n",
       "      'end': 2882998,\n",
       "      'md5': 'e7c0384a57d46c506e7c76a6a9f41656'}]},\n",
       "   '1078013.3': {'AGAQ01000331': [{'start': 12128,\n",
       "      'end': 12703,\n",
       "      'md5': '245f8fbcaccf23970ec92b2af899bb0f'}]},\n",
       "   '710421.3': {'CP003053': [{'start': 963581,\n",
       "      'end': 964075,\n",
       "      'md5': 'd2477c8e913c183342080c49d93721c2'}]},\n",
       "   '512402.8': {'LZLB01000061': [{'start': 345384,\n",
       "      'end': 346010,\n",
       "      'md5': 'ce633f44cea80cd3864fa983d3470b64'}]},\n",
       "   '710685.3': {'CP003169': [{'start': 707238,\n",
       "      'end': 707870,\n",
       "      'md5': '7cfc08e73ccf64e5261d444d1094af91'}]},\n",
       "   '487514.18': {'LLXQ01000012': [{'start': 45922,\n",
       "      'end': 46524,\n",
       "      'md5': 'b888209519c9e5d449d7b95ec5466f22'}]},\n",
       "   '487514.3': {'BBKA01000003': [{'start': 10924,\n",
       "      'end': 11526,\n",
       "      'md5': 'b888209519c9e5d449d7b95ec5466f22'}]},\n",
       "   '1771.11': {'CP014475': [{'start': 1350933,\n",
       "      'end': 1351427,\n",
       "      'md5': '4bfd02cb0419cf992e116cecb613c8ab'}]},\n",
       "   '1041522.3': {'NZ_AFVW01000012': [{'start': 19767,\n",
       "      'end': 20333,\n",
       "      'md5': '92d8353e6071751201e0a36739dab8dd'}]},\n",
       "   '1772274.3': {'LQIK01000031': [{'start': 182659,\n",
       "      'end': 183252,\n",
       "      'md5': '15b0a808c2fd510738d1bf3eef250b2b'}]},\n",
       "   '350058.8': {'NC_008726': [{'start': 1402371,\n",
       "      'end': 1402838,\n",
       "      'md5': '0b9674bf0080e5fc378cd586b6a1d19c'}]},\n",
       "   '362242.7': {'NC_008611': [{'start': 839683,\n",
       "      'end': 840213,\n",
       "      'md5': '7e99289f27762673d04cd398131fef8a'}]},\n",
       "   '189918.11': {'NC_008705': [{'start': 1127535,\n",
       "      'end': 1128068,\n",
       "      'md5': '169e29852db7b697dd695bd26db5d20d'}]},\n",
       "   '525368.3': {'NZ_GG770553': [{'start': 1560929,\n",
       "      'end': 1561477,\n",
       "      'md5': '74ca395b70c09ffd5549e42e8796d783'}]},\n",
       "   '1194972.3': {'ALQA01000012': [{'start': 73527,\n",
       "      'end': 73946,\n",
       "      'md5': '6d62b836e77b10a0f53a28327ba10388'}]},\n",
       "   '512402.5': {'LDPO01000003': [{'start': 273133,\n",
       "      'end': 273750,\n",
       "      'md5': '2761dc72a3aee317304616aa7a1f41a3'}]},\n",
       "   '710687.3': {'AGJJ01000016': [{'start': 61315,\n",
       "      'end': 61899,\n",
       "      'md5': '11c41a3f7a8c3c791f66a0561dc83088'}]},\n",
       "   '246196.19': {'NC_008596': [{'start': 1540407,\n",
       "      'end': 1540820,\n",
       "      'md5': '1563c21c00a57c0affe8480b91d687fd'}]},\n",
       "   '164756.15': {'NC_008146': [{'start': 1121843,\n",
       "      'end': 1122334,\n",
       "      'md5': '775cdec63a62382a86c2bcf06e0e89e5'}]},\n",
       "   '1545728.4': {'CP011773': [{'start': 1227667,\n",
       "      'end': 1228152,\n",
       "      'md5': '6c0bc708c0b2d2fe08e51e23c13dab26'}]},\n",
       "   '342002.3': {'LASW02000012': [{'start': 60789,\n",
       "      'end': 61385,\n",
       "      'md5': '82ccd17f6bc50bd360d7fefbb2aebf3e'}]},\n",
       "   '710686.3': {'CP003078': [{'start': 1034064,\n",
       "      'end': 1034624,\n",
       "      'md5': '22d09f31b293c121a6ab59c719bf45b2'}]},\n",
       "   '1772278.3': {'LQIO01000046': [{'start': 211617,\n",
       "      'end': 212213,\n",
       "      'md5': 'c6abfd23b0db1f29e9e0ca666bb1cad4'}]},\n",
       "   '1299332.3': {'JAOL01000079': [{'start': 61139,\n",
       "      'end': 61438,\n",
       "      'md5': '795cc2b9af81b00a541a27324adc06f1'}]},\n",
       "   '29311.21': {'LDPR01000003': [{'start': 2474,\n",
       "      'end': 3055,\n",
       "      'md5': '423510ba213d46b5d6f234d3645f949d'}]},\n",
       "   '318424.3': {'JROA01000001': [{'start': 1172309,\n",
       "      'end': 1172713,\n",
       "      'md5': '13215d2aeb378da17fc3af5e9a45b186'}]},\n",
       "   '1766.6': {'CP011269': [{'start': 1480089,\n",
       "      'end': 1480553,\n",
       "      'md5': '6c6d5afcf8f47cf138db1a222eb00324'}]},\n",
       "   '1122247.3': {'AMRA01000027': [{'start': 89272,\n",
       "      'end': 89775,\n",
       "      'md5': 'b1411e56973e9467cd1a13df7e139e9a'}]},\n",
       "   '110505.3': {'LFOF01000004': [{'start': 101828,\n",
       "      'end': 102403,\n",
       "      'md5': '6d418d5ca4fbac63338420c79843896b'}]}},\n",
       "  '710687.3': {'AGJJ01000016': ['fig|710687.3.peg.4404']},\n",
       "  '246196.19': {'NC_008596': ['fig|246196.19.peg.1427']},\n",
       "  '164756.15': {'NC_008146': ['fig|164756.15.peg.1035']},\n",
       "  '1545728.4': {'CP011773': ['fig|1545728.4.peg.1150']},\n",
       "  '342002.3': {'LASW02000012': ['fig|342002.3.peg.1364']},\n",
       "  '710686.3': {'CP003078': ['fig|710686.3.peg.1016']},\n",
       "  '1772278.3': {'LQIO01000046': ['fig|1772278.3.peg.4269']},\n",
       "  '1299332.3': {'JAOL01000079': ['fig|1299332.3.peg.2069']},\n",
       "  '29311.21': {'LDPR01000003': ['fig|29311.21.peg.2499']},\n",
       "  '318424.3': {'JROA01000001': ['fig|318424.3.peg.1126']},\n",
       "  '1766.6': {'CP011269': ['fig|1766.6.peg.1426']},\n",
       "  '1122247.3': {'AMRA01000027': ['fig|1122247.3.peg.1035']},\n",
       "  '110505.3': {'LFOF01000004': ['fig|110505.3.peg.960']}})"
      ]
     },
     "execution_count": 9,
     "metadata": {},
     "output_type": "execute_result"
    }
   ],
   "source": [
    "feature_dict[0]"
   ]
  },
  {
   "cell_type": "code",
   "execution_count": 22,
   "metadata": {},
   "outputs": [
    {
     "data": {
      "text/plain": [
       "('0',\n",
       " {'start': 1991379,\n",
       "  '329726.14': {'NC_009925': ['fig|329726.14.peg.1809']},\n",
       "  'end': 1991720,\n",
       "  '310037.4': {'AFEJ01000001': ['fig|310037.4.peg.4']},\n",
       "  'md5': '358b5099bb71279401aa37fd236ac37e'})"
      ]
     },
     "execution_count": 22,
     "metadata": {},
     "output_type": "execute_result"
    }
   ],
   "source": [
    "feature_dict[0]"
   ]
  },
  {
   "cell_type": "code",
   "execution_count": 5,
   "metadata": {},
   "outputs": [
    {
     "data": {
      "text/plain": [
       "{'diversity': 1.0,\n",
       " 'features': '{\"start\": 12622, \"end\": 14079, \"\"310037.4\"\": {\"\"AFEJ01000362\"\": [\"\"fig|310037.4.peg.6261\"\"]}, \"md5\": \"\"29fcfc37edf97bb915a237d227cfc1ab\"\"}',\n",
       " 'family': '\"PGF_08225224\"',\n",
       " 'alternate': 0,\n",
       " 'conflict': 0,\n",
       " 'viz': {'color': {'r': 153, 'g': 153, 'b': 153, 'a': 1.0},\n",
       "  'size': 10.0,\n",
       "  'position': {'x': -2981.6096, 'y': -4754.027, 'z': 0.0}},\n",
       " 'label': '\"hypothetical protein\"'}"
      ]
     },
     "execution_count": 5,
     "metadata": {},
     "output_type": "execute_result"
    }
   ],
   "source": [
    "g = \"test.gexf\"\n",
    "g = nx.readwrite.read_gexf(g)\n",
    "g.nodes['6532']"
   ]
  },
  {
   "cell_type": "code",
   "execution_count": null,
   "metadata": {},
   "outputs": [],
   "source": []
  }
 ],
 "metadata": {
  "kernelspec": {
   "display_name": "Python 3",
   "language": "python",
   "name": "python3"
  },
  "language_info": {
   "codemirror_mode": {
    "name": "ipython",
    "version": 3
   },
   "file_extension": ".py",
   "mimetype": "text/x-python",
   "name": "python",
   "nbconvert_exporter": "python",
   "pygments_lexer": "ipython3",
   "version": "3.7.4"
  }
 },
 "nbformat": 4,
 "nbformat_minor": 4
}
