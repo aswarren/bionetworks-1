{
 "cells": [
  {
   "cell_type": "code",
   "execution_count": 1,
   "metadata": {},
   "outputs": [
    {
     "ename": "ModuleNotFoundError",
     "evalue": "No module named 'stellargraph'",
     "output_type": "error",
     "traceback": [
      "\u001b[0;31m---------------------------------------------------------------------------\u001b[0m",
      "\u001b[0;31mModuleNotFoundError\u001b[0m                       Traceback (most recent call last)",
      "\u001b[0;32m<ipython-input-1-487ca9c4aabc>\u001b[0m in \u001b[0;36m<module>\u001b[0;34m\u001b[0m\n\u001b[0;32m----> 1\u001b[0;31m \u001b[0;32mfrom\u001b[0m \u001b[0mstellargraph\u001b[0m \u001b[0;32mimport\u001b[0m \u001b[0mdatasets\u001b[0m\u001b[0;34m,\u001b[0m \u001b[0mStellarGraph\u001b[0m\u001b[0;34m\u001b[0m\u001b[0;34m\u001b[0m\u001b[0m\n\u001b[0m\u001b[1;32m      2\u001b[0m \u001b[0;32mimport\u001b[0m \u001b[0mnetworkx\u001b[0m \u001b[0;32mas\u001b[0m \u001b[0mnx\u001b[0m\u001b[0;34m\u001b[0m\u001b[0;34m\u001b[0m\u001b[0m\n",
      "\u001b[0;31mModuleNotFoundError\u001b[0m: No module named 'stellargraph'"
     ]
    }
   ],
   "source": [
    "from stellargraph import datasets, StellarGraph\n",
    "import networkx as nx"
   ]
  },
  {
   "cell_type": "code",
   "execution_count": 4,
   "metadata": {},
   "outputs": [],
   "source": [
    "dataset = datasets.Cora()\n",
    "G, node_subjects = dataset.load(largest_connected_component_only=True)\n"
   ]
  },
  {
   "cell_type": "code",
   "execution_count": 9,
   "metadata": {},
   "outputs": [],
   "source": [
    "nx_graph = nx.readwrite.read_gexf(\"../test_data/test-families-only.gexf\")"
   ]
  },
  {
   "cell_type": "code",
   "execution_count": 15,
   "metadata": {},
   "outputs": [
    {
     "ename": "ValueError",
     "evalue": "could not convert string to float: '\"PGF_03134289\"'",
     "output_type": "error",
     "traceback": [
      "\u001b[0;31m---------------------------------------------------------------------------\u001b[0m",
      "\u001b[0;31mValueError\u001b[0m                                Traceback (most recent call last)",
      "\u001b[0;32m<ipython-input-15-8518cd6800b0>\u001b[0m in \u001b[0;36m<module>\u001b[0;34m\u001b[0m\n\u001b[0;32m----> 1\u001b[0;31m \u001b[0mgraph\u001b[0m \u001b[0;34m=\u001b[0m \u001b[0mStellarGraph\u001b[0m\u001b[0;34m.\u001b[0m\u001b[0mfrom_networkx\u001b[0m\u001b[0;34m(\u001b[0m\u001b[0mnx_graph\u001b[0m\u001b[0;34m,\u001b[0m \u001b[0mnode_features\u001b[0m\u001b[0;34m=\u001b[0m\u001b[0;34m\"family\"\u001b[0m\u001b[0;34m)\u001b[0m\u001b[0;34m\u001b[0m\u001b[0;34m\u001b[0m\u001b[0m\n\u001b[0m",
      "\u001b[0;32m/sfs/lustre/bahamut/scratch/jho5ze/bionets/BGCs/scripts/stellar/lib/python3.7/site-packages/stellargraph/core/graph.py\u001b[0m in \u001b[0;36mfrom_networkx\u001b[0;34m(graph, edge_weight_attr, node_type_attr, edge_type_attr, node_type_default, edge_type_default, node_features, dtype)\u001b[0m\n\u001b[1;32m    583\u001b[0m             \u001b[0medge_weight_attr\u001b[0m\u001b[0;34m=\u001b[0m\u001b[0medge_weight_attr\u001b[0m\u001b[0;34m,\u001b[0m\u001b[0;34m\u001b[0m\u001b[0;34m\u001b[0m\u001b[0m\n\u001b[1;32m    584\u001b[0m             \u001b[0mnode_features\u001b[0m\u001b[0;34m=\u001b[0m\u001b[0mnode_features\u001b[0m\u001b[0;34m,\u001b[0m\u001b[0;34m\u001b[0m\u001b[0;34m\u001b[0m\u001b[0m\n\u001b[0;32m--> 585\u001b[0;31m             \u001b[0mdtype\u001b[0m\u001b[0;34m=\u001b[0m\u001b[0mdtype\u001b[0m\u001b[0;34m,\u001b[0m\u001b[0;34m\u001b[0m\u001b[0;34m\u001b[0m\u001b[0m\n\u001b[0m\u001b[1;32m    586\u001b[0m         )\n\u001b[1;32m    587\u001b[0m \u001b[0;34m\u001b[0m\u001b[0m\n",
      "\u001b[0;32m/sfs/lustre/bahamut/scratch/jho5ze/bionets/BGCs/scripts/stellar/lib/python3.7/site-packages/stellargraph/core/convert.py\u001b[0m in \u001b[0;36mfrom_networkx\u001b[0;34m(graph, node_type_attr, edge_type_attr, node_type_default, edge_type_default, edge_weight_attr, node_features, dtype)\u001b[0m\n\u001b[1;32m    473\u001b[0m                 \u001b[0mindex\u001b[0m\u001b[0;34m=\u001b[0m\u001b[0mnode_info\u001b[0m\u001b[0;34m.\u001b[0m\u001b[0mids\u001b[0m\u001b[0;34m,\u001b[0m\u001b[0;34m\u001b[0m\u001b[0;34m\u001b[0m\u001b[0m\n\u001b[1;32m    474\u001b[0m             )\n\u001b[0;32m--> 475\u001b[0;31m             \u001b[0;32mfor\u001b[0m \u001b[0mnode_type\u001b[0m\u001b[0;34m,\u001b[0m \u001b[0mnode_info\u001b[0m \u001b[0;32min\u001b[0m \u001b[0mnodes\u001b[0m\u001b[0;34m.\u001b[0m\u001b[0mitems\u001b[0m\u001b[0;34m(\u001b[0m\u001b[0;34m)\u001b[0m\u001b[0;34m\u001b[0m\u001b[0;34m\u001b[0m\u001b[0m\n\u001b[0m\u001b[1;32m    476\u001b[0m         }\n\u001b[1;32m    477\u001b[0m     \u001b[0;32melse\u001b[0m\u001b[0;34m:\u001b[0m\u001b[0;34m\u001b[0m\u001b[0;34m\u001b[0m\u001b[0m\n",
      "\u001b[0;32m/sfs/lustre/bahamut/scratch/jho5ze/bionets/BGCs/scripts/stellar/lib/python3.7/site-packages/stellargraph/core/convert.py\u001b[0m in \u001b[0;36m<dictcomp>\u001b[0;34m(.0)\u001b[0m\n\u001b[1;32m    473\u001b[0m                 \u001b[0mindex\u001b[0m\u001b[0;34m=\u001b[0m\u001b[0mnode_info\u001b[0m\u001b[0;34m.\u001b[0m\u001b[0mids\u001b[0m\u001b[0;34m,\u001b[0m\u001b[0;34m\u001b[0m\u001b[0;34m\u001b[0m\u001b[0m\n\u001b[1;32m    474\u001b[0m             )\n\u001b[0;32m--> 475\u001b[0;31m             \u001b[0;32mfor\u001b[0m \u001b[0mnode_type\u001b[0m\u001b[0;34m,\u001b[0m \u001b[0mnode_info\u001b[0m \u001b[0;32min\u001b[0m \u001b[0mnodes\u001b[0m\u001b[0;34m.\u001b[0m\u001b[0mitems\u001b[0m\u001b[0;34m(\u001b[0m\u001b[0;34m)\u001b[0m\u001b[0;34m\u001b[0m\u001b[0;34m\u001b[0m\u001b[0m\n\u001b[0m\u001b[1;32m    476\u001b[0m         }\n\u001b[1;32m    477\u001b[0m     \u001b[0;32melse\u001b[0m\u001b[0;34m:\u001b[0m\u001b[0;34m\u001b[0m\u001b[0;34m\u001b[0m\u001b[0m\n",
      "\u001b[0;32m/sfs/lustre/bahamut/scratch/jho5ze/bionets/BGCs/scripts/stellar/lib/python3.7/site-packages/stellargraph/core/convert.py\u001b[0m in \u001b[0;36m_features_from_attributes\u001b[0;34m(node_type, ids, values, dtype)\u001b[0m\n\u001b[1;32m    355\u001b[0m \u001b[0;34m\u001b[0m\u001b[0m\n\u001b[1;32m    356\u001b[0m     matrix = np.array(\n\u001b[0;32m--> 357\u001b[0;31m         \u001b[0;34m[\u001b[0m\u001b[0mcompute_value\u001b[0m\u001b[0;34m(\u001b[0m\u001b[0mnode_id\u001b[0m\u001b[0;34m,\u001b[0m \u001b[0mx\u001b[0m\u001b[0;34m)\u001b[0m \u001b[0;32mfor\u001b[0m \u001b[0mnode_id\u001b[0m\u001b[0;34m,\u001b[0m \u001b[0mx\u001b[0m \u001b[0;32min\u001b[0m \u001b[0mzip\u001b[0m\u001b[0;34m(\u001b[0m\u001b[0mids\u001b[0m\u001b[0;34m,\u001b[0m \u001b[0mvalues\u001b[0m\u001b[0;34m)\u001b[0m\u001b[0;34m]\u001b[0m\u001b[0;34m,\u001b[0m \u001b[0mdtype\u001b[0m\u001b[0;34m\u001b[0m\u001b[0;34m\u001b[0m\u001b[0m\n\u001b[0m\u001b[1;32m    358\u001b[0m     )\n\u001b[1;32m    359\u001b[0m     \u001b[0;32massert\u001b[0m \u001b[0mmatrix\u001b[0m\u001b[0;34m.\u001b[0m\u001b[0mshape\u001b[0m \u001b[0;34m==\u001b[0m \u001b[0;34m(\u001b[0m\u001b[0mnum_nodes\u001b[0m\u001b[0;34m,\u001b[0m \u001b[0msize\u001b[0m\u001b[0;34m)\u001b[0m\u001b[0;34m\u001b[0m\u001b[0;34m\u001b[0m\u001b[0m\n",
      "\u001b[0;31mValueError\u001b[0m: could not convert string to float: '\"PGF_03134289\"'"
     ]
    }
   ],
   "source": [
    "graph = StellarGraph.from_networkx(nx_graph, node_features=\"family\")"
   ]
  },
  {
   "cell_type": "code",
   "execution_count": 14,
   "metadata": {},
   "outputs": [
    {
     "name": "stdout",
     "output_type": "stream",
     "text": [
      "StellarGraph: Undirected multigraph\n",
      " Nodes: 132112, Edges: 171172\n",
      "\n",
      " Node types:\n",
      "  99999: [1]\n",
      "    Features: none\n",
      "    Edge types: 99999-default->100000, 99999-default->99998\n",
      "  99998: [1]\n",
      "    Features: none\n",
      "    Edge types: 99998-default->99997, 99998-default->99999\n",
      "  99997: [1]\n",
      "    Features: none\n",
      "    Edge types: 99997-default->99996, 99997-default->99998\n",
      "  99996: [1]\n",
      "    Features: none\n",
      "    Edge types: 99996-default->99995, 99996-default->99997\n",
      "  99995: [1]\n",
      "    Features: none\n",
      "    Edge types: 99995-default->99994, 99995-default->99996\n",
      "  99994: [1]\n",
      "    Features: none\n",
      "    Edge types: 99994-default->99993, 99994-default->99995\n",
      "  99993: [1]\n",
      "    Features: none\n",
      "    Edge types: 99993-default->99992, 99993-default->99994\n",
      "  99992: [1]\n",
      "    Features: none\n",
      "    Edge types: 99992-default->99991, 99992-default->99993\n",
      "  99991: [1]\n",
      "    Features: none\n",
      "    Edge types: 99991-default->99990, 99991-default->99992\n",
      "  99990: [1]\n",
      "    Features: none\n",
      "    Edge types: 99990-default->99989, 99990-default->99991\n",
      "  9999: [1]\n",
      "    Features: none\n",
      "    Edge types: 9999-default->10000, 9999-default->10019, 9999-default->38784, 9999-default->84753, 9999-default->9998\n",
      "  99989: [1]\n",
      "    Features: none\n",
      "    Edge types: 99989-default->99988, 99989-default->99990\n",
      "  99988: [1]\n",
      "    Features: none\n",
      "    Edge types: 99988-default->99987, 99988-default->99989\n",
      "  99987: [1]\n",
      "    Features: none\n",
      "    Edge types: 99987-default->99986, 99987-default->99988\n",
      "  99986: [1]\n",
      "    Features: none\n",
      "    Edge types: 99986-default->99985, 99986-default->99987\n",
      "  99985: [1]\n",
      "    Features: none\n",
      "    Edge types: 99985-default->99984, 99985-default->99986\n",
      "  99984: [1]\n",
      "    Features: none\n",
      "    Edge types: 99984-default->99983, 99984-default->99985\n",
      "  99983: [1]\n",
      "    Features: none\n",
      "    Edge types: 99983-default->99982, 99983-default->99984\n",
      "  99982: [1]\n",
      "    Features: none\n",
      "    Edge types: 99982-default->99981, 99982-default->99983\n",
      "  99981: [1]\n",
      "    Features: none\n",
      "    Edge types: 99981-default->99980, 99981-default->99982\n",
      "  ... (132092 more)\n",
      "\n",
      " Edge types:\n",
      "    99998-default->99999: [1]\n",
      "        Weights: all 0.0212766\n",
      "        Features: none\n",
      "    99997-default->99998: [1]\n",
      "        Weights: all 0.0212766\n",
      "        Features: none\n",
      "    99996-default->99997: [1]\n",
      "        Weights: all 0.0212766\n",
      "        Features: none\n",
      "    99995-default->99996: [1]\n",
      "        Weights: all 0.0212766\n",
      "        Features: none\n",
      "    99994-default->99995: [1]\n",
      "        Weights: all 0.0212766\n",
      "        Features: none\n",
      "    99993-default->99994: [1]\n",
      "        Weights: all 0.0212766\n",
      "        Features: none\n",
      "    99992-default->99993: [1]\n",
      "        Weights: all 0.0212766\n",
      "        Features: none\n",
      "    99991-default->99992: [1]\n",
      "        Weights: all 0.0212766\n",
      "        Features: none\n",
      "    99990-default->99991: [1]\n",
      "        Weights: all 0.0212766\n",
      "        Features: none\n",
      "    99989-default->99990: [1]\n",
      "        Weights: all 0.0212766\n",
      "        Features: none\n",
      "    99988-default->99989: [1]\n",
      "        Weights: all 0.0212766\n",
      "        Features: none\n",
      "    99987-default->99988: [1]\n",
      "        Weights: all 0.0212766\n",
      "        Features: none\n",
      "    99986-default->99987: [1]\n",
      "        Weights: all 0.0212766\n",
      "        Features: none\n",
      "    99985-default->99986: [1]\n",
      "        Weights: all 0.0212766\n",
      "        Features: none\n",
      "    99984-default->99985: [1]\n",
      "        Weights: all 0.0212766\n",
      "        Features: none\n",
      "    99983-default->99984: [1]\n",
      "        Weights: all 0.0212766\n",
      "        Features: none\n",
      "    99982-default->99983: [1]\n",
      "        Weights: all 0.0212766\n",
      "        Features: none\n",
      "    99981-default->99982: [1]\n",
      "        Weights: all 0.0212766\n",
      "        Features: none\n",
      "    99980-default->99981: [1]\n",
      "        Weights: all 0.0212766\n",
      "        Features: none\n",
      "    9998-default->9999: [1]\n",
      "        Weights: all 0.106383\n",
      "        Features: none\n",
      "    ... (171152 more)\n"
     ]
    }
   ],
   "source": [
    "print(graph.info())"
   ]
  },
  {
   "cell_type": "code",
   "execution_count": 6,
   "metadata": {},
   "outputs": [
    {
     "data": {
      "text/plain": [
       "'The Cora dataset consists of 2708 scientific publications classified into one of seven classes. The citation network consists of 5429 links. Each publication in the dataset is described by a 0/1-valued word vector indicating the absence/presence of the corresponding word from the dictionary. The dictionary consists of 1433 unique words.'"
      ]
     },
     "execution_count": 6,
     "metadata": {},
     "output_type": "execute_result"
    }
   ],
   "source": [
    "dataset.description"
   ]
  }
 ],
 "metadata": {
  "kernelspec": {
   "display_name": "Stellar",
   "language": "python",
   "name": "stellar"
  },
  "language_info": {
   "codemirror_mode": {
    "name": "ipython",
    "version": 3
   },
   "file_extension": ".py",
   "mimetype": "text/x-python",
   "name": "python",
   "nbconvert_exporter": "python",
   "pygments_lexer": "ipython3",
   "version": "3.7.4"
  }
 },
 "nbformat": 4,
 "nbformat_minor": 4
}
