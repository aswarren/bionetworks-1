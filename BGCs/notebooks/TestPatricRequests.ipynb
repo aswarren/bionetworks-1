{
 "cells": [
  {
   "cell_type": "code",
   "execution_count": 1,
   "metadata": {},
   "outputs": [],
   "source": [
    "import requests\n",
    "import pandas as pd\n",
    "import numpy as np\n",
    "import fileinput"
   ]
  },
  {
   "cell_type": "markdown",
   "metadata": {},
   "source": [
    "* Options:\n",
    "    * want to be able to save or return values\n",
    "    * want to be able to stream or not, and if stream would only write to file because then it would be silly to put back into memory\n",
    "    * Although the pangenome builder loads the whole thing into RAM probably"
   ]
  },
  {
   "cell_type": "code",
   "execution_count": 5,
   "metadata": {},
   "outputs": [],
   "source": [
    "def genome_id_features(genome_id_files, genome_ids=[], limit=2500000, stream=False):\n",
    "    if len(genome_ids) == 0:\n",
    "        if len(genome_id_files) == 0 or genome_id_files[0] == \"-\":\n",
    "            for line in fileinput.input():\n",
    "                delim = \",\" if \",\" in line else \"\\t\"\n",
    "                line = line.strip().split(delim)\n",
    "                for l in line:\n",
    "                    genome_ids.append(l)\n",
    "        else:\n",
    "            for file in genome_id_files:\n",
    "                with open(file) as src:\n",
    "                    for line in src:\n",
    "                        delim = \",\" if \",\" in line else \"\\t\"\n",
    "                        line = line.strip().split(delim)\n",
    "                        for l in line:\n",
    "                            genome_ids.append(l)\n",
    "    \n",
    "#     selectors = [\"ne(feature_type)\",\"eq(annotation,PATRIC)\",f\"in(genome_id,({','.join(genome_ids)}))\"]\n",
    "    selectors = [\"ne(feature_type)\",\"eq(annotation,PATRIC)\",f\"in(accession,({','.join(genome_ids)}))\"]\n",
    "    genomes = f\"and({','.join(selectors)})\"    \n",
    "    limit = f\"limit({limit})\"\n",
    "    select = \"select(genome_id,genome_name,accession,annotation,feature_type,patric_id,refseq_locus_tag,alt_locus_tag,uniprotkb_accession,start,end,strand,na_length,gene,product,figfam_id,plfam_id,pgfam_id,go,ec,pathway,aa_sequence_md5)&sort(+genome_id,+sequence_id,+start)\"\n",
    "    base = \"https://www.patricbrc.org/api/genome_feature/\"\n",
    "    query = \"&\".join([genomes, limit, select])\n",
    "    headers = {\"accept\":\"text/tsv\", \"content-type\": \"application/rqlquery+x-www-form-urlencoded\"}\n",
    "\n",
    "    r = requests.post(url=base, data=query, headers=headers, stream=stream)\n",
    "    \n",
    "    if r.encoding is None:\n",
    "        r.encoding = \"utf-8\"\n",
    "    for line in r.iter_lines(decode_unicode=True):\n",
    "        line = line.replace('\"', '')\n",
    "        yield line\n",
    "    "
   ]
  },
  {
   "cell_type": "code",
   "execution_count": 26,
   "metadata": {},
   "outputs": [],
   "source": [
    "def genome_ids_from_accessions(accessions=[], limit=2500000, stream=False):\n",
    "    \n",
    "#     selectors = [\"ne(feature_type)\",\"eq(annotation,PATRIC)\",f\"in(genome_id,({','.join(genome_ids)}))\"]\n",
    "    selectors = [\"ne(feature_type)\",\"eq(annotation,PATRIC)\",f\"in(accession,({','.join(accessions)}))\"]\n",
    "    genomes = f\"and({','.join(selectors)})\"    \n",
    "    limit = f\"limit({limit})\"\n",
    "    select = \"select(genome_id,genome_name,accession,annotation,feature_type,patric_id,refseq_locus_tag,alt_locus_tag,uniprotkb_accession,start,end,strand,na_length,gene,product,figfam_id,plfam_id,pgfam_id,go,ec,pathway,aa_sequence_md5)&sort(+genome_id,+sequence_id,+start)\"\n",
    "    base = \"https://www.patricbrc.org/api/genome_feature/\"\n",
    "    query = \"&\".join([genomes, limit, select])\n",
    "    headers = {\"accept\":\"text/tsv\", \"content-type\": \"application/rqlquery+x-www-form-urlencoded\"}\n",
    "\n",
    "    genome_ids = []\n",
    "    \n",
    "    r = requests.post(url=base, data=query, headers=headers, stream=stream)\n",
    "    \n",
    "    if r.encoding is None:\n",
    "        r.encoding = \"utf-8\"\n",
    "    for ix, line in enumerate(r.iter_lines(decode_unicode=True)):\n",
    "        line = line.replace('\"', '')\n",
    "        if ix > 0: \n",
    "            genome_ids.append(line.split()[0])\n",
    "    return list(set(genome_ids))"
   ]
  },
  {
   "cell_type": "code",
   "execution_count": 27,
   "metadata": {},
   "outputs": [
    {
     "data": {
      "text/plain": [
       "['189918.11', '243243.7', '262316.17']"
      ]
     },
     "execution_count": 27,
     "metadata": {},
     "output_type": "execute_result"
    }
   ],
   "source": [
    "genome_ids_from_accessions(['NC_002944', 'NC_008595', 'NC_008705'])"
   ]
  },
  {
   "cell_type": "code",
   "execution_count": 6,
   "metadata": {},
   "outputs": [
    {
     "name": "stdout",
     "output_type": "stream",
     "text": [
      "genome_id\tgenome_name\taccession\tannotation\tfeature_type\tpatric_id\trefseq_locus_tag\talt_locus_tag\tuniprotkb_accession\tstart\tend\tstrand\tna_length\tgene\tproduct\tfigfam_id\tplfam_id\tpgfam_id\tgo\tec\tpathway\taa_sequence_md5\n",
      "\n",
      "189918.11\tMycobacterium sp. KMS\tNC_008703\tPATRIC\tsource\t\t\t\t\t1\t302089\t+\t302089\t\t\t\t\t\t\t\t\t\n",
      "\n",
      "189918.11\tMycobacterium sp. KMS\tNC_008703\tPATRIC\tCDS\tfig|189918.11.peg.1\tMkms_5495\tVBIMycSp70743_0001\t\t7\t480\t-\t474\t\thypothetical protein\tFIG00638284\tPLF_1763_00375893\tPGF_10456034\t\t\t\tf8538fe1e376a62c1ef3ff7f936ad581\n",
      "\n",
      "189918.11\tMycobacterium sp. KMS\tNC_008703\tPATRIC\tCDS\tfig|189918.11.peg.2\tMkms_5496\tVBIMycSp70743_0002\t\t603\t959\t+\t357\t\thypothetical protein\t\tPLF_1763_00152303\tPGF_12744835\t\t\t\t199507e07a9d192ae7c1c1782aa1e8ce\n",
      "\n",
      "189918.11\tMycobacterium sp. KMS\tNC_008703\tPATRIC\tCDS\tfig|189918.11.peg.3\tMkms_5497\tVBIMycSp70743_0003\t\t952\t2067\t+\t1116\t\thypothetical protein\tFIG00638284\tPLF_1763_00297414\tPGF_08225224\t\t\t\t1bd30ab959c5eac8a4b9d3f54e3e9b24\n",
      "\n",
      "189918.11\tMycobacterium sp. KMS\tNC_008703\tPATRIC\tCDS\tfig|189918.11.peg.4\tMkms_5498\tVBIMycSp70743_0004\t\t2082\t2996\t+\t915\t\thypothetical protein\tFIG00638284\tPLF_1763_00056828\tPGF_02420936\t\t\t\t6d837559aceaa1cfc12097ea88b3a583\n",
      "\n",
      "189918.11\tMycobacterium sp. KMS\tNC_008703\tPATRIC\tCDS\tfig|189918.11.peg.5\tMkms_5499\tVBIMycSp70743_0005\t\t3104\t3313\t+\t210\t\thypothetical protein\t\tPLF_1763_00337033\tPGF_12930573\t\t\t\tda1bd8d981425de3215cd7af0e5a021e\n",
      "\n",
      "189918.11\tMycobacterium sp. KMS\tNC_008703\tPATRIC\tCDS\tfig|189918.11.peg.6\tMkms_5500\tVBIMycSp70743_0006\t\t3318\t3665\t+\t348\t\thypothetical protein\t\tPLF_1763_00039718\tPGF_02411054\t\t\t\te33ff49dc3abe859d82f50a787b85d8a\n",
      "\n",
      "189918.11\tMycobacterium sp. KMS\tNC_008703\tPATRIC\tCDS\tfig|189918.11.peg.7\tMkms_5501\tVBIMycSp70743_0007\t\t3685\t6267\t+\t2583\t\thypothetical protein\tFIG00638284\tPLF_1763_00030983\tPGF_02411054\t\t\t\td545c5c72323b73dd0152c2fc73e577a\n",
      "\n",
      "189918.11\tMycobacterium sp. KMS\tNC_008703\tPATRIC\tCDS\tfig|189918.11.peg.8\tMkms_5502\tVBIMycSp70743_0008\t\t6264\t8291\t+\t2028\t\thypothetical protein\tFIG00638284\tPLF_1763_00047406\tPGF_08225224\t\t\t\t50ad89bc5db4932a48dcf943f20f88e8\n",
      "\n",
      "189918.11\tMycobacterium sp. KMS\tNC_008703\tPATRIC\tCDS\tfig|189918.11.peg.9\tMkms_5503\tVBIMycSp70743_0009\t\t8316\t10097\t+\t1782\t\thypothetical protein\tFIG01448042\tPLF_1763_00406656\tPGF_08225224\t\t\t\t0bf540082d22b0ee3ddfeee82ad6017e\n",
      "\n"
     ]
    }
   ],
   "source": [
    "with open(\"test\", \"w\") as dest: \n",
    "#     for ix, i in enumerate(genome_id_features(\"\", genome_ids=\"1041522.3 1078013.3 1078020.3\".split())):\n",
    "    for ix, i in enumerate(genome_id_features(\"\", genome_ids=['189918.11'])):\n",
    "\n",
    "#         print(type(i))\n",
    "#         dest.write(i+\"\\n\")\n",
    "        if ix > 10: break\n",
    "        print(i + \"\\n\")\n",
    "    "
   ]
  },
  {
   "cell_type": "code",
   "execution_count": 4,
   "metadata": {},
   "outputs": [
    {
     "name": "stdout",
     "output_type": "stream",
     "text": [
      "genome_id\tgenome_name\taccession\tannotation\tfeature_type\tpatric_id\trefseq_locus_tag\talt_locus_tag\tuniprotkb_accession\tstart\tend\tstrand\tna_length\tgene\tproduct\tfigfam_id\tplfam_id\tpgfam_id\tgo\tec\tpathway\taa_sequence_md5\n",
      "\n",
      "189918.11\tMycobacterium sp. KMS\tNC_008705\tPATRIC\tsource\t\t\t\t\t1\t5737227\t+\t5737227\t\t\t\t\t\t\t\t\t\n",
      "\n",
      "189918.11\tMycobacterium sp. KMS\tNC_008705\tPATRIC\tCDS\tfig|189918.11.peg.518\tMkms_0001\tVBIMycSp70743_0518\t\t98\t1111\t-\t1014\t\tChromosome (plasmid) partitioning protein ParB\tFIG00021843\tPLF_1763_00034581\tPGF_03475877\t\t\t\t471e0626a75941ca3aed5fbe341c0172\n",
      "\n",
      "189918.11\tMycobacterium sp. KMS\tNC_008705\tPATRIC\tCDS\tfig|189918.11.peg.519\tMkms_0002\tVBIMycSp70743_0519\t\t1118\t2050\t-\t933\t\tChromosome (plasmid) partitioning protein ParA\tFIG00006461\tPLF_1763_00199838\tPGF_04370656\t\t\t\t1af6c7a7b5c726216d6e95e61794e22c\n",
      "\n",
      "189918.11\tMycobacterium sp. KMS\tNC_008705\tPATRIC\tCDS\tfig|189918.11.peg.520\tMkms_0003\tVBIMycSp70743_0520\t\t2122\t2799\t-\t678\tgidB\t16S rRNA (guanine(527)-N(7))-methyltransferase (EC 2.1.1.170)\tFIG01089612\tPLF_1763_00009708\tPGF_00008838\t\t\t\t4c992706e12ba5e43ac9f31203f23d20\n",
      "\n",
      "189918.11\tMycobacterium sp. KMS\tNC_008705\tPATRIC\tCDS\tfig|189918.11.peg.521\tMkms_0004\tVBIMycSp70743_0521\t\t2860\t3405\t-\t546\t\tRNA-binding protein Jag\tFIG00001656\tPLF_1763_00000649\tPGF_06701488\t\t\t\t64f59aa17658d90d0cf46f21f8166664\n",
      "\n",
      "189918.11\tMycobacterium sp. KMS\tNC_008705\tPATRIC\tCDS\tfig|189918.11.peg.522\tMkms_0005\tVBIMycSp70743_0522\t\t3441\t4544\t-\t1104\t\tInner membrane protein translocase and chaperone YidC, short form OxaI-like\tFIG00002818\tPLF_1763_00001031\tPGF_00014264\t\t\t\t3a5db3afd3229e38ae68f2314b02346f\n",
      "\n",
      "189918.11\tMycobacterium sp. KMS\tNC_008705\tPATRIC\tCDS\tfig|189918.11.peg.523\tMkms_0006\tVBIMycSp70743_0523\t\t4537\t4863\t-\t327\t\tMembrane protein insertion efficiency factor YidD\tFIG00004843\tPLF_1763_00010657\tPGF_03751658\t\t\t\t9f87c79cfcf19efc936c2a6fc486e69d\n",
      "\n",
      "189918.11\tMycobacterium sp. KMS\tNC_008705\tPATRIC\tCDS\tfig|189918.11.peg.524\tMkms_0007\tVBIMycSp70743_0524\t\t4860\t5153\t-\t294\trnpA\tRibonuclease P protein component (EC 3.1.26.5)\tFIG00092649\tPLF_1763_00406997\tPGF_08424570\tGO:0004526|ribonuclease P activity\t\t\t97a9b544a319d31ccdfba3a66f801f9a\n",
      "\n",
      "189918.11\tMycobacterium sp. KMS\tNC_008705\tPATRIC\tCDS\tfig|189918.11.peg.525\tMkms_0008\tVBIMycSp70743_0525\t\t5238\t5381\t-\t144\trpmH\tLSU ribosomal protein L34p\tFIG00000471\tPLF_1763_00004630\tPGF_00016418\tGO:0003735|structural constituent of ribosome;GO:0005622|intracellular;GO:0005840|ribosome;GO:0006412|translation\t\t\t4dd655bf3b8a508b4a33f3c04f0398c8\n",
      "\n",
      "189918.11\tMycobacterium sp. KMS\tNC_008705\tPATRIC\tCDS\tfig|189918.11.peg.526\tMkms_0009\tVBIMycSp70743_0526\t\t5935\t7422\t+\t1488\tdnaA\tChromosomal replication initiator protein DnaA\tFIG00000441\tPLF_1763_00000527\tPGF_00876106\t\t\t\tb9ca464d2346a577bb5b11ea342ebf05\n",
      "\n"
     ]
    }
   ],
   "source": [
    "# with open(\"top_3.features.tsv\", \"w\") as dest: \n",
    "with open(\"test\", \"w\") as dest: \n",
    "#     for ix, i in enumerate(genome_id_features(\"\", genome_ids=\"1041522.3 1078013.3 1078020.3\".split())):\n",
    "    for ix, i in enumerate(genome_id_features(\"\", genome_ids=['NC_002944', 'NC_008595', 'NC_008705'])):\n",
    "\n",
    "#         print(type(i))\n",
    "#         dest.write(i+\"\\n\")\n",
    "        if ix > 10: break\n",
    "        print(i + \"\\n\")\n",
    "    "
   ]
  },
  {
   "cell_type": "code",
   "execution_count": 10,
   "metadata": {},
   "outputs": [],
   "source": [
    "x = pd.read_csv(\"top_3.features.tsv\", sep=\"\\t\")\n",
    "x.dropna(subset=[\"pgfam_id\"]).to_csv(\"top_3.features.tsv\", sep=\"\\t\", index=False)"
   ]
  },
  {
   "cell_type": "code",
   "execution_count": 10,
   "metadata": {},
   "outputs": [
    {
     "name": "stdout",
     "output_type": "stream",
     "text": [
      "genome_id\tgenome_name\taccession\tannotation\tfeature_type\tpatric_id\trefseq_locus_tag\talt_locus_tag\tuniprotkb_accession\tstart\tend\tstrand\tna_length\tgene\tproduct\tfigfam_id\tplfam_id\tpgfam_id\tgo\tec\tpathway\taa_sequence_md5\tsequence_id\n",
      "\n",
      "310037.4\tAcaryochloris sp. CCMEE 5410\tAFEJ01000001\tPATRIC\tsource\t\t\t\t\t1\t59354\t+\t59354\t\t\t\t\t\t\t\t\t\tAFEJ01000001\n",
      "\n",
      "310037.4\tAcaryochloris sp. CCMEE 5410\tAFEJ01000001\tPATRIC\tCDS\tfig|310037.4.peg.1\t\tVBIAcaSp8704_0001\t\t419\t2422\t-\t2004\t\thypothetical protein\tFIG00638284\tPLF_155977_00006203\tPGF_08225224\t\t\t\t33d7887aa295f9b43ebaa3363b5baf63\tAFEJ01000001\n",
      "\n",
      "310037.4\tAcaryochloris sp. CCMEE 5410\tAFEJ01000001\tPATRIC\tCDS\tfig|310037.4.peg.2\t\tVBIAcaSp8704_0002\t\t2820\t4340\t-\t1521\t\tNeurosporene C-3',4' desaturase\tFIG00006429\tPLF_155977_00002547\tPGF_00025441\t\t\t\teee62520fafa90f923deb84030d7382f\tAFEJ01000001\n",
      "\n"
     ]
    }
   ],
   "source": [
    "# with open(\"test.224914.11.features\", \"w\") as dest: \n",
    "with open(\"test.1224150.8.features\", \"w\") as dest: \n",
    "#     for ix, i in enumerate(genome_id_features(\"\", genome_ids=[\"224914.11\"])):\n",
    "    for ix, i in enumerate(genome_id_features(\"\", genome_ids=[\"310037.4\"])):\n",
    "\n",
    "#         print(type(i))\n",
    "#         dest.write(i+\"\\n\")\n",
    "        if ix > 3: break\n",
    "        print(i + \"\\n\")\n",
    "    "
   ]
  },
  {
   "cell_type": "code",
   "execution_count": 56,
   "metadata": {},
   "outputs": [
    {
     "data": {
      "text/plain": [
       "'224914.11\\tBrucella melitensis bv. 1 str. 16M\\tNC_003317\\tPATRIC\\tCDS\\tfig|224914.11.peg.4\\tBMEI0004\\tVBIBruMel92729_0004\\t\\t3482\\t3856\\t-\\t375\\t\\tUncharacterized protein YyaL\\tFIG00000175\\tPLF_234_00000161\\tPGF_05864899\\t\\t\\t'"
      ]
     },
     "execution_count": 56,
     "metadata": {},
     "output_type": "execute_result"
    }
   ],
   "source": [
    "i"
   ]
  },
  {
   "cell_type": "code",
   "execution_count": 39,
   "metadata": {},
   "outputs": [
    {
     "name": "stdout",
     "output_type": "stream",
     "text": [
      "0\n",
      "1\n",
      "2\n",
      "3\n",
      "4\n",
      "5\n",
      "6\n",
      "7\n",
      "8\n",
      "9\n"
     ]
    }
   ],
   "source": [
    "def test(one=1, two=2):\n",
    "    print(one)\n",
    "    print(two)\n",
    "    \n",
    "def testg():\n",
    "    for i in range(10):\n",
    "        yield i\n",
    "    \n",
    "def test2(three=3):\n",
    "    print(three)\n",
    "\n",
    "if True:\n",
    "    func = test\n",
    "    kwargs = {\"one\":5}\n",
    "else:\n",
    "    func = test2\n",
    "    kwargs = {\"three\":20}\n",
    "\n",
    "i = testg()\n",
    "for x in i:\n",
    "    print(x)"
   ]
  }
 ],
 "metadata": {
  "kernelspec": {
   "display_name": "Python 3",
   "language": "python",
   "name": "python3"
  },
  "language_info": {
   "codemirror_mode": {
    "name": "ipython",
    "version": 3
   },
   "file_extension": ".py",
   "mimetype": "text/x-python",
   "name": "python",
   "nbconvert_exporter": "python",
   "pygments_lexer": "ipython3",
   "version": "3.7.4"
  }
 },
 "nbformat": 4,
 "nbformat_minor": 4
}
