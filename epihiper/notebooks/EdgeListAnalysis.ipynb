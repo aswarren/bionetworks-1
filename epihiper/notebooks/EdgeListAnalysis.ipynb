{
 "cells": [
  {
   "cell_type": "code",
   "execution_count": 1,
   "metadata": {},
   "outputs": [],
   "source": [
    "import pandas as pd\n",
    "import numpy as np\n",
    "import seaborn as sns\n",
    "from matplotlib import pyplot as plt\n",
    "import networkx as nx"
   ]
  },
  {
   "cell_type": "code",
   "execution_count": 34,
   "metadata": {},
   "outputs": [],
   "source": [
    "edges = []\n",
    "with open(\"../data/edge_list_test.txt\") as src:\n",
    "    line = src.readline()\n",
    "    line = src.readline()\n",
    "    line = src.readline()\n",
    "    while line != \"\":\n",
    "        try:\n",
    "            target, _, source, _, weight = line.strip().split(\",\")\n",
    "        except ValueError:\n",
    "            line = src.readline()\n",
    "            \n",
    "        if target > source:\n",
    "            temp = source\n",
    "            source = target\n",
    "            target = temp\n",
    "        edges.append((target, source))\n",
    "        line = src.readline()\n",
    "#         break"
   ]
  },
  {
   "cell_type": "code",
   "execution_count": 35,
   "metadata": {},
   "outputs": [],
   "source": [
    "edges = set(edges)"
   ]
  },
  {
   "cell_type": "code",
   "execution_count": 14,
   "metadata": {},
   "outputs": [
    {
     "data": {
      "text/plain": [
       "{('0', '1')}"
      ]
     },
     "execution_count": 14,
     "metadata": {},
     "output_type": "execute_result"
    }
   ],
   "source": [
    "edges"
   ]
  },
  {
   "cell_type": "code",
   "execution_count": 2,
   "metadata": {},
   "outputs": [],
   "source": [
    "x = pd.read_table(\"../data/edge_list.txt\", header=1, sep=\",\", low_memory=True)\n",
    "x[\"sink\"] = x[[\"targetPID\", \"sourcePID\"]].max(axis=1)\n",
    "x[\"source\"] = x[[\"targetPID\", \"sourcePID\"]].min(axis=1)\n",
    "edges = list(x[[\"sink\", \"source\"]].drop_duplicates().to_records(index=False))\n",
    "# edges"
   ]
  },
  {
   "cell_type": "code",
   "execution_count": 1,
   "metadata": {},
   "outputs": [
    {
     "ename": "NameError",
     "evalue": "name 'x' is not defined",
     "output_type": "error",
     "traceback": [
      "\u001b[0;31m---------------------------------------------------------------------------\u001b[0m",
      "\u001b[0;31mNameError\u001b[0m                                 Traceback (most recent call last)",
      "\u001b[0;32m<ipython-input-1-830ed5e65d76>\u001b[0m in \u001b[0;36m<module>\u001b[0;34m\u001b[0m\n\u001b[0;32m----> 1\u001b[0;31m \u001b[0mx\u001b[0m\u001b[0;34m.\u001b[0m\u001b[0mhead\u001b[0m\u001b[0;34m(\u001b[0m\u001b[0;34m)\u001b[0m\u001b[0;34m\u001b[0m\u001b[0;34m\u001b[0m\u001b[0m\n\u001b[0m",
      "\u001b[0;31mNameError\u001b[0m: name 'x' is not defined"
     ]
    }
   ],
   "source": [
    "x.head()"
   ]
  },
  {
   "cell_type": "code",
   "execution_count": 4,
   "metadata": {},
   "outputs": [],
   "source": [
    "import pickle\n",
    "with open(\"../data/edge_list.pkl\", \"wb\") as dest:\n",
    "    pickle.dump(edges, dest)"
   ]
  },
  {
   "cell_type": "code",
   "execution_count": 6,
   "metadata": {},
   "outputs": [],
   "source": [
    "source_value_counts = x[\"source\"].value_counts()"
   ]
  },
  {
   "cell_type": "code",
   "execution_count": 7,
   "metadata": {},
   "outputs": [],
   "source": [
    "sink_value_counts = x[\"sink\"].value_counts()"
   ]
  },
  {
   "cell_type": "code",
   "execution_count": 9,
   "metadata": {},
   "outputs": [],
   "source": [
    "source_value_counts = source_value_counts.to_dict()\n",
    "sink_value_counts = sink_value_counts.to_dict()"
   ]
  },
  {
   "cell_type": "code",
   "execution_count": 11,
   "metadata": {},
   "outputs": [],
   "source": [
    "edges = set(sink_value_counts.keys()).union(set(source_value_counts.keys()))"
   ]
  },
  {
   "cell_type": "code",
   "execution_count": 15,
   "metadata": {},
   "outputs": [],
   "source": [
    "edge_degree = dict()\n",
    "for edge in edges:\n",
    "    deg = 0\n",
    "    if edge in sink_value_counts:\n",
    "        deg += sink_value_counts[edge]\n",
    "    if edge in source_value_counts:\n",
    "        deg += source_value_counts[edge]\n",
    "    edge_degree[edge] = deg"
   ]
  },
  {
   "cell_type": "code",
   "execution_count": 16,
   "metadata": {},
   "outputs": [],
   "source": [
    "import json\n",
    "with open(\"../data/edge_list_dict.json\", \"w\") as dest:\n",
    "    json.dump(edge_degree, dest)"
   ]
  },
  {
   "cell_type": "code",
   "execution_count": null,
   "metadata": {},
   "outputs": [],
   "source": []
  }
 ],
 "metadata": {
  "kernelspec": {
   "display_name": "Python 3",
   "language": "python",
   "name": "python3"
  },
  "language_info": {
   "codemirror_mode": {
    "name": "ipython",
    "version": 3
   },
   "file_extension": ".py",
   "mimetype": "text/x-python",
   "name": "python",
   "nbconvert_exporter": "python",
   "pygments_lexer": "ipython3",
   "version": "3.8.8"
  }
 },
 "nbformat": 4,
 "nbformat_minor": 4
}
