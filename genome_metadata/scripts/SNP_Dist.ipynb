{
 "cells": [
  {
   "cell_type": "code",
   "execution_count": 55,
   "metadata": {},
   "outputs": [],
   "source": [
    "import pandas as pd\n",
    "import numpy as np\n",
    "from scipy.spatial.distance import pdist\n",
    "import os\n",
    "import networkx as nx\n",
    "from pyvis import network as net\n",
    "import random"
   ]
  },
  {
   "cell_type": "code",
   "execution_count": 20,
   "metadata": {},
   "outputs": [
    {
     "data": {
      "text/plain": [
       "{'genome_id': '469009.4',\n",
       " 'genome_name': '\"\\'Brassica napus\\' phytoplasma strain TW1\"',\n",
       " 'taxon_id': '469009',\n",
       " 'kingdom': 'Bacteria',\n",
       " 'phylum': 'Tenericutes',\n",
       " 'class': 'Mollicutes',\n",
       " 'order': 'Acholeplasmatales',\n",
       " 'family': 'Acholeplasmataceae',\n",
       " 'genus': 'Candidatus Phytoplasma',\n",
       " 'species': \"'Brassica napus' phytoplasma\",\n",
       " 'taxon_lineage_ids': '131567;2;1783272;544448;31969;186329;2146;33926;85620;469009',\n",
       " 'taxon_lineage_names': \"cellular organisms;Bacteria;Terrabacteria group;Tenericutes;Mollicutes;Acholeplasmatales;Acholeplasmataceae;Candidatus Phytoplasma;Candidatus Phytoplasma asteris;'Brassica napus' phytoplasma\"}"
      ]
     },
     "execution_count": 20,
     "metadata": {},
     "output_type": "execute_result"
    }
   ],
   "source": [
    "x = pd.read_csv(\"/scratch/jho5ze/bionets/genome_metadata/data/meta/genome_lineage\", \\\n",
    "            sep=\"\\t\", dtype={\"genome_id\":str, \"taxon_id\":str})\n",
    "# x[x[\"genome_id\"]]\n",
    "x[x[\"genome_id\"] == \"469009.4\"].iloc[0].to_dict()"
   ]
  },
  {
   "cell_type": "code",
   "execution_count": 23,
   "metadata": {},
   "outputs": [
    {
     "name": "stderr",
     "output_type": "stream",
     "text": [
      "/apps/software/standard/compiler/gcc/7.1.0/jupyter_conda/2019.10-py3.7/lib/python3.7/site-packages/IPython/core/interactiveshell.py:3063: DtypeWarning: Columns (2,6,7,8,9,10,11,12,14,21,34,40,41,42,43,44,46,47,48,49,50,52,53,54,55,56,57,60,61,63) have mixed types.Specify dtype option on import or set low_memory=False.\n",
      "  interactivity=interactivity, compiler=compiler, result=result)\n",
      "/apps/software/standard/compiler/gcc/7.1.0/jupyter_conda/2019.10-py3.7/lib/python3.7/site-packages/IPython/core/interactiveshell.py:3063: DtypeWarning: Columns (4,5,6,7,8,10,11,12,15) have mixed types.Specify dtype option on import or set low_memory=False.\n",
      "  interactivity=interactivity, compiler=compiler, result=result)\n"
     ]
    }
   ],
   "source": [
    "# lineage_df = pd.read_csv(\"/scratch/jho5ze/bionets/genome_metadata/data/meta/genome_lineage\", \\\n",
    "#                          sep=\"\\t\", dtype={\"genome_id\":str, \"taxon_id\":str})\n",
    "# metadata_df = pd.read_csv(\"/scratch/jho5ze/bionets/genome_metadata/data/meta/genome_metadata\", \\\n",
    "#                           sep=\"\\t\", dtype={\"genome_id\":str, \"taxon_id\":str})        \n",
    "# summary_df = pd.read_csv(\"/scratch/jho5ze/bionets/genome_metadata/data/meta/genome_summary\", \\\n",
    "#                          sep=\"\\t\", dtype={\"genome_id\":str, \"taxon_id\":str})\n",
    "# amr_df = pd.read_csv(\"/scratch/jho5ze/bionets/genome_metadata/data/meta/PATRIC_genomes_AMR.txt\", \\\n",
    "#                      sep=\"\\t\", dtype={\"genome_id\":str, \"taxon_id\":str})"
   ]
  },
  {
   "cell_type": "code",
   "execution_count": null,
   "metadata": {},
   "outputs": [],
   "source": [
    "\"\"\"\n",
    "genome_id       genome_name     organism_name   taxon_id        genome_status   strain  serovar biovar   pathovar        mlst    other_typing    culture_collection      type_strain     completion_date  publication     bioproject_accession    biosample_accession     assembly_accession      genbank_accessions       refseq_accessions       sequencing_centers      sequencing_status       sequencing_platform      sequencing_depth        assembly_method chromosomes     plasmids        contigs  sequences       genome_length   gc_content      patric_cds      brc1_cds        refseq_cds       isolation_site  isolation_source        isolation_comments      collection_date isolation_country        geographic_location     latitude        longitude       altitude        depth   other_environmental      host_name       host_gender     host_age        host_health     body_sample_site body_sample_subsite     other_clinical  antimicrobial_resistance        antimicrobial_resistance_evidence        gram_stain      cell_shape      motility        sporulation     temperature_range        optimal_temperature     salinity        oxygen_requirement      habitat disease comments additional_metadata\n",
    "\"\"\""
   ]
  },
  {
   "cell_type": "code",
   "execution_count": 3,
   "metadata": {},
   "outputs": [
    {
     "data": {
      "text/plain": [
       "66"
      ]
     },
     "execution_count": 3,
     "metadata": {},
     "output_type": "execute_result"
    }
   ],
   "source": [
    "h = \"\"\"\n",
    "genome_id       genome_name     organism_name   taxon_id        genome_status   strain  serovar biovar   pathovar        mlst    other_typing    culture_collection      type_strain     completion_date  publication     bioproject_accession    biosample_accession     assembly_accession      genbank_accessions       refseq_accessions       sequencing_centers      sequencing_status       sequencing_platform      sequencing_depth        assembly_method chromosomes     plasmids        contigs  sequences       genome_length   gc_content      patric_cds      brc1_cds        refseq_cds       isolation_site  isolation_source        isolation_comments      collection_date isolation_country        geographic_location     latitude        longitude       altitude        depth   other_environmental      host_name       host_gender     host_age        host_health     body_sample_site body_sample_subsite     other_clinical  antimicrobial_resistance        antimicrobial_resistance_evidence        gram_stain      cell_shape      motility        sporulation     temperature_range        optimal_temperature     salinity        oxygen_requirement      habitat disease comments additional_metadata\n",
    "\"\"\"\n",
    "len(h.split())"
   ]
  },
  {
   "cell_type": "code",
   "execution_count": 47,
   "metadata": {},
   "outputs": [],
   "source": [
    "# file = \"../parsnp_test/parsnp.vcf\"\n",
    "file = \"../data/genomes/test/patric_ecoli_100_out/parsnp.vcf\"\n",
    "\n",
    "with open(file) as src:\n",
    "    line = src.readline()\n",
    "    while line[:2] == \"##\":\n",
    "        line = src.readline()\n",
    "    splitter = \"FORMAT\" if \"FORMAT\" in line else \"INFO\"\n",
    "    line = line.split()\n",
    "    line[0] = line[0].split(\"#\")[-1]\n",
    "    org_ind = line.index(splitter) + 1\n",
    "    orgs = [l.split(\".fna\")[0] for l in line[org_ind:]]\n",
    "    num_orgs = len(orgs)\n",
    "#     line = src.readline()\n",
    "#     while line != \"\":\n",
    "#         line = line.split()[org_ind:]"
   ]
  },
  {
   "cell_type": "code",
   "execution_count": 48,
   "metadata": {},
   "outputs": [
    {
     "name": "stderr",
     "output_type": "stream",
     "text": [
      "/home/jho5ze/.conda/envs/freeze/lib/python3.7/site-packages/IPython/core/interactiveshell.py:3146: DtypeWarning: Columns (1,5,7,9,10,11,12,13,14,15,16,17,18,19,20,21,22,23,24,25,26,27,28,29,30,31,32,33,34,35,36,37,38,39,40,41,42) have mixed types.Specify dtype option on import or set low_memory=False.\n",
      "  interactivity=interactivity, compiler=compiler, result=result)\n"
     ]
    }
   ],
   "source": [
    "#Could also use np.fromfile with a little bit of shell setup, which would be more efficient\n",
    "# vcf = pd.read_csv(\"../parsnp_test/parsnp.vcf\", skiprows=5, sep=\"\\t\", names=line, header=None).head(6)\n",
    "vcf = pd.read_csv(file, skiprows=5, sep=\"\\t\", names=line, header=None) #.head(6)\n",
    "vcf = vcf.iloc[:, org_ind:]\n",
    "entries = vcf.shape[0] - 1\n",
    "distances = pdist(vcf.T.iloc[:, 1:].to_numpy(), metric=\"hamming\") * entries"
   ]
  },
  {
   "cell_type": "code",
   "execution_count": 33,
   "metadata": {},
   "outputs": [
    {
     "name": "stdout",
     "output_type": "stream",
     "text": [
      "['562.7843', '562.7514', '562.7539', '562.7163', '562.7509', '511145.12']\n",
      "90139.0\n"
     ]
    }
   ],
   "source": [
    "print(orgs)\n",
    "print(max(distances))"
   ]
  },
  {
   "cell_type": "code",
   "execution_count": 44,
   "metadata": {},
   "outputs": [
    {
     "data": {
      "text/plain": [
       "Illumina HiSeq                              47553\n",
       "Illumina MiSeq                              35643\n",
       "Illumina                                    33985\n",
       "Illumina HiSeq 2000                         11949\n",
       "Illumina HiSeq 2500                          8603\n",
       "                                            ...  \n",
       "PacBio RS II, Illumina GAIIx                    1\n",
       "454 Titanium; Illumina GAII                     1\n",
       "paired-end Illumina Miseq                       1\n",
       "Illumina; Oxford Nanopore MinION                1\n",
       "Illumina GAIIx; Illumina HiSeq; Illumina        1\n",
       "Name: sequencing_platform, Length: 1703, dtype: int64"
      ]
     },
     "execution_count": 44,
     "metadata": {},
     "output_type": "execute_result"
    }
   ],
   "source": [
    "metadata_df = pd.read_csv(\"/scratch/jho5ze/bionets/genome_metadata/data/meta/genome_metadata\", \\\n",
    "                          sep=\"\\t\", dtype={\"genome_id\":str, \"taxon_id\":str})\n",
    "metadata_df[\"sequencing_platform\"].value_counts()"
   ]
  },
  {
   "cell_type": "code",
   "execution_count": 81,
   "metadata": {},
   "outputs": [],
   "source": [
    "graph = nx.Graph()\n",
    "metadata_df = pd.read_csv(\"/scratch/jho5ze/bionets/genome_metadata/data/meta/genome_metadata\", \\\n",
    "                          sep=\"\\t\", dtype={\"genome_id\":str, \"taxon_id\":str})\n",
    "\n",
    "random.seed(42)\n",
    "snp_dist_thresh = 14000\n",
    "color_attr = \"sequencing_platform\"\n",
    "size_attr = \"\" #Not yet used\n",
    "sequencing_platforms = [\"Illumina HiSeq\", \"Illumina MiSeq\", \"Illumina\", \"Illumina HiSeq\", \"Illumina\", \"HiSeq\"]\n",
    "\n",
    "nodes = []\n",
    "for org in orgs:\n",
    "#     print(org)\n",
    "    meta = metadata_df[metadata_df[\"genome_id\"] == org].iloc[0].to_dict()\n",
    "#     meta_str = \"<br>\".join(f\"{k}: {v}\" for k, v in meta.items())\n",
    "#     node_attrs = {\"group\":meta[color_attr], \"title\":meta_str}\n",
    "    random_platform = random.choice(sequencing_platforms)\n",
    "    meta_str = \"<br>\".join([f\"Genome: {org}\", f\"Sequencing Platform {random_platform}\"])\n",
    "    node_attrs = {\"group\":random_platform, \"title\":meta_str}\n",
    "#     print(\"Group is: \", meta[color_attr])\n",
    "#     metadata[\"group\"] = metadata[color_attr]\n",
    "#     node = {\"genome_id\":org, \"metadata\":meta}\n",
    "#     print(org)\n",
    "#     print(meta)\n",
    "#     graph.add_node((org, meta))\n",
    "    nodes.append((org, node_attrs))\n",
    "    \n",
    "graph.add_nodes_from(nodes)\n",
    "counter = 0\n",
    "for i in range(num_orgs-1):\n",
    "    for j in range(1, num_orgs-i):\n",
    "#         print(i)\n",
    "#         print(j)\n",
    "        to = orgs[i]\n",
    "        fro = orgs[i+j]\n",
    "#         print(\"From {} o {}\".format(to, fro))        \n",
    "#         print(\"The SNP dist is {}\".format(distances[counter]))\n",
    "        dist = distances[counter]\n",
    "        counter += 1\n",
    "        if dist < snp_dist_thresh:\n",
    "#             print(\"Adding edge between {} and {} with distance {}\".format(to, fro, dist))\n",
    "            graph.add_edge(to, fro, value=1000000/(1+dist), title=f\"Dist: {dist}\")"
   ]
  },
  {
   "cell_type": "code",
   "execution_count": 82,
   "metadata": {},
   "outputs": [
    {
     "data": {
      "text/html": [
       "\n",
       "        <iframe\n",
       "            width=\"100%\"\n",
       "            height=\"750px\"\n",
       "            src=\"test.html\"\n",
       "            frameborder=\"0\"\n",
       "            allowfullscreen\n",
       "        ></iframe>\n",
       "        "
      ],
      "text/plain": [
       "<IPython.lib.display.IFrame at 0x7efdcddbafd0>"
      ]
     },
     "execution_count": 82,
     "metadata": {},
     "output_type": "execute_result"
    }
   ],
   "source": [
    "g = net.Network(height=\"750px\", width=\"100%\", bgcolor=\"#222222\", font_color=\"white\", notebook=True)\n",
    "g.from_nx(graph)\n",
    "g.show(\"test.html\")"
   ]
  }
 ],
 "metadata": {
  "kernelspec": {
   "display_name": "Python [conda env:.conda-freeze]",
   "language": "python",
   "name": "conda-env-.conda-freeze-py"
  },
  "language_info": {
   "codemirror_mode": {
    "name": "ipython",
    "version": 3
   },
   "file_extension": ".py",
   "mimetype": "text/x-python",
   "name": "python",
   "nbconvert_exporter": "python",
   "pygments_lexer": "ipython3",
   "version": "3.7.7"
  }
 },
 "nbformat": 4,
 "nbformat_minor": 4
}
